{
 "cells": [
  {
   "cell_type": "markdown",
   "metadata": {},
   "source": [
    "# *Visualizing SLaPkNN with M<N Prototypes*\n",
    "1. Run the first cell to start the visualization.\n",
    "2. Use the 'Mode' dropdown to choose a method of positioning prototypes. \n",
    "3. Use num_points and num_classes to control M and N, respectively.\n",
    "4. Setting a higher resolution improves accuracy but may slow down computation.\n",
    "5. To save the image, first type desired filename in the provided blank, then press the save button."
   ]
  },
  {
   "cell_type": "code",
   "execution_count": 1,
   "metadata": {
    "scrolled": false
   },
   "outputs": [
    {
     "data": {
      "application/javascript": [
       "/* Put everything inside the global mpl namespace */\n",
       "window.mpl = {};\n",
       "\n",
       "\n",
       "mpl.get_websocket_type = function() {\n",
       "    if (typeof(WebSocket) !== 'undefined') {\n",
       "        return WebSocket;\n",
       "    } else if (typeof(MozWebSocket) !== 'undefined') {\n",
       "        return MozWebSocket;\n",
       "    } else {\n",
       "        alert('Your browser does not have WebSocket support. ' +\n",
       "              'Please try Chrome, Safari or Firefox ≥ 6. ' +\n",
       "              'Firefox 4 and 5 are also supported but you ' +\n",
       "              'have to enable WebSockets in about:config.');\n",
       "    };\n",
       "}\n",
       "\n",
       "mpl.figure = function(figure_id, websocket, ondownload, parent_element) {\n",
       "    this.id = figure_id;\n",
       "\n",
       "    this.ws = websocket;\n",
       "\n",
       "    this.supports_binary = (this.ws.binaryType != undefined);\n",
       "\n",
       "    if (!this.supports_binary) {\n",
       "        var warnings = document.getElementById(\"mpl-warnings\");\n",
       "        if (warnings) {\n",
       "            warnings.style.display = 'block';\n",
       "            warnings.textContent = (\n",
       "                \"This browser does not support binary websocket messages. \" +\n",
       "                    \"Performance may be slow.\");\n",
       "        }\n",
       "    }\n",
       "\n",
       "    this.imageObj = new Image();\n",
       "\n",
       "    this.context = undefined;\n",
       "    this.message = undefined;\n",
       "    this.canvas = undefined;\n",
       "    this.rubberband_canvas = undefined;\n",
       "    this.rubberband_context = undefined;\n",
       "    this.format_dropdown = undefined;\n",
       "\n",
       "    this.image_mode = 'full';\n",
       "\n",
       "    this.root = $('<div/>');\n",
       "    this._root_extra_style(this.root)\n",
       "    this.root.attr('style', 'display: inline-block');\n",
       "\n",
       "    $(parent_element).append(this.root);\n",
       "\n",
       "    this._init_header(this);\n",
       "    this._init_canvas(this);\n",
       "    this._init_toolbar(this);\n",
       "\n",
       "    var fig = this;\n",
       "\n",
       "    this.waiting = false;\n",
       "\n",
       "    this.ws.onopen =  function () {\n",
       "            fig.send_message(\"supports_binary\", {value: fig.supports_binary});\n",
       "            fig.send_message(\"send_image_mode\", {});\n",
       "            if (mpl.ratio != 1) {\n",
       "                fig.send_message(\"set_dpi_ratio\", {'dpi_ratio': mpl.ratio});\n",
       "            }\n",
       "            fig.send_message(\"refresh\", {});\n",
       "        }\n",
       "\n",
       "    this.imageObj.onload = function() {\n",
       "            if (fig.image_mode == 'full') {\n",
       "                // Full images could contain transparency (where diff images\n",
       "                // almost always do), so we need to clear the canvas so that\n",
       "                // there is no ghosting.\n",
       "                fig.context.clearRect(0, 0, fig.canvas.width, fig.canvas.height);\n",
       "            }\n",
       "            fig.context.drawImage(fig.imageObj, 0, 0);\n",
       "        };\n",
       "\n",
       "    this.imageObj.onunload = function() {\n",
       "        fig.ws.close();\n",
       "    }\n",
       "\n",
       "    this.ws.onmessage = this._make_on_message_function(this);\n",
       "\n",
       "    this.ondownload = ondownload;\n",
       "}\n",
       "\n",
       "mpl.figure.prototype._init_header = function() {\n",
       "    var titlebar = $(\n",
       "        '<div class=\"ui-dialog-titlebar ui-widget-header ui-corner-all ' +\n",
       "        'ui-helper-clearfix\"/>');\n",
       "    var titletext = $(\n",
       "        '<div class=\"ui-dialog-title\" style=\"width: 100%; ' +\n",
       "        'text-align: center; padding: 3px;\"/>');\n",
       "    titlebar.append(titletext)\n",
       "    this.root.append(titlebar);\n",
       "    this.header = titletext[0];\n",
       "}\n",
       "\n",
       "\n",
       "\n",
       "mpl.figure.prototype._canvas_extra_style = function(canvas_div) {\n",
       "\n",
       "}\n",
       "\n",
       "\n",
       "mpl.figure.prototype._root_extra_style = function(canvas_div) {\n",
       "\n",
       "}\n",
       "\n",
       "mpl.figure.prototype._init_canvas = function() {\n",
       "    var fig = this;\n",
       "\n",
       "    var canvas_div = $('<div/>');\n",
       "\n",
       "    canvas_div.attr('style', 'position: relative; clear: both; outline: 0');\n",
       "\n",
       "    function canvas_keyboard_event(event) {\n",
       "        return fig.key_event(event, event['data']);\n",
       "    }\n",
       "\n",
       "    canvas_div.keydown('key_press', canvas_keyboard_event);\n",
       "    canvas_div.keyup('key_release', canvas_keyboard_event);\n",
       "    this.canvas_div = canvas_div\n",
       "    this._canvas_extra_style(canvas_div)\n",
       "    this.root.append(canvas_div);\n",
       "\n",
       "    var canvas = $('<canvas/>');\n",
       "    canvas.addClass('mpl-canvas');\n",
       "    canvas.attr('style', \"left: 0; top: 0; z-index: 0; outline: 0\")\n",
       "\n",
       "    this.canvas = canvas[0];\n",
       "    this.context = canvas[0].getContext(\"2d\");\n",
       "\n",
       "    var backingStore = this.context.backingStorePixelRatio ||\n",
       "\tthis.context.webkitBackingStorePixelRatio ||\n",
       "\tthis.context.mozBackingStorePixelRatio ||\n",
       "\tthis.context.msBackingStorePixelRatio ||\n",
       "\tthis.context.oBackingStorePixelRatio ||\n",
       "\tthis.context.backingStorePixelRatio || 1;\n",
       "\n",
       "    mpl.ratio = (window.devicePixelRatio || 1) / backingStore;\n",
       "\n",
       "    var rubberband = $('<canvas/>');\n",
       "    rubberband.attr('style', \"position: absolute; left: 0; top: 0; z-index: 1;\")\n",
       "\n",
       "    var pass_mouse_events = true;\n",
       "\n",
       "    canvas_div.resizable({\n",
       "        start: function(event, ui) {\n",
       "            pass_mouse_events = false;\n",
       "        },\n",
       "        resize: function(event, ui) {\n",
       "            fig.request_resize(ui.size.width, ui.size.height);\n",
       "        },\n",
       "        stop: function(event, ui) {\n",
       "            pass_mouse_events = true;\n",
       "            fig.request_resize(ui.size.width, ui.size.height);\n",
       "        },\n",
       "    });\n",
       "\n",
       "    function mouse_event_fn(event) {\n",
       "        if (pass_mouse_events)\n",
       "            return fig.mouse_event(event, event['data']);\n",
       "    }\n",
       "\n",
       "    rubberband.mousedown('button_press', mouse_event_fn);\n",
       "    rubberband.mouseup('button_release', mouse_event_fn);\n",
       "    // Throttle sequential mouse events to 1 every 20ms.\n",
       "    rubberband.mousemove('motion_notify', mouse_event_fn);\n",
       "\n",
       "    rubberband.mouseenter('figure_enter', mouse_event_fn);\n",
       "    rubberband.mouseleave('figure_leave', mouse_event_fn);\n",
       "\n",
       "    canvas_div.on(\"wheel\", function (event) {\n",
       "        event = event.originalEvent;\n",
       "        event['data'] = 'scroll'\n",
       "        if (event.deltaY < 0) {\n",
       "            event.step = 1;\n",
       "        } else {\n",
       "            event.step = -1;\n",
       "        }\n",
       "        mouse_event_fn(event);\n",
       "    });\n",
       "\n",
       "    canvas_div.append(canvas);\n",
       "    canvas_div.append(rubberband);\n",
       "\n",
       "    this.rubberband = rubberband;\n",
       "    this.rubberband_canvas = rubberband[0];\n",
       "    this.rubberband_context = rubberband[0].getContext(\"2d\");\n",
       "    this.rubberband_context.strokeStyle = \"#000000\";\n",
       "\n",
       "    this._resize_canvas = function(width, height) {\n",
       "        // Keep the size of the canvas, canvas container, and rubber band\n",
       "        // canvas in synch.\n",
       "        canvas_div.css('width', width)\n",
       "        canvas_div.css('height', height)\n",
       "\n",
       "        canvas.attr('width', width * mpl.ratio);\n",
       "        canvas.attr('height', height * mpl.ratio);\n",
       "        canvas.attr('style', 'width: ' + width + 'px; height: ' + height + 'px;');\n",
       "\n",
       "        rubberband.attr('width', width);\n",
       "        rubberband.attr('height', height);\n",
       "    }\n",
       "\n",
       "    // Set the figure to an initial 600x600px, this will subsequently be updated\n",
       "    // upon first draw.\n",
       "    this._resize_canvas(600, 600);\n",
       "\n",
       "    // Disable right mouse context menu.\n",
       "    $(this.rubberband_canvas).bind(\"contextmenu\",function(e){\n",
       "        return false;\n",
       "    });\n",
       "\n",
       "    function set_focus () {\n",
       "        canvas.focus();\n",
       "        canvas_div.focus();\n",
       "    }\n",
       "\n",
       "    window.setTimeout(set_focus, 100);\n",
       "}\n",
       "\n",
       "mpl.figure.prototype._init_toolbar = function() {\n",
       "    var fig = this;\n",
       "\n",
       "    var nav_element = $('<div/>');\n",
       "    nav_element.attr('style', 'width: 100%');\n",
       "    this.root.append(nav_element);\n",
       "\n",
       "    // Define a callback function for later on.\n",
       "    function toolbar_event(event) {\n",
       "        return fig.toolbar_button_onclick(event['data']);\n",
       "    }\n",
       "    function toolbar_mouse_event(event) {\n",
       "        return fig.toolbar_button_onmouseover(event['data']);\n",
       "    }\n",
       "\n",
       "    for(var toolbar_ind in mpl.toolbar_items) {\n",
       "        var name = mpl.toolbar_items[toolbar_ind][0];\n",
       "        var tooltip = mpl.toolbar_items[toolbar_ind][1];\n",
       "        var image = mpl.toolbar_items[toolbar_ind][2];\n",
       "        var method_name = mpl.toolbar_items[toolbar_ind][3];\n",
       "\n",
       "        if (!name) {\n",
       "            // put a spacer in here.\n",
       "            continue;\n",
       "        }\n",
       "        var button = $('<button/>');\n",
       "        button.addClass('ui-button ui-widget ui-state-default ui-corner-all ' +\n",
       "                        'ui-button-icon-only');\n",
       "        button.attr('role', 'button');\n",
       "        button.attr('aria-disabled', 'false');\n",
       "        button.click(method_name, toolbar_event);\n",
       "        button.mouseover(tooltip, toolbar_mouse_event);\n",
       "\n",
       "        var icon_img = $('<span/>');\n",
       "        icon_img.addClass('ui-button-icon-primary ui-icon');\n",
       "        icon_img.addClass(image);\n",
       "        icon_img.addClass('ui-corner-all');\n",
       "\n",
       "        var tooltip_span = $('<span/>');\n",
       "        tooltip_span.addClass('ui-button-text');\n",
       "        tooltip_span.html(tooltip);\n",
       "\n",
       "        button.append(icon_img);\n",
       "        button.append(tooltip_span);\n",
       "\n",
       "        nav_element.append(button);\n",
       "    }\n",
       "\n",
       "    var fmt_picker_span = $('<span/>');\n",
       "\n",
       "    var fmt_picker = $('<select/>');\n",
       "    fmt_picker.addClass('mpl-toolbar-option ui-widget ui-widget-content');\n",
       "    fmt_picker_span.append(fmt_picker);\n",
       "    nav_element.append(fmt_picker_span);\n",
       "    this.format_dropdown = fmt_picker[0];\n",
       "\n",
       "    for (var ind in mpl.extensions) {\n",
       "        var fmt = mpl.extensions[ind];\n",
       "        var option = $(\n",
       "            '<option/>', {selected: fmt === mpl.default_extension}).html(fmt);\n",
       "        fmt_picker.append(option);\n",
       "    }\n",
       "\n",
       "    // Add hover states to the ui-buttons\n",
       "    $( \".ui-button\" ).hover(\n",
       "        function() { $(this).addClass(\"ui-state-hover\");},\n",
       "        function() { $(this).removeClass(\"ui-state-hover\");}\n",
       "    );\n",
       "\n",
       "    var status_bar = $('<span class=\"mpl-message\"/>');\n",
       "    nav_element.append(status_bar);\n",
       "    this.message = status_bar[0];\n",
       "}\n",
       "\n",
       "mpl.figure.prototype.request_resize = function(x_pixels, y_pixels) {\n",
       "    // Request matplotlib to resize the figure. Matplotlib will then trigger a resize in the client,\n",
       "    // which will in turn request a refresh of the image.\n",
       "    this.send_message('resize', {'width': x_pixels, 'height': y_pixels});\n",
       "}\n",
       "\n",
       "mpl.figure.prototype.send_message = function(type, properties) {\n",
       "    properties['type'] = type;\n",
       "    properties['figure_id'] = this.id;\n",
       "    this.ws.send(JSON.stringify(properties));\n",
       "}\n",
       "\n",
       "mpl.figure.prototype.send_draw_message = function() {\n",
       "    if (!this.waiting) {\n",
       "        this.waiting = true;\n",
       "        this.ws.send(JSON.stringify({type: \"draw\", figure_id: this.id}));\n",
       "    }\n",
       "}\n",
       "\n",
       "\n",
       "mpl.figure.prototype.handle_save = function(fig, msg) {\n",
       "    var format_dropdown = fig.format_dropdown;\n",
       "    var format = format_dropdown.options[format_dropdown.selectedIndex].value;\n",
       "    fig.ondownload(fig, format);\n",
       "}\n",
       "\n",
       "\n",
       "mpl.figure.prototype.handle_resize = function(fig, msg) {\n",
       "    var size = msg['size'];\n",
       "    if (size[0] != fig.canvas.width || size[1] != fig.canvas.height) {\n",
       "        fig._resize_canvas(size[0], size[1]);\n",
       "        fig.send_message(\"refresh\", {});\n",
       "    };\n",
       "}\n",
       "\n",
       "mpl.figure.prototype.handle_rubberband = function(fig, msg) {\n",
       "    var x0 = msg['x0'] / mpl.ratio;\n",
       "    var y0 = (fig.canvas.height - msg['y0']) / mpl.ratio;\n",
       "    var x1 = msg['x1'] / mpl.ratio;\n",
       "    var y1 = (fig.canvas.height - msg['y1']) / mpl.ratio;\n",
       "    x0 = Math.floor(x0) + 0.5;\n",
       "    y0 = Math.floor(y0) + 0.5;\n",
       "    x1 = Math.floor(x1) + 0.5;\n",
       "    y1 = Math.floor(y1) + 0.5;\n",
       "    var min_x = Math.min(x0, x1);\n",
       "    var min_y = Math.min(y0, y1);\n",
       "    var width = Math.abs(x1 - x0);\n",
       "    var height = Math.abs(y1 - y0);\n",
       "\n",
       "    fig.rubberband_context.clearRect(\n",
       "        0, 0, fig.canvas.width / mpl.ratio, fig.canvas.height / mpl.ratio);\n",
       "\n",
       "    fig.rubberband_context.strokeRect(min_x, min_y, width, height);\n",
       "}\n",
       "\n",
       "mpl.figure.prototype.handle_figure_label = function(fig, msg) {\n",
       "    // Updates the figure title.\n",
       "    fig.header.textContent = msg['label'];\n",
       "}\n",
       "\n",
       "mpl.figure.prototype.handle_cursor = function(fig, msg) {\n",
       "    var cursor = msg['cursor'];\n",
       "    switch(cursor)\n",
       "    {\n",
       "    case 0:\n",
       "        cursor = 'pointer';\n",
       "        break;\n",
       "    case 1:\n",
       "        cursor = 'default';\n",
       "        break;\n",
       "    case 2:\n",
       "        cursor = 'crosshair';\n",
       "        break;\n",
       "    case 3:\n",
       "        cursor = 'move';\n",
       "        break;\n",
       "    }\n",
       "    fig.rubberband_canvas.style.cursor = cursor;\n",
       "}\n",
       "\n",
       "mpl.figure.prototype.handle_message = function(fig, msg) {\n",
       "    fig.message.textContent = msg['message'];\n",
       "}\n",
       "\n",
       "mpl.figure.prototype.handle_draw = function(fig, msg) {\n",
       "    // Request the server to send over a new figure.\n",
       "    fig.send_draw_message();\n",
       "}\n",
       "\n",
       "mpl.figure.prototype.handle_image_mode = function(fig, msg) {\n",
       "    fig.image_mode = msg['mode'];\n",
       "}\n",
       "\n",
       "mpl.figure.prototype.updated_canvas_event = function() {\n",
       "    // Called whenever the canvas gets updated.\n",
       "    this.send_message(\"ack\", {});\n",
       "}\n",
       "\n",
       "// A function to construct a web socket function for onmessage handling.\n",
       "// Called in the figure constructor.\n",
       "mpl.figure.prototype._make_on_message_function = function(fig) {\n",
       "    return function socket_on_message(evt) {\n",
       "        if (evt.data instanceof Blob) {\n",
       "            /* FIXME: We get \"Resource interpreted as Image but\n",
       "             * transferred with MIME type text/plain:\" errors on\n",
       "             * Chrome.  But how to set the MIME type?  It doesn't seem\n",
       "             * to be part of the websocket stream */\n",
       "            evt.data.type = \"image/png\";\n",
       "\n",
       "            /* Free the memory for the previous frames */\n",
       "            if (fig.imageObj.src) {\n",
       "                (window.URL || window.webkitURL).revokeObjectURL(\n",
       "                    fig.imageObj.src);\n",
       "            }\n",
       "\n",
       "            fig.imageObj.src = (window.URL || window.webkitURL).createObjectURL(\n",
       "                evt.data);\n",
       "            fig.updated_canvas_event();\n",
       "            fig.waiting = false;\n",
       "            return;\n",
       "        }\n",
       "        else if (typeof evt.data === 'string' && evt.data.slice(0, 21) == \"data:image/png;base64\") {\n",
       "            fig.imageObj.src = evt.data;\n",
       "            fig.updated_canvas_event();\n",
       "            fig.waiting = false;\n",
       "            return;\n",
       "        }\n",
       "\n",
       "        var msg = JSON.parse(evt.data);\n",
       "        var msg_type = msg['type'];\n",
       "\n",
       "        // Call the  \"handle_{type}\" callback, which takes\n",
       "        // the figure and JSON message as its only arguments.\n",
       "        try {\n",
       "            var callback = fig[\"handle_\" + msg_type];\n",
       "        } catch (e) {\n",
       "            console.log(\"No handler for the '\" + msg_type + \"' message type: \", msg);\n",
       "            return;\n",
       "        }\n",
       "\n",
       "        if (callback) {\n",
       "            try {\n",
       "                // console.log(\"Handling '\" + msg_type + \"' message: \", msg);\n",
       "                callback(fig, msg);\n",
       "            } catch (e) {\n",
       "                console.log(\"Exception inside the 'handler_\" + msg_type + \"' callback:\", e, e.stack, msg);\n",
       "            }\n",
       "        }\n",
       "    };\n",
       "}\n",
       "\n",
       "// from http://stackoverflow.com/questions/1114465/getting-mouse-location-in-canvas\n",
       "mpl.findpos = function(e) {\n",
       "    //this section is from http://www.quirksmode.org/js/events_properties.html\n",
       "    var targ;\n",
       "    if (!e)\n",
       "        e = window.event;\n",
       "    if (e.target)\n",
       "        targ = e.target;\n",
       "    else if (e.srcElement)\n",
       "        targ = e.srcElement;\n",
       "    if (targ.nodeType == 3) // defeat Safari bug\n",
       "        targ = targ.parentNode;\n",
       "\n",
       "    // jQuery normalizes the pageX and pageY\n",
       "    // pageX,Y are the mouse positions relative to the document\n",
       "    // offset() returns the position of the element relative to the document\n",
       "    var x = e.pageX - $(targ).offset().left;\n",
       "    var y = e.pageY - $(targ).offset().top;\n",
       "\n",
       "    return {\"x\": x, \"y\": y};\n",
       "};\n",
       "\n",
       "/*\n",
       " * return a copy of an object with only non-object keys\n",
       " * we need this to avoid circular references\n",
       " * http://stackoverflow.com/a/24161582/3208463\n",
       " */\n",
       "function simpleKeys (original) {\n",
       "  return Object.keys(original).reduce(function (obj, key) {\n",
       "    if (typeof original[key] !== 'object')\n",
       "        obj[key] = original[key]\n",
       "    return obj;\n",
       "  }, {});\n",
       "}\n",
       "\n",
       "mpl.figure.prototype.mouse_event = function(event, name) {\n",
       "    var canvas_pos = mpl.findpos(event)\n",
       "\n",
       "    if (name === 'button_press')\n",
       "    {\n",
       "        this.canvas.focus();\n",
       "        this.canvas_div.focus();\n",
       "    }\n",
       "\n",
       "    var x = canvas_pos.x * mpl.ratio;\n",
       "    var y = canvas_pos.y * mpl.ratio;\n",
       "\n",
       "    this.send_message(name, {x: x, y: y, button: event.button,\n",
       "                             step: event.step,\n",
       "                             guiEvent: simpleKeys(event)});\n",
       "\n",
       "    /* This prevents the web browser from automatically changing to\n",
       "     * the text insertion cursor when the button is pressed.  We want\n",
       "     * to control all of the cursor setting manually through the\n",
       "     * 'cursor' event from matplotlib */\n",
       "    event.preventDefault();\n",
       "    return false;\n",
       "}\n",
       "\n",
       "mpl.figure.prototype._key_event_extra = function(event, name) {\n",
       "    // Handle any extra behaviour associated with a key event\n",
       "}\n",
       "\n",
       "mpl.figure.prototype.key_event = function(event, name) {\n",
       "\n",
       "    // Prevent repeat events\n",
       "    if (name == 'key_press')\n",
       "    {\n",
       "        if (event.which === this._key)\n",
       "            return;\n",
       "        else\n",
       "            this._key = event.which;\n",
       "    }\n",
       "    if (name == 'key_release')\n",
       "        this._key = null;\n",
       "\n",
       "    var value = '';\n",
       "    if (event.ctrlKey && event.which != 17)\n",
       "        value += \"ctrl+\";\n",
       "    if (event.altKey && event.which != 18)\n",
       "        value += \"alt+\";\n",
       "    if (event.shiftKey && event.which != 16)\n",
       "        value += \"shift+\";\n",
       "\n",
       "    value += 'k';\n",
       "    value += event.which.toString();\n",
       "\n",
       "    this._key_event_extra(event, name);\n",
       "\n",
       "    this.send_message(name, {key: value,\n",
       "                             guiEvent: simpleKeys(event)});\n",
       "    return false;\n",
       "}\n",
       "\n",
       "mpl.figure.prototype.toolbar_button_onclick = function(name) {\n",
       "    if (name == 'download') {\n",
       "        this.handle_save(this, null);\n",
       "    } else {\n",
       "        this.send_message(\"toolbar_button\", {name: name});\n",
       "    }\n",
       "};\n",
       "\n",
       "mpl.figure.prototype.toolbar_button_onmouseover = function(tooltip) {\n",
       "    this.message.textContent = tooltip;\n",
       "};\n",
       "mpl.toolbar_items = [[\"Home\", \"Reset original view\", \"fa fa-home icon-home\", \"home\"], [\"Back\", \"Back to previous view\", \"fa fa-arrow-left icon-arrow-left\", \"back\"], [\"Forward\", \"Forward to next view\", \"fa fa-arrow-right icon-arrow-right\", \"forward\"], [\"\", \"\", \"\", \"\"], [\"Pan\", \"Pan axes with left mouse, zoom with right\", \"fa fa-arrows icon-move\", \"pan\"], [\"Zoom\", \"Zoom to rectangle\", \"fa fa-square-o icon-check-empty\", \"zoom\"], [\"\", \"\", \"\", \"\"], [\"Download\", \"Download plot\", \"fa fa-floppy-o icon-save\", \"download\"]];\n",
       "\n",
       "mpl.extensions = [\"eps\", \"jpeg\", \"pdf\", \"png\", \"ps\", \"raw\", \"svg\", \"tif\"];\n",
       "\n",
       "mpl.default_extension = \"png\";var comm_websocket_adapter = function(comm) {\n",
       "    // Create a \"websocket\"-like object which calls the given IPython comm\n",
       "    // object with the appropriate methods. Currently this is a non binary\n",
       "    // socket, so there is still some room for performance tuning.\n",
       "    var ws = {};\n",
       "\n",
       "    ws.close = function() {\n",
       "        comm.close()\n",
       "    };\n",
       "    ws.send = function(m) {\n",
       "        //console.log('sending', m);\n",
       "        comm.send(m);\n",
       "    };\n",
       "    // Register the callback with on_msg.\n",
       "    comm.on_msg(function(msg) {\n",
       "        //console.log('receiving', msg['content']['data'], msg);\n",
       "        // Pass the mpl event to the overridden (by mpl) onmessage function.\n",
       "        ws.onmessage(msg['content']['data'])\n",
       "    });\n",
       "    return ws;\n",
       "}\n",
       "\n",
       "mpl.mpl_figure_comm = function(comm, msg) {\n",
       "    // This is the function which gets called when the mpl process\n",
       "    // starts-up an IPython Comm through the \"matplotlib\" channel.\n",
       "\n",
       "    var id = msg.content.data.id;\n",
       "    // Get hold of the div created by the display call when the Comm\n",
       "    // socket was opened in Python.\n",
       "    var element = $(\"#\" + id);\n",
       "    var ws_proxy = comm_websocket_adapter(comm)\n",
       "\n",
       "    function ondownload(figure, format) {\n",
       "        window.open(figure.imageObj.src);\n",
       "    }\n",
       "\n",
       "    var fig = new mpl.figure(id, ws_proxy,\n",
       "                           ondownload,\n",
       "                           element.get(0));\n",
       "\n",
       "    // Call onopen now - mpl needs it, as it is assuming we've passed it a real\n",
       "    // web socket which is closed, not our websocket->open comm proxy.\n",
       "    ws_proxy.onopen();\n",
       "\n",
       "    fig.parent_element = element.get(0);\n",
       "    fig.cell_info = mpl.find_output_cell(\"<div id='\" + id + \"'></div>\");\n",
       "    if (!fig.cell_info) {\n",
       "        console.error(\"Failed to find cell for figure\", id, fig);\n",
       "        return;\n",
       "    }\n",
       "\n",
       "    var output_index = fig.cell_info[2]\n",
       "    var cell = fig.cell_info[0];\n",
       "\n",
       "};\n",
       "\n",
       "mpl.figure.prototype.handle_close = function(fig, msg) {\n",
       "    var width = fig.canvas.width/mpl.ratio\n",
       "    fig.root.unbind('remove')\n",
       "\n",
       "    // Update the output cell to use the data from the current canvas.\n",
       "    fig.push_to_output();\n",
       "    var dataURL = fig.canvas.toDataURL();\n",
       "    // Re-enable the keyboard manager in IPython - without this line, in FF,\n",
       "    // the notebook keyboard shortcuts fail.\n",
       "    IPython.keyboard_manager.enable()\n",
       "    $(fig.parent_element).html('<img src=\"' + dataURL + '\" width=\"' + width + '\">');\n",
       "    fig.close_ws(fig, msg);\n",
       "}\n",
       "\n",
       "mpl.figure.prototype.close_ws = function(fig, msg){\n",
       "    fig.send_message('closing', msg);\n",
       "    // fig.ws.close()\n",
       "}\n",
       "\n",
       "mpl.figure.prototype.push_to_output = function(remove_interactive) {\n",
       "    // Turn the data on the canvas into data in the output cell.\n",
       "    var width = this.canvas.width/mpl.ratio\n",
       "    var dataURL = this.canvas.toDataURL();\n",
       "    this.cell_info[1]['text/html'] = '<img src=\"' + dataURL + '\" width=\"' + width + '\">';\n",
       "}\n",
       "\n",
       "mpl.figure.prototype.updated_canvas_event = function() {\n",
       "    // Tell IPython that the notebook contents must change.\n",
       "    IPython.notebook.set_dirty(true);\n",
       "    this.send_message(\"ack\", {});\n",
       "    var fig = this;\n",
       "    // Wait a second, then push the new image to the DOM so\n",
       "    // that it is saved nicely (might be nice to debounce this).\n",
       "    setTimeout(function () { fig.push_to_output() }, 1000);\n",
       "}\n",
       "\n",
       "mpl.figure.prototype._init_toolbar = function() {\n",
       "    var fig = this;\n",
       "\n",
       "    var nav_element = $('<div/>');\n",
       "    nav_element.attr('style', 'width: 100%');\n",
       "    this.root.append(nav_element);\n",
       "\n",
       "    // Define a callback function for later on.\n",
       "    function toolbar_event(event) {\n",
       "        return fig.toolbar_button_onclick(event['data']);\n",
       "    }\n",
       "    function toolbar_mouse_event(event) {\n",
       "        return fig.toolbar_button_onmouseover(event['data']);\n",
       "    }\n",
       "\n",
       "    for(var toolbar_ind in mpl.toolbar_items){\n",
       "        var name = mpl.toolbar_items[toolbar_ind][0];\n",
       "        var tooltip = mpl.toolbar_items[toolbar_ind][1];\n",
       "        var image = mpl.toolbar_items[toolbar_ind][2];\n",
       "        var method_name = mpl.toolbar_items[toolbar_ind][3];\n",
       "\n",
       "        if (!name) { continue; };\n",
       "\n",
       "        var button = $('<button class=\"btn btn-default\" href=\"#\" title=\"' + name + '\"><i class=\"fa ' + image + ' fa-lg\"></i></button>');\n",
       "        button.click(method_name, toolbar_event);\n",
       "        button.mouseover(tooltip, toolbar_mouse_event);\n",
       "        nav_element.append(button);\n",
       "    }\n",
       "\n",
       "    // Add the status bar.\n",
       "    var status_bar = $('<span class=\"mpl-message\" style=\"text-align:right; float: right;\"/>');\n",
       "    nav_element.append(status_bar);\n",
       "    this.message = status_bar[0];\n",
       "\n",
       "    // Add the close button to the window.\n",
       "    var buttongrp = $('<div class=\"btn-group inline pull-right\"></div>');\n",
       "    var button = $('<button class=\"btn btn-mini btn-primary\" href=\"#\" title=\"Stop Interaction\"><i class=\"fa fa-power-off icon-remove icon-large\"></i></button>');\n",
       "    button.click(function (evt) { fig.handle_close(fig, {}); } );\n",
       "    button.mouseover('Stop Interaction', toolbar_mouse_event);\n",
       "    buttongrp.append(button);\n",
       "    var titlebar = this.root.find($('.ui-dialog-titlebar'));\n",
       "    titlebar.prepend(buttongrp);\n",
       "}\n",
       "\n",
       "mpl.figure.prototype._root_extra_style = function(el){\n",
       "    var fig = this\n",
       "    el.on(\"remove\", function(){\n",
       "\tfig.close_ws(fig, {});\n",
       "    });\n",
       "}\n",
       "\n",
       "mpl.figure.prototype._canvas_extra_style = function(el){\n",
       "    // this is important to make the div 'focusable\n",
       "    el.attr('tabindex', 0)\n",
       "    // reach out to IPython and tell the keyboard manager to turn it's self\n",
       "    // off when our div gets focus\n",
       "\n",
       "    // location in version 3\n",
       "    if (IPython.notebook.keyboard_manager) {\n",
       "        IPython.notebook.keyboard_manager.register_events(el);\n",
       "    }\n",
       "    else {\n",
       "        // location in version 2\n",
       "        IPython.keyboard_manager.register_events(el);\n",
       "    }\n",
       "\n",
       "}\n",
       "\n",
       "mpl.figure.prototype._key_event_extra = function(event, name) {\n",
       "    var manager = IPython.notebook.keyboard_manager;\n",
       "    if (!manager)\n",
       "        manager = IPython.keyboard_manager;\n",
       "\n",
       "    // Check for shift+enter\n",
       "    if (event.shiftKey && event.which == 13) {\n",
       "        this.canvas_div.blur();\n",
       "        // select the cell after this one\n",
       "        var index = IPython.notebook.find_cell_index(this.cell_info[0]);\n",
       "        IPython.notebook.select(index + 1);\n",
       "    }\n",
       "}\n",
       "\n",
       "mpl.figure.prototype.handle_save = function(fig, msg) {\n",
       "    fig.ondownload(fig, null);\n",
       "}\n",
       "\n",
       "\n",
       "mpl.find_output_cell = function(html_output) {\n",
       "    // Return the cell and output element which can be found *uniquely* in the notebook.\n",
       "    // Note - this is a bit hacky, but it is done because the \"notebook_saving.Notebook\"\n",
       "    // IPython event is triggered only after the cells have been serialised, which for\n",
       "    // our purposes (turning an active figure into a static one), is too late.\n",
       "    var cells = IPython.notebook.get_cells();\n",
       "    var ncells = cells.length;\n",
       "    for (var i=0; i<ncells; i++) {\n",
       "        var cell = cells[i];\n",
       "        if (cell.cell_type === 'code'){\n",
       "            for (var j=0; j<cell.output_area.outputs.length; j++) {\n",
       "                var data = cell.output_area.outputs[j];\n",
       "                if (data.data) {\n",
       "                    // IPython >= 3 moved mimebundle to data attribute of output\n",
       "                    data = data.data;\n",
       "                }\n",
       "                if (data['text/html'] == html_output) {\n",
       "                    return [cell, data, j];\n",
       "                }\n",
       "            }\n",
       "        }\n",
       "    }\n",
       "}\n",
       "\n",
       "// Register the function which deals with the matplotlib target/channel.\n",
       "// The kernel may be null if the page has been refreshed.\n",
       "if (IPython.notebook.kernel != null) {\n",
       "    IPython.notebook.kernel.comm_manager.register_target('matplotlib', mpl.mpl_figure_comm);\n",
       "}\n"
      ],
      "text/plain": [
       "<IPython.core.display.Javascript object>"
      ]
     },
     "metadata": {},
     "output_type": "display_data"
    },
    {
     "data": {
      "text/html": [
       "<img src=\"data:image/png;base64,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\" width=\"640\">"
      ],
      "text/plain": [
       "<IPython.core.display.HTML object>"
      ]
     },
     "metadata": {},
     "output_type": "display_data"
    },
    {
     "data": {
      "application/vnd.jupyter.widget-view+json": {
       "model_id": "7fad07005d5d4af986d1eff81de1e495",
       "version_major": 2,
       "version_minor": 0
      },
      "text/plain": [
       "Button(description='Save image', style=ButtonStyle())"
      ]
     },
     "metadata": {},
     "output_type": "display_data"
    },
    {
     "data": {
      "application/vnd.jupyter.widget-view+json": {
       "model_id": "fd8a8885ddf64e98bd80d88c700b6f7f",
       "version_major": 2,
       "version_minor": 0
      },
      "text/plain": [
       "Output()"
      ]
     },
     "metadata": {},
     "output_type": "display_data"
    },
    {
     "data": {
      "application/vnd.jupyter.widget-view+json": {
       "model_id": "0f1bb0ed2e8a440986abb972aff2d603",
       "version_major": 2,
       "version_minor": 0
      },
      "text/plain": [
       "interactive(children=(IntSlider(value=10, continuous_update=False, description='frame', max=60, min=-60, step=…"
      ]
     },
     "metadata": {},
     "output_type": "display_data"
    }
   ],
   "source": [
    "%matplotlib notebook\n",
    "import numpy as np\n",
    "import matplotlib.pyplot as plt\n",
    "from matplotlib.colors import ListedColormap\n",
    "import matplotlib\n",
    "from soft_knn import SoftKNN\n",
    "from ipywidgets import interact, interactive, fixed, interact_manual\n",
    "import ipywidgets as widgets\n",
    "import fractions\n",
    "import itertools\n",
    "from collections import Counter\n",
    "\n",
    "\n",
    "def get_cmap(n, name='tab20'):\n",
    "    '''Returns a function that maps each index in 0, 1, ..., n-1 to a distinct \n",
    "    RGB color; the keyword argument name must be a standard mpl colormap name.'''\n",
    "    return plt.cm.get_cmap(name, n)\n",
    "def create_system(n, verbose=False):\n",
    "    A=[]\n",
    "    for i in range(1,int(np.ceil(n/2.))):\n",
    "        for j in range(2*i, n):#int(np.floor(n/2.))+i\n",
    "            vector = np.zeros(n)\n",
    "            vector[i-1]+=(1./(j/2.))\n",
    "            vector[n-i+1-1]+=(1/(n-(j/2.)))\n",
    "            vector[j-i+1-1]+=(-1./(j/2.))\n",
    "            vector[n-j+i-1]+=(-1/(n-(j/2.)))\n",
    "            A.append(vector)\n",
    "            if verbose:\n",
    "                print (\"(y_{0}/{1})+(y_{2}/{3}) = (y_{4}/{1}) + (y_{5}/{3})    \".format(i,j/2.,n-i+1,n-(j/2.),j-i+1,n-j+i))\n",
    "        if verbose: \n",
    "            print(\"\\n\")\n",
    "    A.append(np.ones(n))\n",
    "    A.append(np.zeros(n))\n",
    "    A[-1][-1]=1\n",
    "    b = np.zeros(len(A))\n",
    "    b[-2]=1\n",
    "    return A, b\n",
    "def solve_system(A,b):\n",
    "    soln, _, _, _ = np.linalg.lstsq(A,b,rcond=None)\n",
    "    return soln\n",
    "def labels_2_points_n_classes(n):\n",
    "    denom = sum([j**2 for j in range(1,n)])\n",
    "    y=[(n*(n-1)-i*(i-1))/denom for i in range(1,n+1)]\n",
    "    y=[elem/sum(y) for elem in y]\n",
    "    return y\n",
    "def M_pairs_with_center(M):\n",
    "    y0=[(1/4),3/(4*(M-1)),0]\n",
    "    y=[(1/2)+(1/(M**2)),(1/2)-(1/(M**2)),0]\n",
    "    return y0,y\n",
    "def expected_num_eqns(n):\n",
    "    return (np.ceil(n/2.)-1)*(n-np.ceil(n/2.))\n",
    "    \n",
    "\n",
    "ims=[]\n",
    "fig=plt.figure()\n",
    "\n",
    "\n",
    "def animate(frame, num_points, num_classes, mode, resolution, zoom, filename, k, normalize):\n",
    "    \n",
    "    #frame+=20\n",
    "    ax_list=fig.axes\n",
    "    [fig.delaxes(ax) for ax in ax_list]\n",
    "    ax1 = fig.add_subplot(1,2,1)\n",
    "    axs = [fig.add_subplot(num_points,2,2*(point+1)) for point in range(num_points)]\n",
    "    if mode == \"poly_and_center\":\n",
    "        frame+=20\n",
    "        num_classes = 2*(num_points-1)+num_points\n",
    "        polygon = matplotlib.patches.RegularPolygon((0,0),num_points-1, radius=5)\n",
    "        dd=polygon.get_verts()[:-1]\n",
    "        dd=np.append(dd,np.array([[0,0]]),axis=0)\n",
    "        dy=np.zeros((num_points,num_classes))\n",
    "        for i in range(num_points-1): \n",
    "            #Set the surrounding polygon classes\n",
    "            dy[i][2*i]=0.4-frame*0.0012\n",
    "            dy[i][(2*i+1)%(2*(num_points-1))]=0.2+frame*0.0004\n",
    "            dy[i][(2*i-1)%(2*(num_points-1))]=0.2+frame*0.0004\n",
    "            dy[i][(2*(num_points-1)+i)]=0.2+frame*0.0004\n",
    "            #Set the central classes\n",
    "            dy[-1][(2*(num_points-1)+i)]=0.2+frame*0.0004\n",
    "        dy[-1][-1]=0.4-frame*0.0004*(num_points-1)\n",
    "    if mode == \"pairs_with_center\":\n",
    "        num_classes = 2*(num_points-1)+1\n",
    "        polygon = matplotlib.patches.RegularPolygon((0,0),num_points-1, radius=5)\n",
    "        dd=polygon.get_verts()[:-1]\n",
    "        dd=np.append(dd,np.array([[0,0]]),axis=0)\n",
    "        dy=np.zeros((num_points,num_classes))\n",
    "        #solutions = labels_2_points_n_classes(3)\n",
    "        solutions = M_pairs_with_center(num_points)\n",
    "        for i in range(num_points-1): \n",
    "            #Set the surrounding polygon classes\n",
    "            dy[i][2*i]=solutions[1][0]\n",
    "            dy[i][2*i+1]=solutions[1][1]\n",
    "            dy[i][-1] = solutions[1][2]\n",
    "            \n",
    "#             dy[i][2*i]=solutions[0]\n",
    "#             dy[i][2*i+1]=solutions[1]\n",
    "#             dy[i][-1] = solutions[2]\n",
    "            #Set the central classes\n",
    "            dy[-1][2*i]=solutions[0][2]\n",
    "            dy[-1][2*i+1]=solutions[0][1]\n",
    "    \n",
    "#             dy[-1][2*i]=solutions[2]\n",
    "#             dy[-1][2*i+1]=solutions[1]\n",
    "        #dy[-1][-1]=solutions[0]\n",
    "        dy[-1][-1]=solutions[0][0]\n",
    "        if normalize:\n",
    "            mag=sum(dy[-1])\n",
    "            for i in range(len(dy[-1])):\n",
    "                dy[-1][i]/=mag\n",
    "    if mode ==\"every_other\":\n",
    "        num_classes = 2*num_points\n",
    "        polygon = matplotlib.patches.RegularPolygon((0,0),num_classes, radius=5)\n",
    "        dd=polygon.get_verts()[:-1:2]\n",
    "        dy=np.zeros((num_points,num_classes))\n",
    "        for i in range(num_points):\n",
    "            dy[i][2*i]=0.49-frame*0.001\n",
    "            dy[i][(2*i+1)%num_classes]=0.255+frame*0.0005\n",
    "            dy[i][(2*i-1)%num_classes]=0.255+frame*0.0005\n",
    "    if mode == \"poly_every_subset\":\n",
    "        num_classes = 2**num_points - 1\n",
    "        polygon = matplotlib.patches.RegularPolygon((0,0),num_points, radius=5)\n",
    "        dd=polygon.get_verts()[:-1]\n",
    "        dy=np.full((num_points,num_classes),num_points/num_classes)\n",
    "        #Incomplete\n",
    "    if mode == \"2points_n_classes\":\n",
    "        dd=np.array([[0,0],[1,0]])\n",
    "        dy=np.zeros((num_points,num_classes))\n",
    "        \n",
    "        dy[0] = labels_2_points_n_classes(num_classes)\n",
    "        #A, b = create_system(num_classes)\n",
    "        #dy[0]=solve_system(A,b)\n",
    "        \n",
    "#         if num_classes ==3:\n",
    "#             dy[0]=np.array([3/5,2/5,0])\n",
    "#         if num_classes==4:\n",
    "#             #dy[0]=np.array([5/12,4/12,3/12,0])\n",
    "#             dy[0]=np.array([6/14,5/14,3/14,0])\n",
    "#         if num_classes==5:\n",
    "#             dy[0]=np.array([60/200,49/200,47/200,44/200,0])\n",
    "#         if num_classes==6:\n",
    "#             dy[0]=np.array([56/210,52/210,42/210,40/210,20/210,0])\n",
    "\n",
    "     \n",
    "        dy[1]=dy[0][::-1]\n",
    "        #print(dy)\n",
    "    if mode == \"2points_half_n_classes\":\n",
    "        #num_classes=2*num_classes\n",
    "        dd=np.array([[0,0],[1,0]])\n",
    "        dy=np.zeros((num_points,2*num_classes))\n",
    "        \n",
    "        dy[0] = labels_2_points_n_classes(2*num_classes)\n",
    "        dy[1]=dy[0][::-1]  \n",
    "        #half_ind = int((num_classes+1)/2)\n",
    "        half_ind = num_classes\n",
    "        dy[0][half_ind:]=np.zeros_like(dy[0][half_ind:])\n",
    "        dy[1][half_ind:]=np.zeros_like(dy[1][half_ind:])\n",
    "        if normalize:\n",
    "            for j in range(len(dy)):\n",
    "                mag=sum(dy[j])\n",
    "                for i in range(len(dy[j])):\n",
    "                    dy[j][i]/=mag\n",
    "    if mode == \"3points_n_classes\":\n",
    "        \n",
    "        dd=np.array([[-1,0],[0,0],[1,0]])\n",
    "        dy=np.zeros((num_points,num_classes))\n",
    "        \n",
    "        dy[0] = labels_2_points_n_classes(num_classes)\n",
    "        #A, b = create_system(num_classes)\n",
    "        #dy[0]=solve_system(A,b)\n",
    "        \n",
    "#         if num_classes ==3:\n",
    "#             dy[0]=np.array([3/5,2/5,0])\n",
    "#         if num_classes==4:\n",
    "#             #dy[0]=np.array([5/12,4/12,3/12,0])\n",
    "#             dy[0]=np.array([6/14,5/14,3/14,0])\n",
    "#         if num_classes==5:\n",
    "#             dy[0]=np.array([60/200,49/200,47/200,44/200,0])\n",
    "#         if num_classes==6:\n",
    "#             dy[0]=np.array([56/210,52/210,42/210,40/210,20/210,0])\n",
    "\n",
    "     \n",
    "        dy[1]=dy[0][::-1] \n",
    "        dy[2]=dy[0]  \n",
    "        \n",
    "    if mode == \"3points_half_n_classes\":\n",
    "#         num_classes=2*num_classes\n",
    "\n",
    "        dd=np.array([[-1,0],[0,0],[1,0]])\n",
    "        dy=np.zeros((num_points,2*num_classes))\n",
    "        \n",
    "        dy[1] = labels_2_points_n_classes(2*num_classes)\n",
    "\n",
    "     \n",
    "        dy[0]=dy[1][::-1] \n",
    "        dy[2]=dy[0]  \n",
    "#         half_ind = int((num_classes+1)/2)\n",
    "        half_ind = num_classes\n",
    "        dy[0][half_ind:]=np.zeros_like(dy[0][half_ind:])\n",
    "        dy[1][half_ind:]=np.zeros_like(dy[1][half_ind:])\n",
    "        dy[2][half_ind:]=np.zeros_like(dy[2][half_ind:])\n",
    "        if normalize:\n",
    "            for j in range(len(dy)):\n",
    "                mag=sum(dy[j])\n",
    "                for i in range(len(dy[j])):\n",
    "                    dy[j][i]/=mag\n",
    "    #print(dy)\n",
    "    if not mode != \"true\":\n",
    "        distX=[]\n",
    "        distY=[]\n",
    "        for i in range(num_points):\n",
    "            class_list = []\n",
    "            for j in range(num_classes):\n",
    "                class_list.append(int(dy[i][j]*granularity)+1*(mode!=\"2points_n_classes\"))\n",
    "                distY.append(np.repeat(j, class_list[-1]))\n",
    "            #print(class_list)\n",
    "            #class_list.append(granularity-sum(class_list))\n",
    "            #print(class_list)\n",
    "            #distY.append(np.repeat(i, class_list[-1]))\n",
    "            distX.append(np.repeat([dd[i]], sum(class_list),axis=0))\n",
    "            #tempy=\n",
    "            \n",
    "            \n",
    "        distX=np.concatenate(distX)\n",
    "        distY=np.concatenate(distY)\n",
    "    distX=dd\n",
    "    distY=dy\n",
    "        #print(distX)\n",
    "        #print(distY)\n",
    "\n",
    "    # Create color maps\n",
    "    cmap_light = ListedColormap(['#FFAAAA', '#AAFFAA', '#AAAAFF', '#FFA8E8', '#A8FFE8', '#E8A8FF', '#E8FFA8' ])\n",
    "    cmap_bold = ListedColormap(['#FF8888', '#88FF88', '#8888FF', '#994282', '#429982', '#824299' ,'#829942' ])\n",
    "    cmap_bolder = ListedColormap(['#000000', '#000000', '#000000'])\n",
    "    colors=['#FFAAAA', '#AAFFAA', '#AAAAFF']\n",
    "    if num_classes>20:\n",
    "        cmap=\"gist_ncar\"\n",
    "    else:\n",
    "        cmap=\"tab20\"\n",
    "    cmap_single = get_cmap(num_classes, cmap)\n",
    "    colors=cmap_single(range(num_classes))\n",
    "    # create KNN classifier\n",
    "    clf = SoftKNN(k=k)\n",
    "    #clf = neighbors.KNeighborsClassifier(min(n_neighbors, len(distX)), weights=weights)\n",
    "    clf.fit(distX, distY)\n",
    "\n",
    "    # Plot the decision boundary. For that, we will assign a color to each\n",
    "    # point in the mesh [x_min, x_max]x[y_min, y_max].\n",
    "    if mode==\"2points_n_classes\":\n",
    "        x_min, x_max = -0-5+zoom, 1 + 5-zoom\n",
    "        y_min, y_max = -1+(-5+zoom)/2, 1 + (5-zoom)/2\n",
    "    elif mode==\"2points_half_n_classes\":\n",
    "        x_min, x_max = -0-5+zoom, 1 + 5-zoom\n",
    "        y_min, y_max = -1+(-5+zoom)/2, 1 + (5-zoom)/2\n",
    "    elif mode==\"3points_n_classes\":\n",
    "        x_min, x_max = -1-5+zoom, 1 + 5-zoom\n",
    "        y_min, y_max = -1+(-5+zoom)/2, 1 + (5-zoom)/2\n",
    "    elif mode==\"3points_half_n_classes\":\n",
    "        x_min, x_max = -1-5+zoom, 1 + 5-zoom\n",
    "        y_min, y_max = -1+(-5+zoom)/2, 1 + (5-zoom)/2\n",
    "    elif mode==\"every_other\":\n",
    "        x_min, x_max = -20,20\n",
    "        y_min, y_max = -20,20\n",
    "    elif mode==\"pairs_with_center\":\n",
    "        x_min, x_max = -20+zoom*2,20-zoom*2\n",
    "        y_min, y_max = -20+zoom*2,20-zoom*2\n",
    "    else:\n",
    "        x_min, x_max = -10,10\n",
    "        y_min, y_max = -10,10\n",
    "    size = (x_max-x_min)*(y_max-y_min)\n",
    "    desired_particles = 12000./resolution\n",
    "    h = (size/desired_particles)**0.5  # step size in the mesh\n",
    "    \n",
    "    xx, yy = np.meshgrid(np.arange(x_min, x_max, h),\n",
    "                         np.arange(y_min, y_max, h))\n",
    "    Z = clf.predict(np.c_[xx.ravel(), yy.ravel()])\n",
    "    # Put the result into a color plot\n",
    "    Z = Z.reshape(xx.shape)\n",
    "    ax1.clear()\n",
    "    ax1.pcolormesh(xx, yy, Z, cmap=cmap_single)\n",
    "    if not mode ==\"true\": \n",
    "        ax1.scatter(distX[:, 0], distX[:, 1], c=\"black\")\n",
    "    plt.xlim(xx.min(), xx.max())\n",
    "    plt.ylim(yy.min(), yy.max())\n",
    "    #plt.title(\"3-Class classification (k = %i)\")\n",
    "    for i in range(num_points):\n",
    "        axs[i].pie(dy[i], colors=colors)\n",
    "\n",
    "    if mode== \"2points_n_classes\":\n",
    "        axs[0].title.set_text(\"Left\")\n",
    "        axs[1].title.set_text(\"Right\")\n",
    "\n",
    "\n",
    "#play = widgets.Play(\n",
    "#      value=50,\n",
    "#      min=0,\n",
    "#      max=100,\n",
    "#      step=1,\n",
    "#      interval=2000,\n",
    "#      description=\"Press play\",\n",
    "#     disabled=False\n",
    "#  )\n",
    "# slider=widgets.IntSlider()\n",
    "# widgets.jslink((play, 'value'), (slider, 'value'))\n",
    "# widgets.HBox([play, slider])\n",
    "#interact(animate,frame=10)\n",
    "frame=widgets.IntSlider(min=-60, max=60, value=10, step=10, continuous_update=False)\n",
    "num_points=widgets.IntSlider(min=2, max=12, continuous_update=False)\n",
    "num_classes=widgets.IntSlider(min=2, max=24, disabled=True, continuous_update=False)\n",
    "k_nearest=widgets.IntSlider(min=1, max=24, value=2, disabled=False, continuous_update=False)\n",
    "mode=widgets.Dropdown(\n",
    "    options=['poly_and_center', 'every_other', 'pairs_with_center', '2points_n_classes', '3points_n_classes','2points_half_n_classes', '3points_half_n_classes'],\n",
    "    value='every_other',\n",
    "    description='Mode:',\n",
    "    disabled=False,\n",
    ")\n",
    "resolution = widgets.RadioButtons(\n",
    "    options=[(\"Very Low\",1.0),(\"Low\",0.8),(\"Medium\",0.6),(\"High\", 0.4),(\"Very High\", 0.2)],\n",
    "    description='Resolution:',\n",
    "    value=0.6,\n",
    "    disabled=False\n",
    ")\n",
    "zoom = widgets.IntSlider(min=-5, max=5, value=5, step=1, continuous_update=False, disabled=True)\n",
    "filename=widgets.Text(\n",
    "    value='image.png',\n",
    "    placeholder='image.png',\n",
    "    description='Filename:',\n",
    "    disabled=False\n",
    ")\n",
    "normalize=widgets.Checkbox(\n",
    "    value=False,\n",
    "    description='Normalize',\n",
    "    disabled=False,\n",
    "    indent = False\n",
    ")\n",
    "# save=widgets.Button(\n",
    "#     description='Save Image')\n",
    "# output = widgets.Output()\n",
    "\n",
    "# display(save, output)\n",
    "# def on_save(b):\n",
    "#     with output:\n",
    "#         plt.savefig(\"abc\")\n",
    "# save.on_click(on_save)\n",
    "from IPython.display import display\n",
    "button = widgets.Button(description='Save image')\n",
    "output = widgets.Output()\n",
    "display(button, output)\n",
    "def on_save(b):\n",
    "    with output:\n",
    "        plt.savefig(filename.value)\n",
    "\n",
    "\n",
    "button.on_click(on_save)\n",
    "\n",
    "\n",
    "\n",
    "def update_points_range(*args):\n",
    "    if mode.value==\"every_other\":\n",
    "        num_classes.max=2*num_points.max\n",
    "        num_classes.min=1\n",
    "        num_classes.value = num_points.value*2\n",
    "        num_classes.disabled=True\n",
    "        num_points.disabled=False\n",
    "        new_max_points = 12\n",
    "        new_min_points = 4\n",
    "        frame.disabled=False\n",
    "        zoom.disabled=True\n",
    "    if mode.value==\"poly_and_center\":\n",
    "        num_points.disabled=False\n",
    "        new_max_points = 12\n",
    "        new_min_points = 4\n",
    "        num_classes.max=3*num_points.max-2\n",
    "        num_classes.min=1\n",
    "        num_classes.value = 3*num_points.value-2\n",
    "        num_classes.disabled=True\n",
    "        frame.disabled=False\n",
    "        zoom.disabled=True\n",
    "    if mode.value==\"pairs_with_center\":\n",
    "        num_points.disabled=False\n",
    "        new_max_points = 120\n",
    "        new_min_points = 4\n",
    "        num_classes.max=2*num_points.max+1\n",
    "        num_classes.min=1\n",
    "        num_classes.value = 2*num_points.value-1\n",
    "        num_classes.disabled=True\n",
    "        frame.disabled=False\n",
    "        zoom.disabled=False\n",
    "    if mode.value==\"2points_n_classes\":\n",
    "        new_min_points = 2\n",
    "        new_max_points = 2\n",
    "        num_points.value = 2\n",
    "        num_points.disabled=True\n",
    "        num_classes.min=2\n",
    "        num_classes.max=20\n",
    "        num_classes.value=3\n",
    "        num_classes.disabled=False\n",
    "        frame.disabled=True\n",
    "        zoom.disabled=False\n",
    "        resolution.value=0.2\n",
    "    if mode.value==\"2points_half_n_classes\":\n",
    "        new_min_points = 2\n",
    "        new_max_points = 2\n",
    "        num_points.value = 2\n",
    "        num_points.disabled=True\n",
    "        num_classes.min=2\n",
    "        num_classes.max=20\n",
    "        num_classes.value=3\n",
    "        num_classes.disabled=False\n",
    "        frame.disabled=True\n",
    "        zoom.disabled=False\n",
    "        resolution.value=0.2\n",
    "    if mode.value==\"3points_n_classes\":\n",
    "        new_min_points = 3\n",
    "        new_max_points = 3\n",
    "        num_points.value = 3\n",
    "        num_points.disabled=True\n",
    "        num_classes.min=2\n",
    "        num_classes.max=20\n",
    "        num_classes.value=3\n",
    "        num_classes.disabled=False\n",
    "        frame.disabled=True\n",
    "        zoom.disabled=False\n",
    "        resolution.value=0.2\n",
    "    if mode.value==\"3points_half_n_classes\":\n",
    "        new_min_points = 3\n",
    "        new_max_points = 3\n",
    "        num_points.value = 3\n",
    "        num_points.disabled=True\n",
    "        num_classes.min=2\n",
    "        num_classes.max=20\n",
    "        num_classes.value=3\n",
    "        num_classes.disabled=False\n",
    "        frame.disabled=True\n",
    "        zoom.disabled=False\n",
    "        resolution.value=0.2\n",
    "    if new_min_points > num_points.max:\n",
    "        num_points.max = new_max_points\n",
    "        num_points.min=new_min_points\n",
    "    else:\n",
    "        num_points.min = new_min_points\n",
    "        num_points.max = new_max_points\n",
    "    k_nearest.max=num_points.max\n",
    "        \n",
    "mode.observe(update_points_range, 'value')\n",
    "num_points.observe(update_points_range)\n",
    "interactive_plot=interactive(animate,frame=frame, num_points=num_points, num_classes=num_classes,k=k_nearest, mode=mode, resolution=resolution, zoom=zoom, filename=filename, normalize=normalize)\n",
    "output = interactive_plot.children[-1]\n",
    "output.layout.height = '350px'\n",
    "\n",
    "interactive_plot\n",
    "\n"
   ]
  },
  {
   "cell_type": "code",
   "execution_count": null,
   "metadata": {},
   "outputs": [],
   "source": [
    "def create_system(n, verbose=False):\n",
    "    A=[]\n",
    "    for i in range(1,int(np.ceil(n/2.))):\n",
    "        for j in range(2*i, n):#int(np.floor(n/2.))+i\n",
    "            vector = np.zeros(n)\n",
    "            vector[i-1]+=(2*n-j)\n",
    "            vector[n-i+1-1]+=(j)\n",
    "            vector[j-i+1-1]+=(-(2*n-j))\n",
    "            vector[n-j+i-1]+=(-j)\n",
    "            A.append(vector)\n",
    "            if verbose:\n",
    "                print (\"(y_{0}/{1})+(y_{2}/{3}) = (y_{4}/{1}) + (y_{5}/{3})    \".format(i,j/2.,n-i+1,n-(j/2.),j-i+1,n-j+i))\n",
    "        if verbose: \n",
    "            print(\"\\n\")\n",
    "    A.append(np.ones(n))\n",
    "    A.append(np.zeros(n))\n",
    "    A[-1][-1]=1\n",
    "    b = np.zeros(len(A))\n",
    "    b[-2]=1\n",
    "    return A, b\n",
    "\n",
    "def do_stuff():\n",
    "    n=8\n",
    "    A,b=create_system(n, verbose=False)\n",
    "    print (\"Expected: {0} Found: {1}\".format(expected_num_eqns(n),len(A)-2))\n",
    "    print(\"\".join([str(a)+\"\\n\" for a in A]))\n",
    "\n",
    "    C=A[:(n-2)]\n",
    "    C.append(A[-1])\n",
    "    C.append(A[-2])\n",
    "    # if n%2==1:\n",
    "    #C.append(A[-3])\n",
    "    print(np.linalg.matrix_rank(C))\n",
    "    def solve_system(A,b):\n",
    "        soln, rsq, _, _ = np.linalg.lstsq(A,b,rcond=None)\n",
    "        return soln, rsq\n",
    "    #print(solve_system(A,b))\n",
    "    soln=solve_system(A,b)[0]\n",
    "    print([str(fractions.Fraction(i).limit_denominator()) for i in soln])\n",
    "    choices = np.transpose(np.array(A[:n-2]))\n",
    "    #print(choices)\n",
    "    target=A[n-2+n-4]\n",
    "    #print(target)\n",
    "    soln=solve_system(choices, target)\n",
    "    #[str(fractions.Fraction(i).limit_denominator()) for i in soln[0]]"
   ]
  },
  {
   "cell_type": "code",
   "execution_count": null,
   "metadata": {},
   "outputs": [],
   "source": [
    "def make_k_circles(k=2,n_samples=100, shuffle=True, noise=None, random_state=None,\n",
    "                 factor=.8, c=None, rot=None):\n",
    "    \"\"\"Make a large circle containing a smaller circle in 2d.\n",
    "    A simple toy dataset to visualize clustering and classification\n",
    "    algorithms.\n",
    "    Read more in the :ref:`User Guide <sample_generators>`.\n",
    "    Parameters\n",
    "    ----------\n",
    "    n_samples : int or two-element tuple, optional (default=100)\n",
    "        If int, it is the total number of points generated.\n",
    "        For odd numbers, the inner circle will have one point more than the\n",
    "        outer circle.\n",
    "        If two-element tuple, number of points in outer circle and inner\n",
    "        circle.\n",
    "    shuffle : bool, optional (default=True)\n",
    "        Whether to shuffle the samples.\n",
    "    noise : double or None (default=None)\n",
    "        Standard deviation of Gaussian noise added to the data.\n",
    "    random_state : int, RandomState instance, default=None\n",
    "        Determines random number generation for dataset shuffling and noise.\n",
    "        Pass an int for reproducible output across multiple function calls.\n",
    "        See :term:`Glossary <random_state>`.\n",
    "    factor : 0 < double < 1 (default=.8)\n",
    "        Scale factor between inner and outer circle.\n",
    "    Returns\n",
    "    -------\n",
    "    X : array of shape [n_samples, 2]\n",
    "        The generated samples.\n",
    "    y : array of shape [n_samples]\n",
    "        The integer labels (0 or 1) for class membership of each sample.\n",
    "    \"\"\"\n",
    "\n",
    "    if not factor is None and (factor >= 1 or factor < 0):\n",
    "        raise ValueError(\"'factor' has to be between 0 and 1.\")\n",
    "    if factor is None and c is None:\n",
    "        raise ValueError(\"one of 'factor' or 'c' has to be between 0 and 1.\")\n",
    "    if isinstance(n_samples, numbers.Integral):\n",
    "        n_samples_lists = [n_samples//k for i in range(k-1)]\n",
    "        n_samples_lists.append(n_samples-np.sum(n_samples_lists))\n",
    "#         n_samples_out = n_samples // 2\n",
    "#         n_samples_in = n_samples - n_samples_out\n",
    "    else:\n",
    "        try:\n",
    "            n_samples_lists = n_samples\n",
    "            assert(len(n_samples)==k)\n",
    "#             n_samples_out, n_samples_in = n_samples\n",
    "        except ValueError:\n",
    "            raise ValueError('`n_samples_lists` can be either an int or '\n",
    "                             'a k-element tuple.')\n",
    "\n",
    "    generator = check_random_state(random_state)\n",
    "    # so as not to have the first point = last point, we set endpoint=False\n",
    "    linspaces=[np.linspace(0, 2 * np.pi, n_samples_list, endpoint=False) for n_samples_list in n_samples_lists]\n",
    "    if rot is not None:\n",
    "        linspaces=[np.linspace(0+r, r+2 * np.pi, n_samples_list, endpoint=False) for n_samples_list,r in zip(n_samples_lists,rot)]\n",
    "#     linspace_out = np.linspace(0, 2 * np.pi, n_samples_out, endpoint=False)\n",
    "#     linspace_in = np.linspace(0, 2 * np.pi, n_samples_in, endpoint=False)\n",
    "    if factor:\n",
    "        circs_x = [np.cos(linspace)*factor**i for i,linspace in enumerate(linspaces)]\n",
    "        circs_y = [np.sin(linspace)*factor**i for i,linspace in enumerate(linspaces)]\n",
    "    else: \n",
    "        circs_x = [np.cos(linspace)*c*i for i,linspace in enumerate(linspaces)]\n",
    "        circs_y = [np.sin(linspace)*c*i for i,linspace in enumerate(linspaces)]\n",
    "#     outer_circ_x = np.cos(linspace_out)\n",
    "#     outer_circ_y = np.sin(linspace_out)\n",
    "#     inner_circ_x = np.cos(linspace_in) * factor\n",
    "#     inner_circ_y = np.sin(linspace_in) * factor\n",
    "    X = np.vstack([np.concatenate(circs_x, axis=0),\n",
    "                   np.concatenate(circs_y, axis=0)]).T\n",
    "    y = np.hstack([np.ones(n_samples_list, dtype=np.intp)*i for i,n_samples_list in enumerate(n_samples_lists)])\n",
    "#     X = np.vstack([np.append(outer_circ_x, inner_circ_x),\n",
    "#                    np.append(outer_circ_y, inner_circ_y)]).T\n",
    "#     y = np.hstack([np.zeros(n_samples_out, dtype=np.intp),\n",
    "#                    np.ones(n_samples_in, dtype=np.intp)])\n",
    "    if shuffle:\n",
    "        X, y = util_shuffle(X, y, random_state=generator)\n",
    "\n",
    "    if noise is not None:\n",
    "        X += generator.normal(scale=noise, size=X.shape)\n",
    "\n",
    "    return X, y\n",
    "def get_rotation(a,b):\n",
    "    g = np.gcd(a,b)\n",
    "    diff1 = (b/2)%g\n",
    "    diff2 = (a/2)%g\n",
    "    shift1 = min(diff1, g-diff1)\n",
    "    shift2 = min(diff2, g-diff2)\n",
    "    rot=(np.abs(shift2-shift1)/2)*2*np.pi/(a*b)\n",
    "    min_rot_dist = ((shift1+shift2)/2)*2*np.pi/(a*b)\n",
    "    return rot, min_rot_dist\n",
    "def get_rotations(n_samples):\n",
    "    rots=[0,0]\n",
    "    min_rot_dists=[]\n",
    "    for i in range(1,len(n_samples)-1):\n",
    "        rot,min_rot_dist = get_rotation(n_samples[i],n_samples[i+1])\n",
    "        rots.append(rot)\n",
    "        min_rot_dists.append(min_rot_dist)\n",
    "    return rots, min_rot_dists\n",
    "        \n",
    "\n",
    "def get_cmap(n, name='tab20'):\n",
    "    '''Returns a function that maps each index in 0, 1, ..., n-1 to a distinct \n",
    "    RGB color; the keyword argument name must be a standard mpl colormap name.'''\n",
    "    return plt.cm.get_cmap(name, n)\n",
    "    "
   ]
  },
  {
   "cell_type": "code",
   "execution_count": null,
   "metadata": {},
   "outputs": [],
   "source": [
    "%matplotlib notebook\n",
    "\n",
    "from sklearn.utils import check_random_state, shuffle as util_shuffle\n",
    "import numbers\n",
    "from sklearn.cluster import KMeans\n",
    "import matplotlib.pyplot as plt\n",
    "from imblearn.under_sampling import *\n",
    "from collections import Counter\n",
    "from sklearn.neighbors import KNeighborsClassifier as kNC\n",
    "import numpy as np\n",
    "num_classes=5\n",
    "growth=0.5\n",
    "X, y = make_k_circles(k=num_classes,n_samples=800,factor=None, c=growth, noise=.0)\n",
    "cnn = ClusterCentroids(sampling_strategy='all')#,random_state=0)\n",
    "n_samples=[1,4,6,9,12]\n",
    "n_samples=[1,4,7,10,13]\n",
    "rot,min_rot_dist = get_rotations(n_samples)\n",
    "print(rot)\n",
    "print(min_rot_dist)\n",
    "rot=[0,0,0,0,0]\n",
    "for i in range(2,num_classes):\n",
    "    rot[i]+=rot[i-1]#-(2*np.pi/(2*n_samples[i]))+(2*np.pi*np.gcd(n_samples[i-1],n_samples[i])/(2*n_samples[i-1]*n_samples[i]))\n",
    "print(rot)\n",
    "#print([0,0,2*np.pi/(4*6),1.5*np.pi/(6*9),2*1.5*np.pi/(9*12)])\n",
    "#rot=[0,0,2*np.pi/(2*6)+2*np.pi/(4*6),2*np.pi/(2*6)+1.5*np.pi/(6*9),1.5*np.pi/(9*12)]\n",
    "X_resampled, y_resampled = make_k_circles(k=num_classes, n_samples=n_samples, factor=None, c=growth, noise=0, rot =rot)#cnn.fit_resample(X, y)\n",
    "print(sorted(Counter(y_resampled).items()))\n",
    "#plt.title(\"Original space\")\n",
    "classes = [y==i for i in range(num_classes)]\n",
    "# reds = y == 0\n",
    "# blues = y == 1\n",
    "# greens = y == 2\n",
    "classes_resampled = [y_resampled==i for i in range(num_classes)]\n",
    "# reds_resampled = y_resampled == 0\n",
    "# blues_resampled = y_resampled == 1\n",
    "# greens_resampled = y_resampled == 2\n",
    "\n",
    "#plt.show()\n",
    "distX=X_resampled\n",
    "distY=y_resampled\n",
    "clf=kNC(n_neighbors=1)\n",
    "clf.fit(distX,distY)\n",
    "    #print(distX)\n",
    "    #print(distY)\n",
    "\n",
    "# Create color maps\n",
    "if num_classes>20:\n",
    "    cmap=\"gist_ncar\"\n",
    "else:\n",
    "    cmap=\"tab20\"\n",
    "cmap_single = get_cmap(num_classes, cmap)\n",
    "colors=cmap_single(range(num_classes))\n",
    "#print(colors)\n",
    "# create KNN classifier\n",
    "# clf = SoftKNN(k=k)\n",
    "#clf = neighbors.KNeighborsClassifier(min(n_neighbors, len(distX)), weights=weights)\n",
    "# clf.fit(distX, distY)\n",
    "\n",
    "# Plot the decision boundary. For that, we will assign a color to each\n",
    "# point in the mesh [x_min, x_max]x[y_min, y_max].\n",
    "rad=num_classes*growth\n",
    "x_min, x_max = -rad,rad\n",
    "y_min, y_max = -rad,rad\n",
    "size = (x_max-x_min)*(y_max-y_min)\n",
    "desired_particles = 800000\n",
    "h = (size/desired_particles)**0.5  # step size in the mesh\n",
    "\n",
    "xx, yy = np.meshgrid(np.arange(x_min, x_max, h),\n",
    "                     np.arange(y_min, y_max, h))\n",
    "Z = clf.predict(np.c_[xx.ravel(), yy.ravel()])\n",
    "# Put the result into a color plot\n",
    "Z = Z.reshape(xx.shape)\n",
    "# ax1.clear()\n",
    "plt.pcolormesh(xx, yy, Z, cmap=cmap_single, alpha=0.1)\n",
    "# if not mode ==\"true\": \n",
    "#     ax1.scatter(distX[:, 0], distX[:, 1], c=\"black\")\n",
    "plt.xlim(xx.min(), xx.max())\n",
    "plt.ylim(yy.min(), yy.max())\n",
    "#plt.title(\"3-Class classification (k = %i)\")\n",
    "# for i in range(num_points):\n",
    "#     axs[i].pie(dy[i], colors=colors)\n",
    "for i in range(num_classes):\n",
    "    plt.scatter(X[classes[i], 0], X[classes[i], 1], c=[colors[i]],\n",
    "            s=20, alpha=0.2)#edgecolor='k')\n",
    "    plt.scatter(X_resampled[classes_resampled[i], 0], X_resampled[classes_resampled[i], 1], c=[colors[i]],\n",
    "            s=20,edgecolor='k')\n",
    "# plt.scatter(X[reds, 0], X[reds, 1], c=[colors[0]],\n",
    "#             s=20,alpha=0.2)# edgecolor='k')\n",
    "# # km = KMeans(n_clusters=8)\n",
    "# # km.fit(X[reds])\n",
    "# # centers_red=km.cluster_centers_\n",
    "# # plt.scatter(centers_red[:,0],centers_red[:,1],c=\"black\")\n",
    "# plt.scatter(X_resampled[reds_resampled, 0], X_resampled[reds_resampled, 1], c=[colors[0]],\n",
    "#             s=20,edgecolor='k')\n",
    "\n",
    "# plt.scatter(X[blues, 0], X[blues, 1], c=[colors[1]],\n",
    "#             s=20, alpha=0.2)#edgecolor='k')\n",
    "# plt.scatter(X_resampled[blues_resampled, 0], X_resampled[blues_resampled, 1], c=[colors[1]],\n",
    "#             s=20,edgecolor='k')\n",
    "\n",
    "# plt.scatter(X[greens, 0], X[greens, 1], c=[colors[2]],\n",
    "#             s=20, alpha=0.2)#edgecolor='k')# km = KMeans(n_clusters=8)\n",
    "# plt.scatter(X_resampled[greens_resampled, 0], X_resampled[greens_resampled, 1], c=[colors[2]],\n",
    "#             s=20,edgecolor='k')\n",
    "# km.fit(X[blues])\n",
    "# centers_blue=km.cluster_centers_\n",
    "# plt.scatter(centers_blue[:,0],centers_blue[:,1],c=\"black\")\n",
    "plt.xlabel(\"$x_1$\")\n",
    "plt.ylabel(\"$x_2$\")\n",
    "plt.savefig(\"knn_and_circles.png\")\n",
    "plt.show()"
   ]
  },
  {
   "cell_type": "code",
   "execution_count": null,
   "metadata": {},
   "outputs": [],
   "source": [
    "import numpy as np\n",
    "a=np.ones(3)\n",
    "print(a)\n",
    "print(a*3)"
   ]
  },
  {
   "cell_type": "code",
   "execution_count": null,
   "metadata": {
    "scrolled": true
   },
   "outputs": [],
   "source": [
    "\n",
    "def get_midpoint_dists(a,b):\n",
    "    a_series = [a*i for i in range(b+1)] \n",
    "    a_midpoints =[a*(2*i+1)/2 for i in range(b)]\n",
    "    b_series = [b*i for i in range(a+1)] \n",
    "    b_midpoints =[b*(2*i+1)/2 for i in range(a)]\n",
    "#     plt.subplot(211)\n",
    "#     plt.scatter(a_series, np.zeros_like(a_series), \n",
    "#             c='r', cmap=\"hot_r\",vmin=-2)\n",
    "#     plt.scatter(a_midpoints, np.zeros_like(a_midpoints), \n",
    "#             c='b', cmap=\"hot_r\", vmin=-2)\n",
    "\n",
    "#     plt.yticks([])\n",
    "#     plt.subplot(212)\n",
    "    \n",
    "#     plt.scatter(b_series, np.zeros_like(b_series), \n",
    "#             c='r', cmap=\"hot_r\",vmin=-5)\n",
    "#     plt.scatter(b_midpoints, np.zeros_like(b_midpoints), \n",
    "#             c='b', cmap=\"hot_r\", vmin=-5)\n",
    "\n",
    "#     plt.yticks([])\n",
    "#     plt.show()\n",
    "    \n",
    "    a_dists = [a_midpoint-min(b_series, key=lambda x:abs(x-a_midpoint)) for a_midpoint in a_midpoints]\n",
    "    b_dists = [b_midpoint-min(a_series, key=lambda x:abs(x-b_midpoint)) for b_midpoint in b_midpoints]\n",
    "    combined_dists=np.array(a_dists+b_dists)\n",
    "    print(\"Inner Circle ({0}), Outer Circle ({1})\".format(a,b))\n",
    "    if np.any(np.isclose(0,combined_dists)):\n",
    "        min_val=np.min(np.abs(combined_dists[np.nonzero(combined_dists)]))\n",
    "        print(\"Rotation required of {0}\".format(min_val/2))\n",
    "        \n",
    "    print(\"Distances from each midpoint of Inner Circle ({0}) to closest point of Outer Circle ({1})\".format(a,b))\n",
    "    print(a_dists)\n",
    "    print(\"Distances from each midpoint of Outer Circle({1}) to closest point of Inner Circle ({0})\".format(a,b))\n",
    "    print(b_dists)\n",
    "    print(\"\\n\")\n",
    "        \n",
    "    return\n",
    "get_midpoint_dists(5,12)\n",
    "get_midpoint_dists(5,20)\n",
    "get_midpoint_dists(5,10)\n",
    "get_midpoint_dists(5,12)\n",
    "get_midpoint_dists(7,14)\n",
    "get_midpoint_dists(7,16)\n",
    "\n",
    "\n",
    "get_midpoint_dists(4,7)\n",
    "get_midpoint_dists(6,7)\n",
    "get_midpoint_dists(3,6)\n",
    "get_midpoint_dists(6,9)\n",
    "get_midpoint_dists(5,7)\n",
    "get_midpoint_dists(3,9)\n",
    "get_midpoint_dists(9,15)\n",
    "get_midpoint_dists(15,21)\n",
    "get_midpoint_dists(3,12)\n",
    "get_midpoint_dists(3,24)\n",
    "get_midpoint_dists(6,12)\n",
    "get_midpoint_dists(6,16)\n",
    "get_midpoint_dists(6,18)\n",
    "\n",
    "get_midpoint_dists(4,6)\n",
    "get_midpoint_dists(4,10)\n",
    "get_midpoint_dists(4,12)\n",
    "get_midpoint_dists(4,16)\n",
    "get_midpoint_dists(4,18)\n",
    "get_midpoint_dists(4,20)\n",
    "get_midpoint_dists(4,24)\n",
    "get_midpoint_dists(4,26)\n",
    "get_midpoint_dists(4,28)\n",
    "\n",
    "get_midpoint_dists(6,8)\n",
    "get_midpoint_dists(6,10)\n",
    "get_midpoint_dists(6,14)\n",
    "get_midpoint_dists(6,16)\n",
    "get_midpoint_dists(6,24)\n",
    "get_midpoint_dists(6,30)\n",
    "get_midpoint_dists(6,32)\n",
    "get_midpoint_dists(6,42)\n",
    "get_midpoint_dists(6,60)\n",
    "get_midpoint_dists(10,150)\n",
    "get_midpoint_dists(10,142)\n",
    "get_midpoint_dists(10,22)\n",
    "get_midpoint_dists(10,12)\n",
    "get_midpoint_dists(10,14)\n",
    "get_midpoint_dists(10,16)\n",
    "get_midpoint_dists(10,18)\n",
    "get_midpoint_dists(10,20)\n",
    "\n",
    "\n",
    "\n",
    "\n",
    "\n",
    "\n",
    "#When even paired with odd, always requires rotation of gcd(a,b)/4\n",
    "#When both odd, never requires rotation\n",
    "#When both even, does not require rotation if b/a is odd, otherwise gcd(a,b/4)\n"
   ]
  },
  {
   "cell_type": "code",
   "execution_count": null,
   "metadata": {},
   "outputs": [],
   "source": [
    "combined_dists=np.array([1,2]+[2,3])\n",
    "np.min(np.abs(combined_dists[np.nonzero(combined_dists)]))"
   ]
  },
  {
   "cell_type": "code",
   "execution_count": null,
   "metadata": {},
   "outputs": [],
   "source": [
    "#T-SNE\n",
    "from sklearn.manifold import TSNE\n",
    "from sklearn.decomposition import PCA\n",
    "from sklearn.datasets import fetch_openml\n",
    "from sklearn.model_selection import train_test_split\n",
    "from sklearn.preprocessing import StandardScaler\n",
    "\n",
    "X, y = fetch_openml('mnist_784', version=1, return_X_y=True)\n",
    "print(\"Fetched\")\n",
    "random_state = check_random_state(0)\n",
    "# permutation = random_state.permutation(X.shape[0])\n",
    "# X = X[permutation]\n",
    "# y = y[permutation]\n",
    "X = X.reshape((X.shape[0], -1))\n",
    "X_train, X_test, y_train, y_test = train_test_split(\n",
    "    X, y, train_size=6000, test_size=10000)\n",
    "scaler = StandardScaler()\n",
    "X_train = scaler.fit_transform(X_train)\n",
    "X_test = scaler.transform(X_test)\n",
    "print(len(X_train))\n",
    "decomp = PCA(n_components=30, random_state=0)\n",
    "reduced_data = decomp.fit_transform(X_train)\n",
    "print(\"PCA complete\")\n",
    "model = TSNE(n_components=2, random_state=0, perplexity=40, init=\"pca\", early_exaggeration=4, learning_rate=100)\n",
    "tsne_data = model.fit_transform(reduced_data)\n",
    "\n",
    "\n"
   ]
  },
  {
   "cell_type": "code",
   "execution_count": null,
   "metadata": {},
   "outputs": [],
   "source": [
    "%matplotlib notebook\n",
    "import numpy as np\n",
    "import matplotlib.pyplot as plt\n",
    "cmap_single = get_cmap(10, \"tab20\")\n",
    "colors=cmap_single(range(10))\n",
    "plt.scatter(tsne_data[:,0],tsne_data[:,1], c=[colors[int(i)] for i in y_train], alpha=0.2)\n",
    "plt.show()"
   ]
  },
  {
   "cell_type": "code",
   "execution_count": null,
   "metadata": {},
   "outputs": [],
   "source": [
    "%matplotlib notebook\n",
    "from collections import defaultdict \n",
    "\n",
    "X, y = fetch_openml('letter', version=1, return_X_y=True)\n",
    "print(\"Fetched\")\n",
    "random_state = check_random_state(0)\n",
    "permutation = random_state.permutation(X.shape[0])\n",
    "X = X[permutation]\n",
    "y = y[permutation]\n",
    "temp = defaultdict(lambda: len(temp)) \n",
    "y = [temp[ele] for ele in y] \n",
    "num_classes = len(temp.keys())\n",
    "print(num_classes)\n",
    "X = X.reshape((X.shape[0], -1))\n",
    "X_train, X_test, y_train, y_test = train_test_split(\n",
    "    X, y, train_size=4000, test_size=1)\n",
    "scaler = StandardScaler()\n",
    "X_train = scaler.fit_transform(X_train)\n",
    "X_test = scaler.transform(X_test)\n",
    "print(len(X_train))\n",
    "model = TSNE(n_components=2, random_state=0, perplexity=40)\n",
    "tsne_data = model.fit_transform(X_train)\n",
    "import numpy as np\n",
    "import matplotlib.pyplot as plt\n",
    "cmap_single = get_cmap(num_classes, \"tab20\")\n",
    "colors=cmap_single(range(num_classes))\n",
    "plt.scatter(tsne_data[:,0],tsne_data[:,1], c=[colors[int(i)] for i in y_train], alpha=0.2)\n",
    "plt.show()"
   ]
  },
  {
   "cell_type": "code",
   "execution_count": null,
   "metadata": {},
   "outputs": [],
   "source": []
  }
 ],
 "metadata": {
  "kernelspec": {
   "display_name": "Python 3",
   "language": "python",
   "name": "python3"
  },
  "language_info": {
   "codemirror_mode": {
    "name": "ipython",
    "version": 3
   },
   "file_extension": ".py",
   "mimetype": "text/x-python",
   "name": "python",
   "nbconvert_exporter": "python",
   "pygments_lexer": "ipython3",
   "version": "3.7.3"
  },
  "widgets": {
   "application/vnd.jupyter.widget-state+json": {
    "state": {
     "01a4fc5ae7004e07beb1e43f97544f57": {
      "model_module": "@jupyter-widgets/controls",
      "model_module_version": "1.5.0",
      "model_name": "IntSliderModel",
      "state": {
       "continuous_update": false,
       "description": "frame",
       "layout": "IPY_MODEL_295604e36d824903864903c09774409a",
       "max": 60,
       "min": -60,
       "step": 10,
       "style": "IPY_MODEL_d1813e7f5b66432db6011421b3f0ab78",
       "value": 10
      }
     },
     "0230f19b86504a7181e9aefafbe17bcd": {
      "model_module": "@jupyter-widgets/controls",
      "model_module_version": "1.5.0",
      "model_name": "SliderStyleModel",
      "state": {
       "description_width": ""
      }
     },
     "025a4d00c9c1494b86f11d581f1ae53e": {
      "model_module": "@jupyter-widgets/base",
      "model_module_version": "1.2.0",
      "model_name": "LayoutModel",
      "state": {}
     },
     "02a6f2d1539b4ce7b32ea24c923b8664": {
      "model_module": "@jupyter-widgets/controls",
      "model_module_version": "1.5.0",
      "model_name": "DescriptionStyleModel",
      "state": {
       "description_width": ""
      }
     },
     "02b054920bf04f5b879e1425ad04ed60": {
      "model_module": "@jupyter-widgets/controls",
      "model_module_version": "1.5.0",
      "model_name": "ButtonStyleModel",
      "state": {}
     },
     "0355885167d7484fa86980cdcd099aad": {
      "model_module": "@jupyter-widgets/base",
      "model_module_version": "1.2.0",
      "model_name": "LayoutModel",
      "state": {}
     },
     "0363f7d404714500af9ab37ac2f4e1bd": {
      "model_module": "@jupyter-widgets/controls",
      "model_module_version": "1.5.0",
      "model_name": "TextModel",
      "state": {
       "description": "Filename:",
       "layout": "IPY_MODEL_4c824113c0ac40f5ba3b1e0b8300bf24",
       "placeholder": "image.png",
       "style": "IPY_MODEL_bcae59261f944854b44eee5d2d9333cb",
       "value": "image.png"
      }
     },
     "03ad7b0e5db945c2b7bca4484f3a1d33": {
      "model_module": "@jupyter-widgets/controls",
      "model_module_version": "1.5.0",
      "model_name": "IntSliderModel",
      "state": {
       "continuous_update": false,
       "description": "frame",
       "layout": "IPY_MODEL_2a6597d00874411eb1fa8cfbe2c6ff83",
       "max": 60,
       "min": -60,
       "step": 10,
       "style": "IPY_MODEL_5f1f60fe52dd4d01ae84d87b7b527556",
       "value": 10
      }
     },
     "03c39a9506804d759d3231cbf3f285cb": {
      "model_module": "@jupyter-widgets/controls",
      "model_module_version": "1.5.0",
      "model_name": "IntSliderModel",
      "state": {
       "continuous_update": false,
       "description": "num_points",
       "layout": "IPY_MODEL_8711481de24e4f898c85d905ac2f8484",
       "max": 12,
       "min": 4,
       "style": "IPY_MODEL_8b0e8b2dc4464ef6b8d0cba0d7d90972",
       "value": 4
      }
     },
     "03d444ce591346049604936eae2cd5be": {
      "model_module": "@jupyter-widgets/base",
      "model_module_version": "1.2.0",
      "model_name": "LayoutModel",
      "state": {}
     },
     "04441ec512c24d93970f36d5c069661c": {
      "model_module": "@jupyter-widgets/controls",
      "model_module_version": "1.5.0",
      "model_name": "IntSliderModel",
      "state": {
       "continuous_update": false,
       "description": "num_points",
       "layout": "IPY_MODEL_4395d1c8618749cca461934c3c9eb596",
       "max": 12,
       "min": 4,
       "style": "IPY_MODEL_5697c75d418e4169ac2f6977de0634d2",
       "value": 4
      }
     },
     "04ddf22778cf491da30a934607d759aa": {
      "model_module": "@jupyter-widgets/base",
      "model_module_version": "1.2.0",
      "model_name": "LayoutModel",
      "state": {}
     },
     "058dfb76cdde4d4f9416dfde7d9b3a76": {
      "model_module": "@jupyter-widgets/base",
      "model_module_version": "1.2.0",
      "model_name": "LayoutModel",
      "state": {}
     },
     "06933a8750d84eb38f7ff6d693031b77": {
      "model_module": "@jupyter-widgets/controls",
      "model_module_version": "1.5.0",
      "model_name": "SliderStyleModel",
      "state": {
       "description_width": ""
      }
     },
     "069bab03fb0b487c9c35ff5e91f7cee7": {
      "model_module": "@jupyter-widgets/controls",
      "model_module_version": "1.5.0",
      "model_name": "VBoxModel",
      "state": {
       "_dom_classes": [
        "widget-interact"
       ],
       "children": [
        "IPY_MODEL_59dc739b8839457c9c2e86c483afbe1c",
        "IPY_MODEL_04441ec512c24d93970f36d5c069661c",
        "IPY_MODEL_7439e7c668794e0d890ac826a4cca73b",
        "IPY_MODEL_4fffa390c1374688a1a5b96e329e9f49",
        "IPY_MODEL_42ef5d8d2df64aa084880db9dc6961a2",
        "IPY_MODEL_28d126adbced44fdbd00f8da31c26974",
        "IPY_MODEL_4701be596ff846ba916e4d892ad50f63",
        "IPY_MODEL_e7d01248b79944eea005ede1bbd16055"
       ],
       "layout": "IPY_MODEL_569879ea9def40e696236684a8268aae"
      }
     },
     "06a4e4290b5546aba03a2b9a61131d22": {
      "model_module": "@jupyter-widgets/base",
      "model_module_version": "1.2.0",
      "model_name": "LayoutModel",
      "state": {}
     },
     "06a5995b35be4fb4857e46992391ffb0": {
      "model_module": "@jupyter-widgets/base",
      "model_module_version": "1.2.0",
      "model_name": "LayoutModel",
      "state": {}
     },
     "06f36ddf609d40a59f92d7c7cc106d7a": {
      "model_module": "@jupyter-widgets/controls",
      "model_module_version": "1.5.0",
      "model_name": "DescriptionStyleModel",
      "state": {
       "description_width": ""
      }
     },
     "08e2f7cd069a4e3c9c9705b4f23a6fab": {
      "model_module": "@jupyter-widgets/controls",
      "model_module_version": "1.5.0",
      "model_name": "IntSliderModel",
      "state": {
       "continuous_update": false,
       "description": "frame",
       "layout": "IPY_MODEL_98eaa6ea82e04a4cb4796ac542c7b26c",
       "max": 60,
       "min": -60,
       "step": 10,
       "style": "IPY_MODEL_24d8bc778e024fc9bb36ea38e13c070f",
       "value": 10
      }
     },
     "08efd1778b2c46febb5eb62067994032": {
      "model_module": "@jupyter-widgets/controls",
      "model_module_version": "1.5.0",
      "model_name": "IntSliderModel",
      "state": {
       "continuous_update": false,
       "description": "num_points",
       "layout": "IPY_MODEL_1b87869ac6df48a99137d2ba8d8388b3",
       "max": 12,
       "min": 4,
       "style": "IPY_MODEL_e9a26ffaf6ef430b9f9a86fa000e05a5",
       "value": 4
      }
     },
     "0a264ea52df54329a8c66cb5f38bd5b1": {
      "model_module": "@jupyter-widgets/base",
      "model_module_version": "1.2.0",
      "model_name": "LayoutModel",
      "state": {}
     },
     "0ad3cfcd96f7451b845f3d064994c522": {
      "model_module": "@jupyter-widgets/controls",
      "model_module_version": "1.5.0",
      "model_name": "DropdownModel",
      "state": {
       "_options_labels": [
        "poly_and_center",
        "every_other",
        "2points_n_classes",
        "3points_n_classes"
       ],
       "description": "Mode:",
       "index": 1,
       "layout": "IPY_MODEL_67bcd54a399b4f8097a49b724ccc3a66",
       "style": "IPY_MODEL_650b80a9bb134f01bb619aa628da0a95"
      }
     },
     "0d2a8114948644aaab36e01e84f0d6e4": {
      "model_module": "@jupyter-widgets/controls",
      "model_module_version": "1.5.0",
      "model_name": "DescriptionStyleModel",
      "state": {
       "description_width": ""
      }
     },
     "0e91b512510f4094aa3cc18f31c0b2a0": {
      "model_module": "@jupyter-widgets/controls",
      "model_module_version": "1.5.0",
      "model_name": "DescriptionStyleModel",
      "state": {
       "description_width": ""
      }
     },
     "0f6b5ca32f7549bd9083b89406be0ace": {
      "model_module": "@jupyter-widgets/base",
      "model_module_version": "1.2.0",
      "model_name": "LayoutModel",
      "state": {}
     },
     "106dadb3769a45eaa031a3cb84ef527e": {
      "model_module": "@jupyter-widgets/output",
      "model_module_version": "1.0.0",
      "model_name": "OutputModel",
      "state": {
       "layout": "IPY_MODEL_3e4ac1df44bd4baaadb5458a10c00a6f"
      }
     },
     "106ea0c847ba4ec4ab02590af717e513": {
      "model_module": "@jupyter-widgets/controls",
      "model_module_version": "1.5.0",
      "model_name": "IntSliderModel",
      "state": {
       "continuous_update": false,
       "description": "num_classes",
       "disabled": true,
       "layout": "IPY_MODEL_7379878c62904aaf81655be94bfa28aa",
       "max": 24,
       "min": 1,
       "style": "IPY_MODEL_abf2beb16e5d4f58a6ea1cc2f51fa05e",
       "value": 8
      }
     },
     "117fbdaf985b4922a76bdbff2fc2e0f2": {
      "model_module": "@jupyter-widgets/base",
      "model_module_version": "1.2.0",
      "model_name": "LayoutModel",
      "state": {}
     },
     "12944d198d154bf7b734ed2c0fec07df": {
      "model_module": "@jupyter-widgets/base",
      "model_module_version": "1.2.0",
      "model_name": "LayoutModel",
      "state": {
       "height": "350px"
      }
     },
     "1687e9dea56f4874b028846ec673f650": {
      "model_module": "@jupyter-widgets/controls",
      "model_module_version": "1.5.0",
      "model_name": "SliderStyleModel",
      "state": {
       "description_width": ""
      }
     },
     "16f0762b2e864ff5abca381fc81d29a8": {
      "model_module": "@jupyter-widgets/base",
      "model_module_version": "1.2.0",
      "model_name": "LayoutModel",
      "state": {}
     },
     "17b4234f4ef44613882cd6611c980cd5": {
      "model_module": "@jupyter-widgets/controls",
      "model_module_version": "1.5.0",
      "model_name": "SliderStyleModel",
      "state": {
       "description_width": ""
      }
     },
     "180f2e2b2f9b40ce958b0e2095892e2e": {
      "model_module": "@jupyter-widgets/controls",
      "model_module_version": "1.5.0",
      "model_name": "SliderStyleModel",
      "state": {
       "description_width": ""
      }
     },
     "186d2c417c5249099197aba167038fc9": {
      "model_module": "@jupyter-widgets/controls",
      "model_module_version": "1.5.0",
      "model_name": "TextModel",
      "state": {
       "description": "Filename:",
       "layout": "IPY_MODEL_058dfb76cdde4d4f9416dfde7d9b3a76",
       "placeholder": "image.png",
       "style": "IPY_MODEL_afaed3715c384baaa7de4742b3465f2a",
       "value": "image.png"
      }
     },
     "187f56e973f94e5d8ad9b3b98cb20aca": {
      "model_module": "@jupyter-widgets/base",
      "model_module_version": "1.2.0",
      "model_name": "LayoutModel",
      "state": {}
     },
     "18c9b8dbd176451e8579640121e6bb85": {
      "model_module": "@jupyter-widgets/controls",
      "model_module_version": "1.5.0",
      "model_name": "VBoxModel",
      "state": {
       "_dom_classes": [
        "widget-interact"
       ],
       "children": [
        "IPY_MODEL_01a4fc5ae7004e07beb1e43f97544f57",
        "IPY_MODEL_98b8bc679ad74cf6baa7b5312b7bb19c",
        "IPY_MODEL_bb0f53edfe464c7993cb191e0d1bc0b8",
        "IPY_MODEL_d2b0ff5ada8f477fb017c043ba92e54f",
        "IPY_MODEL_d6fffa8827374b788c2b8b25ccc673b0",
        "IPY_MODEL_8779afae79df4f01ba9613d8628190af",
        "IPY_MODEL_33cc0b10d64e463cb86570ea7c33e52e",
        "IPY_MODEL_84946cbe3077401cb5faf2bae3b4cedd"
       ],
       "layout": "IPY_MODEL_df2e40018a0d4734b0c8f956eeef34fd"
      }
     },
     "1b118411b9ae4331807b21d59f319e43": {
      "model_module": "@jupyter-widgets/controls",
      "model_module_version": "1.5.0",
      "model_name": "SliderStyleModel",
      "state": {
       "description_width": ""
      }
     },
     "1b75e02e7ee54662acb3ea343e9edd28": {
      "model_module": "@jupyter-widgets/base",
      "model_module_version": "1.2.0",
      "model_name": "LayoutModel",
      "state": {}
     },
     "1b87869ac6df48a99137d2ba8d8388b3": {
      "model_module": "@jupyter-widgets/base",
      "model_module_version": "1.2.0",
      "model_name": "LayoutModel",
      "state": {}
     },
     "1c0e5dfbf4484d4cbbe77da591fce7cd": {
      "model_module": "@jupyter-widgets/controls",
      "model_module_version": "1.5.0",
      "model_name": "RadioButtonsModel",
      "state": {
       "_options_labels": [
        "Very Low",
        "Low",
        "Medium",
        "High",
        "Very High"
       ],
       "description": "Resolution:",
       "index": 4,
       "layout": "IPY_MODEL_a83fcb0fc89d4aee968b9ab97dd34762",
       "style": "IPY_MODEL_70f854fb38e44187837263d6f09e7487"
      }
     },
     "1cdc290bc8514818af984fd144470825": {
      "model_module": "@jupyter-widgets/base",
      "model_module_version": "1.2.0",
      "model_name": "LayoutModel",
      "state": {
       "height": "350px"
      }
     },
     "1dec1054b3364a24b5ae775fceb186f1": {
      "model_module": "@jupyter-widgets/controls",
      "model_module_version": "1.5.0",
      "model_name": "DescriptionStyleModel",
      "state": {
       "description_width": ""
      }
     },
     "1e9220e2e94c4b0680944872ca24d164": {
      "model_module": "@jupyter-widgets/output",
      "model_module_version": "1.0.0",
      "model_name": "OutputModel",
      "state": {
       "layout": "IPY_MODEL_d898efbb93d94aeb89379f49389e8780"
      }
     },
     "1f206444ddc54523b41ae62eda2c2b08": {
      "model_module": "@jupyter-widgets/base",
      "model_module_version": "1.2.0",
      "model_name": "LayoutModel",
      "state": {}
     },
     "20c5273e31ea4404ac51135dda090de8": {
      "model_module": "@jupyter-widgets/controls",
      "model_module_version": "1.5.0",
      "model_name": "SliderStyleModel",
      "state": {
       "description_width": ""
      }
     },
     "22521160ab1f41679a9eb6d198e87347": {
      "model_module": "@jupyter-widgets/controls",
      "model_module_version": "1.5.0",
      "model_name": "IntSliderModel",
      "state": {
       "continuous_update": false,
       "description": "num_points",
       "layout": "IPY_MODEL_f9523b6430d7484f9e5b9d2c5d0daa2a",
       "max": 12,
       "min": 4,
       "style": "IPY_MODEL_5199a586edb24c30ac7e7bbfbfdc8bfb",
       "value": 4
      }
     },
     "228be73401b5443f90986f3cf23a0bbc": {
      "model_module": "@jupyter-widgets/controls",
      "model_module_version": "1.5.0",
      "model_name": "DropdownModel",
      "state": {
       "_options_labels": [
        "poly_and_center",
        "every_other",
        "2points_n_classes",
        "3points_n_classes"
       ],
       "description": "Mode:",
       "index": 1,
       "layout": "IPY_MODEL_c653507a7e564f9389e18033c5d39949",
       "style": "IPY_MODEL_795e916fbaa34789bc6d42d2544859d7"
      }
     },
     "22f199bf76bf47fc91a0722f973f7651": {
      "model_module": "@jupyter-widgets/controls",
      "model_module_version": "1.5.0",
      "model_name": "VBoxModel",
      "state": {
       "_dom_classes": [
        "widget-interact"
       ],
       "children": [
        "IPY_MODEL_2574b3334a814ee5b80057f0957b812b",
        "IPY_MODEL_d995359963aa4896b44ff567c6c1e1be",
        "IPY_MODEL_7f3de45af001495eb6b873f1bea58a04",
        "IPY_MODEL_b002866d717a42629f47a15566d05703",
        "IPY_MODEL_9b0a8dc02e1f412f8e4755e768874ca7",
        "IPY_MODEL_2db5a9bcb27f41c5b08dd887ca13159d",
        "IPY_MODEL_59ea4cbb77ed49e4b9246b9f85e50533",
        "IPY_MODEL_72d6ffab2f0d4aafb671f624beebf9f4"
       ],
       "layout": "IPY_MODEL_a9bed6f80670432f9befac97b10d0178"
      }
     },
     "239d75b397684936abfdd7240b26cbe1": {
      "model_module": "@jupyter-widgets/controls",
      "model_module_version": "1.5.0",
      "model_name": "VBoxModel",
      "state": {
       "_dom_classes": [
        "widget-interact"
       ],
       "children": [
        "IPY_MODEL_fa6acaabf9e04ea086eabfda6cb5bc6b",
        "IPY_MODEL_c22f70ed32794efb85f8e3d5dc218e21",
        "IPY_MODEL_d7438918041a431d9246785f39c70711",
        "IPY_MODEL_c53f317cbe6545528203bc56c405e065",
        "IPY_MODEL_dae4e3935d0f4c549c8cc99ccc6b8739",
        "IPY_MODEL_b071438467494eee89d56b9ec635583c",
        "IPY_MODEL_42d67f2ad11541daaa7b8517a0d55932",
        "IPY_MODEL_506e9add428a483db18b367010917635"
       ],
       "layout": "IPY_MODEL_7f9e78cc68544adda02de7fc092f056d"
      }
     },
     "23aaf2c0e40d4154a7e6fed2514261c4": {
      "model_module": "@jupyter-widgets/controls",
      "model_module_version": "1.5.0",
      "model_name": "TextModel",
      "state": {
       "description": "Filename:",
       "layout": "IPY_MODEL_bece4f56058c43b283a8c0e0778900ee",
       "placeholder": "image.png",
       "style": "IPY_MODEL_d1be0e91f5f84f64ae2dd98b32af2103",
       "value": "image.png"
      }
     },
     "24666321686b498dbe12db630f6c5017": {
      "model_module": "@jupyter-widgets/controls",
      "model_module_version": "1.5.0",
      "model_name": "SliderStyleModel",
      "state": {
       "description_width": ""
      }
     },
     "24d8bc778e024fc9bb36ea38e13c070f": {
      "model_module": "@jupyter-widgets/controls",
      "model_module_version": "1.5.0",
      "model_name": "SliderStyleModel",
      "state": {
       "description_width": ""
      }
     },
     "254543630b2e4579bf4256887bebe484": {
      "model_module": "@jupyter-widgets/base",
      "model_module_version": "1.2.0",
      "model_name": "LayoutModel",
      "state": {}
     },
     "2559d63287884aeb9c98fff7880dd0c1": {
      "model_module": "@jupyter-widgets/base",
      "model_module_version": "1.2.0",
      "model_name": "LayoutModel",
      "state": {
       "height": "350px"
      }
     },
     "2574b3334a814ee5b80057f0957b812b": {
      "model_module": "@jupyter-widgets/controls",
      "model_module_version": "1.5.0",
      "model_name": "IntSliderModel",
      "state": {
       "continuous_update": false,
       "description": "frame",
       "layout": "IPY_MODEL_9371059fc5574ed9aa791a7328fad5ff",
       "max": 60,
       "min": -60,
       "step": 10,
       "style": "IPY_MODEL_ef8ee34dd59c4541a6d568a01ad78143",
       "value": 10
      }
     },
     "25edb56be39f47f88d89aa8a698944c7": {
      "model_module": "@jupyter-widgets/controls",
      "model_module_version": "1.5.0",
      "model_name": "ButtonStyleModel",
      "state": {}
     },
     "272cb574968b4629b683d8b7d6a4f168": {
      "model_module": "@jupyter-widgets/output",
      "model_module_version": "1.0.0",
      "model_name": "OutputModel",
      "state": {
       "layout": "IPY_MODEL_646bd33f23e9494bbeb9f51e4453e846"
      }
     },
     "275e63faffc94e71bb30e12f70869a3a": {
      "model_module": "@jupyter-widgets/base",
      "model_module_version": "1.2.0",
      "model_name": "LayoutModel",
      "state": {}
     },
     "27891239da264d36af0c64795a3597a7": {
      "model_module": "@jupyter-widgets/output",
      "model_module_version": "1.0.0",
      "model_name": "OutputModel",
      "state": {
       "layout": "IPY_MODEL_1cdc290bc8514818af984fd144470825"
      }
     },
     "2794a456cc58472b936581c4d0235415": {
      "model_module": "@jupyter-widgets/controls",
      "model_module_version": "1.5.0",
      "model_name": "SliderStyleModel",
      "state": {
       "description_width": ""
      }
     },
     "28af8abfdab34476b6e47f98bb7aaa69": {
      "model_module": "@jupyter-widgets/controls",
      "model_module_version": "1.5.0",
      "model_name": "SliderStyleModel",
      "state": {
       "description_width": ""
      }
     },
     "28d126adbced44fdbd00f8da31c26974": {
      "model_module": "@jupyter-widgets/controls",
      "model_module_version": "1.5.0",
      "model_name": "IntSliderModel",
      "state": {
       "continuous_update": false,
       "description": "zoom",
       "disabled": true,
       "layout": "IPY_MODEL_e751df4250824168acba5e6c1696a58d",
       "max": 5,
       "min": -5,
       "style": "IPY_MODEL_bb584037b893458e87de43c5db4ab9c2",
       "value": 5
      }
     },
     "29300d5d8aef4b54ac761802accf8bb6": {
      "model_module": "@jupyter-widgets/base",
      "model_module_version": "1.2.0",
      "model_name": "LayoutModel",
      "state": {}
     },
     "295604e36d824903864903c09774409a": {
      "model_module": "@jupyter-widgets/base",
      "model_module_version": "1.2.0",
      "model_name": "LayoutModel",
      "state": {}
     },
     "2a6597d00874411eb1fa8cfbe2c6ff83": {
      "model_module": "@jupyter-widgets/base",
      "model_module_version": "1.2.0",
      "model_name": "LayoutModel",
      "state": {}
     },
     "2a9225dfc57a494b97aa7b9d7227e8ed": {
      "model_module": "@jupyter-widgets/controls",
      "model_module_version": "1.5.0",
      "model_name": "SliderStyleModel",
      "state": {
       "description_width": ""
      }
     },
     "2b29bea959014ff9b27184f1ac69c6fe": {
      "model_module": "@jupyter-widgets/output",
      "model_module_version": "1.0.0",
      "model_name": "OutputModel",
      "state": {
       "layout": "IPY_MODEL_a8018102e09d4f32b7f26daaefc3b093"
      }
     },
     "2cb8995808814a29a7b9ba310862483a": {
      "model_module": "@jupyter-widgets/controls",
      "model_module_version": "1.5.0",
      "model_name": "DescriptionStyleModel",
      "state": {
       "description_width": ""
      }
     },
     "2d6ebbf4539b4e6994e368cdc8c8f5db": {
      "model_module": "@jupyter-widgets/base",
      "model_module_version": "1.2.0",
      "model_name": "LayoutModel",
      "state": {}
     },
     "2db5a9bcb27f41c5b08dd887ca13159d": {
      "model_module": "@jupyter-widgets/controls",
      "model_module_version": "1.5.0",
      "model_name": "IntSliderModel",
      "state": {
       "continuous_update": false,
       "description": "zoom",
       "disabled": true,
       "layout": "IPY_MODEL_2fbaa13e09d842b692d2af9cddab956e",
       "max": 5,
       "min": -5,
       "style": "IPY_MODEL_20c5273e31ea4404ac51135dda090de8",
       "value": 5
      }
     },
     "2dcb96d392c147d2aacbe83d027875b6": {
      "model_module": "@jupyter-widgets/controls",
      "model_module_version": "1.5.0",
      "model_name": "VBoxModel",
      "state": {
       "_dom_classes": [
        "widget-interact"
       ],
       "children": [
        "IPY_MODEL_3e3c6495b98843198a978c65be893b82",
        "IPY_MODEL_22521160ab1f41679a9eb6d198e87347",
        "IPY_MODEL_d6663c9d4d4f42ffaa114b4945b9fca6",
        "IPY_MODEL_2e4858fbe32a42608457070aea56909b",
        "IPY_MODEL_5d4aa5a076e149b4b09aea89d8acc9a2",
        "IPY_MODEL_6eccd509a8954c458f38f5a347b9d12f",
        "IPY_MODEL_186d2c417c5249099197aba167038fc9",
        "IPY_MODEL_2b29bea959014ff9b27184f1ac69c6fe"
       ],
       "layout": "IPY_MODEL_82eb7921ae904fd7aa03c9ffdba95969"
      }
     },
     "2e4858fbe32a42608457070aea56909b": {
      "model_module": "@jupyter-widgets/controls",
      "model_module_version": "1.5.0",
      "model_name": "DropdownModel",
      "state": {
       "_options_labels": [
        "poly_and_center",
        "every_other",
        "2points_n_classes",
        "3points_n_classes"
       ],
       "description": "Mode:",
       "index": 1,
       "layout": "IPY_MODEL_f2559a881e4d4adb88fb09030ee48184",
       "style": "IPY_MODEL_8381e71f4b30442d9004307513418618"
      }
     },
     "2fbaa13e09d842b692d2af9cddab956e": {
      "model_module": "@jupyter-widgets/base",
      "model_module_version": "1.2.0",
      "model_name": "LayoutModel",
      "state": {}
     },
     "3149a2679c3b4b5dbabbb2adc6745163": {
      "model_module": "@jupyter-widgets/base",
      "model_module_version": "1.2.0",
      "model_name": "LayoutModel",
      "state": {}
     },
     "32b0af7b7d794860b5790e32b1e1b44e": {
      "model_module": "@jupyter-widgets/output",
      "model_module_version": "1.0.0",
      "model_name": "OutputModel",
      "state": {
       "layout": "IPY_MODEL_8a552da9ddba480c8c8921d2dafdd750"
      }
     },
     "32b5a09476b5457bbcb0ee669b7b9359": {
      "model_module": "@jupyter-widgets/controls",
      "model_module_version": "1.5.0",
      "model_name": "IntSliderModel",
      "state": {
       "continuous_update": false,
       "description": "zoom",
       "disabled": true,
       "layout": "IPY_MODEL_8c63f87ba9c145049ae7e92a7b2e4665",
       "max": 5,
       "min": -5,
       "style": "IPY_MODEL_eb4eba8fccde44419704ac911597ca77",
       "value": 5
      }
     },
     "33cc0b10d64e463cb86570ea7c33e52e": {
      "model_module": "@jupyter-widgets/controls",
      "model_module_version": "1.5.0",
      "model_name": "TextModel",
      "state": {
       "description": "Filename:",
       "layout": "IPY_MODEL_72f2db47245e49c4be24ac9f4ad10dcb",
       "placeholder": "image.png",
       "style": "IPY_MODEL_416a29f7eb0443eb8b5f1ce4e2c420cc",
       "value": "image.png"
      }
     },
     "34d6a5790d7f46518037fdadd20a495d": {
      "model_module": "@jupyter-widgets/controls",
      "model_module_version": "1.5.0",
      "model_name": "SliderStyleModel",
      "state": {
       "description_width": ""
      }
     },
     "36dcc0fe13644bafb6499227731f7708": {
      "model_module": "@jupyter-widgets/base",
      "model_module_version": "1.2.0",
      "model_name": "LayoutModel",
      "state": {}
     },
     "37a4cb86791e4f70b0e32aa532e2f521": {
      "model_module": "@jupyter-widgets/base",
      "model_module_version": "1.2.0",
      "model_name": "LayoutModel",
      "state": {}
     },
     "38f7705d731a487ea9b20636c27e313b": {
      "model_module": "@jupyter-widgets/controls",
      "model_module_version": "1.5.0",
      "model_name": "ButtonStyleModel",
      "state": {}
     },
     "394cff04415944249c682bdb1e7783b5": {
      "model_module": "@jupyter-widgets/base",
      "model_module_version": "1.2.0",
      "model_name": "LayoutModel",
      "state": {}
     },
     "39c587588b7a4250aed602d5b2c795d4": {
      "model_module": "@jupyter-widgets/controls",
      "model_module_version": "1.5.0",
      "model_name": "SliderStyleModel",
      "state": {
       "description_width": ""
      }
     },
     "3ac6a6b58df84352add8af23bd1b952c": {
      "model_module": "@jupyter-widgets/base",
      "model_module_version": "1.2.0",
      "model_name": "LayoutModel",
      "state": {}
     },
     "3bc0e0b23aef4e9cad224d5c57d74f3f": {
      "model_module": "@jupyter-widgets/base",
      "model_module_version": "1.2.0",
      "model_name": "LayoutModel",
      "state": {}
     },
     "3c79e20e300c4b52b1dc256746926247": {
      "model_module": "@jupyter-widgets/base",
      "model_module_version": "1.2.0",
      "model_name": "LayoutModel",
      "state": {}
     },
     "3c8c4fd405d24c8f91a0b43704677cf5": {
      "model_module": "@jupyter-widgets/base",
      "model_module_version": "1.2.0",
      "model_name": "LayoutModel",
      "state": {}
     },
     "3e3c6495b98843198a978c65be893b82": {
      "model_module": "@jupyter-widgets/controls",
      "model_module_version": "1.5.0",
      "model_name": "IntSliderModel",
      "state": {
       "continuous_update": false,
       "description": "frame",
       "layout": "IPY_MODEL_03d444ce591346049604936eae2cd5be",
       "max": 60,
       "min": -60,
       "step": 10,
       "style": "IPY_MODEL_550a3c1f45904aed857e8f28adf2ab6a",
       "value": 10
      }
     },
     "3e4ac1df44bd4baaadb5458a10c00a6f": {
      "model_module": "@jupyter-widgets/base",
      "model_module_version": "1.2.0",
      "model_name": "LayoutModel",
      "state": {
       "height": "350px"
      }
     },
     "3efb5db3a6a04e5da8788c607e0e33bb": {
      "model_module": "@jupyter-widgets/controls",
      "model_module_version": "1.5.0",
      "model_name": "IntSliderModel",
      "state": {
       "continuous_update": false,
       "description": "num_classes",
       "layout": "IPY_MODEL_06a5995b35be4fb4857e46992391ffb0",
       "max": 20,
       "min": 2,
       "style": "IPY_MODEL_180f2e2b2f9b40ce958b0e2095892e2e",
       "value": 7
      }
     },
     "3f195463de5a460eada42417d134357a": {
      "model_module": "@jupyter-widgets/output",
      "model_module_version": "1.0.0",
      "model_name": "OutputModel",
      "state": {
       "layout": "IPY_MODEL_c58061758af44806bb627fb025b5dfd3"
      }
     },
     "401829fdca494c05bc8a6e1d35d657a4": {
      "model_module": "@jupyter-widgets/controls",
      "model_module_version": "1.5.0",
      "model_name": "DropdownModel",
      "state": {
       "_options_labels": [
        "poly_and_center",
        "every_other",
        "2points_n_classes",
        "3points_n_classes"
       ],
       "description": "Mode:",
       "index": 1,
       "layout": "IPY_MODEL_d18e9d8d34a24dd0b52b43e16aeeafae",
       "style": "IPY_MODEL_60d1a3bff5b147c4b6b3cc1b9455c61e"
      }
     },
     "416a29f7eb0443eb8b5f1ce4e2c420cc": {
      "model_module": "@jupyter-widgets/controls",
      "model_module_version": "1.5.0",
      "model_name": "DescriptionStyleModel",
      "state": {
       "description_width": ""
      }
     },
     "41a74390c64348bc85aaa1001840c2dc": {
      "model_module": "@jupyter-widgets/controls",
      "model_module_version": "1.5.0",
      "model_name": "ButtonStyleModel",
      "state": {}
     },
     "41ac8d43355a48c9aef561a51fef5473": {
      "model_module": "@jupyter-widgets/controls",
      "model_module_version": "1.5.0",
      "model_name": "ButtonStyleModel",
      "state": {}
     },
     "420278ec40fe4080a1a8163fb13201ec": {
      "model_module": "@jupyter-widgets/base",
      "model_module_version": "1.2.0",
      "model_name": "LayoutModel",
      "state": {}
     },
     "42bee52820614430a0e82c04292099b3": {
      "model_module": "@jupyter-widgets/controls",
      "model_module_version": "1.5.0",
      "model_name": "DescriptionStyleModel",
      "state": {
       "description_width": ""
      }
     },
     "42d67f2ad11541daaa7b8517a0d55932": {
      "model_module": "@jupyter-widgets/controls",
      "model_module_version": "1.5.0",
      "model_name": "TextModel",
      "state": {
       "description": "Filename:",
       "layout": "IPY_MODEL_caf683284ff54a1fb6985bd99e9c7e29",
       "placeholder": "image.png",
       "style": "IPY_MODEL_2cb8995808814a29a7b9ba310862483a",
       "value": "image.png"
      }
     },
     "42ef5d8d2df64aa084880db9dc6961a2": {
      "model_module": "@jupyter-widgets/controls",
      "model_module_version": "1.5.0",
      "model_name": "RadioButtonsModel",
      "state": {
       "_options_labels": [
        "Very Low",
        "Low",
        "Medium",
        "High",
        "Very High"
       ],
       "description": "Resolution:",
       "index": 2,
       "layout": "IPY_MODEL_c40c4ff2c89d43fe9c8716864a155a83",
       "style": "IPY_MODEL_4ce348803ba44e87ad5d352cfe0ba90b"
      }
     },
     "4395d1c8618749cca461934c3c9eb596": {
      "model_module": "@jupyter-widgets/base",
      "model_module_version": "1.2.0",
      "model_name": "LayoutModel",
      "state": {}
     },
     "4472560ed49a40189508184b07a5e5a1": {
      "model_module": "@jupyter-widgets/controls",
      "model_module_version": "1.5.0",
      "model_name": "VBoxModel",
      "state": {
       "_dom_classes": [
        "widget-interact"
       ],
       "children": [
        "IPY_MODEL_08e2f7cd069a4e3c9c9705b4f23a6fab",
        "IPY_MODEL_aa4219faeed340f49d3f0d449d70c63b",
        "IPY_MODEL_54643cf97be74483a266a76b1e65f7e3",
        "IPY_MODEL_9d19e1518abd4b5e96c0ffe52f9f31f2",
        "IPY_MODEL_a98f49be2d634e4491f0407820e609b3",
        "IPY_MODEL_32b5a09476b5457bbcb0ee669b7b9359",
        "IPY_MODEL_23aaf2c0e40d4154a7e6fed2514261c4",
        "IPY_MODEL_3f195463de5a460eada42417d134357a"
       ],
       "layout": "IPY_MODEL_4babbfd5d0324eac8f8b9a7994357867"
      }
     },
     "456eb002d05848a89e6fb5156b60a97c": {
      "model_module": "@jupyter-widgets/controls",
      "model_module_version": "1.5.0",
      "model_name": "IntSliderModel",
      "state": {
       "continuous_update": false,
       "description": "num_points",
       "layout": "IPY_MODEL_04ddf22778cf491da30a934607d759aa",
       "max": 12,
       "min": 4,
       "style": "IPY_MODEL_60d0f2f2cbf844c4a14856a897f591cc",
       "value": 4
      }
     },
     "45768a1de72348f49459e82a26fb3a05": {
      "model_module": "@jupyter-widgets/controls",
      "model_module_version": "1.5.0",
      "model_name": "IntSliderModel",
      "state": {
       "continuous_update": false,
       "description": "zoom",
       "disabled": true,
       "layout": "IPY_MODEL_b20d74ab64c94d258aa35604bdf50d13",
       "max": 5,
       "min": -5,
       "style": "IPY_MODEL_89ed37fa51ca4df8accd5c32c6e185ba",
       "value": 5
      }
     },
     "457814f167bf4e40a524268461fc8776": {
      "model_module": "@jupyter-widgets/controls",
      "model_module_version": "1.5.0",
      "model_name": "DescriptionStyleModel",
      "state": {
       "description_width": ""
      }
     },
     "46d310bad583403498b7d50b8cd6dc15": {
      "model_module": "@jupyter-widgets/base",
      "model_module_version": "1.2.0",
      "model_name": "LayoutModel",
      "state": {}
     },
     "4701be596ff846ba916e4d892ad50f63": {
      "model_module": "@jupyter-widgets/controls",
      "model_module_version": "1.5.0",
      "model_name": "TextModel",
      "state": {
       "description": "Filename:",
       "layout": "IPY_MODEL_a6d1973f15ec46a99c396a40f0017152",
       "placeholder": "image.png",
       "style": "IPY_MODEL_52b17e5a008549dba9c5a2a0ab54b641",
       "value": "image.png"
      }
     },
     "4747b0d96e1d470d97e4d7cc6a28f400": {
      "model_module": "@jupyter-widgets/output",
      "model_module_version": "1.0.0",
      "model_name": "OutputModel",
      "state": {
       "layout": "IPY_MODEL_3bc0e0b23aef4e9cad224d5c57d74f3f"
      }
     },
     "47accdf2212844c295f76a4f6b88ce70": {
      "model_module": "@jupyter-widgets/controls",
      "model_module_version": "1.5.0",
      "model_name": "SliderStyleModel",
      "state": {
       "description_width": ""
      }
     },
     "47d3794697844ea9b3033d8a97f9db48": {
      "model_module": "@jupyter-widgets/controls",
      "model_module_version": "1.5.0",
      "model_name": "IntSliderModel",
      "state": {
       "continuous_update": false,
       "description": "frame",
       "layout": "IPY_MODEL_bebd1e326a574f9fa237f19c04ec21cb",
       "max": 60,
       "min": -60,
       "step": 10,
       "style": "IPY_MODEL_7743d9b4bb9349e78035cc9b57f8e42f",
       "value": 10
      }
     },
     "47d62be925e44cd6abd135af4e250fd2": {
      "model_module": "@jupyter-widgets/controls",
      "model_module_version": "1.5.0",
      "model_name": "ButtonModel",
      "state": {
       "description": "Save image",
       "layout": "IPY_MODEL_487fd241bf274cdbb4d0b24291347514",
       "style": "IPY_MODEL_ac5cb17193ee46e196d5da459537719f"
      }
     },
     "487fd241bf274cdbb4d0b24291347514": {
      "model_module": "@jupyter-widgets/base",
      "model_module_version": "1.2.0",
      "model_name": "LayoutModel",
      "state": {}
     },
     "4991f16735684dc38d61655b3e87af44": {
      "model_module": "@jupyter-widgets/controls",
      "model_module_version": "1.5.0",
      "model_name": "SliderStyleModel",
      "state": {
       "description_width": ""
      }
     },
     "4b7aa7ed821140599e844b76f930808e": {
      "model_module": "@jupyter-widgets/controls",
      "model_module_version": "1.5.0",
      "model_name": "ButtonStyleModel",
      "state": {}
     },
     "4babbfd5d0324eac8f8b9a7994357867": {
      "model_module": "@jupyter-widgets/base",
      "model_module_version": "1.2.0",
      "model_name": "LayoutModel",
      "state": {}
     },
     "4bb6269c63b241b9b7b9527d8ee0b2c7": {
      "model_module": "@jupyter-widgets/controls",
      "model_module_version": "1.5.0",
      "model_name": "DropdownModel",
      "state": {
       "_options_labels": [
        "poly_and_center",
        "every_other",
        "2points_n_classes",
        "3points_n_classes"
       ],
       "description": "Mode:",
       "index": 1,
       "layout": "IPY_MODEL_75cb3384f4ba451aad7a038c83e85992",
       "style": "IPY_MODEL_71413c28cdc44131b2216f5de306f959"
      }
     },
     "4c824113c0ac40f5ba3b1e0b8300bf24": {
      "model_module": "@jupyter-widgets/base",
      "model_module_version": "1.2.0",
      "model_name": "LayoutModel",
      "state": {}
     },
     "4ce348803ba44e87ad5d352cfe0ba90b": {
      "model_module": "@jupyter-widgets/controls",
      "model_module_version": "1.5.0",
      "model_name": "DescriptionStyleModel",
      "state": {
       "description_width": ""
      }
     },
     "4d1c50d66e13485d854fd24e7ceb1330": {
      "model_module": "@jupyter-widgets/base",
      "model_module_version": "1.2.0",
      "model_name": "LayoutModel",
      "state": {}
     },
     "4d2c2a828da44d98806178aec31f7ef8": {
      "model_module": "@jupyter-widgets/controls",
      "model_module_version": "1.5.0",
      "model_name": "SliderStyleModel",
      "state": {
       "description_width": ""
      }
     },
     "4ff71ffc1a3349b29e8984ebd08049b9": {
      "model_module": "@jupyter-widgets/controls",
      "model_module_version": "1.5.0",
      "model_name": "RadioButtonsModel",
      "state": {
       "_options_labels": [
        "Very Low",
        "Low",
        "Medium",
        "High",
        "Very High"
       ],
       "description": "Resolution:",
       "index": 2,
       "layout": "IPY_MODEL_37a4cb86791e4f70b0e32aa532e2f521",
       "style": "IPY_MODEL_d7f9dafed27b45ad9797aa9b01c22ad4"
      }
     },
     "4fffa390c1374688a1a5b96e329e9f49": {
      "model_module": "@jupyter-widgets/controls",
      "model_module_version": "1.5.0",
      "model_name": "DropdownModel",
      "state": {
       "_options_labels": [
        "poly_and_center",
        "every_other",
        "2points_n_classes",
        "3points_n_classes"
       ],
       "description": "Mode:",
       "index": 1,
       "layout": "IPY_MODEL_9c7cc69208a74d18be16ffbf80557a29",
       "style": "IPY_MODEL_cb68ccb3867d488ca74888458841ed16"
      }
     },
     "504248b60ca94ba08895d0ab5e0eb882": {
      "model_module": "@jupyter-widgets/base",
      "model_module_version": "1.2.0",
      "model_name": "LayoutModel",
      "state": {}
     },
     "506e9add428a483db18b367010917635": {
      "model_module": "@jupyter-widgets/output",
      "model_module_version": "1.0.0",
      "model_name": "OutputModel",
      "state": {
       "layout": "IPY_MODEL_b155d79cde854a84968e530922968412"
      }
     },
     "5113308e5f304115b788152907ca13d3": {
      "model_module": "@jupyter-widgets/base",
      "model_module_version": "1.2.0",
      "model_name": "LayoutModel",
      "state": {}
     },
     "517d13b0b31548a692f0fcd9c2d40775": {
      "model_module": "@jupyter-widgets/controls",
      "model_module_version": "1.5.0",
      "model_name": "DescriptionStyleModel",
      "state": {
       "description_width": ""
      }
     },
     "5199a586edb24c30ac7e7bbfbfdc8bfb": {
      "model_module": "@jupyter-widgets/controls",
      "model_module_version": "1.5.0",
      "model_name": "SliderStyleModel",
      "state": {
       "description_width": ""
      }
     },
     "51d161f85aea4411baad428ff5038f1e": {
      "model_module": "@jupyter-widgets/base",
      "model_module_version": "1.2.0",
      "model_name": "LayoutModel",
      "state": {}
     },
     "52b17e5a008549dba9c5a2a0ab54b641": {
      "model_module": "@jupyter-widgets/controls",
      "model_module_version": "1.5.0",
      "model_name": "DescriptionStyleModel",
      "state": {
       "description_width": ""
      }
     },
     "52c49cac66b34e758901cca5b476ca29": {
      "model_module": "@jupyter-widgets/output",
      "model_module_version": "1.0.0",
      "model_name": "OutputModel",
      "state": {
       "layout": "IPY_MODEL_420278ec40fe4080a1a8163fb13201ec"
      }
     },
     "5379d0c43b24472a985586d87f3a4965": {
      "model_module": "@jupyter-widgets/controls",
      "model_module_version": "1.5.0",
      "model_name": "IntSliderModel",
      "state": {
       "continuous_update": false,
       "description": "zoom",
       "disabled": true,
       "layout": "IPY_MODEL_940e4903a7774f87b2596eb2e103999b",
       "max": 5,
       "min": -5,
       "style": "IPY_MODEL_5c09030212ff493f84049bfb1c9bfb41",
       "value": 5
      }
     },
     "542aab1f2a3642c29466b61d840c0450": {
      "model_module": "@jupyter-widgets/base",
      "model_module_version": "1.2.0",
      "model_name": "LayoutModel",
      "state": {}
     },
     "54643cf97be74483a266a76b1e65f7e3": {
      "model_module": "@jupyter-widgets/controls",
      "model_module_version": "1.5.0",
      "model_name": "IntSliderModel",
      "state": {
       "continuous_update": false,
       "description": "num_classes",
       "disabled": true,
       "layout": "IPY_MODEL_c8a35215954249e7a5e306af8d7700e6",
       "max": 24,
       "min": 1,
       "style": "IPY_MODEL_9677ae26a5f8429ca505614a0c2b57ef",
       "value": 8
      }
     },
     "550a3c1f45904aed857e8f28adf2ab6a": {
      "model_module": "@jupyter-widgets/controls",
      "model_module_version": "1.5.0",
      "model_name": "SliderStyleModel",
      "state": {
       "description_width": ""
      }
     },
     "563d68e7de7d46e394d3226aa0c32498": {
      "model_module": "@jupyter-widgets/controls",
      "model_module_version": "1.5.0",
      "model_name": "SliderStyleModel",
      "state": {
       "description_width": ""
      }
     },
     "5697c75d418e4169ac2f6977de0634d2": {
      "model_module": "@jupyter-widgets/controls",
      "model_module_version": "1.5.0",
      "model_name": "SliderStyleModel",
      "state": {
       "description_width": ""
      }
     },
     "569879ea9def40e696236684a8268aae": {
      "model_module": "@jupyter-widgets/base",
      "model_module_version": "1.2.0",
      "model_name": "LayoutModel",
      "state": {}
     },
     "5846caa706274cc59f708ecf321f2a10": {
      "model_module": "@jupyter-widgets/base",
      "model_module_version": "1.2.0",
      "model_name": "LayoutModel",
      "state": {}
     },
     "58ab936bb3e14cf19c3209afa80eaea0": {
      "model_module": "@jupyter-widgets/output",
      "model_module_version": "1.0.0",
      "model_name": "OutputModel",
      "state": {
       "layout": "IPY_MODEL_d4105f47852b4bbea3ac497c0091ce6f"
      }
     },
     "598a6fbe3dad46fbb0b8c5dc69c8e714": {
      "model_module": "@jupyter-widgets/controls",
      "model_module_version": "1.5.0",
      "model_name": "DescriptionStyleModel",
      "state": {
       "description_width": ""
      }
     },
     "59dc739b8839457c9c2e86c483afbe1c": {
      "model_module": "@jupyter-widgets/controls",
      "model_module_version": "1.5.0",
      "model_name": "IntSliderModel",
      "state": {
       "continuous_update": false,
       "description": "frame",
       "layout": "IPY_MODEL_6723b2e67d9b4ed4ac621548e6ae8304",
       "max": 60,
       "min": -60,
       "step": 10,
       "style": "IPY_MODEL_ed27f7c15ef047dcbb3fbf9682275cc9",
       "value": 10
      }
     },
     "59ea4cbb77ed49e4b9246b9f85e50533": {
      "model_module": "@jupyter-widgets/controls",
      "model_module_version": "1.5.0",
      "model_name": "TextModel",
      "state": {
       "description": "Filename:",
       "layout": "IPY_MODEL_ad6624461ae9442aa4f9ec0d67dc09f1",
       "placeholder": "image.png",
       "style": "IPY_MODEL_ef2a4617823b41b7ba0e1bb53005f5f7",
       "value": "image.png"
      }
     },
     "5a2919b23ef44239a628f58a2950a9fe": {
      "model_module": "@jupyter-widgets/controls",
      "model_module_version": "1.5.0",
      "model_name": "RadioButtonsModel",
      "state": {
       "_options_labels": [
        "Very Low",
        "Low",
        "Medium",
        "High",
        "Very High"
       ],
       "description": "Resolution:",
       "index": 2,
       "layout": "IPY_MODEL_7a565445aa824ed4a74f562218c9bd63",
       "style": "IPY_MODEL_7388ac401a124a5e91a61638cebd6a25"
      }
     },
     "5a69a439da504d31a101895e4834d3e2": {
      "model_module": "@jupyter-widgets/base",
      "model_module_version": "1.2.0",
      "model_name": "LayoutModel",
      "state": {}
     },
     "5ab1e6497eb84d02b3680a6838e4be8f": {
      "model_module": "@jupyter-widgets/base",
      "model_module_version": "1.2.0",
      "model_name": "LayoutModel",
      "state": {}
     },
     "5b31579438af4fe9af44677072f78dcf": {
      "model_module": "@jupyter-widgets/base",
      "model_module_version": "1.2.0",
      "model_name": "LayoutModel",
      "state": {
       "height": "350px"
      }
     },
     "5c09030212ff493f84049bfb1c9bfb41": {
      "model_module": "@jupyter-widgets/controls",
      "model_module_version": "1.5.0",
      "model_name": "SliderStyleModel",
      "state": {
       "description_width": ""
      }
     },
     "5c3cbc618c4543d7b074cbaf2911478c": {
      "model_module": "@jupyter-widgets/controls",
      "model_module_version": "1.5.0",
      "model_name": "TextModel",
      "state": {
       "description": "Filename:",
       "layout": "IPY_MODEL_2d6ebbf4539b4e6994e368cdc8c8f5db",
       "placeholder": "image.png",
       "style": "IPY_MODEL_517d13b0b31548a692f0fcd9c2d40775",
       "value": "image.png"
      }
     },
     "5d18fd1cdd254fb98f642b8d25199629": {
      "model_module": "@jupyter-widgets/controls",
      "model_module_version": "1.5.0",
      "model_name": "IntSliderModel",
      "state": {
       "continuous_update": false,
       "description": "frame",
       "layout": "IPY_MODEL_4d1c50d66e13485d854fd24e7ceb1330",
       "max": 60,
       "min": -60,
       "step": 10,
       "style": "IPY_MODEL_859e9d9eaf294aaebb65caa6d836dce6",
       "value": 10
      }
     },
     "5d4aa5a076e149b4b09aea89d8acc9a2": {
      "model_module": "@jupyter-widgets/controls",
      "model_module_version": "1.5.0",
      "model_name": "RadioButtonsModel",
      "state": {
       "_options_labels": [
        "Very Low",
        "Low",
        "Medium",
        "High",
        "Very High"
       ],
       "description": "Resolution:",
       "index": 2,
       "layout": "IPY_MODEL_b14a8ffa69d44189a8778dc8dcb0f3a8",
       "style": "IPY_MODEL_8a096222a0a04f168f87250e98d937c1"
      }
     },
     "5d7ff55557f241c7aab737935b0d74ae": {
      "model_module": "@jupyter-widgets/base",
      "model_module_version": "1.2.0",
      "model_name": "LayoutModel",
      "state": {}
     },
     "5e865e1b9bb24e0aa386818e21b76636": {
      "model_module": "@jupyter-widgets/controls",
      "model_module_version": "1.5.0",
      "model_name": "SliderStyleModel",
      "state": {
       "description_width": ""
      }
     },
     "5f1f60fe52dd4d01ae84d87b7b527556": {
      "model_module": "@jupyter-widgets/controls",
      "model_module_version": "1.5.0",
      "model_name": "SliderStyleModel",
      "state": {
       "description_width": ""
      }
     },
     "5f490ba4470e42c294a3413b2b420d53": {
      "model_module": "@jupyter-widgets/base",
      "model_module_version": "1.2.0",
      "model_name": "LayoutModel",
      "state": {}
     },
     "5f86d663f5c84f22bbf621711f2d4635": {
      "model_module": "@jupyter-widgets/base",
      "model_module_version": "1.2.0",
      "model_name": "LayoutModel",
      "state": {}
     },
     "60d0f2f2cbf844c4a14856a897f591cc": {
      "model_module": "@jupyter-widgets/controls",
      "model_module_version": "1.5.0",
      "model_name": "SliderStyleModel",
      "state": {
       "description_width": ""
      }
     },
     "60d1a3bff5b147c4b6b3cc1b9455c61e": {
      "model_module": "@jupyter-widgets/controls",
      "model_module_version": "1.5.0",
      "model_name": "DescriptionStyleModel",
      "state": {
       "description_width": ""
      }
     },
     "62299593b62b48da80cec856c160c0b7": {
      "model_module": "@jupyter-widgets/base",
      "model_module_version": "1.2.0",
      "model_name": "LayoutModel",
      "state": {}
     },
     "6235c85a5a074020b95b2b7b9b88437e": {
      "model_module": "@jupyter-widgets/controls",
      "model_module_version": "1.5.0",
      "model_name": "SliderStyleModel",
      "state": {
       "description_width": ""
      }
     },
     "630d2534ffb047529777a45129e542bf": {
      "model_module": "@jupyter-widgets/controls",
      "model_module_version": "1.5.0",
      "model_name": "IntSliderModel",
      "state": {
       "continuous_update": false,
       "description": "zoom",
       "disabled": true,
       "layout": "IPY_MODEL_1f206444ddc54523b41ae62eda2c2b08",
       "max": 5,
       "min": -5,
       "style": "IPY_MODEL_24666321686b498dbe12db630f6c5017",
       "value": 5
      }
     },
     "6413eb8c130f4313aca73647d7792d0c": {
      "model_module": "@jupyter-widgets/controls",
      "model_module_version": "1.5.0",
      "model_name": "DescriptionStyleModel",
      "state": {
       "description_width": ""
      }
     },
     "646bd33f23e9494bbeb9f51e4453e846": {
      "model_module": "@jupyter-widgets/base",
      "model_module_version": "1.2.0",
      "model_name": "LayoutModel",
      "state": {
       "height": "350px"
      }
     },
     "64cde2ef0e4f4e2dab6b9b3fc80bf447": {
      "model_module": "@jupyter-widgets/controls",
      "model_module_version": "1.5.0",
      "model_name": "TextModel",
      "state": {
       "description": "Filename:",
       "layout": "IPY_MODEL_025a4d00c9c1494b86f11d581f1ae53e",
       "placeholder": "image.png",
       "style": "IPY_MODEL_02a6f2d1539b4ce7b32ea24c923b8664",
       "value": "image.png"
      }
     },
     "650b80a9bb134f01bb619aa628da0a95": {
      "model_module": "@jupyter-widgets/controls",
      "model_module_version": "1.5.0",
      "model_name": "DescriptionStyleModel",
      "state": {
       "description_width": ""
      }
     },
     "65b1ff06e66a4440a2adff77cc68db75": {
      "model_module": "@jupyter-widgets/controls",
      "model_module_version": "1.5.0",
      "model_name": "DescriptionStyleModel",
      "state": {
       "description_width": ""
      }
     },
     "66c539b6e79f4a13a42405f56d17e026": {
      "model_module": "@jupyter-widgets/base",
      "model_module_version": "1.2.0",
      "model_name": "LayoutModel",
      "state": {}
     },
     "66de3b25a49649098d4510a7ffcd77a7": {
      "model_module": "@jupyter-widgets/controls",
      "model_module_version": "1.5.0",
      "model_name": "TextModel",
      "state": {
       "description": "Filename:",
       "layout": "IPY_MODEL_e49c0f8a80ff49988abff2cf952a3755",
       "placeholder": "image.png",
       "style": "IPY_MODEL_7dc7f1e337b843a28e0c4fa70ff4f78c",
       "value": "image.png"
      }
     },
     "66ea9403a7f4427197c708146e6ae8e0": {
      "model_module": "@jupyter-widgets/output",
      "model_module_version": "1.0.0",
      "model_name": "OutputModel",
      "state": {
       "layout": "IPY_MODEL_a3b69459bd094f1a816c44413b2fe3bc"
      }
     },
     "6723b2e67d9b4ed4ac621548e6ae8304": {
      "model_module": "@jupyter-widgets/base",
      "model_module_version": "1.2.0",
      "model_name": "LayoutModel",
      "state": {}
     },
     "6767512fd20247689c08fcb421fa2969": {
      "model_module": "@jupyter-widgets/base",
      "model_module_version": "1.2.0",
      "model_name": "LayoutModel",
      "state": {}
     },
     "67bcd54a399b4f8097a49b724ccc3a66": {
      "model_module": "@jupyter-widgets/base",
      "model_module_version": "1.2.0",
      "model_name": "LayoutModel",
      "state": {}
     },
     "689871b80fa8414293843bf0654f15db": {
      "model_module": "@jupyter-widgets/controls",
      "model_module_version": "1.5.0",
      "model_name": "ButtonStyleModel",
      "state": {}
     },
     "6a7c43a69aef44198e4addccfec07998": {
      "model_module": "@jupyter-widgets/base",
      "model_module_version": "1.2.0",
      "model_name": "LayoutModel",
      "state": {}
     },
     "6a905c1416ac481da4eb2c5a024da223": {
      "model_module": "@jupyter-widgets/controls",
      "model_module_version": "1.5.0",
      "model_name": "DescriptionStyleModel",
      "state": {
       "description_width": ""
      }
     },
     "6aacc601fc124f71a2870979fe97fda1": {
      "model_module": "@jupyter-widgets/controls",
      "model_module_version": "1.5.0",
      "model_name": "SliderStyleModel",
      "state": {
       "description_width": ""
      }
     },
     "6b130968476f434b9d43cc62c9bcebe2": {
      "model_module": "@jupyter-widgets/controls",
      "model_module_version": "1.5.0",
      "model_name": "DropdownModel",
      "state": {
       "_options_labels": [
        "poly_and_center",
        "every_other",
        "2points_n_classes",
        "3points_n_classes"
       ],
       "description": "Mode:",
       "index": 2,
       "layout": "IPY_MODEL_cd1c909f7f324b85ac08c7fdb12927fe",
       "style": "IPY_MODEL_0d2a8114948644aaab36e01e84f0d6e4"
      }
     },
     "6c5ae7b80b9d415a962ba478350ad124": {
      "model_module": "@jupyter-widgets/base",
      "model_module_version": "1.2.0",
      "model_name": "LayoutModel",
      "state": {}
     },
     "6ce08dbbb9b24df49e682ba08c748bac": {
      "model_module": "@jupyter-widgets/output",
      "model_module_version": "1.0.0",
      "model_name": "OutputModel",
      "state": {
       "layout": "IPY_MODEL_dda0d290e3914021ae6ab2526e6ae98c"
      }
     },
     "6eccd509a8954c458f38f5a347b9d12f": {
      "model_module": "@jupyter-widgets/controls",
      "model_module_version": "1.5.0",
      "model_name": "IntSliderModel",
      "state": {
       "continuous_update": false,
       "description": "zoom",
       "disabled": true,
       "layout": "IPY_MODEL_8741b5bd4bf04276b15657b96656369c",
       "max": 5,
       "min": -5,
       "style": "IPY_MODEL_5e865e1b9bb24e0aa386818e21b76636",
       "value": 5
      }
     },
     "6f2b147a025b442987a11e4b9d8395c2": {
      "model_module": "@jupyter-widgets/controls",
      "model_module_version": "1.5.0",
      "model_name": "IntSliderModel",
      "state": {
       "continuous_update": false,
       "description": "num_classes",
       "disabled": true,
       "layout": "IPY_MODEL_edd3721f07d84e1ba8b014e8232640df",
       "max": 24,
       "min": 1,
       "style": "IPY_MODEL_8cdf60c21c60455fac0305607e244d73",
       "value": 8
      }
     },
     "70ad8e4661464edcb751a5c6a0c3360b": {
      "model_module": "@jupyter-widgets/base",
      "model_module_version": "1.2.0",
      "model_name": "LayoutModel",
      "state": {}
     },
     "70c564dd43de4399aa5585778755c9a9": {
      "model_module": "@jupyter-widgets/controls",
      "model_module_version": "1.5.0",
      "model_name": "SliderStyleModel",
      "state": {
       "description_width": ""
      }
     },
     "70f854fb38e44187837263d6f09e7487": {
      "model_module": "@jupyter-widgets/controls",
      "model_module_version": "1.5.0",
      "model_name": "DescriptionStyleModel",
      "state": {
       "description_width": ""
      }
     },
     "71413c28cdc44131b2216f5de306f959": {
      "model_module": "@jupyter-widgets/controls",
      "model_module_version": "1.5.0",
      "model_name": "DescriptionStyleModel",
      "state": {
       "description_width": ""
      }
     },
     "7197062e7b294552a7dd04377fd5949c": {
      "model_module": "@jupyter-widgets/base",
      "model_module_version": "1.2.0",
      "model_name": "LayoutModel",
      "state": {}
     },
     "71c9795075104401b4c75ab28a2b1bc4": {
      "model_module": "@jupyter-widgets/controls",
      "model_module_version": "1.5.0",
      "model_name": "VBoxModel",
      "state": {
       "_dom_classes": [
        "widget-interact"
       ],
       "children": [
        "IPY_MODEL_d9f0a51faff24f84889d36d5cd085776",
        "IPY_MODEL_f7eae17659284565ac272322f4418936",
        "IPY_MODEL_106ea0c847ba4ec4ab02590af717e513",
        "IPY_MODEL_0ad3cfcd96f7451b845f3d064994c522",
        "IPY_MODEL_aa9ed39ed1cc401bab5ee0e0704d049b",
        "IPY_MODEL_45768a1de72348f49459e82a26fb3a05",
        "IPY_MODEL_caf500af7f104ad2b924bab70c3c11bb",
        "IPY_MODEL_8a475dd82dda4380b7cdd55fca2334a7"
       ],
       "layout": "IPY_MODEL_5846caa706274cc59f708ecf321f2a10"
      }
     },
     "72d6ffab2f0d4aafb671f624beebf9f4": {
      "model_module": "@jupyter-widgets/output",
      "model_module_version": "1.0.0",
      "model_name": "OutputModel",
      "state": {
       "layout": "IPY_MODEL_dd09634f590d4fb3aad8465a477323f5"
      }
     },
     "72f2db47245e49c4be24ac9f4ad10dcb": {
      "model_module": "@jupyter-widgets/base",
      "model_module_version": "1.2.0",
      "model_name": "LayoutModel",
      "state": {}
     },
     "7379878c62904aaf81655be94bfa28aa": {
      "model_module": "@jupyter-widgets/base",
      "model_module_version": "1.2.0",
      "model_name": "LayoutModel",
      "state": {}
     },
     "7388ac401a124a5e91a61638cebd6a25": {
      "model_module": "@jupyter-widgets/controls",
      "model_module_version": "1.5.0",
      "model_name": "DescriptionStyleModel",
      "state": {
       "description_width": ""
      }
     },
     "73afda1d91d94614926d26f02b27ce9c": {
      "model_module": "@jupyter-widgets/controls",
      "model_module_version": "1.5.0",
      "model_name": "ButtonStyleModel",
      "state": {}
     },
     "740c73aecf704938a13d31e2bbe6a517": {
      "model_module": "@jupyter-widgets/controls",
      "model_module_version": "1.5.0",
      "model_name": "DescriptionStyleModel",
      "state": {
       "description_width": ""
      }
     },
     "7439e7c668794e0d890ac826a4cca73b": {
      "model_module": "@jupyter-widgets/controls",
      "model_module_version": "1.5.0",
      "model_name": "IntSliderModel",
      "state": {
       "continuous_update": false,
       "description": "num_classes",
       "disabled": true,
       "layout": "IPY_MODEL_a4e120e10f1c4c24ad884e35845abd9c",
       "max": 24,
       "min": 1,
       "style": "IPY_MODEL_b2c52a7d43ce4fc6a1f2e7b37fe9feeb",
       "value": 8
      }
     },
     "753fc1d4bc2e493cb6153e17319338f3": {
      "model_module": "@jupyter-widgets/base",
      "model_module_version": "1.2.0",
      "model_name": "LayoutModel",
      "state": {}
     },
     "756fd2b0f9d2442bbc80998274eaae9a": {
      "model_module": "@jupyter-widgets/controls",
      "model_module_version": "1.5.0",
      "model_name": "ButtonModel",
      "state": {
       "description": "Save image",
       "layout": "IPY_MODEL_809493b290eb4882ac07cbb2320b1a3d",
       "style": "IPY_MODEL_c5bdad07ebab4af480d2e9307e03b2eb"
      }
     },
     "759095f67ccd4beab1b1d5712f2b1598": {
      "model_module": "@jupyter-widgets/base",
      "model_module_version": "1.2.0",
      "model_name": "LayoutModel",
      "state": {}
     },
     "75cb3384f4ba451aad7a038c83e85992": {
      "model_module": "@jupyter-widgets/base",
      "model_module_version": "1.2.0",
      "model_name": "LayoutModel",
      "state": {}
     },
     "76a60d2f7e3a49d08b26515534d81024": {
      "model_module": "@jupyter-widgets/controls",
      "model_module_version": "1.5.0",
      "model_name": "ButtonModel",
      "state": {
       "description": "Save image",
       "layout": "IPY_MODEL_fc6ea7dbd3bb469dbdcd7e109fce94b9",
       "style": "IPY_MODEL_41ac8d43355a48c9aef561a51fef5473"
      }
     },
     "7743d9b4bb9349e78035cc9b57f8e42f": {
      "model_module": "@jupyter-widgets/controls",
      "model_module_version": "1.5.0",
      "model_name": "SliderStyleModel",
      "state": {
       "description_width": ""
      }
     },
     "78a96179272b49829ad2b633f092c26a": {
      "model_module": "@jupyter-widgets/controls",
      "model_module_version": "1.5.0",
      "model_name": "ButtonModel",
      "state": {
       "description": "Save image",
       "layout": "IPY_MODEL_187f56e973f94e5d8ad9b3b98cb20aca",
       "style": "IPY_MODEL_689871b80fa8414293843bf0654f15db"
      }
     },
     "795e916fbaa34789bc6d42d2544859d7": {
      "model_module": "@jupyter-widgets/controls",
      "model_module_version": "1.5.0",
      "model_name": "DescriptionStyleModel",
      "state": {
       "description_width": ""
      }
     },
     "7a565445aa824ed4a74f562218c9bd63": {
      "model_module": "@jupyter-widgets/base",
      "model_module_version": "1.2.0",
      "model_name": "LayoutModel",
      "state": {}
     },
     "7a98d7650dab4d50a57664015add566d": {
      "model_module": "@jupyter-widgets/controls",
      "model_module_version": "1.5.0",
      "model_name": "IntSliderModel",
      "state": {
       "continuous_update": false,
       "description": "num_points",
       "layout": "IPY_MODEL_759095f67ccd4beab1b1d5712f2b1598",
       "max": 12,
       "min": 4,
       "style": "IPY_MODEL_4d2c2a828da44d98806178aec31f7ef8",
       "value": 4
      }
     },
     "7ad041c432dd4a3faf29872b99277bce": {
      "model_module": "@jupyter-widgets/base",
      "model_module_version": "1.2.0",
      "model_name": "LayoutModel",
      "state": {}
     },
     "7dc7f1e337b843a28e0c4fa70ff4f78c": {
      "model_module": "@jupyter-widgets/controls",
      "model_module_version": "1.5.0",
      "model_name": "DescriptionStyleModel",
      "state": {
       "description_width": ""
      }
     },
     "7f3de45af001495eb6b873f1bea58a04": {
      "model_module": "@jupyter-widgets/controls",
      "model_module_version": "1.5.0",
      "model_name": "IntSliderModel",
      "state": {
       "continuous_update": false,
       "description": "num_classes",
       "disabled": true,
       "layout": "IPY_MODEL_ad1abe60855241fd9bceb2e0faf034e0",
       "max": 24,
       "min": 1,
       "style": "IPY_MODEL_e115403c7aaf40de9f246cc9826a891b",
       "value": 8
      }
     },
     "7f6b8d69fdac4a67af4bdf60d28c64dc": {
      "model_module": "@jupyter-widgets/controls",
      "model_module_version": "1.5.0",
      "model_name": "ButtonModel",
      "state": {
       "description": "Save image",
       "layout": "IPY_MODEL_b6ec49e52ae1410bbfe8c494033b90cd",
       "style": "IPY_MODEL_4b7aa7ed821140599e844b76f930808e"
      }
     },
     "7f859b529297436c8a8d72b4b706e2fc": {
      "model_module": "@jupyter-widgets/output",
      "model_module_version": "1.0.0",
      "model_name": "OutputModel",
      "state": {
       "layout": "IPY_MODEL_a84b51eb57ad43efb6a56c7bd5c6266b"
      }
     },
     "7f9e78cc68544adda02de7fc092f056d": {
      "model_module": "@jupyter-widgets/base",
      "model_module_version": "1.2.0",
      "model_name": "LayoutModel",
      "state": {}
     },
     "809493b290eb4882ac07cbb2320b1a3d": {
      "model_module": "@jupyter-widgets/base",
      "model_module_version": "1.2.0",
      "model_name": "LayoutModel",
      "state": {}
     },
     "81176380c4174e14b764da7efd13beda": {
      "model_module": "@jupyter-widgets/base",
      "model_module_version": "1.2.0",
      "model_name": "LayoutModel",
      "state": {}
     },
     "81c6f84f791340b18125bc07c263e9e0": {
      "model_module": "@jupyter-widgets/controls",
      "model_module_version": "1.5.0",
      "model_name": "ButtonModel",
      "state": {
       "description": "Save image",
       "layout": "IPY_MODEL_f7e6a505a68e4f4f801787e6a8a0a8e2",
       "style": "IPY_MODEL_9439f526da50431887347fbf18a1b3c7"
      }
     },
     "82ddcd7774044c02bc9792e91b7f8a6e": {
      "model_module": "@jupyter-widgets/controls",
      "model_module_version": "1.5.0",
      "model_name": "DropdownModel",
      "state": {
       "_options_labels": [
        "poly_and_center",
        "every_other",
        "2points_n_classes",
        "3points_n_classes"
       ],
       "description": "Mode:",
       "index": 1,
       "layout": "IPY_MODEL_16f0762b2e864ff5abca381fc81d29a8",
       "style": "IPY_MODEL_0e91b512510f4094aa3cc18f31c0b2a0"
      }
     },
     "82eb7921ae904fd7aa03c9ffdba95969": {
      "model_module": "@jupyter-widgets/base",
      "model_module_version": "1.2.0",
      "model_name": "LayoutModel",
      "state": {}
     },
     "834953fa9e3f4d75bf2d595bee71c20e": {
      "model_module": "@jupyter-widgets/base",
      "model_module_version": "1.2.0",
      "model_name": "LayoutModel",
      "state": {}
     },
     "8381e71f4b30442d9004307513418618": {
      "model_module": "@jupyter-widgets/controls",
      "model_module_version": "1.5.0",
      "model_name": "DescriptionStyleModel",
      "state": {
       "description_width": ""
      }
     },
     "84583671c64d4613a6fc953a2d04fcb5": {
      "model_module": "@jupyter-widgets/controls",
      "model_module_version": "1.5.0",
      "model_name": "VBoxModel",
      "state": {
       "_dom_classes": [
        "widget-interact"
       ],
       "children": [
        "IPY_MODEL_a6a82ea3026c4243994cdbf50c7a522c",
        "IPY_MODEL_08efd1778b2c46febb5eb62067994032",
        "IPY_MODEL_9ada6b96f6ac42299c3d4ca7db381550",
        "IPY_MODEL_9268ea74e77649beb306d96dd0db4fcf",
        "IPY_MODEL_ca5f83291343454aa7f7f938084f89c6",
        "IPY_MODEL_5379d0c43b24472a985586d87f3a4965",
        "IPY_MODEL_64cde2ef0e4f4e2dab6b9b3fc80bf447",
        "IPY_MODEL_e4bbe30cffcb4c01a165c0c43637b07f"
       ],
       "layout": "IPY_MODEL_70ad8e4661464edcb751a5c6a0c3360b"
      }
     },
     "84946cbe3077401cb5faf2bae3b4cedd": {
      "model_module": "@jupyter-widgets/output",
      "model_module_version": "1.0.0",
      "model_name": "OutputModel",
      "state": {
       "layout": "IPY_MODEL_a7dc0e5eb8c74954bce60c3c37fb5b9b"
      }
     },
     "859e9d9eaf294aaebb65caa6d836dce6": {
      "model_module": "@jupyter-widgets/controls",
      "model_module_version": "1.5.0",
      "model_name": "SliderStyleModel",
      "state": {
       "description_width": ""
      }
     },
     "85c243d4ef57465a9613cbc3edd6e27d": {
      "model_module": "@jupyter-widgets/controls",
      "model_module_version": "1.5.0",
      "model_name": "SliderStyleModel",
      "state": {
       "description_width": ""
      }
     },
     "870f976359d64df5b27a612be1d7a760": {
      "model_module": "@jupyter-widgets/base",
      "model_module_version": "1.2.0",
      "model_name": "LayoutModel",
      "state": {}
     },
     "8711481de24e4f898c85d905ac2f8484": {
      "model_module": "@jupyter-widgets/base",
      "model_module_version": "1.2.0",
      "model_name": "LayoutModel",
      "state": {}
     },
     "8741b5bd4bf04276b15657b96656369c": {
      "model_module": "@jupyter-widgets/base",
      "model_module_version": "1.2.0",
      "model_name": "LayoutModel",
      "state": {}
     },
     "8779afae79df4f01ba9613d8628190af": {
      "model_module": "@jupyter-widgets/controls",
      "model_module_version": "1.5.0",
      "model_name": "IntSliderModel",
      "state": {
       "continuous_update": false,
       "description": "zoom",
       "disabled": true,
       "layout": "IPY_MODEL_b04937f8a0dc46c090a4479daa038594",
       "max": 5,
       "min": -5,
       "style": "IPY_MODEL_28af8abfdab34476b6e47f98bb7aaa69",
       "value": 5
      }
     },
     "880f1a1773344a5da1401aa40c7ef924": {
      "model_module": "@jupyter-widgets/controls",
      "model_module_version": "1.5.0",
      "model_name": "VBoxModel",
      "state": {
       "_dom_classes": [
        "widget-interact"
       ],
       "children": [
        "IPY_MODEL_e74e962f0f68489fab028f3cff302a0d",
        "IPY_MODEL_7a98d7650dab4d50a57664015add566d",
        "IPY_MODEL_6f2b147a025b442987a11e4b9d8395c2",
        "IPY_MODEL_b3af0e40f1f44871885243f8761c75ef",
        "IPY_MODEL_4ff71ffc1a3349b29e8984ebd08049b9",
        "IPY_MODEL_9bb913b034b6496b8477022cc2ca579a",
        "IPY_MODEL_0363f7d404714500af9ab37ac2f4e1bd",
        "IPY_MODEL_dd6f9965bddb4ec4988accf41cd0af66"
       ],
       "layout": "IPY_MODEL_6a7c43a69aef44198e4addccfec07998"
      }
     },
     "89ed37fa51ca4df8accd5c32c6e185ba": {
      "model_module": "@jupyter-widgets/controls",
      "model_module_version": "1.5.0",
      "model_name": "SliderStyleModel",
      "state": {
       "description_width": ""
      }
     },
     "89f1ec10bd5942d58db5bc160307b0f4": {
      "model_module": "@jupyter-widgets/output",
      "model_module_version": "1.0.0",
      "model_name": "OutputModel",
      "state": {
       "layout": "IPY_MODEL_8fe592f5e6924ed29501131a88f7b966"
      }
     },
     "8a096222a0a04f168f87250e98d937c1": {
      "model_module": "@jupyter-widgets/controls",
      "model_module_version": "1.5.0",
      "model_name": "DescriptionStyleModel",
      "state": {
       "description_width": ""
      }
     },
     "8a185b02db664820a56affda26f193c9": {
      "model_module": "@jupyter-widgets/base",
      "model_module_version": "1.2.0",
      "model_name": "LayoutModel",
      "state": {}
     },
     "8a2ef60c384340d789d09de6dddd348a": {
      "model_module": "@jupyter-widgets/base",
      "model_module_version": "1.2.0",
      "model_name": "LayoutModel",
      "state": {}
     },
     "8a3845779ed14e0da480a090c0547adc": {
      "model_module": "@jupyter-widgets/controls",
      "model_module_version": "1.5.0",
      "model_name": "VBoxModel",
      "state": {
       "_dom_classes": [
        "widget-interact"
       ],
       "children": [
        "IPY_MODEL_47d3794697844ea9b3033d8a97f9db48",
        "IPY_MODEL_456eb002d05848a89e6fb5156b60a97c",
        "IPY_MODEL_978f598e949d4cb59f51627771adf4eb",
        "IPY_MODEL_82ddcd7774044c02bc9792e91b7f8a6e",
        "IPY_MODEL_f1256990b95d465489453e8ea637bf43",
        "IPY_MODEL_9143e5ed8e1744a3bb85df138f8799ad",
        "IPY_MODEL_ac25e95194364777bedff480745c94cd",
        "IPY_MODEL_32b0af7b7d794860b5790e32b1e1b44e"
       ],
       "layout": "IPY_MODEL_a76a6d920dd2464c8807b354fc70eeb5"
      }
     },
     "8a3ff2ebd512400a9b79212430c1f6f1": {
      "model_module": "@jupyter-widgets/controls",
      "model_module_version": "1.5.0",
      "model_name": "DescriptionStyleModel",
      "state": {
       "description_width": ""
      }
     },
     "8a475dd82dda4380b7cdd55fca2334a7": {
      "model_module": "@jupyter-widgets/output",
      "model_module_version": "1.0.0",
      "model_name": "OutputModel",
      "state": {
       "layout": "IPY_MODEL_b242ab3538fb4836afee10004210431e"
      }
     },
     "8a552da9ddba480c8c8921d2dafdd750": {
      "model_module": "@jupyter-widgets/base",
      "model_module_version": "1.2.0",
      "model_name": "LayoutModel",
      "state": {
       "height": "350px"
      }
     },
     "8ad51d181a364a68b867b4991573af63": {
      "model_module": "@jupyter-widgets/output",
      "model_module_version": "1.0.0",
      "model_name": "OutputModel",
      "state": {
       "layout": "IPY_MODEL_394cff04415944249c682bdb1e7783b5"
      }
     },
     "8ad6cbc5d50448a5a524de7d508024cb": {
      "model_module": "@jupyter-widgets/controls",
      "model_module_version": "1.5.0",
      "model_name": "DescriptionStyleModel",
      "state": {
       "description_width": ""
      }
     },
     "8b0e8b2dc4464ef6b8d0cba0d7d90972": {
      "model_module": "@jupyter-widgets/controls",
      "model_module_version": "1.5.0",
      "model_name": "SliderStyleModel",
      "state": {
       "description_width": ""
      }
     },
     "8bcdb893db674b759be457b82c9b9829": {
      "model_module": "@jupyter-widgets/controls",
      "model_module_version": "1.5.0",
      "model_name": "SliderStyleModel",
      "state": {
       "description_width": ""
      }
     },
     "8c63f87ba9c145049ae7e92a7b2e4665": {
      "model_module": "@jupyter-widgets/base",
      "model_module_version": "1.2.0",
      "model_name": "LayoutModel",
      "state": {}
     },
     "8c9ad17af7f8439fbfe9c02d13aa04b0": {
      "model_module": "@jupyter-widgets/controls",
      "model_module_version": "1.5.0",
      "model_name": "TextModel",
      "state": {
       "description": "Filename:",
       "layout": "IPY_MODEL_06a4e4290b5546aba03a2b9a61131d22",
       "placeholder": "image.png",
       "style": "IPY_MODEL_df86414ea8f74e82bae06ae03501aaa8",
       "value": "image.png"
      }
     },
     "8cdf60c21c60455fac0305607e244d73": {
      "model_module": "@jupyter-widgets/controls",
      "model_module_version": "1.5.0",
      "model_name": "SliderStyleModel",
      "state": {
       "description_width": ""
      }
     },
     "8f6bbc1543334d55a4032ea26a2e31d9": {
      "model_module": "@jupyter-widgets/controls",
      "model_module_version": "1.5.0",
      "model_name": "SliderStyleModel",
      "state": {
       "description_width": ""
      }
     },
     "8fe592f5e6924ed29501131a88f7b966": {
      "model_module": "@jupyter-widgets/base",
      "model_module_version": "1.2.0",
      "model_name": "LayoutModel",
      "state": {}
     },
     "90cb6cf3e90a4d2693d36e3ec1f8b650": {
      "model_module": "@jupyter-widgets/controls",
      "model_module_version": "1.5.0",
      "model_name": "ButtonModel",
      "state": {
       "description": "Save image",
       "layout": "IPY_MODEL_b1e42048b66e41b58ebac671dc2cf497",
       "style": "IPY_MODEL_38f7705d731a487ea9b20636c27e313b"
      }
     },
     "90ed935a84ca4e839091152866e56897": {
      "model_module": "@jupyter-widgets/controls",
      "model_module_version": "1.5.0",
      "model_name": "SliderStyleModel",
      "state": {
       "description_width": ""
      }
     },
     "9143e5ed8e1744a3bb85df138f8799ad": {
      "model_module": "@jupyter-widgets/controls",
      "model_module_version": "1.5.0",
      "model_name": "IntSliderModel",
      "state": {
       "continuous_update": false,
       "description": "zoom",
       "disabled": true,
       "layout": "IPY_MODEL_ff1ebbb9593045a1bb76751be453e232",
       "max": 5,
       "min": -5,
       "style": "IPY_MODEL_563d68e7de7d46e394d3226aa0c32498",
       "value": 5
      }
     },
     "9268ea74e77649beb306d96dd0db4fcf": {
      "model_module": "@jupyter-widgets/controls",
      "model_module_version": "1.5.0",
      "model_name": "DropdownModel",
      "state": {
       "_options_labels": [
        "poly_and_center",
        "every_other",
        "2points_n_classes",
        "3points_n_classes"
       ],
       "description": "Mode:",
       "index": 1,
       "layout": "IPY_MODEL_3149a2679c3b4b5dbabbb2adc6745163",
       "style": "IPY_MODEL_ccf2c7ebd9164dd0b38afd89d41e9dd1"
      }
     },
     "9371059fc5574ed9aa791a7328fad5ff": {
      "model_module": "@jupyter-widgets/base",
      "model_module_version": "1.2.0",
      "model_name": "LayoutModel",
      "state": {}
     },
     "940e4903a7774f87b2596eb2e103999b": {
      "model_module": "@jupyter-widgets/base",
      "model_module_version": "1.2.0",
      "model_name": "LayoutModel",
      "state": {}
     },
     "9439f526da50431887347fbf18a1b3c7": {
      "model_module": "@jupyter-widgets/controls",
      "model_module_version": "1.5.0",
      "model_name": "ButtonStyleModel",
      "state": {}
     },
     "95e782cbb7374cb397b0167b8c35d720": {
      "model_module": "@jupyter-widgets/controls",
      "model_module_version": "1.5.0",
      "model_name": "ButtonModel",
      "state": {
       "description": "Save image",
       "layout": "IPY_MODEL_504248b60ca94ba08895d0ab5e0eb882",
       "style": "IPY_MODEL_73afda1d91d94614926d26f02b27ce9c"
      }
     },
     "960c21bd1211411db8533335167fc7e9": {
      "model_module": "@jupyter-widgets/controls",
      "model_module_version": "1.5.0",
      "model_name": "DescriptionStyleModel",
      "state": {
       "description_width": ""
      }
     },
     "9677ae26a5f8429ca505614a0c2b57ef": {
      "model_module": "@jupyter-widgets/controls",
      "model_module_version": "1.5.0",
      "model_name": "SliderStyleModel",
      "state": {
       "description_width": ""
      }
     },
     "978f598e949d4cb59f51627771adf4eb": {
      "model_module": "@jupyter-widgets/controls",
      "model_module_version": "1.5.0",
      "model_name": "IntSliderModel",
      "state": {
       "continuous_update": false,
       "description": "num_classes",
       "disabled": true,
       "layout": "IPY_MODEL_c47002ac350347f98373b962485ce099",
       "max": 24,
       "min": 1,
       "style": "IPY_MODEL_70c564dd43de4399aa5585778755c9a9",
       "value": 8
      }
     },
     "98b640dc17af4dbca7ce1c0ee27ccdaf": {
      "model_module": "@jupyter-widgets/output",
      "model_module_version": "1.0.0",
      "model_name": "OutputModel",
      "state": {
       "layout": "IPY_MODEL_0a264ea52df54329a8c66cb5f38bd5b1"
      }
     },
     "98b8bc679ad74cf6baa7b5312b7bb19c": {
      "model_module": "@jupyter-widgets/controls",
      "model_module_version": "1.5.0",
      "model_name": "IntSliderModel",
      "state": {
       "continuous_update": false,
       "description": "num_points",
       "layout": "IPY_MODEL_0355885167d7484fa86980cdcd099aad",
       "max": 12,
       "min": 4,
       "style": "IPY_MODEL_2a9225dfc57a494b97aa7b9d7227e8ed",
       "value": 4
      }
     },
     "98eaa6ea82e04a4cb4796ac542c7b26c": {
      "model_module": "@jupyter-widgets/base",
      "model_module_version": "1.2.0",
      "model_name": "LayoutModel",
      "state": {}
     },
     "9ada6b96f6ac42299c3d4ca7db381550": {
      "model_module": "@jupyter-widgets/controls",
      "model_module_version": "1.5.0",
      "model_name": "IntSliderModel",
      "state": {
       "continuous_update": false,
       "description": "num_classes",
       "disabled": true,
       "layout": "IPY_MODEL_fad33eef822f4725831ad721575da14d",
       "max": 24,
       "min": 1,
       "style": "IPY_MODEL_8f6bbc1543334d55a4032ea26a2e31d9",
       "value": 8
      }
     },
     "9b0a8dc02e1f412f8e4755e768874ca7": {
      "model_module": "@jupyter-widgets/controls",
      "model_module_version": "1.5.0",
      "model_name": "RadioButtonsModel",
      "state": {
       "_options_labels": [
        "Very Low",
        "Low",
        "Medium",
        "High",
        "Very High"
       ],
       "description": "Resolution:",
       "index": 2,
       "layout": "IPY_MODEL_ba2a29032ffb428ebdedb68719f7eb81",
       "style": "IPY_MODEL_b0985378c620426dbaf7a38d1d36124c"
      }
     },
     "9bace9b711a240d28c3ddfd06c488667": {
      "model_module": "@jupyter-widgets/controls",
      "model_module_version": "1.5.0",
      "model_name": "DescriptionStyleModel",
      "state": {
       "description_width": ""
      }
     },
     "9bb913b034b6496b8477022cc2ca579a": {
      "model_module": "@jupyter-widgets/controls",
      "model_module_version": "1.5.0",
      "model_name": "IntSliderModel",
      "state": {
       "continuous_update": false,
       "description": "zoom",
       "disabled": true,
       "layout": "IPY_MODEL_7197062e7b294552a7dd04377fd5949c",
       "max": 5,
       "min": -5,
       "style": "IPY_MODEL_06933a8750d84eb38f7ff6d693031b77",
       "value": 5
      }
     },
     "9c7cc69208a74d18be16ffbf80557a29": {
      "model_module": "@jupyter-widgets/base",
      "model_module_version": "1.2.0",
      "model_name": "LayoutModel",
      "state": {}
     },
     "9d19e1518abd4b5e96c0ffe52f9f31f2": {
      "model_module": "@jupyter-widgets/controls",
      "model_module_version": "1.5.0",
      "model_name": "DropdownModel",
      "state": {
       "_options_labels": [
        "poly_and_center",
        "every_other",
        "2points_n_classes",
        "3points_n_classes"
       ],
       "description": "Mode:",
       "index": 1,
       "layout": "IPY_MODEL_3c8c4fd405d24c8f91a0b43704677cf5",
       "style": "IPY_MODEL_1dec1054b3364a24b5ae775fceb186f1"
      }
     },
     "9dc7263effa2453d88122b7ca08cfd77": {
      "model_module": "@jupyter-widgets/controls",
      "model_module_version": "1.5.0",
      "model_name": "SliderStyleModel",
      "state": {
       "description_width": ""
      }
     },
     "9e989e9d356a4b57b9bf684f294d6c44": {
      "model_module": "@jupyter-widgets/base",
      "model_module_version": "1.2.0",
      "model_name": "LayoutModel",
      "state": {}
     },
     "9f30a17bfac54334b66e60c3db24cbce": {
      "model_module": "@jupyter-widgets/controls",
      "model_module_version": "1.5.0",
      "model_name": "SliderStyleModel",
      "state": {
       "description_width": ""
      }
     },
     "a062cf1414b348819c1e9f711a6e95f5": {
      "model_module": "@jupyter-widgets/base",
      "model_module_version": "1.2.0",
      "model_name": "LayoutModel",
      "state": {}
     },
     "a0d4b109450c4ac2a80d74e800ab1830": {
      "model_module": "@jupyter-widgets/controls",
      "model_module_version": "1.5.0",
      "model_name": "SliderStyleModel",
      "state": {
       "description_width": ""
      }
     },
     "a35a908d8d1c466181df59c8b530a24e": {
      "model_module": "@jupyter-widgets/base",
      "model_module_version": "1.2.0",
      "model_name": "LayoutModel",
      "state": {}
     },
     "a3b69459bd094f1a816c44413b2fe3bc": {
      "model_module": "@jupyter-widgets/base",
      "model_module_version": "1.2.0",
      "model_name": "LayoutModel",
      "state": {}
     },
     "a4e120e10f1c4c24ad884e35845abd9c": {
      "model_module": "@jupyter-widgets/base",
      "model_module_version": "1.2.0",
      "model_name": "LayoutModel",
      "state": {}
     },
     "a5526cf3dc1143019cfe08531dd179ab": {
      "model_module": "@jupyter-widgets/controls",
      "model_module_version": "1.5.0",
      "model_name": "VBoxModel",
      "state": {
       "_dom_classes": [
        "widget-interact"
       ],
       "children": [
        "IPY_MODEL_5d18fd1cdd254fb98f642b8d25199629",
        "IPY_MODEL_03c39a9506804d759d3231cbf3f285cb",
        "IPY_MODEL_aad6eaa74a304aa4848d00c84b46e3b1",
        "IPY_MODEL_4bb6269c63b241b9b7b9527d8ee0b2c7",
        "IPY_MODEL_d2793efaeef6424eaab710a0a0eae22c",
        "IPY_MODEL_c06b7a1c5f484922980dcd4b301adb4d",
        "IPY_MODEL_a9d23d8902864549b420205efc9ca4e3",
        "IPY_MODEL_d7a720fb172d4734925277cb9a7d1315"
       ],
       "layout": "IPY_MODEL_0f6b5ca32f7549bd9083b89406be0ace"
      }
     },
     "a5d508483055422aba728096683e8f7b": {
      "model_module": "@jupyter-widgets/base",
      "model_module_version": "1.2.0",
      "model_name": "LayoutModel",
      "state": {}
     },
     "a6a82ea3026c4243994cdbf50c7a522c": {
      "model_module": "@jupyter-widgets/controls",
      "model_module_version": "1.5.0",
      "model_name": "IntSliderModel",
      "state": {
       "continuous_update": false,
       "description": "frame",
       "layout": "IPY_MODEL_edcfa694a61e4c2c88d1b5846966f224",
       "max": 60,
       "min": -60,
       "step": 10,
       "style": "IPY_MODEL_c658113b5770444f808e7ab5e3eb1772",
       "value": 10
      }
     },
     "a6a834c9eb174da7845f2dee261d9b0d": {
      "model_module": "@jupyter-widgets/controls",
      "model_module_version": "1.5.0",
      "model_name": "ButtonStyleModel",
      "state": {}
     },
     "a6d1973f15ec46a99c396a40f0017152": {
      "model_module": "@jupyter-widgets/base",
      "model_module_version": "1.2.0",
      "model_name": "LayoutModel",
      "state": {}
     },
     "a76a6d920dd2464c8807b354fc70eeb5": {
      "model_module": "@jupyter-widgets/base",
      "model_module_version": "1.2.0",
      "model_name": "LayoutModel",
      "state": {}
     },
     "a7bb5f039da34846b42e7c4c40514205": {
      "model_module": "@jupyter-widgets/controls",
      "model_module_version": "1.5.0",
      "model_name": "VBoxModel",
      "state": {
       "_dom_classes": [
        "widget-interact"
       ],
       "children": [
        "IPY_MODEL_d01d504005ab4f45a6bda981f9e24220",
        "IPY_MODEL_ae745ad5cddf4ff38fbf41fa1d3ed8e1",
        "IPY_MODEL_bf8fc11ee6944822b0de826ae283344b",
        "IPY_MODEL_401829fdca494c05bc8a6e1d35d657a4",
        "IPY_MODEL_c5f74680eb904d29a5378e0b81403765",
        "IPY_MODEL_630d2534ffb047529777a45129e542bf",
        "IPY_MODEL_8c9ad17af7f8439fbfe9c02d13aa04b0",
        "IPY_MODEL_106dadb3769a45eaa031a3cb84ef527e"
       ],
       "layout": "IPY_MODEL_f722d1e46b0642d091a5c4478ba814f8"
      }
     },
     "a7dc0e5eb8c74954bce60c3c37fb5b9b": {
      "model_module": "@jupyter-widgets/base",
      "model_module_version": "1.2.0",
      "model_name": "LayoutModel",
      "state": {
       "height": "350px"
      }
     },
     "a8018102e09d4f32b7f26daaefc3b093": {
      "model_module": "@jupyter-widgets/base",
      "model_module_version": "1.2.0",
      "model_name": "LayoutModel",
      "state": {
       "height": "350px"
      }
     },
     "a80e9052f5f64a18b2c6bf7aa7e22f31": {
      "model_module": "@jupyter-widgets/base",
      "model_module_version": "1.2.0",
      "model_name": "LayoutModel",
      "state": {}
     },
     "a83fcb0fc89d4aee968b9ab97dd34762": {
      "model_module": "@jupyter-widgets/base",
      "model_module_version": "1.2.0",
      "model_name": "LayoutModel",
      "state": {}
     },
     "a84b51eb57ad43efb6a56c7bd5c6266b": {
      "model_module": "@jupyter-widgets/base",
      "model_module_version": "1.2.0",
      "model_name": "LayoutModel",
      "state": {}
     },
     "a88382b827f94c7ab5442cb140fc5a37": {
      "model_module": "@jupyter-widgets/controls",
      "model_module_version": "1.5.0",
      "model_name": "DescriptionStyleModel",
      "state": {
       "description_width": ""
      }
     },
     "a98f49be2d634e4491f0407820e609b3": {
      "model_module": "@jupyter-widgets/controls",
      "model_module_version": "1.5.0",
      "model_name": "RadioButtonsModel",
      "state": {
       "_options_labels": [
        "Very Low",
        "Low",
        "Medium",
        "High",
        "Very High"
       ],
       "description": "Resolution:",
       "index": 2,
       "layout": "IPY_MODEL_81176380c4174e14b764da7efd13beda",
       "style": "IPY_MODEL_457814f167bf4e40a524268461fc8776"
      }
     },
     "a9bed6f80670432f9befac97b10d0178": {
      "model_module": "@jupyter-widgets/base",
      "model_module_version": "1.2.0",
      "model_name": "LayoutModel",
      "state": {}
     },
     "a9d23d8902864549b420205efc9ca4e3": {
      "model_module": "@jupyter-widgets/controls",
      "model_module_version": "1.5.0",
      "model_name": "TextModel",
      "state": {
       "description": "Filename:",
       "layout": "IPY_MODEL_5f86d663f5c84f22bbf621711f2d4635",
       "placeholder": "image.png",
       "style": "IPY_MODEL_8a3ff2ebd512400a9b79212430c1f6f1",
       "value": "image.png"
      }
     },
     "aa39aabfe4b840e28c2f4e5f5f981042": {
      "model_module": "@jupyter-widgets/controls",
      "model_module_version": "1.5.0",
      "model_name": "IntSliderModel",
      "state": {
       "continuous_update": false,
       "description": "zoom",
       "disabled": true,
       "layout": "IPY_MODEL_fef72de3508e4e39b9bd40f59030e9ec",
       "max": 5,
       "min": -5,
       "style": "IPY_MODEL_bcaa963d5836467c9743d88d36a0de1c",
       "value": 5
      }
     },
     "aa4219faeed340f49d3f0d449d70c63b": {
      "model_module": "@jupyter-widgets/controls",
      "model_module_version": "1.5.0",
      "model_name": "IntSliderModel",
      "state": {
       "continuous_update": false,
       "description": "num_points",
       "layout": "IPY_MODEL_51d161f85aea4411baad428ff5038f1e",
       "max": 12,
       "min": 4,
       "style": "IPY_MODEL_34d6a5790d7f46518037fdadd20a495d",
       "value": 4
      }
     },
     "aa9ed39ed1cc401bab5ee0e0704d049b": {
      "model_module": "@jupyter-widgets/controls",
      "model_module_version": "1.5.0",
      "model_name": "RadioButtonsModel",
      "state": {
       "_options_labels": [
        "Very Low",
        "Low",
        "Medium",
        "High",
        "Very High"
       ],
       "description": "Resolution:",
       "index": 2,
       "layout": "IPY_MODEL_e9b2549e170a4ba4b1e0d6493214ad78",
       "style": "IPY_MODEL_b1ab02036e7f4e9380f2732e462aeb13"
      }
     },
     "aad6eaa74a304aa4848d00c84b46e3b1": {
      "model_module": "@jupyter-widgets/controls",
      "model_module_version": "1.5.0",
      "model_name": "IntSliderModel",
      "state": {
       "continuous_update": false,
       "description": "num_classes",
       "disabled": true,
       "layout": "IPY_MODEL_af2726cf224048f79539010f94bde349",
       "max": 24,
       "min": 1,
       "style": "IPY_MODEL_47accdf2212844c295f76a4f6b88ce70",
       "value": 8
      }
     },
     "abf2beb16e5d4f58a6ea1cc2f51fa05e": {
      "model_module": "@jupyter-widgets/controls",
      "model_module_version": "1.5.0",
      "model_name": "SliderStyleModel",
      "state": {
       "description_width": ""
      }
     },
     "ac25e95194364777bedff480745c94cd": {
      "model_module": "@jupyter-widgets/controls",
      "model_module_version": "1.5.0",
      "model_name": "TextModel",
      "state": {
       "description": "Filename:",
       "layout": "IPY_MODEL_62299593b62b48da80cec856c160c0b7",
       "placeholder": "image.png",
       "style": "IPY_MODEL_b5e46c72ed90485fb4310472f843e3c2",
       "value": "image.png"
      }
     },
     "ac5cb17193ee46e196d5da459537719f": {
      "model_module": "@jupyter-widgets/controls",
      "model_module_version": "1.5.0",
      "model_name": "ButtonStyleModel",
      "state": {}
     },
     "ad1abe60855241fd9bceb2e0faf034e0": {
      "model_module": "@jupyter-widgets/base",
      "model_module_version": "1.2.0",
      "model_name": "LayoutModel",
      "state": {}
     },
     "ad6624461ae9442aa4f9ec0d67dc09f1": {
      "model_module": "@jupyter-widgets/base",
      "model_module_version": "1.2.0",
      "model_name": "LayoutModel",
      "state": {}
     },
     "ae745ad5cddf4ff38fbf41fa1d3ed8e1": {
      "model_module": "@jupyter-widgets/controls",
      "model_module_version": "1.5.0",
      "model_name": "IntSliderModel",
      "state": {
       "continuous_update": false,
       "description": "num_points",
       "layout": "IPY_MODEL_254543630b2e4579bf4256887bebe484",
       "max": 12,
       "min": 4,
       "style": "IPY_MODEL_6235c85a5a074020b95b2b7b9b88437e",
       "value": 4
      }
     },
     "af2726cf224048f79539010f94bde349": {
      "model_module": "@jupyter-widgets/base",
      "model_module_version": "1.2.0",
      "model_name": "LayoutModel",
      "state": {}
     },
     "afaed3715c384baaa7de4742b3465f2a": {
      "model_module": "@jupyter-widgets/controls",
      "model_module_version": "1.5.0",
      "model_name": "DescriptionStyleModel",
      "state": {
       "description_width": ""
      }
     },
     "b002866d717a42629f47a15566d05703": {
      "model_module": "@jupyter-widgets/controls",
      "model_module_version": "1.5.0",
      "model_name": "DropdownModel",
      "state": {
       "_options_labels": [
        "poly_and_center",
        "every_other",
        "2points_n_classes",
        "3points_n_classes"
       ],
       "description": "Mode:",
       "index": 1,
       "layout": "IPY_MODEL_5f490ba4470e42c294a3413b2b420d53",
       "style": "IPY_MODEL_740c73aecf704938a13d31e2bbe6a517"
      }
     },
     "b0086946fef4433e8efe8730b39ce8e4": {
      "model_module": "@jupyter-widgets/output",
      "model_module_version": "1.0.0",
      "model_name": "OutputModel",
      "state": {
       "layout": "IPY_MODEL_ce9a02e26c6f4416bc2c0e66aa8e5772"
      }
     },
     "b04937f8a0dc46c090a4479daa038594": {
      "model_module": "@jupyter-widgets/base",
      "model_module_version": "1.2.0",
      "model_name": "LayoutModel",
      "state": {}
     },
     "b071438467494eee89d56b9ec635583c": {
      "model_module": "@jupyter-widgets/controls",
      "model_module_version": "1.5.0",
      "model_name": "IntSliderModel",
      "state": {
       "continuous_update": false,
       "description": "zoom",
       "disabled": true,
       "layout": "IPY_MODEL_753fc1d4bc2e493cb6153e17319338f3",
       "max": 5,
       "min": -5,
       "style": "IPY_MODEL_85c243d4ef57465a9613cbc3edd6e27d",
       "value": 5
      }
     },
     "b0985378c620426dbaf7a38d1d36124c": {
      "model_module": "@jupyter-widgets/controls",
      "model_module_version": "1.5.0",
      "model_name": "DescriptionStyleModel",
      "state": {
       "description_width": ""
      }
     },
     "b14a8ffa69d44189a8778dc8dcb0f3a8": {
      "model_module": "@jupyter-widgets/base",
      "model_module_version": "1.2.0",
      "model_name": "LayoutModel",
      "state": {}
     },
     "b155d79cde854a84968e530922968412": {
      "model_module": "@jupyter-widgets/base",
      "model_module_version": "1.2.0",
      "model_name": "LayoutModel",
      "state": {
       "height": "350px"
      }
     },
     "b174bf22d84e4957920a102bdb0e80d1": {
      "model_module": "@jupyter-widgets/controls",
      "model_module_version": "1.5.0",
      "model_name": "VBoxModel",
      "state": {
       "_dom_classes": [
        "widget-interact"
       ],
       "children": [
        "IPY_MODEL_f5e7068271e5442797a29e84b1e97dd8",
        "IPY_MODEL_c209e9c25c93496ca4cbb064c9be7126",
        "IPY_MODEL_3efb5db3a6a04e5da8788c607e0e33bb",
        "IPY_MODEL_6b130968476f434b9d43cc62c9bcebe2",
        "IPY_MODEL_1c0e5dfbf4484d4cbbe77da591fce7cd",
        "IPY_MODEL_d99675da08864bafa49533a4defd1eae",
        "IPY_MODEL_5c3cbc618c4543d7b074cbaf2911478c",
        "IPY_MODEL_27891239da264d36af0c64795a3597a7"
       ],
       "layout": "IPY_MODEL_dca47b7feb2a4f23a38cd7b77e91f101"
      }
     },
     "b1ab02036e7f4e9380f2732e462aeb13": {
      "model_module": "@jupyter-widgets/controls",
      "model_module_version": "1.5.0",
      "model_name": "DescriptionStyleModel",
      "state": {
       "description_width": ""
      }
     },
     "b1e42048b66e41b58ebac671dc2cf497": {
      "model_module": "@jupyter-widgets/base",
      "model_module_version": "1.2.0",
      "model_name": "LayoutModel",
      "state": {}
     },
     "b20d74ab64c94d258aa35604bdf50d13": {
      "model_module": "@jupyter-widgets/base",
      "model_module_version": "1.2.0",
      "model_name": "LayoutModel",
      "state": {}
     },
     "b242ab3538fb4836afee10004210431e": {
      "model_module": "@jupyter-widgets/base",
      "model_module_version": "1.2.0",
      "model_name": "LayoutModel",
      "state": {
       "height": "350px"
      }
     },
     "b2c52a7d43ce4fc6a1f2e7b37fe9feeb": {
      "model_module": "@jupyter-widgets/controls",
      "model_module_version": "1.5.0",
      "model_name": "SliderStyleModel",
      "state": {
       "description_width": ""
      }
     },
     "b36844c9b3814ffa9d329601202668ee": {
      "model_module": "@jupyter-widgets/controls",
      "model_module_version": "1.5.0",
      "model_name": "ButtonModel",
      "state": {
       "description": "Save image",
       "layout": "IPY_MODEL_46d310bad583403498b7d50b8cd6dc15",
       "style": "IPY_MODEL_41a74390c64348bc85aaa1001840c2dc"
      }
     },
     "b3af0e40f1f44871885243f8761c75ef": {
      "model_module": "@jupyter-widgets/controls",
      "model_module_version": "1.5.0",
      "model_name": "DropdownModel",
      "state": {
       "_options_labels": [
        "poly_and_center",
        "every_other",
        "2points_n_classes",
        "3points_n_classes"
       ],
       "description": "Mode:",
       "index": 1,
       "layout": "IPY_MODEL_ee185e304ca94485b3030d3ecce984b7",
       "style": "IPY_MODEL_6a905c1416ac481da4eb2c5a024da223"
      }
     },
     "b403f74615c24ca69f1577a227b03367": {
      "model_module": "@jupyter-widgets/base",
      "model_module_version": "1.2.0",
      "model_name": "LayoutModel",
      "state": {
       "height": "350px"
      }
     },
     "b5e46c72ed90485fb4310472f843e3c2": {
      "model_module": "@jupyter-widgets/controls",
      "model_module_version": "1.5.0",
      "model_name": "DescriptionStyleModel",
      "state": {
       "description_width": ""
      }
     },
     "b6318c9efb3143ff90353c927932fd61": {
      "model_module": "@jupyter-widgets/controls",
      "model_module_version": "1.5.0",
      "model_name": "SliderStyleModel",
      "state": {
       "description_width": ""
      }
     },
     "b6ec49e52ae1410bbfe8c494033b90cd": {
      "model_module": "@jupyter-widgets/base",
      "model_module_version": "1.2.0",
      "model_name": "LayoutModel",
      "state": {}
     },
     "b9ef5f98a43f4af38eef278ac98e73dc": {
      "model_module": "@jupyter-widgets/base",
      "model_module_version": "1.2.0",
      "model_name": "LayoutModel",
      "state": {}
     },
     "ba2a29032ffb428ebdedb68719f7eb81": {
      "model_module": "@jupyter-widgets/base",
      "model_module_version": "1.2.0",
      "model_name": "LayoutModel",
      "state": {}
     },
     "bad2ac4758384905994b8735890add27": {
      "model_module": "@jupyter-widgets/controls",
      "model_module_version": "1.5.0",
      "model_name": "SliderStyleModel",
      "state": {
       "description_width": ""
      }
     },
     "bb0f53edfe464c7993cb191e0d1bc0b8": {
      "model_module": "@jupyter-widgets/controls",
      "model_module_version": "1.5.0",
      "model_name": "IntSliderModel",
      "state": {
       "continuous_update": false,
       "description": "num_classes",
       "disabled": true,
       "layout": "IPY_MODEL_f023c32c4c824f5b8917606712b48d8e",
       "max": 24,
       "min": 1,
       "style": "IPY_MODEL_d5862b65c47740508f46300c26c066bf",
       "value": 8
      }
     },
     "bb584037b893458e87de43c5db4ab9c2": {
      "model_module": "@jupyter-widgets/controls",
      "model_module_version": "1.5.0",
      "model_name": "SliderStyleModel",
      "state": {
       "description_width": ""
      }
     },
     "bba1a9b204f647b5a60b41c057684559": {
      "model_module": "@jupyter-widgets/controls",
      "model_module_version": "1.5.0",
      "model_name": "IntSliderModel",
      "state": {
       "continuous_update": false,
       "description": "num_points",
       "layout": "IPY_MODEL_8a2ef60c384340d789d09de6dddd348a",
       "max": 12,
       "min": 4,
       "style": "IPY_MODEL_b6318c9efb3143ff90353c927932fd61",
       "value": 4
      }
     },
     "bcaa963d5836467c9743d88d36a0de1c": {
      "model_module": "@jupyter-widgets/controls",
      "model_module_version": "1.5.0",
      "model_name": "SliderStyleModel",
      "state": {
       "description_width": ""
      }
     },
     "bcae59261f944854b44eee5d2d9333cb": {
      "model_module": "@jupyter-widgets/controls",
      "model_module_version": "1.5.0",
      "model_name": "DescriptionStyleModel",
      "state": {
       "description_width": ""
      }
     },
     "bebd1e326a574f9fa237f19c04ec21cb": {
      "model_module": "@jupyter-widgets/base",
      "model_module_version": "1.2.0",
      "model_name": "LayoutModel",
      "state": {}
     },
     "bece4f56058c43b283a8c0e0778900ee": {
      "model_module": "@jupyter-widgets/base",
      "model_module_version": "1.2.0",
      "model_name": "LayoutModel",
      "state": {}
     },
     "bf3fdea8347b4e6884c78ed54a1ec609": {
      "model_module": "@jupyter-widgets/controls",
      "model_module_version": "1.5.0",
      "model_name": "ButtonModel",
      "state": {
       "description": "Save image",
       "layout": "IPY_MODEL_36dcc0fe13644bafb6499227731f7708",
       "style": "IPY_MODEL_02b054920bf04f5b879e1425ad04ed60"
      }
     },
     "bf8fc11ee6944822b0de826ae283344b": {
      "model_module": "@jupyter-widgets/controls",
      "model_module_version": "1.5.0",
      "model_name": "IntSliderModel",
      "state": {
       "continuous_update": false,
       "description": "num_classes",
       "disabled": true,
       "layout": "IPY_MODEL_e1ceeeb079df4202a8977d1162173736",
       "max": 24,
       "min": 1,
       "style": "IPY_MODEL_6aacc601fc124f71a2870979fe97fda1",
       "value": 8
      }
     },
     "c06b7a1c5f484922980dcd4b301adb4d": {
      "model_module": "@jupyter-widgets/controls",
      "model_module_version": "1.5.0",
      "model_name": "IntSliderModel",
      "state": {
       "continuous_update": false,
       "description": "zoom",
       "disabled": true,
       "layout": "IPY_MODEL_66c539b6e79f4a13a42405f56d17e026",
       "max": 5,
       "min": -5,
       "style": "IPY_MODEL_2794a456cc58472b936581c4d0235415",
       "value": 5
      }
     },
     "c0ab77cc720a472aa0f95190c8012181": {
      "model_module": "@jupyter-widgets/controls",
      "model_module_version": "1.5.0",
      "model_name": "ButtonModel",
      "state": {
       "description": "Save image",
       "layout": "IPY_MODEL_7ad041c432dd4a3faf29872b99277bce",
       "style": "IPY_MODEL_a6a834c9eb174da7845f2dee261d9b0d"
      }
     },
     "c209e9c25c93496ca4cbb064c9be7126": {
      "model_module": "@jupyter-widgets/controls",
      "model_module_version": "1.5.0",
      "model_name": "IntSliderModel",
      "state": {
       "continuous_update": false,
       "description": "num_points",
       "disabled": true,
       "layout": "IPY_MODEL_b9ef5f98a43f4af38eef278ac98e73dc",
       "max": 2,
       "min": 2,
       "style": "IPY_MODEL_90ed935a84ca4e839091152866e56897",
       "value": 2
      }
     },
     "c22f70ed32794efb85f8e3d5dc218e21": {
      "model_module": "@jupyter-widgets/controls",
      "model_module_version": "1.5.0",
      "model_name": "IntSliderModel",
      "state": {
       "continuous_update": false,
       "description": "num_points",
       "layout": "IPY_MODEL_29300d5d8aef4b54ac761802accf8bb6",
       "max": 12,
       "min": 4,
       "style": "IPY_MODEL_17b4234f4ef44613882cd6611c980cd5",
       "value": 4
      }
     },
     "c368901a8ed94ce6977a2b39a4eac54b": {
      "model_module": "@jupyter-widgets/controls",
      "model_module_version": "1.5.0",
      "model_name": "ButtonModel",
      "state": {
       "description": "Save image",
       "layout": "IPY_MODEL_117fbdaf985b4922a76bdbff2fc2e0f2",
       "style": "IPY_MODEL_25edb56be39f47f88d89aa8a698944c7"
      }
     },
     "c40c4ff2c89d43fe9c8716864a155a83": {
      "model_module": "@jupyter-widgets/base",
      "model_module_version": "1.2.0",
      "model_name": "LayoutModel",
      "state": {}
     },
     "c46d2496f1c247ccb62b761e694b3651": {
      "model_module": "@jupyter-widgets/base",
      "model_module_version": "1.2.0",
      "model_name": "LayoutModel",
      "state": {}
     },
     "c47002ac350347f98373b962485ce099": {
      "model_module": "@jupyter-widgets/base",
      "model_module_version": "1.2.0",
      "model_name": "LayoutModel",
      "state": {}
     },
     "c53f317cbe6545528203bc56c405e065": {
      "model_module": "@jupyter-widgets/controls",
      "model_module_version": "1.5.0",
      "model_name": "DropdownModel",
      "state": {
       "_options_labels": [
        "poly_and_center",
        "every_other",
        "2points_n_classes",
        "3points_n_classes"
       ],
       "description": "Mode:",
       "index": 1,
       "layout": "IPY_MODEL_a5d508483055422aba728096683e8f7b",
       "style": "IPY_MODEL_9bace9b711a240d28c3ddfd06c488667"
      }
     },
     "c58061758af44806bb627fb025b5dfd3": {
      "model_module": "@jupyter-widgets/base",
      "model_module_version": "1.2.0",
      "model_name": "LayoutModel",
      "state": {
       "height": "350px"
      }
     },
     "c5bdad07ebab4af480d2e9307e03b2eb": {
      "model_module": "@jupyter-widgets/controls",
      "model_module_version": "1.5.0",
      "model_name": "ButtonStyleModel",
      "state": {}
     },
     "c5f74680eb904d29a5378e0b81403765": {
      "model_module": "@jupyter-widgets/controls",
      "model_module_version": "1.5.0",
      "model_name": "RadioButtonsModel",
      "state": {
       "_options_labels": [
        "Very Low",
        "Low",
        "Medium",
        "High",
        "Very High"
       ],
       "description": "Resolution:",
       "index": 2,
       "layout": "IPY_MODEL_a35a908d8d1c466181df59c8b530a24e",
       "style": "IPY_MODEL_a88382b827f94c7ab5442cb140fc5a37"
      }
     },
     "c653507a7e564f9389e18033c5d39949": {
      "model_module": "@jupyter-widgets/base",
      "model_module_version": "1.2.0",
      "model_name": "LayoutModel",
      "state": {}
     },
     "c658113b5770444f808e7ab5e3eb1772": {
      "model_module": "@jupyter-widgets/controls",
      "model_module_version": "1.5.0",
      "model_name": "SliderStyleModel",
      "state": {
       "description_width": ""
      }
     },
     "c8a35215954249e7a5e306af8d7700e6": {
      "model_module": "@jupyter-widgets/base",
      "model_module_version": "1.2.0",
      "model_name": "LayoutModel",
      "state": {}
     },
     "ca5f83291343454aa7f7f938084f89c6": {
      "model_module": "@jupyter-widgets/controls",
      "model_module_version": "1.5.0",
      "model_name": "RadioButtonsModel",
      "state": {
       "_options_labels": [
        "Very Low",
        "Low",
        "Medium",
        "High",
        "Very High"
       ],
       "description": "Resolution:",
       "index": 2,
       "layout": "IPY_MODEL_1b75e02e7ee54662acb3ea343e9edd28",
       "style": "IPY_MODEL_960c21bd1211411db8533335167fc7e9"
      }
     },
     "caf500af7f104ad2b924bab70c3c11bb": {
      "model_module": "@jupyter-widgets/controls",
      "model_module_version": "1.5.0",
      "model_name": "TextModel",
      "state": {
       "description": "Filename:",
       "layout": "IPY_MODEL_834953fa9e3f4d75bf2d595bee71c20e",
       "placeholder": "image.png",
       "style": "IPY_MODEL_8ad6cbc5d50448a5a524de7d508024cb",
       "value": "image.png"
      }
     },
     "caf683284ff54a1fb6985bd99e9c7e29": {
      "model_module": "@jupyter-widgets/base",
      "model_module_version": "1.2.0",
      "model_name": "LayoutModel",
      "state": {}
     },
     "cb68ccb3867d488ca74888458841ed16": {
      "model_module": "@jupyter-widgets/controls",
      "model_module_version": "1.5.0",
      "model_name": "DescriptionStyleModel",
      "state": {
       "description_width": ""
      }
     },
     "cbd1354d088f4d9192583fcc341793a4": {
      "model_module": "@jupyter-widgets/base",
      "model_module_version": "1.2.0",
      "model_name": "LayoutModel",
      "state": {}
     },
     "ccf2c7ebd9164dd0b38afd89d41e9dd1": {
      "model_module": "@jupyter-widgets/controls",
      "model_module_version": "1.5.0",
      "model_name": "DescriptionStyleModel",
      "state": {
       "description_width": ""
      }
     },
     "cd1c909f7f324b85ac08c7fdb12927fe": {
      "model_module": "@jupyter-widgets/base",
      "model_module_version": "1.2.0",
      "model_name": "LayoutModel",
      "state": {}
     },
     "cdc3a83518c646749f5d2bb0fb6e26ae": {
      "model_module": "@jupyter-widgets/base",
      "model_module_version": "1.2.0",
      "model_name": "LayoutModel",
      "state": {}
     },
     "ce9a02e26c6f4416bc2c0e66aa8e5772": {
      "model_module": "@jupyter-widgets/base",
      "model_module_version": "1.2.0",
      "model_name": "LayoutModel",
      "state": {}
     },
     "d01d504005ab4f45a6bda981f9e24220": {
      "model_module": "@jupyter-widgets/controls",
      "model_module_version": "1.5.0",
      "model_name": "IntSliderModel",
      "state": {
       "continuous_update": false,
       "description": "frame",
       "layout": "IPY_MODEL_cbd1354d088f4d9192583fcc341793a4",
       "max": 60,
       "min": -60,
       "step": 10,
       "style": "IPY_MODEL_9dc7263effa2453d88122b7ca08cfd77",
       "value": 10
      }
     },
     "d1813e7f5b66432db6011421b3f0ab78": {
      "model_module": "@jupyter-widgets/controls",
      "model_module_version": "1.5.0",
      "model_name": "SliderStyleModel",
      "state": {
       "description_width": ""
      }
     },
     "d18e9d8d34a24dd0b52b43e16aeeafae": {
      "model_module": "@jupyter-widgets/base",
      "model_module_version": "1.2.0",
      "model_name": "LayoutModel",
      "state": {}
     },
     "d1be0e91f5f84f64ae2dd98b32af2103": {
      "model_module": "@jupyter-widgets/controls",
      "model_module_version": "1.5.0",
      "model_name": "DescriptionStyleModel",
      "state": {
       "description_width": ""
      }
     },
     "d2793efaeef6424eaab710a0a0eae22c": {
      "model_module": "@jupyter-widgets/controls",
      "model_module_version": "1.5.0",
      "model_name": "RadioButtonsModel",
      "state": {
       "_options_labels": [
        "Very Low",
        "Low",
        "Medium",
        "High",
        "Very High"
       ],
       "description": "Resolution:",
       "index": 2,
       "layout": "IPY_MODEL_275e63faffc94e71bb30e12f70869a3a",
       "style": "IPY_MODEL_65b1ff06e66a4440a2adff77cc68db75"
      }
     },
     "d2b0ff5ada8f477fb017c043ba92e54f": {
      "model_module": "@jupyter-widgets/controls",
      "model_module_version": "1.5.0",
      "model_name": "DropdownModel",
      "state": {
       "_options_labels": [
        "poly_and_center",
        "every_other",
        "2points_n_classes",
        "3points_n_classes"
       ],
       "description": "Mode:",
       "index": 1,
       "layout": "IPY_MODEL_a062cf1414b348819c1e9f711a6e95f5",
       "style": "IPY_MODEL_6413eb8c130f4313aca73647d7792d0c"
      }
     },
     "d4105f47852b4bbea3ac497c0091ce6f": {
      "model_module": "@jupyter-widgets/base",
      "model_module_version": "1.2.0",
      "model_name": "LayoutModel",
      "state": {}
     },
     "d5862b65c47740508f46300c26c066bf": {
      "model_module": "@jupyter-widgets/controls",
      "model_module_version": "1.5.0",
      "model_name": "SliderStyleModel",
      "state": {
       "description_width": ""
      }
     },
     "d58e1242109147e7969e9c599b18d4c5": {
      "model_module": "@jupyter-widgets/controls",
      "model_module_version": "1.5.0",
      "model_name": "ButtonStyleModel",
      "state": {}
     },
     "d6663c9d4d4f42ffaa114b4945b9fca6": {
      "model_module": "@jupyter-widgets/controls",
      "model_module_version": "1.5.0",
      "model_name": "IntSliderModel",
      "state": {
       "continuous_update": false,
       "description": "num_classes",
       "disabled": true,
       "layout": "IPY_MODEL_dcc6a86f59414ad6b5a4553031e87f46",
       "max": 24,
       "min": 1,
       "style": "IPY_MODEL_1687e9dea56f4874b028846ec673f650",
       "value": 8
      }
     },
     "d6fffa8827374b788c2b8b25ccc673b0": {
      "model_module": "@jupyter-widgets/controls",
      "model_module_version": "1.5.0",
      "model_name": "RadioButtonsModel",
      "state": {
       "_options_labels": [
        "Very Low",
        "Low",
        "Medium",
        "High",
        "Very High"
       ],
       "description": "Resolution:",
       "index": 2,
       "layout": "IPY_MODEL_5113308e5f304115b788152907ca13d3",
       "style": "IPY_MODEL_42bee52820614430a0e82c04292099b3"
      }
     },
     "d7438918041a431d9246785f39c70711": {
      "model_module": "@jupyter-widgets/controls",
      "model_module_version": "1.5.0",
      "model_name": "IntSliderModel",
      "state": {
       "continuous_update": false,
       "description": "num_classes",
       "disabled": true,
       "layout": "IPY_MODEL_8a185b02db664820a56affda26f193c9",
       "max": 24,
       "min": 1,
       "style": "IPY_MODEL_f1e080d040274dcfa622ffb335e157ff",
       "value": 8
      }
     },
     "d7a720fb172d4734925277cb9a7d1315": {
      "model_module": "@jupyter-widgets/output",
      "model_module_version": "1.0.0",
      "model_name": "OutputModel",
      "state": {
       "layout": "IPY_MODEL_12944d198d154bf7b734ed2c0fec07df"
      }
     },
     "d7f9dafed27b45ad9797aa9b01c22ad4": {
      "model_module": "@jupyter-widgets/controls",
      "model_module_version": "1.5.0",
      "model_name": "DescriptionStyleModel",
      "state": {
       "description_width": ""
      }
     },
     "d898efbb93d94aeb89379f49389e8780": {
      "model_module": "@jupyter-widgets/base",
      "model_module_version": "1.2.0",
      "model_name": "LayoutModel",
      "state": {}
     },
     "d995359963aa4896b44ff567c6c1e1be": {
      "model_module": "@jupyter-widgets/controls",
      "model_module_version": "1.5.0",
      "model_name": "IntSliderModel",
      "state": {
       "continuous_update": false,
       "description": "num_points",
       "layout": "IPY_MODEL_fd7bbadde6ed4e08884c2bae6993e150",
       "max": 12,
       "min": 4,
       "style": "IPY_MODEL_4991f16735684dc38d61655b3e87af44",
       "value": 4
      }
     },
     "d99675da08864bafa49533a4defd1eae": {
      "model_module": "@jupyter-widgets/controls",
      "model_module_version": "1.5.0",
      "model_name": "IntSliderModel",
      "state": {
       "continuous_update": false,
       "description": "zoom",
       "layout": "IPY_MODEL_6c5ae7b80b9d415a962ba478350ad124",
       "max": 5,
       "min": -5,
       "style": "IPY_MODEL_39c587588b7a4250aed602d5b2c795d4",
       "value": 5
      }
     },
     "d9f0a51faff24f84889d36d5cd085776": {
      "model_module": "@jupyter-widgets/controls",
      "model_module_version": "1.5.0",
      "model_name": "IntSliderModel",
      "state": {
       "continuous_update": false,
       "description": "frame",
       "layout": "IPY_MODEL_6767512fd20247689c08fcb421fa2969",
       "max": 60,
       "min": -60,
       "step": 10,
       "style": "IPY_MODEL_0230f19b86504a7181e9aefafbe17bcd",
       "value": 10
      }
     },
     "dae4e3935d0f4c549c8cc99ccc6b8739": {
      "model_module": "@jupyter-widgets/controls",
      "model_module_version": "1.5.0",
      "model_name": "RadioButtonsModel",
      "state": {
       "_options_labels": [
        "Very Low",
        "Low",
        "Medium",
        "High",
        "Very High"
       ],
       "description": "Resolution:",
       "index": 2,
       "layout": "IPY_MODEL_5d7ff55557f241c7aab737935b0d74ae",
       "style": "IPY_MODEL_598a6fbe3dad46fbb0b8c5dc69c8e714"
      }
     },
     "dca47b7feb2a4f23a38cd7b77e91f101": {
      "model_module": "@jupyter-widgets/base",
      "model_module_version": "1.2.0",
      "model_name": "LayoutModel",
      "state": {}
     },
     "dcc6a86f59414ad6b5a4553031e87f46": {
      "model_module": "@jupyter-widgets/base",
      "model_module_version": "1.2.0",
      "model_name": "LayoutModel",
      "state": {}
     },
     "dd09634f590d4fb3aad8465a477323f5": {
      "model_module": "@jupyter-widgets/base",
      "model_module_version": "1.2.0",
      "model_name": "LayoutModel",
      "state": {
       "height": "350px"
      }
     },
     "dd6f9965bddb4ec4988accf41cd0af66": {
      "model_module": "@jupyter-widgets/output",
      "model_module_version": "1.0.0",
      "model_name": "OutputModel",
      "state": {
       "layout": "IPY_MODEL_5b31579438af4fe9af44677072f78dcf"
      }
     },
     "dda0d290e3914021ae6ab2526e6ae98c": {
      "model_module": "@jupyter-widgets/base",
      "model_module_version": "1.2.0",
      "model_name": "LayoutModel",
      "state": {}
     },
     "de493d67ab944d5480e421156d4f97f3": {
      "model_module": "@jupyter-widgets/controls",
      "model_module_version": "1.5.0",
      "model_name": "ButtonModel",
      "state": {
       "description": "Save image",
       "layout": "IPY_MODEL_e93f9f2a896b43f490c7949c067f76bc",
       "style": "IPY_MODEL_d58e1242109147e7969e9c599b18d4c5"
      }
     },
     "df2e40018a0d4734b0c8f956eeef34fd": {
      "model_module": "@jupyter-widgets/base",
      "model_module_version": "1.2.0",
      "model_name": "LayoutModel",
      "state": {}
     },
     "df86414ea8f74e82bae06ae03501aaa8": {
      "model_module": "@jupyter-widgets/controls",
      "model_module_version": "1.5.0",
      "model_name": "DescriptionStyleModel",
      "state": {
       "description_width": ""
      }
     },
     "e03aa0c213254922998ded0c55a3a4d4": {
      "model_module": "@jupyter-widgets/output",
      "model_module_version": "1.0.0",
      "model_name": "OutputModel",
      "state": {
       "layout": "IPY_MODEL_3ac6a6b58df84352add8af23bd1b952c"
      }
     },
     "e0f45b768a12414893e2ae9e804038ca": {
      "model_module": "@jupyter-widgets/controls",
      "model_module_version": "1.5.0",
      "model_name": "ButtonStyleModel",
      "state": {}
     },
     "e115403c7aaf40de9f246cc9826a891b": {
      "model_module": "@jupyter-widgets/controls",
      "model_module_version": "1.5.0",
      "model_name": "SliderStyleModel",
      "state": {
       "description_width": ""
      }
     },
     "e1ceeeb079df4202a8977d1162173736": {
      "model_module": "@jupyter-widgets/base",
      "model_module_version": "1.2.0",
      "model_name": "LayoutModel",
      "state": {}
     },
     "e21be09ea5824aa68649ff17b0b0be3b": {
      "model_module": "@jupyter-widgets/base",
      "model_module_version": "1.2.0",
      "model_name": "LayoutModel",
      "state": {}
     },
     "e49c0f8a80ff49988abff2cf952a3755": {
      "model_module": "@jupyter-widgets/base",
      "model_module_version": "1.2.0",
      "model_name": "LayoutModel",
      "state": {}
     },
     "e4bbe30cffcb4c01a165c0c43637b07f": {
      "model_module": "@jupyter-widgets/output",
      "model_module_version": "1.0.0",
      "model_name": "OutputModel",
      "state": {
       "layout": "IPY_MODEL_b403f74615c24ca69f1577a227b03367"
      }
     },
     "e74e962f0f68489fab028f3cff302a0d": {
      "model_module": "@jupyter-widgets/controls",
      "model_module_version": "1.5.0",
      "model_name": "IntSliderModel",
      "state": {
       "continuous_update": false,
       "description": "frame",
       "layout": "IPY_MODEL_a80e9052f5f64a18b2c6bf7aa7e22f31",
       "max": 60,
       "min": -60,
       "step": 10,
       "style": "IPY_MODEL_a0d4b109450c4ac2a80d74e800ab1830",
       "value": 10
      }
     },
     "e751df4250824168acba5e6c1696a58d": {
      "model_module": "@jupyter-widgets/base",
      "model_module_version": "1.2.0",
      "model_name": "LayoutModel",
      "state": {}
     },
     "e7d01248b79944eea005ede1bbd16055": {
      "model_module": "@jupyter-widgets/output",
      "model_module_version": "1.0.0",
      "model_name": "OutputModel",
      "state": {
       "layout": "IPY_MODEL_2559d63287884aeb9c98fff7880dd0c1"
      }
     },
     "e93f9f2a896b43f490c7949c067f76bc": {
      "model_module": "@jupyter-widgets/base",
      "model_module_version": "1.2.0",
      "model_name": "LayoutModel",
      "state": {}
     },
     "e9a26ffaf6ef430b9f9a86fa000e05a5": {
      "model_module": "@jupyter-widgets/controls",
      "model_module_version": "1.5.0",
      "model_name": "SliderStyleModel",
      "state": {
       "description_width": ""
      }
     },
     "e9b2549e170a4ba4b1e0d6493214ad78": {
      "model_module": "@jupyter-widgets/base",
      "model_module_version": "1.2.0",
      "model_name": "LayoutModel",
      "state": {}
     },
     "eb4eba8fccde44419704ac911597ca77": {
      "model_module": "@jupyter-widgets/controls",
      "model_module_version": "1.5.0",
      "model_name": "SliderStyleModel",
      "state": {
       "description_width": ""
      }
     },
     "ed27f7c15ef047dcbb3fbf9682275cc9": {
      "model_module": "@jupyter-widgets/controls",
      "model_module_version": "1.5.0",
      "model_name": "SliderStyleModel",
      "state": {
       "description_width": ""
      }
     },
     "edcfa694a61e4c2c88d1b5846966f224": {
      "model_module": "@jupyter-widgets/base",
      "model_module_version": "1.2.0",
      "model_name": "LayoutModel",
      "state": {}
     },
     "edd3721f07d84e1ba8b014e8232640df": {
      "model_module": "@jupyter-widgets/base",
      "model_module_version": "1.2.0",
      "model_name": "LayoutModel",
      "state": {}
     },
     "ee185e304ca94485b3030d3ecce984b7": {
      "model_module": "@jupyter-widgets/base",
      "model_module_version": "1.2.0",
      "model_name": "LayoutModel",
      "state": {}
     },
     "ef2a4617823b41b7ba0e1bb53005f5f7": {
      "model_module": "@jupyter-widgets/controls",
      "model_module_version": "1.5.0",
      "model_name": "DescriptionStyleModel",
      "state": {
       "description_width": ""
      }
     },
     "ef8ee34dd59c4541a6d568a01ad78143": {
      "model_module": "@jupyter-widgets/controls",
      "model_module_version": "1.5.0",
      "model_name": "SliderStyleModel",
      "state": {
       "description_width": ""
      }
     },
     "f023c32c4c824f5b8917606712b48d8e": {
      "model_module": "@jupyter-widgets/base",
      "model_module_version": "1.2.0",
      "model_name": "LayoutModel",
      "state": {}
     },
     "f1256990b95d465489453e8ea637bf43": {
      "model_module": "@jupyter-widgets/controls",
      "model_module_version": "1.5.0",
      "model_name": "RadioButtonsModel",
      "state": {
       "_options_labels": [
        "Very Low",
        "Low",
        "Medium",
        "High",
        "Very High"
       ],
       "description": "Resolution:",
       "index": 2,
       "layout": "IPY_MODEL_e21be09ea5824aa68649ff17b0b0be3b",
       "style": "IPY_MODEL_06f36ddf609d40a59f92d7c7cc106d7a"
      }
     },
     "f1e080d040274dcfa622ffb335e157ff": {
      "model_module": "@jupyter-widgets/controls",
      "model_module_version": "1.5.0",
      "model_name": "SliderStyleModel",
      "state": {
       "description_width": ""
      }
     },
     "f2559a881e4d4adb88fb09030ee48184": {
      "model_module": "@jupyter-widgets/base",
      "model_module_version": "1.2.0",
      "model_name": "LayoutModel",
      "state": {}
     },
     "f4a98750e04944d397fd9ec097aa834c": {
      "model_module": "@jupyter-widgets/output",
      "model_module_version": "1.0.0",
      "model_name": "OutputModel",
      "state": {
       "layout": "IPY_MODEL_542aab1f2a3642c29466b61d840c0450"
      }
     },
     "f4de5a79ec9c497183bc978aa0d11805": {
      "model_module": "@jupyter-widgets/controls",
      "model_module_version": "1.5.0",
      "model_name": "IntSliderModel",
      "state": {
       "continuous_update": false,
       "description": "num_classes",
       "disabled": true,
       "layout": "IPY_MODEL_5a69a439da504d31a101895e4834d3e2",
       "max": 24,
       "min": 1,
       "style": "IPY_MODEL_bad2ac4758384905994b8735890add27",
       "value": 8
      }
     },
     "f596d3bce1de4d4ba7dbb2080b9cb81e": {
      "model_module": "@jupyter-widgets/output",
      "model_module_version": "1.0.0",
      "model_name": "OutputModel",
      "state": {
       "layout": "IPY_MODEL_cdc3a83518c646749f5d2bb0fb6e26ae"
      }
     },
     "f5e7068271e5442797a29e84b1e97dd8": {
      "model_module": "@jupyter-widgets/controls",
      "model_module_version": "1.5.0",
      "model_name": "IntSliderModel",
      "state": {
       "continuous_update": false,
       "description": "frame",
       "disabled": true,
       "layout": "IPY_MODEL_c46d2496f1c247ccb62b761e694b3651",
       "max": 60,
       "min": -60,
       "step": 10,
       "style": "IPY_MODEL_8bcdb893db674b759be457b82c9b9829",
       "value": 10
      }
     },
     "f722d1e46b0642d091a5c4478ba814f8": {
      "model_module": "@jupyter-widgets/base",
      "model_module_version": "1.2.0",
      "model_name": "LayoutModel",
      "state": {}
     },
     "f7e6a505a68e4f4f801787e6a8a0a8e2": {
      "model_module": "@jupyter-widgets/base",
      "model_module_version": "1.2.0",
      "model_name": "LayoutModel",
      "state": {}
     },
     "f7eae17659284565ac272322f4418936": {
      "model_module": "@jupyter-widgets/controls",
      "model_module_version": "1.5.0",
      "model_name": "IntSliderModel",
      "state": {
       "continuous_update": false,
       "description": "num_points",
       "layout": "IPY_MODEL_3c79e20e300c4b52b1dc256746926247",
       "max": 12,
       "min": 4,
       "style": "IPY_MODEL_1b118411b9ae4331807b21d59f319e43",
       "value": 4
      }
     },
     "f9523b6430d7484f9e5b9d2c5d0daa2a": {
      "model_module": "@jupyter-widgets/base",
      "model_module_version": "1.2.0",
      "model_name": "LayoutModel",
      "state": {}
     },
     "fa6acaabf9e04ea086eabfda6cb5bc6b": {
      "model_module": "@jupyter-widgets/controls",
      "model_module_version": "1.5.0",
      "model_name": "IntSliderModel",
      "state": {
       "continuous_update": false,
       "description": "frame",
       "layout": "IPY_MODEL_5ab1e6497eb84d02b3680a6838e4be8f",
       "max": 60,
       "min": -60,
       "step": 10,
       "style": "IPY_MODEL_9f30a17bfac54334b66e60c3db24cbce",
       "value": 10
      }
     },
     "fac4da50679744bfb0d7abbf30267f26": {
      "model_module": "@jupyter-widgets/controls",
      "model_module_version": "1.5.0",
      "model_name": "VBoxModel",
      "state": {
       "_dom_classes": [
        "widget-interact"
       ],
       "children": [
        "IPY_MODEL_03ad7b0e5db945c2b7bca4484f3a1d33",
        "IPY_MODEL_bba1a9b204f647b5a60b41c057684559",
        "IPY_MODEL_f4de5a79ec9c497183bc978aa0d11805",
        "IPY_MODEL_228be73401b5443f90986f3cf23a0bbc",
        "IPY_MODEL_5a2919b23ef44239a628f58a2950a9fe",
        "IPY_MODEL_aa39aabfe4b840e28c2f4e5f5f981042",
        "IPY_MODEL_66de3b25a49649098d4510a7ffcd77a7",
        "IPY_MODEL_272cb574968b4629b683d8b7d6a4f168"
       ],
       "layout": "IPY_MODEL_870f976359d64df5b27a612be1d7a760"
      }
     },
     "fad33eef822f4725831ad721575da14d": {
      "model_module": "@jupyter-widgets/base",
      "model_module_version": "1.2.0",
      "model_name": "LayoutModel",
      "state": {}
     },
     "fb2936d0e0004bcb831b83ec00691518": {
      "model_module": "@jupyter-widgets/controls",
      "model_module_version": "1.5.0",
      "model_name": "ButtonModel",
      "state": {
       "description": "Save image",
       "layout": "IPY_MODEL_9e989e9d356a4b57b9bf684f294d6c44",
       "style": "IPY_MODEL_e0f45b768a12414893e2ae9e804038ca"
      }
     },
     "fc6ea7dbd3bb469dbdcd7e109fce94b9": {
      "model_module": "@jupyter-widgets/base",
      "model_module_version": "1.2.0",
      "model_name": "LayoutModel",
      "state": {}
     },
     "fd7bbadde6ed4e08884c2bae6993e150": {
      "model_module": "@jupyter-widgets/base",
      "model_module_version": "1.2.0",
      "model_name": "LayoutModel",
      "state": {}
     },
     "fef72de3508e4e39b9bd40f59030e9ec": {
      "model_module": "@jupyter-widgets/base",
      "model_module_version": "1.2.0",
      "model_name": "LayoutModel",
      "state": {}
     },
     "ff1ebbb9593045a1bb76751be453e232": {
      "model_module": "@jupyter-widgets/base",
      "model_module_version": "1.2.0",
      "model_name": "LayoutModel",
      "state": {}
     }
    },
    "version_major": 2,
    "version_minor": 0
   }
  }
 },
 "nbformat": 4,
 "nbformat_minor": 4
}
