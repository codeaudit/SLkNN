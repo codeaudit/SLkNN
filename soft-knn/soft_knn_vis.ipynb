{
 "cells": [
  {
   "cell_type": "markdown",
   "metadata": {},
   "source": [
    "# *Visualizing SLaPkNN with M<N Prototypes*\n",
    "1. Run the first cell to start the visualization.\n",
    "2. Use the 'Mode' dropdown to choose a method of positioning prototypes. \n",
    "3. Use num_points and num_classes to control M and N, respectively.\n",
    "4. Setting a higher resolution improves accuracy but may slow down computation.\n",
    "5. To save the image, first type desired filename in the provided blank, then press the save button."
   ]
  },
  {
   "cell_type": "code",
   "execution_count": 19,
   "metadata": {
    "scrolled": false
   },
   "outputs": [
    {
     "data": {
      "application/javascript": [
       "/* Put everything inside the global mpl namespace */\n",
       "window.mpl = {};\n",
       "\n",
       "\n",
       "mpl.get_websocket_type = function() {\n",
       "    if (typeof(WebSocket) !== 'undefined') {\n",
       "        return WebSocket;\n",
       "    } else if (typeof(MozWebSocket) !== 'undefined') {\n",
       "        return MozWebSocket;\n",
       "    } else {\n",
       "        alert('Your browser does not have WebSocket support. ' +\n",
       "              'Please try Chrome, Safari or Firefox ≥ 6. ' +\n",
       "              'Firefox 4 and 5 are also supported but you ' +\n",
       "              'have to enable WebSockets in about:config.');\n",
       "    };\n",
       "}\n",
       "\n",
       "mpl.figure = function(figure_id, websocket, ondownload, parent_element) {\n",
       "    this.id = figure_id;\n",
       "\n",
       "    this.ws = websocket;\n",
       "\n",
       "    this.supports_binary = (this.ws.binaryType != undefined);\n",
       "\n",
       "    if (!this.supports_binary) {\n",
       "        var warnings = document.getElementById(\"mpl-warnings\");\n",
       "        if (warnings) {\n",
       "            warnings.style.display = 'block';\n",
       "            warnings.textContent = (\n",
       "                \"This browser does not support binary websocket messages. \" +\n",
       "                    \"Performance may be slow.\");\n",
       "        }\n",
       "    }\n",
       "\n",
       "    this.imageObj = new Image();\n",
       "\n",
       "    this.context = undefined;\n",
       "    this.message = undefined;\n",
       "    this.canvas = undefined;\n",
       "    this.rubberband_canvas = undefined;\n",
       "    this.rubberband_context = undefined;\n",
       "    this.format_dropdown = undefined;\n",
       "\n",
       "    this.image_mode = 'full';\n",
       "\n",
       "    this.root = $('<div/>');\n",
       "    this._root_extra_style(this.root)\n",
       "    this.root.attr('style', 'display: inline-block');\n",
       "\n",
       "    $(parent_element).append(this.root);\n",
       "\n",
       "    this._init_header(this);\n",
       "    this._init_canvas(this);\n",
       "    this._init_toolbar(this);\n",
       "\n",
       "    var fig = this;\n",
       "\n",
       "    this.waiting = false;\n",
       "\n",
       "    this.ws.onopen =  function () {\n",
       "            fig.send_message(\"supports_binary\", {value: fig.supports_binary});\n",
       "            fig.send_message(\"send_image_mode\", {});\n",
       "            if (mpl.ratio != 1) {\n",
       "                fig.send_message(\"set_dpi_ratio\", {'dpi_ratio': mpl.ratio});\n",
       "            }\n",
       "            fig.send_message(\"refresh\", {});\n",
       "        }\n",
       "\n",
       "    this.imageObj.onload = function() {\n",
       "            if (fig.image_mode == 'full') {\n",
       "                // Full images could contain transparency (where diff images\n",
       "                // almost always do), so we need to clear the canvas so that\n",
       "                // there is no ghosting.\n",
       "                fig.context.clearRect(0, 0, fig.canvas.width, fig.canvas.height);\n",
       "            }\n",
       "            fig.context.drawImage(fig.imageObj, 0, 0);\n",
       "        };\n",
       "\n",
       "    this.imageObj.onunload = function() {\n",
       "        fig.ws.close();\n",
       "    }\n",
       "\n",
       "    this.ws.onmessage = this._make_on_message_function(this);\n",
       "\n",
       "    this.ondownload = ondownload;\n",
       "}\n",
       "\n",
       "mpl.figure.prototype._init_header = function() {\n",
       "    var titlebar = $(\n",
       "        '<div class=\"ui-dialog-titlebar ui-widget-header ui-corner-all ' +\n",
       "        'ui-helper-clearfix\"/>');\n",
       "    var titletext = $(\n",
       "        '<div class=\"ui-dialog-title\" style=\"width: 100%; ' +\n",
       "        'text-align: center; padding: 3px;\"/>');\n",
       "    titlebar.append(titletext)\n",
       "    this.root.append(titlebar);\n",
       "    this.header = titletext[0];\n",
       "}\n",
       "\n",
       "\n",
       "\n",
       "mpl.figure.prototype._canvas_extra_style = function(canvas_div) {\n",
       "\n",
       "}\n",
       "\n",
       "\n",
       "mpl.figure.prototype._root_extra_style = function(canvas_div) {\n",
       "\n",
       "}\n",
       "\n",
       "mpl.figure.prototype._init_canvas = function() {\n",
       "    var fig = this;\n",
       "\n",
       "    var canvas_div = $('<div/>');\n",
       "\n",
       "    canvas_div.attr('style', 'position: relative; clear: both; outline: 0');\n",
       "\n",
       "    function canvas_keyboard_event(event) {\n",
       "        return fig.key_event(event, event['data']);\n",
       "    }\n",
       "\n",
       "    canvas_div.keydown('key_press', canvas_keyboard_event);\n",
       "    canvas_div.keyup('key_release', canvas_keyboard_event);\n",
       "    this.canvas_div = canvas_div\n",
       "    this._canvas_extra_style(canvas_div)\n",
       "    this.root.append(canvas_div);\n",
       "\n",
       "    var canvas = $('<canvas/>');\n",
       "    canvas.addClass('mpl-canvas');\n",
       "    canvas.attr('style', \"left: 0; top: 0; z-index: 0; outline: 0\")\n",
       "\n",
       "    this.canvas = canvas[0];\n",
       "    this.context = canvas[0].getContext(\"2d\");\n",
       "\n",
       "    var backingStore = this.context.backingStorePixelRatio ||\n",
       "\tthis.context.webkitBackingStorePixelRatio ||\n",
       "\tthis.context.mozBackingStorePixelRatio ||\n",
       "\tthis.context.msBackingStorePixelRatio ||\n",
       "\tthis.context.oBackingStorePixelRatio ||\n",
       "\tthis.context.backingStorePixelRatio || 1;\n",
       "\n",
       "    mpl.ratio = (window.devicePixelRatio || 1) / backingStore;\n",
       "\n",
       "    var rubberband = $('<canvas/>');\n",
       "    rubberband.attr('style', \"position: absolute; left: 0; top: 0; z-index: 1;\")\n",
       "\n",
       "    var pass_mouse_events = true;\n",
       "\n",
       "    canvas_div.resizable({\n",
       "        start: function(event, ui) {\n",
       "            pass_mouse_events = false;\n",
       "        },\n",
       "        resize: function(event, ui) {\n",
       "            fig.request_resize(ui.size.width, ui.size.height);\n",
       "        },\n",
       "        stop: function(event, ui) {\n",
       "            pass_mouse_events = true;\n",
       "            fig.request_resize(ui.size.width, ui.size.height);\n",
       "        },\n",
       "    });\n",
       "\n",
       "    function mouse_event_fn(event) {\n",
       "        if (pass_mouse_events)\n",
       "            return fig.mouse_event(event, event['data']);\n",
       "    }\n",
       "\n",
       "    rubberband.mousedown('button_press', mouse_event_fn);\n",
       "    rubberband.mouseup('button_release', mouse_event_fn);\n",
       "    // Throttle sequential mouse events to 1 every 20ms.\n",
       "    rubberband.mousemove('motion_notify', mouse_event_fn);\n",
       "\n",
       "    rubberband.mouseenter('figure_enter', mouse_event_fn);\n",
       "    rubberband.mouseleave('figure_leave', mouse_event_fn);\n",
       "\n",
       "    canvas_div.on(\"wheel\", function (event) {\n",
       "        event = event.originalEvent;\n",
       "        event['data'] = 'scroll'\n",
       "        if (event.deltaY < 0) {\n",
       "            event.step = 1;\n",
       "        } else {\n",
       "            event.step = -1;\n",
       "        }\n",
       "        mouse_event_fn(event);\n",
       "    });\n",
       "\n",
       "    canvas_div.append(canvas);\n",
       "    canvas_div.append(rubberband);\n",
       "\n",
       "    this.rubberband = rubberband;\n",
       "    this.rubberband_canvas = rubberband[0];\n",
       "    this.rubberband_context = rubberband[0].getContext(\"2d\");\n",
       "    this.rubberband_context.strokeStyle = \"#000000\";\n",
       "\n",
       "    this._resize_canvas = function(width, height) {\n",
       "        // Keep the size of the canvas, canvas container, and rubber band\n",
       "        // canvas in synch.\n",
       "        canvas_div.css('width', width)\n",
       "        canvas_div.css('height', height)\n",
       "\n",
       "        canvas.attr('width', width * mpl.ratio);\n",
       "        canvas.attr('height', height * mpl.ratio);\n",
       "        canvas.attr('style', 'width: ' + width + 'px; height: ' + height + 'px;');\n",
       "\n",
       "        rubberband.attr('width', width);\n",
       "        rubberband.attr('height', height);\n",
       "    }\n",
       "\n",
       "    // Set the figure to an initial 600x600px, this will subsequently be updated\n",
       "    // upon first draw.\n",
       "    this._resize_canvas(600, 600);\n",
       "\n",
       "    // Disable right mouse context menu.\n",
       "    $(this.rubberband_canvas).bind(\"contextmenu\",function(e){\n",
       "        return false;\n",
       "    });\n",
       "\n",
       "    function set_focus () {\n",
       "        canvas.focus();\n",
       "        canvas_div.focus();\n",
       "    }\n",
       "\n",
       "    window.setTimeout(set_focus, 100);\n",
       "}\n",
       "\n",
       "mpl.figure.prototype._init_toolbar = function() {\n",
       "    var fig = this;\n",
       "\n",
       "    var nav_element = $('<div/>');\n",
       "    nav_element.attr('style', 'width: 100%');\n",
       "    this.root.append(nav_element);\n",
       "\n",
       "    // Define a callback function for later on.\n",
       "    function toolbar_event(event) {\n",
       "        return fig.toolbar_button_onclick(event['data']);\n",
       "    }\n",
       "    function toolbar_mouse_event(event) {\n",
       "        return fig.toolbar_button_onmouseover(event['data']);\n",
       "    }\n",
       "\n",
       "    for(var toolbar_ind in mpl.toolbar_items) {\n",
       "        var name = mpl.toolbar_items[toolbar_ind][0];\n",
       "        var tooltip = mpl.toolbar_items[toolbar_ind][1];\n",
       "        var image = mpl.toolbar_items[toolbar_ind][2];\n",
       "        var method_name = mpl.toolbar_items[toolbar_ind][3];\n",
       "\n",
       "        if (!name) {\n",
       "            // put a spacer in here.\n",
       "            continue;\n",
       "        }\n",
       "        var button = $('<button/>');\n",
       "        button.addClass('ui-button ui-widget ui-state-default ui-corner-all ' +\n",
       "                        'ui-button-icon-only');\n",
       "        button.attr('role', 'button');\n",
       "        button.attr('aria-disabled', 'false');\n",
       "        button.click(method_name, toolbar_event);\n",
       "        button.mouseover(tooltip, toolbar_mouse_event);\n",
       "\n",
       "        var icon_img = $('<span/>');\n",
       "        icon_img.addClass('ui-button-icon-primary ui-icon');\n",
       "        icon_img.addClass(image);\n",
       "        icon_img.addClass('ui-corner-all');\n",
       "\n",
       "        var tooltip_span = $('<span/>');\n",
       "        tooltip_span.addClass('ui-button-text');\n",
       "        tooltip_span.html(tooltip);\n",
       "\n",
       "        button.append(icon_img);\n",
       "        button.append(tooltip_span);\n",
       "\n",
       "        nav_element.append(button);\n",
       "    }\n",
       "\n",
       "    var fmt_picker_span = $('<span/>');\n",
       "\n",
       "    var fmt_picker = $('<select/>');\n",
       "    fmt_picker.addClass('mpl-toolbar-option ui-widget ui-widget-content');\n",
       "    fmt_picker_span.append(fmt_picker);\n",
       "    nav_element.append(fmt_picker_span);\n",
       "    this.format_dropdown = fmt_picker[0];\n",
       "\n",
       "    for (var ind in mpl.extensions) {\n",
       "        var fmt = mpl.extensions[ind];\n",
       "        var option = $(\n",
       "            '<option/>', {selected: fmt === mpl.default_extension}).html(fmt);\n",
       "        fmt_picker.append(option);\n",
       "    }\n",
       "\n",
       "    // Add hover states to the ui-buttons\n",
       "    $( \".ui-button\" ).hover(\n",
       "        function() { $(this).addClass(\"ui-state-hover\");},\n",
       "        function() { $(this).removeClass(\"ui-state-hover\");}\n",
       "    );\n",
       "\n",
       "    var status_bar = $('<span class=\"mpl-message\"/>');\n",
       "    nav_element.append(status_bar);\n",
       "    this.message = status_bar[0];\n",
       "}\n",
       "\n",
       "mpl.figure.prototype.request_resize = function(x_pixels, y_pixels) {\n",
       "    // Request matplotlib to resize the figure. Matplotlib will then trigger a resize in the client,\n",
       "    // which will in turn request a refresh of the image.\n",
       "    this.send_message('resize', {'width': x_pixels, 'height': y_pixels});\n",
       "}\n",
       "\n",
       "mpl.figure.prototype.send_message = function(type, properties) {\n",
       "    properties['type'] = type;\n",
       "    properties['figure_id'] = this.id;\n",
       "    this.ws.send(JSON.stringify(properties));\n",
       "}\n",
       "\n",
       "mpl.figure.prototype.send_draw_message = function() {\n",
       "    if (!this.waiting) {\n",
       "        this.waiting = true;\n",
       "        this.ws.send(JSON.stringify({type: \"draw\", figure_id: this.id}));\n",
       "    }\n",
       "}\n",
       "\n",
       "\n",
       "mpl.figure.prototype.handle_save = function(fig, msg) {\n",
       "    var format_dropdown = fig.format_dropdown;\n",
       "    var format = format_dropdown.options[format_dropdown.selectedIndex].value;\n",
       "    fig.ondownload(fig, format);\n",
       "}\n",
       "\n",
       "\n",
       "mpl.figure.prototype.handle_resize = function(fig, msg) {\n",
       "    var size = msg['size'];\n",
       "    if (size[0] != fig.canvas.width || size[1] != fig.canvas.height) {\n",
       "        fig._resize_canvas(size[0], size[1]);\n",
       "        fig.send_message(\"refresh\", {});\n",
       "    };\n",
       "}\n",
       "\n",
       "mpl.figure.prototype.handle_rubberband = function(fig, msg) {\n",
       "    var x0 = msg['x0'] / mpl.ratio;\n",
       "    var y0 = (fig.canvas.height - msg['y0']) / mpl.ratio;\n",
       "    var x1 = msg['x1'] / mpl.ratio;\n",
       "    var y1 = (fig.canvas.height - msg['y1']) / mpl.ratio;\n",
       "    x0 = Math.floor(x0) + 0.5;\n",
       "    y0 = Math.floor(y0) + 0.5;\n",
       "    x1 = Math.floor(x1) + 0.5;\n",
       "    y1 = Math.floor(y1) + 0.5;\n",
       "    var min_x = Math.min(x0, x1);\n",
       "    var min_y = Math.min(y0, y1);\n",
       "    var width = Math.abs(x1 - x0);\n",
       "    var height = Math.abs(y1 - y0);\n",
       "\n",
       "    fig.rubberband_context.clearRect(\n",
       "        0, 0, fig.canvas.width / mpl.ratio, fig.canvas.height / mpl.ratio);\n",
       "\n",
       "    fig.rubberband_context.strokeRect(min_x, min_y, width, height);\n",
       "}\n",
       "\n",
       "mpl.figure.prototype.handle_figure_label = function(fig, msg) {\n",
       "    // Updates the figure title.\n",
       "    fig.header.textContent = msg['label'];\n",
       "}\n",
       "\n",
       "mpl.figure.prototype.handle_cursor = function(fig, msg) {\n",
       "    var cursor = msg['cursor'];\n",
       "    switch(cursor)\n",
       "    {\n",
       "    case 0:\n",
       "        cursor = 'pointer';\n",
       "        break;\n",
       "    case 1:\n",
       "        cursor = 'default';\n",
       "        break;\n",
       "    case 2:\n",
       "        cursor = 'crosshair';\n",
       "        break;\n",
       "    case 3:\n",
       "        cursor = 'move';\n",
       "        break;\n",
       "    }\n",
       "    fig.rubberband_canvas.style.cursor = cursor;\n",
       "}\n",
       "\n",
       "mpl.figure.prototype.handle_message = function(fig, msg) {\n",
       "    fig.message.textContent = msg['message'];\n",
       "}\n",
       "\n",
       "mpl.figure.prototype.handle_draw = function(fig, msg) {\n",
       "    // Request the server to send over a new figure.\n",
       "    fig.send_draw_message();\n",
       "}\n",
       "\n",
       "mpl.figure.prototype.handle_image_mode = function(fig, msg) {\n",
       "    fig.image_mode = msg['mode'];\n",
       "}\n",
       "\n",
       "mpl.figure.prototype.updated_canvas_event = function() {\n",
       "    // Called whenever the canvas gets updated.\n",
       "    this.send_message(\"ack\", {});\n",
       "}\n",
       "\n",
       "// A function to construct a web socket function for onmessage handling.\n",
       "// Called in the figure constructor.\n",
       "mpl.figure.prototype._make_on_message_function = function(fig) {\n",
       "    return function socket_on_message(evt) {\n",
       "        if (evt.data instanceof Blob) {\n",
       "            /* FIXME: We get \"Resource interpreted as Image but\n",
       "             * transferred with MIME type text/plain:\" errors on\n",
       "             * Chrome.  But how to set the MIME type?  It doesn't seem\n",
       "             * to be part of the websocket stream */\n",
       "            evt.data.type = \"image/png\";\n",
       "\n",
       "            /* Free the memory for the previous frames */\n",
       "            if (fig.imageObj.src) {\n",
       "                (window.URL || window.webkitURL).revokeObjectURL(\n",
       "                    fig.imageObj.src);\n",
       "            }\n",
       "\n",
       "            fig.imageObj.src = (window.URL || window.webkitURL).createObjectURL(\n",
       "                evt.data);\n",
       "            fig.updated_canvas_event();\n",
       "            fig.waiting = false;\n",
       "            return;\n",
       "        }\n",
       "        else if (typeof evt.data === 'string' && evt.data.slice(0, 21) == \"data:image/png;base64\") {\n",
       "            fig.imageObj.src = evt.data;\n",
       "            fig.updated_canvas_event();\n",
       "            fig.waiting = false;\n",
       "            return;\n",
       "        }\n",
       "\n",
       "        var msg = JSON.parse(evt.data);\n",
       "        var msg_type = msg['type'];\n",
       "\n",
       "        // Call the  \"handle_{type}\" callback, which takes\n",
       "        // the figure and JSON message as its only arguments.\n",
       "        try {\n",
       "            var callback = fig[\"handle_\" + msg_type];\n",
       "        } catch (e) {\n",
       "            console.log(\"No handler for the '\" + msg_type + \"' message type: \", msg);\n",
       "            return;\n",
       "        }\n",
       "\n",
       "        if (callback) {\n",
       "            try {\n",
       "                // console.log(\"Handling '\" + msg_type + \"' message: \", msg);\n",
       "                callback(fig, msg);\n",
       "            } catch (e) {\n",
       "                console.log(\"Exception inside the 'handler_\" + msg_type + \"' callback:\", e, e.stack, msg);\n",
       "            }\n",
       "        }\n",
       "    };\n",
       "}\n",
       "\n",
       "// from http://stackoverflow.com/questions/1114465/getting-mouse-location-in-canvas\n",
       "mpl.findpos = function(e) {\n",
       "    //this section is from http://www.quirksmode.org/js/events_properties.html\n",
       "    var targ;\n",
       "    if (!e)\n",
       "        e = window.event;\n",
       "    if (e.target)\n",
       "        targ = e.target;\n",
       "    else if (e.srcElement)\n",
       "        targ = e.srcElement;\n",
       "    if (targ.nodeType == 3) // defeat Safari bug\n",
       "        targ = targ.parentNode;\n",
       "\n",
       "    // jQuery normalizes the pageX and pageY\n",
       "    // pageX,Y are the mouse positions relative to the document\n",
       "    // offset() returns the position of the element relative to the document\n",
       "    var x = e.pageX - $(targ).offset().left;\n",
       "    var y = e.pageY - $(targ).offset().top;\n",
       "\n",
       "    return {\"x\": x, \"y\": y};\n",
       "};\n",
       "\n",
       "/*\n",
       " * return a copy of an object with only non-object keys\n",
       " * we need this to avoid circular references\n",
       " * http://stackoverflow.com/a/24161582/3208463\n",
       " */\n",
       "function simpleKeys (original) {\n",
       "  return Object.keys(original).reduce(function (obj, key) {\n",
       "    if (typeof original[key] !== 'object')\n",
       "        obj[key] = original[key]\n",
       "    return obj;\n",
       "  }, {});\n",
       "}\n",
       "\n",
       "mpl.figure.prototype.mouse_event = function(event, name) {\n",
       "    var canvas_pos = mpl.findpos(event)\n",
       "\n",
       "    if (name === 'button_press')\n",
       "    {\n",
       "        this.canvas.focus();\n",
       "        this.canvas_div.focus();\n",
       "    }\n",
       "\n",
       "    var x = canvas_pos.x * mpl.ratio;\n",
       "    var y = canvas_pos.y * mpl.ratio;\n",
       "\n",
       "    this.send_message(name, {x: x, y: y, button: event.button,\n",
       "                             step: event.step,\n",
       "                             guiEvent: simpleKeys(event)});\n",
       "\n",
       "    /* This prevents the web browser from automatically changing to\n",
       "     * the text insertion cursor when the button is pressed.  We want\n",
       "     * to control all of the cursor setting manually through the\n",
       "     * 'cursor' event from matplotlib */\n",
       "    event.preventDefault();\n",
       "    return false;\n",
       "}\n",
       "\n",
       "mpl.figure.prototype._key_event_extra = function(event, name) {\n",
       "    // Handle any extra behaviour associated with a key event\n",
       "}\n",
       "\n",
       "mpl.figure.prototype.key_event = function(event, name) {\n",
       "\n",
       "    // Prevent repeat events\n",
       "    if (name == 'key_press')\n",
       "    {\n",
       "        if (event.which === this._key)\n",
       "            return;\n",
       "        else\n",
       "            this._key = event.which;\n",
       "    }\n",
       "    if (name == 'key_release')\n",
       "        this._key = null;\n",
       "\n",
       "    var value = '';\n",
       "    if (event.ctrlKey && event.which != 17)\n",
       "        value += \"ctrl+\";\n",
       "    if (event.altKey && event.which != 18)\n",
       "        value += \"alt+\";\n",
       "    if (event.shiftKey && event.which != 16)\n",
       "        value += \"shift+\";\n",
       "\n",
       "    value += 'k';\n",
       "    value += event.which.toString();\n",
       "\n",
       "    this._key_event_extra(event, name);\n",
       "\n",
       "    this.send_message(name, {key: value,\n",
       "                             guiEvent: simpleKeys(event)});\n",
       "    return false;\n",
       "}\n",
       "\n",
       "mpl.figure.prototype.toolbar_button_onclick = function(name) {\n",
       "    if (name == 'download') {\n",
       "        this.handle_save(this, null);\n",
       "    } else {\n",
       "        this.send_message(\"toolbar_button\", {name: name});\n",
       "    }\n",
       "};\n",
       "\n",
       "mpl.figure.prototype.toolbar_button_onmouseover = function(tooltip) {\n",
       "    this.message.textContent = tooltip;\n",
       "};\n",
       "mpl.toolbar_items = [[\"Home\", \"Reset original view\", \"fa fa-home icon-home\", \"home\"], [\"Back\", \"Back to previous view\", \"fa fa-arrow-left icon-arrow-left\", \"back\"], [\"Forward\", \"Forward to next view\", \"fa fa-arrow-right icon-arrow-right\", \"forward\"], [\"\", \"\", \"\", \"\"], [\"Pan\", \"Pan axes with left mouse, zoom with right\", \"fa fa-arrows icon-move\", \"pan\"], [\"Zoom\", \"Zoom to rectangle\", \"fa fa-square-o icon-check-empty\", \"zoom\"], [\"\", \"\", \"\", \"\"], [\"Download\", \"Download plot\", \"fa fa-floppy-o icon-save\", \"download\"]];\n",
       "\n",
       "mpl.extensions = [\"eps\", \"jpeg\", \"pdf\", \"png\", \"ps\", \"raw\", \"svg\", \"tif\"];\n",
       "\n",
       "mpl.default_extension = \"png\";var comm_websocket_adapter = function(comm) {\n",
       "    // Create a \"websocket\"-like object which calls the given IPython comm\n",
       "    // object with the appropriate methods. Currently this is a non binary\n",
       "    // socket, so there is still some room for performance tuning.\n",
       "    var ws = {};\n",
       "\n",
       "    ws.close = function() {\n",
       "        comm.close()\n",
       "    };\n",
       "    ws.send = function(m) {\n",
       "        //console.log('sending', m);\n",
       "        comm.send(m);\n",
       "    };\n",
       "    // Register the callback with on_msg.\n",
       "    comm.on_msg(function(msg) {\n",
       "        //console.log('receiving', msg['content']['data'], msg);\n",
       "        // Pass the mpl event to the overridden (by mpl) onmessage function.\n",
       "        ws.onmessage(msg['content']['data'])\n",
       "    });\n",
       "    return ws;\n",
       "}\n",
       "\n",
       "mpl.mpl_figure_comm = function(comm, msg) {\n",
       "    // This is the function which gets called when the mpl process\n",
       "    // starts-up an IPython Comm through the \"matplotlib\" channel.\n",
       "\n",
       "    var id = msg.content.data.id;\n",
       "    // Get hold of the div created by the display call when the Comm\n",
       "    // socket was opened in Python.\n",
       "    var element = $(\"#\" + id);\n",
       "    var ws_proxy = comm_websocket_adapter(comm)\n",
       "\n",
       "    function ondownload(figure, format) {\n",
       "        window.open(figure.imageObj.src);\n",
       "    }\n",
       "\n",
       "    var fig = new mpl.figure(id, ws_proxy,\n",
       "                           ondownload,\n",
       "                           element.get(0));\n",
       "\n",
       "    // Call onopen now - mpl needs it, as it is assuming we've passed it a real\n",
       "    // web socket which is closed, not our websocket->open comm proxy.\n",
       "    ws_proxy.onopen();\n",
       "\n",
       "    fig.parent_element = element.get(0);\n",
       "    fig.cell_info = mpl.find_output_cell(\"<div id='\" + id + \"'></div>\");\n",
       "    if (!fig.cell_info) {\n",
       "        console.error(\"Failed to find cell for figure\", id, fig);\n",
       "        return;\n",
       "    }\n",
       "\n",
       "    var output_index = fig.cell_info[2]\n",
       "    var cell = fig.cell_info[0];\n",
       "\n",
       "};\n",
       "\n",
       "mpl.figure.prototype.handle_close = function(fig, msg) {\n",
       "    var width = fig.canvas.width/mpl.ratio\n",
       "    fig.root.unbind('remove')\n",
       "\n",
       "    // Update the output cell to use the data from the current canvas.\n",
       "    fig.push_to_output();\n",
       "    var dataURL = fig.canvas.toDataURL();\n",
       "    // Re-enable the keyboard manager in IPython - without this line, in FF,\n",
       "    // the notebook keyboard shortcuts fail.\n",
       "    IPython.keyboard_manager.enable()\n",
       "    $(fig.parent_element).html('<img src=\"' + dataURL + '\" width=\"' + width + '\">');\n",
       "    fig.close_ws(fig, msg);\n",
       "}\n",
       "\n",
       "mpl.figure.prototype.close_ws = function(fig, msg){\n",
       "    fig.send_message('closing', msg);\n",
       "    // fig.ws.close()\n",
       "}\n",
       "\n",
       "mpl.figure.prototype.push_to_output = function(remove_interactive) {\n",
       "    // Turn the data on the canvas into data in the output cell.\n",
       "    var width = this.canvas.width/mpl.ratio\n",
       "    var dataURL = this.canvas.toDataURL();\n",
       "    this.cell_info[1]['text/html'] = '<img src=\"' + dataURL + '\" width=\"' + width + '\">';\n",
       "}\n",
       "\n",
       "mpl.figure.prototype.updated_canvas_event = function() {\n",
       "    // Tell IPython that the notebook contents must change.\n",
       "    IPython.notebook.set_dirty(true);\n",
       "    this.send_message(\"ack\", {});\n",
       "    var fig = this;\n",
       "    // Wait a second, then push the new image to the DOM so\n",
       "    // that it is saved nicely (might be nice to debounce this).\n",
       "    setTimeout(function () { fig.push_to_output() }, 1000);\n",
       "}\n",
       "\n",
       "mpl.figure.prototype._init_toolbar = function() {\n",
       "    var fig = this;\n",
       "\n",
       "    var nav_element = $('<div/>');\n",
       "    nav_element.attr('style', 'width: 100%');\n",
       "    this.root.append(nav_element);\n",
       "\n",
       "    // Define a callback function for later on.\n",
       "    function toolbar_event(event) {\n",
       "        return fig.toolbar_button_onclick(event['data']);\n",
       "    }\n",
       "    function toolbar_mouse_event(event) {\n",
       "        return fig.toolbar_button_onmouseover(event['data']);\n",
       "    }\n",
       "\n",
       "    for(var toolbar_ind in mpl.toolbar_items){\n",
       "        var name = mpl.toolbar_items[toolbar_ind][0];\n",
       "        var tooltip = mpl.toolbar_items[toolbar_ind][1];\n",
       "        var image = mpl.toolbar_items[toolbar_ind][2];\n",
       "        var method_name = mpl.toolbar_items[toolbar_ind][3];\n",
       "\n",
       "        if (!name) { continue; };\n",
       "\n",
       "        var button = $('<button class=\"btn btn-default\" href=\"#\" title=\"' + name + '\"><i class=\"fa ' + image + ' fa-lg\"></i></button>');\n",
       "        button.click(method_name, toolbar_event);\n",
       "        button.mouseover(tooltip, toolbar_mouse_event);\n",
       "        nav_element.append(button);\n",
       "    }\n",
       "\n",
       "    // Add the status bar.\n",
       "    var status_bar = $('<span class=\"mpl-message\" style=\"text-align:right; float: right;\"/>');\n",
       "    nav_element.append(status_bar);\n",
       "    this.message = status_bar[0];\n",
       "\n",
       "    // Add the close button to the window.\n",
       "    var buttongrp = $('<div class=\"btn-group inline pull-right\"></div>');\n",
       "    var button = $('<button class=\"btn btn-mini btn-primary\" href=\"#\" title=\"Stop Interaction\"><i class=\"fa fa-power-off icon-remove icon-large\"></i></button>');\n",
       "    button.click(function (evt) { fig.handle_close(fig, {}); } );\n",
       "    button.mouseover('Stop Interaction', toolbar_mouse_event);\n",
       "    buttongrp.append(button);\n",
       "    var titlebar = this.root.find($('.ui-dialog-titlebar'));\n",
       "    titlebar.prepend(buttongrp);\n",
       "}\n",
       "\n",
       "mpl.figure.prototype._root_extra_style = function(el){\n",
       "    var fig = this\n",
       "    el.on(\"remove\", function(){\n",
       "\tfig.close_ws(fig, {});\n",
       "    });\n",
       "}\n",
       "\n",
       "mpl.figure.prototype._canvas_extra_style = function(el){\n",
       "    // this is important to make the div 'focusable\n",
       "    el.attr('tabindex', 0)\n",
       "    // reach out to IPython and tell the keyboard manager to turn it's self\n",
       "    // off when our div gets focus\n",
       "\n",
       "    // location in version 3\n",
       "    if (IPython.notebook.keyboard_manager) {\n",
       "        IPython.notebook.keyboard_manager.register_events(el);\n",
       "    }\n",
       "    else {\n",
       "        // location in version 2\n",
       "        IPython.keyboard_manager.register_events(el);\n",
       "    }\n",
       "\n",
       "}\n",
       "\n",
       "mpl.figure.prototype._key_event_extra = function(event, name) {\n",
       "    var manager = IPython.notebook.keyboard_manager;\n",
       "    if (!manager)\n",
       "        manager = IPython.keyboard_manager;\n",
       "\n",
       "    // Check for shift+enter\n",
       "    if (event.shiftKey && event.which == 13) {\n",
       "        this.canvas_div.blur();\n",
       "        // select the cell after this one\n",
       "        var index = IPython.notebook.find_cell_index(this.cell_info[0]);\n",
       "        IPython.notebook.select(index + 1);\n",
       "    }\n",
       "}\n",
       "\n",
       "mpl.figure.prototype.handle_save = function(fig, msg) {\n",
       "    fig.ondownload(fig, null);\n",
       "}\n",
       "\n",
       "\n",
       "mpl.find_output_cell = function(html_output) {\n",
       "    // Return the cell and output element which can be found *uniquely* in the notebook.\n",
       "    // Note - this is a bit hacky, but it is done because the \"notebook_saving.Notebook\"\n",
       "    // IPython event is triggered only after the cells have been serialised, which for\n",
       "    // our purposes (turning an active figure into a static one), is too late.\n",
       "    var cells = IPython.notebook.get_cells();\n",
       "    var ncells = cells.length;\n",
       "    for (var i=0; i<ncells; i++) {\n",
       "        var cell = cells[i];\n",
       "        if (cell.cell_type === 'code'){\n",
       "            for (var j=0; j<cell.output_area.outputs.length; j++) {\n",
       "                var data = cell.output_area.outputs[j];\n",
       "                if (data.data) {\n",
       "                    // IPython >= 3 moved mimebundle to data attribute of output\n",
       "                    data = data.data;\n",
       "                }\n",
       "                if (data['text/html'] == html_output) {\n",
       "                    return [cell, data, j];\n",
       "                }\n",
       "            }\n",
       "        }\n",
       "    }\n",
       "}\n",
       "\n",
       "// Register the function which deals with the matplotlib target/channel.\n",
       "// The kernel may be null if the page has been refreshed.\n",
       "if (IPython.notebook.kernel != null) {\n",
       "    IPython.notebook.kernel.comm_manager.register_target('matplotlib', mpl.mpl_figure_comm);\n",
       "}\n"
      ],
      "text/plain": [
       "<IPython.core.display.Javascript object>"
      ]
     },
     "metadata": {},
     "output_type": "display_data"
    },
    {
     "data": {
      "text/html": [
       "<img src=\"data:image/png;base64,iVBORw0KGgoAAAANSUhEUgAAAyAAAAJYCAYAAACadoJwAAAgAElEQVR4XuydB5RV1dm/f3cavXdBqYoVdexi10jsiho1ktiwxBLNF2P9opDEEk2R2CPWqF9MEfMPSSzRqGAhAgoWRHqRQeow9Gn3v+7gRbgzd+4p+5yzz73PrJW1vhX2fve7n/edWXm+vc85iWQymRQ/EIAABCAAAQhAAAIQgAAEQiCQQEBCoMwSEIAABCAAAQhAAAIQgEADAQSERoAABCAAAQhAAAIQgAAEQiOAgISGmoUgAAEIQAACEIAABCAAAQSEHoAABCAAAQhAAAIQgAAEQiOAgISGmoUgAAEIQAACEIAABCAAAQSEHoAABCAAAQhAAAIQgAAEQiOAgISGmoUgAAEIQAACEIAABCAAAQSEHoAABCAAAQhAAAIQgAAEQiOAgISGmoUgAAEIQAACEIAABCAAAQSEHoAABCAAAQhAAAIQgAAEQiOAgISGmoUgAAEIQAACEIAABCAAAQSEHoAABCAAAQhAAAIQgAAEQiOAgISGmoUgAAEIQAACEIAABCAAAQSEHoAABCAAAQhAAAIQgAAEQiOAgISGmoUgAAEIQAACEIAABCAAAQSEHoAABCAAAQhAAAIQgAAEQiOAgISGmoUgAAEIQAACEIAABCAAAQSEHoAABCAAAQhAAAIQgAAEQiOAgISGmoUgAAEIQAACEIAABCAAAQSEHoAABCAAAQhAAAIQgAAEQiOAgISGmoUgAAEIQAACEIAABCAAAQSEHoAABCAAAQhAAAIQgAAEQiOAgISGmoUgAAEIQAACEIAABCAAAQSEHoAABCAAAQhAAAIQgAAEQiOAgISGmoUgAAEIQAACEIAABCAAAQSEHoAABCAAAQhAAAIQgAAEQiOAgISGmoUgAAEIQAACEIAABCAAAQSEHoAABCAAAQhAAAIQgAAEQiOAgISGmoUgAAEIQAACEIAABCAAAQSEHoAABCAAAQhAAAIQgAAEQiOAgISGmoUgAAEIQAACEIAABCAAAQSEHoAABCAAAQhAAAIQgAAEQiOAgISGmoUgAAEIQAACEIAABCAAAQSEHoAABCAAAQhAAAIQgAAEQiOAgISGmoUgAAEIQAACEIAABCAAAQSEHoAABCAAAQhAAAIQgAAEQiOAgISGmoUgAAEIQAACEIAABCAAAQSEHoAABCAAAQhAAAIQgAAEQiOAgISGmoUgAAEIQAACEIAABCAAAQSEHoAABCAAAQhAAAIQgAAEQiOAgISGmoUgAAEIQAACEIAABCAAAQSEHoAABCAAAQhAAAIQgAAEQiOAgISGmoUgAAEIQAACEIAABCAAAQSEHoAABCAAAQhAAAIQgAAEQiOAgISGmoUgAAEIQAACEIAABCAAAQSEHoAABCAAAQhAAAIQgAAEQiOAgISGmoUgAAEIQAACEIAABCAAAQSEHoAABCAAAQhAAAIQgAAEQiOAgISGmoUgAAEIQAACEIAABCAAAQSEHoAABCAAAQhAAAIQgAAEQiOAgISGmoUgAAEIQAACEIAABCAAAQSEHoAABCAAAQhAAAIQgAAEQiOAgISGmoUgAAEIQAACEIAABCAAAQSEHoAABCAAAQhAAAIQgAAEQiOAgISGmoUgAAEIQAACEIAABCAAAQSEHoAABCAAAQhAAAIQgAAEQiOAgISGmoUgAAEIQAACEIAABCAAAQSEHoAABCAAAQhAAAIQgAAEQiOAgISGmoUgAAEIQAACEIAABCAAAQSEHoAABCAAAQhAAAIQgAAEQiOAgISGmoUgAAEIQAACEIAABCAAAQSEHoAABCAAAQhAAAIQgAAEQiOAgISGmoUgAAEIQAACEIAABCAAAQSEHoAABCAAAQhAAAIQgAAEQiOAgISGmoUgAAEIQAACEIAABCAAAQSEHoAABCAAAQhAAAIQgAAEQiOAgISGmoUgAAEIQAACEIAABCAAAQSEHoAABCAAAQhAAAIQgAAEQiOAgISGmoUgAAEIQAACEIAABCAAAQSEHoAABCAAAQhAAAIQgAAEQiOAgISGOvdCK1as0CuvvKJ+/fqpVatWuScwAgIQgIBLAhs3btT8+fM1bNgwde3a1eVshkMAAhCAAAT8E0BA/DM0FuG5557TiBEjjMUjEAQgAIFsBJ599lmdf/75AIIABCAAAQiETgABCR159gXfeecdHXbYYdLxz0qdd7MoswJPZcUxBQ7AzPbfOedfZgIRxReBmQtm6uJfXKSJEydq6NChvmIxGQIQgAAEIOCFAALihVpAc6ZOnar99ttPOneK1L08oFUI65pABddUXDNrYsKGaxabCEMMnwQ+nPmhhl56qKZMmaLycv7O+MTJdAhAAAIQ8EAAAfEALagpCEhQZH3GRUB8AtwyHQExgtF3EATEN0ICxJxAfX1S7723SK+/Pk+LF1dp+fINWrNmk7p1a6Nddumsgw7qo2HDBqq0tDjmOyV9CNhLAAGxqDYIiEXF2DYVBMRXYRAPX/iMT0ZAjCMlYEwIbN5cq3vvfVePPDJZX365ttmse/Zsq5Ej99UVV+yv3r3bx2SHpAmB+BBAQCyqFQJiUTEQEGPFQECMoTQSCAExgpEgMSPw6qtzdNVV/9Ts2atcZd6mTal++cvjdNVVB7qax2AIQKB5AgiIRR2CgFhUDATEWDEQEGMojQRCQIxgJEiMCIwa9aZGj37LV8bnnLOHnnnmDJWVcS3LF0gmQ+BrAgiIRa2AgFhUDATEWDEQEGMojQRCQIxgJEhMCPz0p2/oF7+YYCTb731vSIOE8AMBCPgngID4Z2gsAgJiDKXZQDwD4osnAuILn/HJCIhxpAS0lMCf/vSpzjnnL0az+9nPjtJPf3qk0ZgEg0AhEkBALKo6AmJRMTgBMVYMBMQYSiOBEBAjGAliOYGqqs3addcHVFGxzmimiYQ0adJIHXBAb6NxCQaBQiOAgFhUcQTEomI0lQonIZ4KhIB4whbYJAQkMLQEtojAdde9rDFjJgWS0dFH99Mbb1wQSGyCQqBQCCAgFlUaAbGoGAiIsWIgIMZQGgmEgBjBSBCLCaxdu1k9e/5aGzbUBJblBx9cqv333yGw+ASGQL4TQEAsqjACYlExEBBjxUBAjKE0EggBMYKRIBYTeP75j3X++S8GmuFttx2h0aOPDnQNgkMgnwkgIBZVFwGxqBgIiLFiICDGUBoJhIAYwUgQiwlccMFLeuaZaYFmeNRR/fSf/3ANK1DIBM9rAgiIReVFQCwqBgLiuxiIh2+EgQRAQALBSlCLCBx22BN6551FgWbUqlWJqqpuVklJUaDrEBwC+UoAAbGosgiIRcVAQHwXAwHxjTCQAAhIIFgJahGB1NuvZs5cGXhGK1feoM6dWwW+DgtAIB8JICAWVRUBsagYCIjvYiAgvhEGEgABCQQrQS0i0L37vVq+fIPjjA48fbNq+32kpOMZWwa+fNuz6t6ps8tZDIcABFIEEBCL+gABsagYCIjvYiAgvhEGEgABCQQrQS0iMGjQ7zRnzuqcGbVoLR146TxNWDI+59imBqz/w0K1TgXhBwIQcE0AAXGNLLgJCEhwbI1E5jsgrjAiIK5whTYYAQkNNQtFRODb335Wr7wyp9nVB+yTVMnQV/XFsi88Zdm1XRctf3ymp7lMggAEOAGxqgcQEKvK0TgZBMRVgRAQV7hCG4yAhIaahSIicOutr+vOOydmXf2w71dpat2ftKF6o+cMLznmfI29Yozn+UyEQKET4ATEog7YKiBdfyV998cWZUYq2xFARBw1BALiCFPogxCQ0JGzYMgEpk//Snvv/UijVdt3lXb/3sd6f/GbvjP6581/1An7Huc7DgEgUKgEEBCLKo+AWFSM5lJBQBwVCgFxhCn0QQhI6MhZMAICma/i3evoOq0a9JK+rFziO5uObTroq8dmqKykzHcsAkCgUAkgIBZVHgGxqBgIiO9iICC+EQYSAAEJBCtBLSPw5z9/qu985y9KFElHXP6VJq76q+rq64xkeeNpP9Td599mJBZBIFCoBBAQiyq/nYCUDZTOOt2i7EhlKwFOQBw1AwLiCFPogxCQ0JGzYEQEzrv4ac1o/5ymLZlqLIOdew3QtHvfUqsyvv9hDCqBCpIAAmJR2REQi4rBCYjvYiAgvhEGEgABCQQrQS0ksLxqhfa/6TgtXLHYSHapV+6++/N/au9+exqJRxAIFDIBBMSi6iMgFhUDAfFdDATEN8JAAiAggWAlqKUEPpr/sU666zwtWb3UV4ZtWrTRcz98WKcdcKKvOEyGAAS2EEBALOoEBMSiYiAgvouBgPhGGEgABCQQrAS1mMCKqpW68KGr9Y+pr3nKcp9+e+mP1/1eg3fY2dN8JkEAAo0JICAWdUUjAUnnxrMgFlVJEs+ANFsPxMOudk1ns+mDzQ3/57TFH+no3x6lKVOmqLy83M5kyQoCARD43T9/rxuf+5k21WxyFL0oUaRrTrhUvzz/NrUobeFoDoMgAAFnBBAQZ5xCGYWAhILZ/yIICALiv4tCj4CAhI6cBS0ksHpdpZ6b+Bf96b2X9P4XU1RTV7NdlolEQvv021OnH3CiLjzqPO3UtY+FuyAlCMSfAAJiUQ0REIuK0VwqCAgCEpNW3TZNBCSGRSPlQAms27RO85ctUlLJrev06thDXdt3CXRdgkMAAjwDYlUPbBWQF6dIe5RLR7+0JT+uYFlVp63JICJN1oUrWHa1a1o80llxBcuu+pANBCAAgUIkwAmIRVVHQCwqhpNUEBAExEmfRDwGAYm4ACwPAQhAAAKNCCAgFjUFAmJRMZykgoAgIE76JOIxCEjEBWB5CEAAAhBAQGzuga0CMvmvUrvh36TKVSw7y4aAICB2dmZDVpniseieDg3//YyaqTp31X68Bcvi2pEaBCAAgXwnwAmIRRVGQCwqhpNUEBAExEmfRDQGAYkIPMtCAAIQgEBOAghITkThDUBAwmNtZCUEBAEx0kjBBEFAguFKVAhAAAIQ8E8AAfHP0FgEBMQYynACISAISDid5mkVBMQTNiZBAAIQgEAIBBCQECA7XWI7ASnfQ5o1ePupPAviFGU44xCQ7Tjz+t1w2i7XKmnxSD/zkR5fcUB1w/85a82HumbCwTwDkgsk/w4BCEAAAoERQEACQ+s+MALinlmkMxAQBCTSBmx6cQTEwqKQEgQgAAEIbEcAAbGoIRAQi4rhJBUEBAFx0ichj0FAQgbOchCAAAQg4JoAAuIaWXATGglI5lLpK1lcxQquCG4iIyAIiJt+CXhsLvFIL88VrIALQXgIQAACEMhJAAHJiSi8AQhIeKyNrISAICBGGslMEATEDEeiQAACEIBA8AQQkOAZO14BAXGMyo6BCAgCYkcnNmSBgFhUDFKxnsBHn1Tq9YnLtbhik5av2qw1VTXq1qWFdhnQVgft20lHHtJVRUUJ6/dBghCIKwEExKLK5RSQdK5cxbKoapIQkYZ68BasaNty1tktGxJIv+0qWzZcwYq2TqweHYGamno98ORcPfT0PM2ev77ZRPrt2FqXnd9PI7/bt0FM+IEABMwSQEDM8vQVDQHxhS+6yQgIAhJd921dGQGxoAikYC2BCZNW6Ac3T9OnM9e6yrFD+xLdN2ovXXhOX1fzGAwBCDRPAAGxqEMQEIuK4SYVBAQBcdMvAY1FQAICS9jYE7j34Vm68Y5PlUx638pF5+yk39+zj0pKirwHYSYEILCVAAJiUTM4FpDMnPvM2PLfnHW6RbspoFQKXEC4ehVtr799j7v/QcQVrGjrxerhErjr/i90y92fGVn00vP76vf37GskFkEgUOgEEBCLOgABsagYblJBQNzQYqxhAgiIYaCEyxsCf3ulQqdfPMnofu796R66/oqdjcYkGAQKkQACYlHVERCLiuEmFQTEDS3GGiaAgBgGSri8ILB+Q612O/J1LVqy0eh+ioqkKf86Svvs2dFoXIJBoNAIICAWVRwBsagYblJBQNzQYqxhAgiIYaCEywsCN/ziE9378OxA9nL8kd31yvOHBhKboBAoFAIIiEWV9iwgmXu4brBFuyqAVBCQAiiyfVt0Kx7pHfAMiH21JCOzBFKnHz33eVnr1teaDbxNtA9f4RQkMLgELggCCIhFZUZALCqGm1QQEDe0GGuIAAJiCCRh8o7AC39brHOvnBzovkZfv6tu+9Guga5BcAjkMwEExKLqIiAWFcNNKgiIG1qMNUQAATEEkjB5R+CiH03VU39aGOi+jj2sm/79wtBA1yA4BPKZAAJiUXWNCUh6T1zFCre6BSoivIY33DbzKh7pLLmCFW69WC18AoefMUET/7sy0IVbtypW1cyTVVycCHQdgkMgXwkgIBZVFgGxqBheUkFAvFBjjksCCIhLYAwvOAK7HflvfT57XeD7XvnJiercqSzwdVgAAvlIAAGxqKoIiEXF8JIKAuKFGnNcEkBAXAJjeMER6LH3v7RsxWbH+y4/dpBKdh0kufxS+t+vKlX3jsWO12EgBCDwDQEExKJuMC4g6b1xFSucKiMg4XAu0FX8ikcaG1ewCrSBCmjbAw99VXMXbMi545KyIg294DC9XdlJyaT7q1Tr75VacwCSkzMDINAUAQTEor5AQCwqhpdUEBAv1JjjkAAC4hAUwwqewPHnvaPX3l7eLIedBndV26MP1mcrSjzx6tRaWnWXp6lMggAEJCEgFrUBAmJRMbykgoB4ocYchwQQEIegGFbwBG6+61Pd/cCsrBwOHT5EH7fqr7Wb3Z96pINecKD01PkFjxoAEPBMAAHxjM78xMAEJJ0qV7HMF23biAUmILz9Kth2MiUcmVlyBSvYuhE9egIfflKp8mFvNkqkTfsW2vv8I/Tu8ja+k/z7pdLJe/oOQwAIFCwBBMSi0iMgFhXDSyoIiBdqzMlCAAGhNSDgncDBJ7+lSR+u3hpg1wP6aNPe5ZpfWeQ96Ncz27WQlt8ptfB2e8v3+gSAQD4QQEAsqiICYlExvKSCgHihxhwEhB6AgHECz49bpPOvniIlpCNGHKT3q3uqus77lattE/zRUdJvzjCeMgEhUFAEEBCLyo2AWFQML6kgIF6oMQcBoQcgYJxAMpnU8Ks+0uLeu2vyshbG4vfrLH1yk9TGXEhjuREIAnEigIBYVK3ABSS9V54FCabqCEgwXAssalBXr9IYeQakwBqqgLe7ZI20/6+kiiozEFqWSm9fIx3Q10w8okCgkAkgIBZVHwGxqBheUkFAvFBjTgYBBISWgIA5Av9dIJ30qLRivb+Yqec9nj5fOqfcXxxmQwACWwggIBZ1AgJiUTG8pIKAeKHGHASEHoBAoARSJyHf+4P0RvY38za7/m49pD9eIA3pHWiaBIdAQRFAQCwqd2gCkt4zV7GCqX6BiAiv4TXbPkGffKSz5QqW2boRLR4E6uulX74u3f4vqabOec4jD5HGDOeL586JMRICzgggIM44hTIKAQkFc/CLICDBM87DFRCQPCwqW7KOQMUa6ZkPpD99KH34pZRMNk5xl+7S6XtJFx8kDe5h3RZICAJ5QQABsaiMCIhFxfCTCgLih17BzkVACrb0bDwiAivXS7OXS9s6yA7tpZ06R5QQy0KggAggIBYVO3QBSe+dq1hmuyDPBYSrV2bbJSzxSGfNFSyz9SMaBCAAAQi4J4CAZDBbt26dfvWrX2nKlCmaPHmyli5dqgsuuEBPPfVUI7p1dXW69957NXbsWC1atEg77rijRo4cqZ/85CcqLi52XQ0ExDUyOycgIHbWxdKsEBBLC0NaEIAABCAQGAEEJAPt/Pnz1b9/f/Xq1Uv77befxo8fn1VArrzySj388MO66KKLdOihh+rdd9/Vk08+qdR//+CDD7ouGgLiGpmdExAQO+tiaVYIiKWFIS0IQAACEAiMAAKSgXbz5s1asWKFevfurdraWpWWljYpIB9//LH23ntvXXPNNRozZszWKNdee63uv/9+TZs2TXvttZerwiEgrnDZOxgBsbc2FmaGgFhYFFKCAAQgAIFACSAgzeBtTkBuvfVW3XnnnZo7d27DiUn6Z968eRowYIBuueUW3XHHHa6KF5mAZGbJMyGu6tZoMALij1+BzA5bPNJYeQakQBqMbUIAAhCwmAAC4lFAhg0b1nDKkXpGJPOnR48e2nffffXyyy+7Kj0C4gqXvYMREHtrY1FmCIhFxSAVCEAAAhAIlQAC4lFAUterysrKGh5Wz/wpLy9XTU2NUte0sv1UVFQo9Z9tf2bMmKERI0ZIk/8qle8RaiNstxgnIP7YIyD++BXIbASkQArNNiEAAQhAoBEBBMSjgAwcOFCpk47Ug+eZP6kH0pctW6bZs2dnjT5q1CiNHj266X+PWkDSWSEi/v5k+BWRP1/jb/3M2WffbyQer+H1hzEq8UhnzRUsf/VjNgQgAAEI+CeAgHgUkLw+AUFA/P9mpSIgIGY45lkUBCTPCsp2IAABCEDANQEExKOA5PUzIAiI61+kJicgIGY45lkUBCTPCsp2IAABCEDANQEExKOApN5yddddd+XnW7AymXAVy/UvVsMEtwJi+sqV06xdXs3iCpZTsFvGRS0cmdlyBctd/RgNAQhAAALmCSAgHgUk9Qas1Juusn0H5KOPPtKQIUNcVcyat2AhIK7qlnUwAmKGY8yjICAxLyDpQwACEICAcQIISBNIH3jgAVVWVqq+vl633357g2gMHz68YeSpp566VSyuuOIKPfroow1fQh86dKjeeeedhi+hX3755XrkkUdcFwsBcY3M7gkIiN31CSk7BCQk0CwDARcEZlVLr2+QFtVKK+qkyjqpe4m0S6l0YEvpoFYugjEUAhBwTQABaQJZv379tGDBgiZhpgTjwgsvbPi31IcK77nnHo0dO1aLFy9Wnz59NHLkSN1www0qKSlxXQxrBSS9E65iuatpLgGJ6spVtl3kuIrF1St35bdNPNLZcwXLXR0ZnT8E6pPS2DXSg5XS9Orm97VrmfSDDtIF7aUOxfnDgJ1AwBYCCIgtlZCEgFhUDBOpICAmKMY2BgIS29KReB4SmLJJuuIrafJmd5vrWiw91F06u527eYyGAASaJ4CAWNQhCIhFxTCRCgJigmJsYyAgsS0diecZgdSJxw+XSfU+9nV1R2lMN6ko4SMIUyEAga0EEBCLmgEBsagYJlJBQExQjG0MBCS2pSPxPCIwZrV03XIzG7q2o3RfdzOxiAKBQieAgFjUAdYLSJoVz4I465psAmLbsx/ZdpPxTAjPgDgru63ikc6eZ0Cc1ZFR8Sfw8nrpxC+lpMGtPNBduqqjwYCEgkCBEkBALCo8AmJRMUykgoCYoBi7GAhI7EpGwnlIYGO9tMcCaV6N2c2lnkef1lfao4XZuESDQKERQEAsqjgCYlExTKSCgJigGLsYCEjsSkbCeUjgpyukX6wKZmMnt5H+3juY2ESFQKEQQEAsqnRsBCTNjKtYzronLSJxuXqVuauvr2JxBav5ctsuHunsuYLl7NeWUfElkDr96DlXqvLz1HmO7X/cV9qTU5D4NgmZR04AAYm8BN8kgIBYVAyTqSAgJmlaGwsBsbY0JFZgBP6yVjq7IthN/7yL9L9dgl2D6BDIZwIIiEXVRUAsKobJVBAQkzStjYWAWFsaEiswAiOXSo9XBbvp41tLr/QJdg2iQyCfCSAgFlU3dgKSyS5frmT95SWzXbFkmtl4IUdb9evrjK7Y8oD8urcQF/FIF5ErWEbbmWAWEjhikTRhY7CJtU1IlYOkYr4LEixoouctAQTEotIiIJYUAwHZrhAISPN9iYBY8ntLGhD4msDu86UZ1cHjWDVQ6pR6LRY/EICAawIIiGtkwU1AQIJj6yoyAoKAuGgYBMQFLIZCIAQCPeZIy+qcL7RXhw1q16nS9fdCXirpoe5FGIhz0oyEwDcEEBCLugEBsaQYCAgC4qIVERAXsBgKgRAIDJjn7PsfRUrq8N4rNbH1Srnwla07WKed1SZRFMKOWAIC+UcAAbGoprEXkDTLuD0LYlo4MnuKZ0Ac/ZbF7dmQuIlHugg8A+KoHRkUYwLfWiz9e0PzG+jVokbde1doWrG3h0U6qEiViZ1jTInUIRAtAQQkWv7brY6ARFQMBKRZ8KafAcm2GAISTv8jIOFwZpXoCNy4XLpndfb1D+qyVl90WqrVCe8fChmh9vpDold0m2RlCMScAAJiUQERkIiKgYAgIB5ajxMQD9CYAoEQCPx3o3TQosYLtSiq14F9lmlCizW+sxinHXR6op3vOASAQKESQEAsqnzeCEiaqa1XsYIWjmw9FdOrWGGdgKSx2X4SElfxSPPlBMSiP/qkEhiB/RdIUzZ/E35gm81K9Fyi2UX+X4/VRgkt1yC14vmPwOpH4PwngIBYVGMEJKRiICCuQCMg2+NCQFy1D4MhEAmBp9ZIF321ZenDe67W5LbLtTGRNJLLVeqoBxI9jMQiCAQKlQACYlHlEZCQioGAuAKNgCAgrhqGwRCwgEB9Ujqpok6ruy3VpJJ1xjLqoxJ9qn5qn+D1u8agEqggCSAgFpU97wQkzdaWq1hRiUeaQ8yuYIUtHtl+FaO+khX3E49MrlzBsuiPPqkESmBhskb7a4GWe3rJbuPUSiW9oR11WKJ1oHkTHAKFQAABsajKCEjAxUBAXAFGQLbgQkBctQ2DIWAVgQnJDTpFX2qNvL/xKrWhEkmPqacuTHSwan8kA4G4EkBALKocAhJwMRAQV4AREATEVcMwGAKWEpifrNF3tUTvaZOnDAeoVM+rlw5KtPI0n0kQgEBjAgiIRV2RtwKSZhzVVayoxSO9f65g+fptC/sqVr6dfKThcwXLVxsyOaYEapNJjdIK3aVVrs5CzlM7PaIePPMR07qTtr0EEBCLaoOABFQMBMQTWFtOQNLJIyCeythoEgJihiNR4klgXrJaT6pKf9JazVTTr+TtrRKdrra6RB20b6JlPDdK1hCwnAACYlGBEJCAioGAeAKLgBR54mb7JATE9gqRX1gEFiVrNMCeKIsAACAASURBVEvV2vblvCn52DXRIqwUWAcCBUsAAbGo9AhIQMVAQDyBRUAQEE+NwyQIQAACEIBADgIIiEUtkvcCkmYd1rMgtohHZo/F5FmQQhWQfH32I92GnIBY9EefVCAAAQgUKAEExKLCIyCGi4GA+AKKgPjCZ+1kBMTa0pAYBCAAgYIhgIBYVGoExHAxEBBfQBEQX/isnYyAWFsaEoMABCBQMAQQEItKXTACEvRVLFvFI71vrmD5+q0L6m1Y+X71Kg0dAfHVfkyGAAQgAAEDBBAQAxBNhUBADJFEQIyAtO0EJL0pBMRfeREQf/yYDQEIQAAC/gkgIP4ZGouAgBhCiYAYAYmAGMFoXRAExLqSkBAEIACBgiOAgFhU8oITkEz2pt6OhYD46mpbxSNzU6ZOQgrl6lWaHwLi69eDyRCAAAQgYIAAAmIAoqkQCMhgMygREF8cERBf+KyfjIBYXyIShAAEIJD3BBAQi0qMgCAgNrQjAmJDFYLLAQEJji2RIQABCEDAGQEExBmnUEYVvICkKXu9imX7yUd6f5a/BatQBKTQrl6l2w8BCeXPOYtAAAIQgEAzBBAQi9oDAfm6GAhIpF2JgESKP/DFEZDAEbMABCAAAQjkIICAWNQiCAgCYkM7IiA2VCG4HBCQ4NgSOT4EvkxW6Y3kfC1KVmmFNqgyuUndEq21S6KLDkr01p6J7vHZDJlCIIYEEBCLioaAICA2tCMCYkMVgssBAQmOLZHtJ/Bc/cd6sH6y3ksubjbZcvXUlcX767uJPdUqUWr/xsgQAjEjgIBYVDAEJKMYbq9ixeUZkPQ2LX0WJC4Cksbo9HW8hfrMR+afOATEoj/6pBIagU+Ty/SDun9pQnKhqzV3UDv9vvgknVS0s6t5DIYABJongIBY1CEICAJiQzsiIDZUIbgcEJDg2BLZTgJP1U/TZXXjVaN6zwneUHSI7i46VolEwnMMJkIAAt8QQEAs6gYEBAGxoR0REBuqEFwOCEhwbIlsH4Hf10/VFXX/UNJAajcWHaq7i481EIkQEIAAAmJRDyAgWYqR6ypW3K5epbdp2RWsuIlHGmOuK1hcvdr+9woBseiPPqkESuCN+nn6Vt1zqjeiH1tSfbz4FF1ctE+geRMcAoVAAAGxqMoICAISZTsiIFHSD29tBCQ81qwUHYHNyVrtVfuoZmmV0SRKVaSPSy7X4ERXo3EJBoFCI4CAWFRxBAQBibIdEZAo6Ye3NgISHmtWio7Az+ve1m31bwWSwBmJwXqx5DuBxCYoBAqFAAJiUaURkBzFyHYViytYRro43wSEq1dNtwUCYuTXhSAWE0idfvSs/a0qtSmQLFOPoX9W8gPtyilIIHwJWhgEEBCL6oyAICBRtiMCEiX98NZGQMJjzUrREHip/nOdUffnQBe/s+ho3Vx8WKBrEBwC+UwAAbGouggIAhJlOyIgUdIPb20EJDzWrBQNgctqx+ux5IeBLv7txED9q+S7ga5BcAjkMwEExKLqIiAISJTtiIBEST+8tRGQ8FizUjQEjqx9Wm+7/OCg20zbq4VWl/xERXwXxC06xkOggQACYlEjICAOi5H5LEhcnwFJb9eS1/HGVUDSGNOv4+XZj+Z/jxAQh39nGBZbAnvUPKzPtCLw/FeVXK9OiVaBr8MCEMhHAgiIRVVFQBwWAwFxCMrdMATEHa+4jkZA4lo58nZKoGfNb/SV1jsdrj0SNdqhaKbj8emBzyUeVrdEZ9fzmAABCHACYlUPICAOy4GAOATlbhgC4o5XXEcjIHGtHHk7JdC/5n7NV2XO4QkldVzRUk0tek41qsk5PnPAEi1Xm0Qb1/OYAAEIICBW9QAC4rEcfWZ4nGjJNK5gGSnEf//DVQgnIBEQJ5QYE2cCx9b+QW8k5ze7he5KanDxBE1LvONpq+3UTosTX3mayyQIQAABsaoHEBCP5UBAPILbflrcT0AQEGdtgIA448So+BK4vu41/br+/awbOCixUcuLn9MKLfe8ybP0HT2eeMrzfCZCoNAJ8AyIRR2AgHgsBgLiERwCYgRczIIgIDErGOm6JvBO/SIdVtdYDkqV1NHFczQp8RcllXQdd9sJz+h5nZY43VcMJkOgkAkgIBZVHwHJUYxZg5sfcPRLFlXTRSoRX8GK+8nHons6NAm74oBqF0UonKEISOHUupB3uk/N7zVN31yR6qd6dSv+p2YmPvaNpbVaa44WqnWite9YBIBAoRJAQCyqPAKCgETRjghIFNSjWxMBiY49K4dH4LH6qbqs7h8NCx5ZtFpfFD2r9VpnJIELdJF+l3jQSCyCQKBQCSAgFlUeAUFAomhHBCQK6tGtiYBEx56VwyNQl6zXcXVPqLjon/og8bKxhXuohyZpqjolOhmLSSAIFCIBBMSiqiMgGcXIdeUqW+3idhWLK1iefguzXb3KFowrWVvIICCe2o1JMSQwLzlPR+kwVWq1keyLVawX9f90VOJoI/EIAoFCJoCAWFR9BAQBiaId43oCgoB46xYExBs3ZsWTwH+Sb+h8naP1Lj5M2NROi1Ske/UbjUxcFk8QZA0BywggIBYVBAFBQKJoRwQkCurRrYmARMeelaMhMCv5hS7WBZquaZ4S2EE76DE9qcMSh3uazyQIQKAxAQTEoq5AQBCQKNoRAYmCenRrIiDRsWfl6AhUJ6t1u/5XD+kBV0mcpJP1gB5W50QXV/MYDAEINE8AAbGoQxCQr4vh9dmPzFryLIij7o6LgLi9cpVr84X6TAgCkqsz+Pd8JjAj+Zme1TN6SS9qsRY3udVO6qwTdaJG6AIdmhiazzjYGwQiI4CARIa+8cIICAISRTsiIFFQj25NBCQ69qxsF4HU1aw5mr3dRwl7aQcN0d4qShTZlSzZQCDPCCAgHgs6f/589e/fv8nZl1xyicaOHes6MgKCgLhrmqWSZkjaJKmlpN0k9XQXQhIC4hpZrCcgILEuH8lDAAIQyAsCCIjHMqYF5LTTTtNZZ521XZRBgwbp4IMPdh254AXE1NWrTPJxuYrl+HW8KyX9TdLCJnpsJ0mnScp9X7lQxSMTWqFdxUJAXP9pZgIEIAABCBgmgIB4BJoWkFtvvVW/+MUvPEbZfhoCMtgIx0ZB8kpAUvLxuKQNzbBqLemSnBKCgGxBiIAE82tHVAhAAAIQgEA2AgiIx97YVkBSEpL6adWqlcdoW6YhIAhI7gZ6IsvJR+bM1EnIxc2GQ0AQkPLy8twtxwgIQAACEICAYQIIiEegaQFp27at1q1b1xAldfXquuuu01VXXeUpasEKSFBXrzKrYPtJSM4rWKlnPh5x0VtXNPtMiO0CYvqtV7nAFcpJCFewcnUC/w4BCEAAAkETQEA8El64cKEuvvhinX766erbt6+WLFnS8OD55MmTdf311+vee+9tNnJFRYVS/9n2Z8aMGRoxYoQ0+a9S+R4eM4vhNARkS9FyCsh/JL3losBHSUr9p+kfBGR7LgiIi9ZiKAQgAAEIQMAHAQTEB7zMqXV1dTrmmGM0ceJEffHFFxo4cGDW6KNGjdLo0aOb/ncExGBVtgkV+xOQf0ma5ILNQZJOQEAcEkNAHIJiGAQgAAEIQMAnAQTEJ8DM6X//+9916qmn6tFHH9Vll12WNTonIJLCOvnIrEJsRaQwTkDCvnqV2R75LiJcwTL8R59wEIAABCDgmgAC4hpZ8xOmT5+uvffeW3fccYduueUWV9EL7hkQBKTp/sh6FaswngFBQFz92XA9GAFxjYwJEIAABCBgmAACYhjoiy++qDPPPLPheZDUBwnd/CAgbmj5GBvbE5DUnvP/LVgIiI/edjAVAXEAiSEQgAAEIBAoAQTEI95Vq1apc+fO283euHGjhg4dqk8++URz5szRjjvu6Co6AuIKl/fBsRaQ/P8OCALivbWdzERAnFBiDAQgAAEIBEkAAfFId/jw4dqwYUPDF8/79OnT8Basp59+WnPnztVdd92lm266yXXkghGQqK5eZauIbUKS821Y/r6Ebuvbr6IWj3R78AyI6z9dTIAABCAAAQi4IoCAuML1zeDHH3+8QThmzpyp1GlI6nsgqY96XXvttQ0PoXv5QUC8UDMwJwgBqZknbZwkJddLiTZSq4Ol0n7Oks0pIOkwqWdCPpe0MfUZTEm7Nvvdj/QstwLyyZKPNf7j8VqzcY06tOqgU/Y6RXvssKezvbgYhYC4gOVjKCcgPuAxNW8IrK1dqc/Wv6mVNYu1tm65NtStUfuSbupVtosGtT5I3cv6581e2QgEbCSAgFhUFQQkomKYFJDaCqnyAan6s8abKdtd6ni1VNKr+Y06FhBvvJwKyNwVc3XNC1fpvbnvNVrokAGH6P5zHtSArgO8JdHELATEGMpmAyEg4XBmFTsJfFD1kl5d+aA+Wf+GkqrPmuTg1odpWOerdGCHM1WSKLVzM2QFgRgTQEAsKh4CEnEx/IpI7RJpxc1SfVX2jRS1l7re3byEWCAgc5bP0bfvP14r16euezX906VNF73yw9d8S4gt4pG5y3y9ioWARPx3huUjIbB08xw9WXG1pq172dX63Uv767LeY7Vn22NczWMwBCDQPAEExKIOQUAiLoZfAVlxa9MnH5nbSp2EdL0j+2YtEJCTHjyhyZOPzKRTJyH/uCr1gUTvPwiId3ZeZiIgXqgxJ84E3l3zgh5efKFqkps8bSOhhM7qPkpndr/N03wmQQACjQkgIBZ1BQIScTH8CEjqmY/l/+N8A91+m/2ZkIgFJPXMxxG/PtzxXib8eKKvZ0IQEMeojQxEQIxgJEhMCLy9+g96+MsLm71u5XQrZ3cfjYQ4hcU4COQggIBY1CJ5LyC2vf0qW+29iEjVH6V1LzjvpnbnSu3OaX58QCKS6xmQu1+5S/e8+kvHe7nx+Jt04zDnb32zVTgyN8wVLMctwEAIWEng8/UT9fN5R6tOtcbyu6bP8xra8Txj8QgEgUIlgIBYVHkExJJieBGQNY9L68c730Cbk6UOOT5UGZGA3PzSTXp0wiOO93L54VfortPvdjweAXGMKpCBnIAEgpWglhGoTdboptn7aPHmJl4I4iPX0kRL/WrnT9WjzNwLOHykw1QIxJYAAmJR6RAQS4rhRUA4AXFcPATEMapABiIggWAlqGUE/rb8l/q/r5yfzLpJ/5AO5+jaHf/oZgpjIQCBDAIIiEUtgYBYUgwvAmLyGZA0hohOQIJ+BgQBibbPEZBo+bN68ARq66v1g5k7aG1d9rf4+ckioSL9dueZ6tlikJ8wzIVAQRNAQCwqPwJiUTFSqbgVEVNvwYpYQFLLB/EWrLiIR2YX5tuzIAiIZX9nSMc4gSlVf9e9C719ENhpMuf1uFundbvR6XDGQQACnIDY2wMIiGW1cSsgqY8QrrjJ/3dALBCQ1EcIh/3uW0a/A4KA2NHfCIgddSCL4AiMXfID/XuV8+fYvGSyb7uTdGNfF8/9eVmEORDIYwKcgFhUXATEomJ4OQFJzTHxJXQLBCSVgukvoSMgdvQ3AmJHHcgiOAKj5x6pGRveDm4BSW2KOuqx3VaqKFEU6DoEh0C+EkBALKps3gpIXF6/m60X3J6EpOLUzJc2TZLq10lFbaWWB2X/7ke2dQ0/A5Lr9bvZ0vh0ySca//F4VW6sVMdWHXXyXie7+u5HXMUjzYMrWBb9kSQVCDggcP2sPYy//aqpZcfutkptizs5yIghEIBAJgEExKKeQEAsKsa2qXgREBNbsURA/G4FAfFL0Ox8TkDM8iSafQQu/7yn1tR+5TixPq0Hqm/H3o7Hpwde0OHPal/c3fU8JkAAAhICYlEXICAWFQMBMVYMBMQYSiOBEBAjGAliMYGrZ/bVipqFjjI8oPvhWtNismq00dH4bQeNar9WLRJtXc9jAgQggIBY1QMIiFXlaJxM2CchQ0duyeHP1/gDc/b9DfNXHTzHXxyXs+MuHuntcgXLZeEZDoGICfxs3tH6bP2bzWbRtqSDhvTaVRWa5CnbMrVRSkASiYSn+UyCQKET4ATEog5AQCwqRlOpICCuCoSAuMIV2mBOQEJDzUIREXim4n/0z5W/zbr64PZD1KLjCq1NLvGc4V6lZ+u7rf/keT4TIVDoBBAQizoAAbGoGAiI72IgIL4RBhIAAQkEK0EtIvDZ+rf0s3lHNcqoSEU6uNfh+qpkoupV5yvj81r9UUPKzvEVg8kQKGQCCIhF1UdALCqGk1SCOhE56/TtV6/o6iSbnGM2XLO4YcymDzbnHOtnQL6IR5oBV7D8dANzIRANgcw3YXVrsYMGdO+qZZruO6EStdT/tl/O8x++SRKgkAkgIBZVHwGxqBhOUkFAmqSEgDhpnujGcAISHXtWDo/Aqysf0hMVVzUsuHfng1Xd5nNtUqWRBMpLL9DZrZ8yEosgEChUAgiIRZVHQCwqhpNUEBAExEmfWDYGAbGsIKQTCIHaZI1GzT1MPTq30JKiCcbWaJPoqh+1naE2RWZOpo0lRiAIxIwAAmJRwRAQi4rhJBUEBAFx0ieWjUFALCsI6QRGYHntTD24/kBtVpWRNRIq0vdb/127lp5oJB5BIFDIBBAQi6qPgFhUDDepmBKRzGc/0jn4fAYk/exH5pZMPwuSb1evtuI/oNpNN1g/FgGxvkQkaJDA5zX/0HMbzlSt/D37llBCJ7S8V4e3+LHB7AgFgcIlgIBYVHsExKJiuEkFAWmghYC4aZroxiIg0bFn5WgIVNRN1x83nKtl9TM8JdA20V1ntXpag0u/7Wk+kyAAgcYEEBCLugIBsagYblJBQBAQN/0S8VgEJOICsHwkBKqTGzR+43X6oOYxV+vvXHK8zm71jNoV9XA1j8EQgEDzBBAQizoEAbGoGF5S8Soi2a5epXMI6ApW5ha9XsnK15OPTD758jpeBMTLLzdz8oXA4trJmlzzuD6p+YvWJ1c0ua0ytdXg0hO1f+nFSgkIXzvPl+qzD5sIICAWVQMBsagYXlJBQLxQi80cBCQ2pSJRCOQkkEwmVVH/kVbUfaGkklvHty/qrZ2KD1ZxojRnDAZAAALeCSAg3tkZn4mAGEcabkAEJFzeIa+GgIQMnOUgAAEIQCBvCSAgFpUWAbGoGH5SySUiua5cZVvb41WsbG/ByrZMrqtYhXLlKs0nX8QjvR+uYPn55WYuBCAAAQiYIICAmKBoKAYCYghk1GEQkKgrYHR9BMQoToJBAAIQgAAEhIBY1AQIiEXF8JMKAuKHnnVzERDrSkJCEIAABCAQcwIIiEUFREAsKoafVBAQP/Ssm4uAWFcSEoIABCAAgZgTQEAsKiACYlExTKTyoIkg28QI6RmQbFnPOrul4Q3FIxwCEo86kSUEIAABCMSHAAJiUa0QEAuK8fk06bVxUlWl1L6j9K3h0q5DvCWGgGzlNrNmmt7YPE5rk5Vql+ioY1sM1y6lHrl6q4bnWQiIZ3RMhAAEIAABCDRJAAGxqDEQkAiLsWC2dMvF0uQJjZPY/3DpziekvoPcJYiAaGHtbN1edbGm1jTmWl56uEa3f0I7lbjk6q4KvkcjIL4REgACEIAABCCwHQEExKKGQEAiKsb8WdK5h0qrm/4qbkNWnbpKL7znTkJ2nrllQ9cNNrMxl1ew3L5+N1uSb99T1PBPvT4oc7WPBbWz9P1Vh6oyy9eGU8E6JrrqD53fs1pCEBBXZWcwBCAAAQhAICcBBCQnovAGICDhsd5upfOPaPrkIzOd1EnIc287T7LABeSiVUc0efKRCTB1EvJkZxdcnVfAyEgExAhGgkAAAhCAAAS2EkBALGoGBCSCYqSe+ThtH+cL/22a82dCClhAUs98fGeVc65/7jzN2mdCEBDnvx6MhAAEIAABCDghgIA4oRTSmLSAtJncQsXlW669OPmp0odOhkU3ZpahK0hB7OD+UdIDo51HvmaUdPXtzsanBSQ92u9VrJCvYKWvXmVu1slVrIfXjdIj651z/UGbUbqirUOuzugbGxUXARk2/v8c7Xmq5ms/jdKUKVNUXl7uaA6DIAABCEAAAiYJICAmafqMhYD4BOhl+h3XSc+McT7z+9dKt97nbHwBC8g9a6/Tcxuccz2/9bW6oZ1Drs7oGxuFgBhDSSAIWEOgVhu0TFO0QUu1SatUo3VqqU5qp37qor3USt2syZVEIJCPBBAQi6qKgERQDE5AskLnBGQLGgQkgt9LloRAQAQqNFFf6Hkt0QTVqybLKgn10mHaReept45SQs5vJASUNmEhkHcEEBCLSupVQLxuIfSrWzZexQrjGZBsBfJ6JcvhVSyvb8HKJh7pbTi5gsUzIF5/KyWnV6m8rsAVLK/kmBdnAqmTjsm6Q4v0mqtttNcAHaw71E37uprHYAhAoHkCCIhFHYKARFSMoN+CVYACktoyb8Hy1s8IiDduzIJANgKL9Ybe0fVKXbvy8pNQsfbVj7WbLvYynTkQgEATBBAQi9oCAYmoGKmPEJ5zSHDfASlQAUl9hPB7qw7hOyAu2xoBcQmM4RBohsBCvayJul5J1frmtK9+ot11ie84BIAABCQExKIuQEAiLEYQX0LPfAg9c3t5fAUrvVW+hO6+pxEQ98yYAYGmCKzQNL2mEc086+GOW+pZkMM1RjvqW+4mMhoCEGhEAAGxqCnCFhCvW/f87IiNz4BkQvh8uvTvcdKa1VKHTtJxZzj/7kc6Vi7x8Cgi9fckXZVs0383uxqf69mPdDAnz4BkLvxFzXS9sXmcqpKr1T7RSce0OMPa736kc/f78HnQIuGquNsM5hkQr+SYFycC9arTyzpTq/W50bSL1Uqn6B9qox2MxiUYBAqNAAJiUcUREIuK4ScVBMQPPWvmIiDWlIJEIOCawOd6WlN0l+t5Tib006kaqnucDGUMBCCQhQACYlFrICAWFcNPKgiIH3rWzEVArCkFiUDAFYF61epFHaHNWuVqntPBqYfST9Uraqs+TqcwDgIQyCCAgFjUEnERELfItl7ZisMVLLeba2q8WwFJx8h4JsTtlatcqWdeyXJ65SpbXC9XsXLlaNO/pwXE1qtUXllxBcsrOebFhcCXektv6vJA0+WB9EDxErwACCAgFhUZAbGoGH5SQUD80LNmLgJiTSlIBAKuCHygnzV8bDDIn946Wkfp4SCXIDYE8poAAmJReREQi4rhJxUExA89a+YiINaUgkQg4IrAa/qelukDV3PcDi5TB52l95VQwu1UxkMAAuI1vFY1Qb4KSBpyVe3N7njP+6m78VGP9ioeGXnXV+8S6E5ePavGSPy4XcEakvT4PxSWPWWEly1BuIJlSyXIIygC43WK1mhWUOG3xj1b/1WZ2ge+DgtAIB8JcAJiUVURkIxiICCBdCcC4hIrAuISGMMhEC2Bv+pwbdJyx0l0Vi/19fBa3UEaozJ1dbwOAyEAgW8IICAWdQMCgoCkCHACEswvJScgW7hyAhJMfxHVHgLjdLQ2qMJRQoO1j9rrUyW1wdH4bQftrOkqUhvX85gAAQhwBcuqHshXAXF99cpvVaI6OYnJFaw03riehHgWCa99xQmIV3LMg0AkBFJfP1+myc2uXabW2keDVK8pnnJMqKV21ic8A+KJHpMggIBY1QMIiKFyICCOQCIgjjBJCIhDUAyDgB0EJusOzdQfsibTSwO0k9aqTks8J9xWx6s3b8HyzI+JEOAKlkU9gIAYKgYC4ggkAuIIEwLiEBPDIGALgaV6T6/roibTGaJylWmqJH8v4+il36q9TrVly+QBgdgRQEAsKhkCYqgYCIgjkAiII0wIiENMDIOALQSSSmq8TlSV5m1Nqa06aw91U50+8Z1mQmUaqP+qWO18xyIABAqVAAJiUeXzTUBCf/bDby29ikvMnv1IY4paQEJ/lsNvf+TJVSweQvfbCMyPA4HP9Yym6M6GVPtrd3XTItVrlZHU2+kU7aD7jMQiCAQKlQACYlHlEZCIi4GAeCqA1++BICCecPuehID4RkiAGBCoU7Ve0Xc0QK2V0H8lJY1kXaQO6q9XVKJuRuIRBAKFSgABsajyCEjExUBAPBUAAfGELbJJCEhk6Fk4ZAKbNFMLdZanV+w2nWpCO+hBtdOwkHfCchDIPwIIiEU1RUAsKoaDVNqX3NUwqkofOhide0jQ3//IloHfq1jDxv/fltDdL8y9yXwYEfOrWAhIPjQhe3BKYK1e1hJd5/uh89R6XfUjddHVTpdmHAQg0AwBBMSi9kBALCqGg1QQkC2QEBAHzWLREATEomKQSigENmqaKnSdarTQ03qpa1c9dRcnH57oMQkCTRNAQCzqDATEomI4SAUBQUActIl1QxAQ60pCQiEQqNNafaXbtFb/z9VqrXSAeuk3KtUOruYxGAIQaJ4AAmJRh+SLgMTu7Vc+eyAtIm7DpK9uRXX1Kp1v+grW1pMMtxtJj+cKlldyoc5DQELFzWKWEdigSVqjP2mtXlNS65vMLvWa3dYaqg46W211nBIqtmwXpAOB+BNAQHzUsK6uTvfee6/Gjh2rRYsWaccdd9TIkSP1k5/8RMXF7v9gISA+ihHh1KgEZNr0aRr3t3GqXFOpjh06avjpwzVkryGuSSAgLpHxDIhLYAyHgH0EkqpR6mpWjeYp9d2Q9E+peih16lGk1vYlTUYQyCMCCIiPYl555ZV6+OGHddFFF+nQQw/Vu+++qyeffFKp//7BBx90HRkBcY3MiglhC8jsObN1yWWXaMI7Exrt//Chh+vx3z+uQQMHOWaDgDhGtWUgAuISGMMhAAEIQAAC2xNAQDx2xMcff6y9995b11xzjcaMGbM1yrXXXqv7779f06ZN01577eUqOgLiCpc1g8MUkFmzZ2nokUO1YuWKrPvv2qWr3n37XccSgoC4bCUExCUwhkMAAhCAAAQQECM9cOutt+rOO+/U3Llz1b9//60x582bpwEDBuiWW27RHXfc4WotBMQVLmsGexWQ9AYqq5u+h9zUBo889sgmTz4yx6ZOQt56/S1HjBItn3E0W1pQmAAAIABJREFULuugQnn2Iw0AAfHXL8yGAAQgAIGCJ8AJiMcWGDZsWMMpx9KlSxtF6NGjh/bdd1+9/PLLrqIjIK5wWTM4LAFJPfOx74H7Ot73Rx985OiZEATEMdItAxEQl8AYDgEIQAACENieAALisSNS16vKyso0ZcqURhHKy8tVU1Oj1DWtbD8VFRVK/WfbnxkzZmjEiBFqM7mFisuLPGYW/TTeguWuBk5PQEb9fJR+dsfPHAe//X9vV+o/uX4QkFyEMv4dAXEJjOEQgAAEIAABBMRIDwwcOFCpk47Ug+eZP6kH0pctW6bZs2dnXWvUqFEaPXp0k/+OgBgpUWhBwjoBue766/S7B37neF8/vPqHuu9X9+Ucj4DkRNT0gJiKCK/h9VhvpkEAAhCAgDECnIB4RMkJSHZwnIC4aypOQNzxsmY0AmJNKUgEAhCAAATiRQAB8VgvngFBQNIEwjoB4RkQj7+sQU1DQIIiS1wIQAACEMhzAgiIxwKn3nJ111138RasJvgV2glImCLCW7A8/sIGMQ0BCYIqMSEAAQhAoAAIICAei5x6A1bqTVfZvgPy0UcfacgQd1+l5i1YHothybQwTkJSHyE89IhDjX4HhGdAPDYQAuIRHNMgAAEIQKDQCSAgPjrgiiuu0KOPPtrwJfShQ4fqnXfeafgS+uWXX65HHnnEdWQExDUyMxOmLZX+9pm0ZpPUoaV0+u7SkJ6uY4chIKmkTH8JPQoBmVYjjdssVSaljglpeEtpSIlr5NFOQECi5c/qEIAABCAQWwIIiI/S1dbW6p577tHYsWO1ePFi9enTRyNHjtQNN9ygkhL3/2sq7gISu6tXs1dKl70kTVzQuAsO6yv9/nRpUBfHHRKWgKQTmv7xdI372zitrlytTh076YzTznD03Y/MDYUpILNrpYvXShNqGmM9vFR6op00yP2vjuMaGR2IgBjFSTAIQAACECgcAgiIRbVGQEIsxqyV0pGPSSs2ZF+0a2vp7UsdS0jYAmKKVlgCMqtWOnS1tCLZDPKE9F6nmEgIAmKqBYkDgfAJJKuluklS/WIpuVxKrpES3aTiXaTi/aREh/BzYkUIFBABBMSiYiMgIRbjmMebPvnITCF1EvLGJY4SQ0Cax3TE6qZPPjJnpU5C3u7kCHm0gxCQaPmzOgS8EKh9R6p+UKr5u6R1WSKUSCWnSi2ulEqO9bIKcyAAgRwEEBCLWgQBCakYqWc+DnjI+WKTr3T0TAgCkh1p6pmPfVY7Rz6tcwyeCUFAnBeUkRCImkD9MmnTj6WaZ91lUrSv1PoJqXgfd/MYDQEINEsAAbGoQRCQkIrxszekX7zpfLGfHi2l/pPjx6uAXFm1sSHynS3rcy1h9N8T5339sMW4J/zF7X5hzvmj1kmjm7ntlhlgVBvp9jY5w0Y7AAGJlj+rQ8ApgZpXpQ3nSKp0OiNjXJnUcozU4gqP85kGAQhkEkBALOoJBCSkYvz4n9L97ztf7JqDpV+fmHM8ApId0XVrpTFbPMvRz7WtpPvaORoa3SAEJDr2rAwBpwRqxksbzpRU7XRG9nEtH5BaXOU/DhEgAAEhIBY1AQISUjE4AWkAzQmIz35DQHwCZDoEAiZQ96G0bqgkF//fj2ZTKpZa/z+pNPf/QyrgnREeArEngIBYVEIEJKRiRPwMSPrKVbbdhnUVa6uAZEvE6dUsB1eweAYkpN52sMxUzdd+GqUpU6aovLzcwQyGQCCGBJL10vqDpLrJhpNvJ7X7XCrawXBcwkGgsAggIBbVGwEJsRgRvgWrEAUkVVneghVifzezFAJiRx3IImACmx+SNgV0Xar0Yqn14wFvgPAQyG8CCIhF9UVAQixG6iOER0TzHZBCFZDURwgP4TsgITZ500shIJGXgASCJpCsk9b2kZJLA1qpVGo3RyraMaD4hIVA/hNAQCyqMQIScjFC+hJ6LuHItuugrmLlvHqVLaFsV7IcXMFKh+RL6CH3eBPLISDR14AMAibQ8NarYcEu0vLXUov/CXYNokMgjwkgIBYVFwGJqBjTl0p/myFVbpQ6tpJO283Rdz8ys832FiwEpHFdp9dK4zZLq+ulTkXSGS1i8N2PzG3wEHpEv7AsC4EcBDZeK1X/LlhMJadLbcYFuwbRIZDHBBAQi4qLgFhUDA+pICAeoMV5CgIS5+qRez4TWHe0VOfiW09eWCS6Su2WSYmEl9nMgUDBE0BALGoBBMSiYnhIBQHxAC3OUxCQOFeP3POZwNq9pPpPgt9h+9VSomPw67ACBPKQAAJiUVHjLiBplFW1N1tENbxU0gLi9cpVtkxNPQvi+dmPbImlnwlx8QxIeNUIYSUEJATILAEBDwSqerl7AL1uB2nTYElJd4v1+KNU3MPdHEZDAAINBBAQixoBAbGoGB5SQUA8QIvzFAQkztUj93wmULWTlFzkbIebD5FWzJTq1zgbv+2o3VZLxe3cz2MGBCCAgNjUAwiITdVwnwsC4p5ZrGcgILEuH8nnMYF1R0h1E5rfYH1Lad2B0pp3vIFItJR2X8szIN7oMQsCCIhNPYCA2FSN3LmcM/O27Qb1N/xK+As7DGg2iV02z27y3xOzSpued5vL6wW5EFzQZvsRl63NNSO//h0Bya96spv8IbDxGqn6gez7qd1ZWpmQqud433O7U6S+vAXLO0BmFjoBrmBZ1AEIiEXFcJAKAoKAOGgT64bwHRDrSkJCpgnUvCxtOKHpqBuPkFZOkZKb/K3a+0mp0/f8xWA2BAqYAAJiUfEREIuK4SAVBAQBcdAm1g1BQKwrCQmZJpBMSusGSfVzv4lc30laM1ha94H/1RKl0q4VUjFvwPIPkwiFSgABsajyCIhFxWgilUzhyJWt3ytZua5gpdcf/MmCXKls/+9+r2JlXr3Ktnq+XsmK6dWrdJkQEHe/LoyOKYHNv5I2/WRL8tX7SCuXS7VLzWym/ZnSTi+YiUUUCBQoAQTEosIjIBYVAwHJXgwExO5GzZEdAhLr8pG8UwLJjdLacmltT2l16kHzeqczmx9X1F7aebpU2sdMPKJAoEAJICAWFR4BsagYCAgCko0AJyB2/6KSHQTSBDZOleYe4f95j22J9nlW6ngujCEAAZ8EEBCfAE1OR0BM0vQfy+2Vq2wrur2K5fTqVXq90K5gOT35yAYiX65kISD+f7mIAIGwCFQ+Ly2+0MwJSNcbpZ53hJU560AgrwkgIBaVFwGxqBiSEJCMeiAgW4AgIHb9opINBHIRWP+WtOgCqXZxrpFN/3tRO6nX/VKnEd7mMwsCEGhEAAGxqCkQEIuKgYA0LgYCgoDY9StKNhBwTqB2lfTlpdLavzmfkxrZan8pde2qxSB38xgNAQg0SwABsahBEBCLioGAICDZ2pETELt+UckGAm4IrP2XtPoJae0/pGR1lplFUpvDpY4XSR3PkVKv3eUHAhAwSgABMYrTX7B8EZA0haram/0BCXm2qStX2dLO9SyI22c/0uu4fgYkPdHp63j9nnzkqmPcng1BQHJVlH+HgP0E6jdI6ydI1bMkJb/Jt6S31OYoqaSz/XsgQwjEmAACYlHxEJBoi4GAZOGPgGwPBgGJ9heV1SEAAQhAIPYEEBCLSoiARFsMBAQBcdSBCIgjTAyCAAQgAAEIZCOAgFjUGwhIuMUIWjgyd2PdFax0gtmuYgV98pGt3LZeyYq5eKRx8yHCcP/OsBoEIAABCDQmgIBY1BUISLjFQEC+5o2AOGs8BMQZJ0ZBAAIQgAAEchBAQCxqEQQk3GIgIAiIq45DQFzhYjAEIAABCEAgGwEExKLeyDcBSaON+m1YYYtGrpbKvIrl9e1X6XU8vwUrHSDzBCSqq1fZwNlyJQsBydXa/DsEIAABCEDAEQEExBGmcAYhIMFwRkBycEVAnDUeAuKME6MgAAEIQAACOQggIBa1CAISTDEQEATESGchIEYwEgQCEIAABCCAgFjUAwiImWLYJhzZdjV6zwFGNuz7ClY6i/RJiG1XsDIphX0lK0/EI42Rt2AZ+bUjCAQgAAEI+CCAgPiAZ3oqAmKGKALikSMC0jQ4BMRjQzENAhCAAAQg0DQBBMSizkBAzBQDAfHIEQFBQDy2DtMgAAEIQAACbgggIG5oBTwWATEDOEgBWT1T+vJ1qXqtVNZO6nOs1HGwt7zz7QrWtHl1Gvd+rSrXJ9WxTULDDynRkH7F3uA0N4srWL6YcgXLFz4mQwACEICAAQIIiAGIpkLkq4Ck+QT1Ot4ghSOd+9qF0gc/lZZPbVztbuXSAT+X2u3krhNO2bNpc9lfNa4CuX4GZMe65uO/2c7V+rMr6nXx/Zs04bPGcQ/fvVhPXNNSg3oVuYrpanBQQpJnV6/STBEQV93F4HwlkKyX1kyXNn4pVa+UatZILbpKbQZJHfaSilvm687ZFwSsIICAWFGGLUkgIN6KEbSArF0g/XuEVF2ZPb+yjtJxz7mTkHwQkFlL6nXoTRu0oiqZFU7X9gm998vWwUkIAuLqFwcBcYWLwflGoPIjaf7jUsXfpepVTe+uqKW0w+lS/5FS5wPzjQD7gYAVBBAQK8qAgPgpQ9AC8sYFTZ98ZOacOgk55mnnO8kHATnilg1NnnxkUkidhLx9Z2vncNyMREDc0BIC4goXg/OFQPVqacZoaf5Tkuqd76rzwdI+D0jtdnE+h5EQgEBOAghITkThDcj3E5A0Sb9XsYIWjm0rnnrm49WznPfAsL/kfiYkm3g4XSXzilbWK1i5rlplW9DhFazUMx/7/GiD07Q17b7WwTwTki0Dr2KSp1ev0pgQEMcty8B8IbDiHWny96XNy73tqLiVtPd90o7neZvPLAhAoBEBBMSipkBAnBUjTAH55CHp04ed5ZUatceV0p4/aH58vgjIqP/brNEvVDuGM+rcMt1+bgvH430PRECaRIiA+O4sAsSJwLL/SJPOkeo3+c86dRLS9/v+4xABAhAQAmJREyAgzooRpoBM/aU061lneaVG7TxCKr+xMATkurGbNGa88wfmrz25VPeNDPHBTgQEAXH+q8vIfCRQ9Zn09nFS3Tozu0uUSoe8KHU70kw8okCggAkgIBYVv1AEJI3c6VWsMIUjsx1MnoD4PfnIzC19FWvrFSyvV66y/Q7kuIpl/QlI5r5yCUmeX71K4+AExKI/+qQSHIFkUpp4vLRqktk1SjtKx0yWWnY3G5doECgwAgiIRQVHQJouRpQCYvIZkHwTEOufAUFAOAGx6O87qYRMYMEz0kdXB7Nov0ukvX8bTGyiQqBACCAgFhUaAbFPQFIZmXoLVr4JSIqNFW/Bcvo7zAlIAylOQJw2DONiSyD1jY9Xd5c2LQlmC0Vl0rc+kVr2DCY+USFQAAQQEIuKjIDYKSCpjxD++3z/3wHJRwFJfYTwkBsj/g6I099hBAQBcdorjIs3geVvSe+eEuwe9rxbGnhlsGsQHQJ5TAABsai4hSYgmehP+HSjRdXYPhUTX0I3LSDpDM9fMzNYbjmeBYn8S+hed58WkgJ59iONiRMQrw3DvNgQ+Pgmae5Dwabb6zTpwD8EuwbRIZDHBBAQi4qLgNgrIOk2qZwpLX5Dqq6SytpLfY7J/d2P9Nx8FZD0/qbPr9O492u1el1SndomdMbBJeF+98Pt7zICovLycrfUGA8B+wm8c4q04q1g82zRTfr2nGDXIDoE8pgAAmJRcREQ+wXET7vku4D4YRPJXAQEAYmk8Vg0cAL/OUSq+jTwZXTiIqm0Q/DrsAIE8pAAAmJRUQtNQK6s2l445i2yqBgGUwlKPNIpRn0FyyCqaEI9vX7LuuOeiGb9kFflClbIwFkufAIv7yJtXup83bou0oqBzsenR373OaltD/fzmAEBCPAhQpt6AAGxqRrmckFAzLEMJBICEghWgkIgMgKv7CZt+tLZ8uuGSK99IVWtdDZ+21HPrpZat3c/jxkQgAACYlMPICA2VcNcLgiIOZaBREJAAsFKUAhERmBC6gOE7ze/fLJUmre3NPFtKfXRQrc/JWXSCxukRMLtTMZDAAISAmJTF+S7gGReucpkzxUsb90Y+BWsdFo53oblLXsLZqUFJDOVPL2SxRUsC3qOFIIlMO1/pPljs69Rs6M0UdLCz73nUX6C9L/jvc9nJgQKnADPgFjUAAiIRcUwmErsT0AQEIPdEH0oBCT6GpBBwASW/kuadE7Ti6zcX3ptsrT562e/vKZy1Vjp2Iu8zmYeBAqeAAJiUQsgIBYVw2AqCIhBmEGE4gQkCKrEhEB0BFJfQn9tiLRx4Tc51LeVPhsoTXnXf17FJdITFVK7zv5jEQECBUoAAbGo8PkmILmuXGWiz7crWEGLR5pfaFew8vUkJJuAZPvbEPOrWZyAWPRHn1SCI/DFb6QZo7bE37SL9MYKabmhVy0ecIp080vB5U5kCBQAAQTEoiIjIBYVw0AqCIgBiGGEQEDCoMwaEAiXQO16KfU9kNndpTcmSHW1ZtZv2Ua6b7rUvZ+ZeESBQIESQEAsKjwCYlExDKSCgBiAGEYIBCQMyqwBgfAJzJkk3XyUVFttbm2e/TDHkkgFTQABsaj8CIhFxTCQihsBWTBtkyaPW6cNlfVq3bFIBwxvq52GtHSUhdsrWNM+lsaNlyrXSB07SMNPkYbs6WipLYPy7W1YCIiL4jMUAjEj8O/HpYcv9/aq3cytnvRD6ZLfxgwA6ULATgIIiEV1ibuAuH3mIxN9vjwD4kY8ls6u1mMXL9XMCdt/FT7FZvDhrXTpEz3Vc1BZs13qVEBmz5Uuvkqa8F7jcIcfIj3xoDRogINfiEIXkExEMXsmhGdAHPQ4Q/KLwNSXpfsvktYs87avslbSRb+Whl3ubT6zIACBRgQQEIuaAgGxqBg+UnEqIEtnVWv0oQu1dkVd1tXadS3W7e/t1KyEOBGQWXOkQ4+XVjTzsd+uXaT3XnMgIQjI9vVCQHz8tjAVAiERqPxK+t0F0kevuVtwpz2l/3le2mkPd/MYDQEINEsAAbGoQRAQi4rhIxWnAvLzIxY2efKRuXTqJOSnb++UNSMnAnLECU2ffGQGTZ2EvP2vHJtHQBAQH78fTIVAZARSXzx/769S6lrW9H9L9fXZUxl0gHTshdLRF0plzq7DRrYvFoZADAkgIB6LduGFF+rpp59ucvaiRYvUp08f15HjIiB+r1plA1NIV7BSz3zcus8Cxz1y57S+WZ8JySUgqWc+9jnc8VKaNtHhMyH5IiJunwHJhdLyExGuYOUqIP9eEATWrZY++Y+0ZNb2z4d03kEacqzUpXdBYGCTEIiKAALikXxaQFISUlRUtF2U4cOHq3Xr1q4jIyCukVk5wckJyF9HrdC40c3ch8rY2fBRXTT89q5N7jeXgIy6Sxr9S+eoRt0k3X6Tg/EISNOQEBAHzcMQCEAAAhAoZAIIiMfqpwWkpqZGJSUlHqNsPw0BMYIx8iBOBOQP1y3TK2NWO8512LWd9L37unsSkOtuksY84ngpXXuFdN/dDsYjIAiIgzZhCAQgAAEIQCCTAALisSfSAlJdXa2NGzeqbdu2jU5C3Ia2VUCCunKVySfuV7CciEd6z5yAuP3tCGC86atX2VK07ESEK1gB9BIhIQABCEDAFQEExBWubwanBaRdu3Zau3atWrVqpRNOOEH33HOPBg4c6CkqAuIJmzWT3AgIz4BYUDYEROXl5RYUghQgAAEIQKDQCCAgHit+0003KXX9ar/99lOLFi30/vvv6/7771dKSCZPnqy+ffs2G7miokKp/2z7M2PGDI0YMUJtJrdQcfn2z5V4TNPINE5AnGF0IyCpiLF9C1YaR9yvYCEgCIizX21GQQACEICAYQIFLyApiZgzZ44jrKkHy3faKfvrUF977TUdf/zxuuCCC/TUU081G3PUqFEaPXp0k2OiFpCwhCNz83G9guVWPNL7Tn2EcPQh4XwHJPURwkO+Zeg7IJmFi6uIhCUgmbwivpLFFSxHf+4ZBAEIQAACARIoeAGZP3+++vfv7wjxkUceqTfffLPZsakTkdTJxpIlS2J7AoKAOGqHrYO8CkgqQCy/hI6AuGsQBMQfL2ZDAAIQgEDeESh4AUk9QP7WW285Kmznzp114IEHNjs29Qre8ePHK/VwutsfW54BQUDcVc6PgKRXWjh9kyaPW6f1q+vVplOR9j+jbdbvfmRml+s1vJnjp38ijRsvra6UOnWUzjjZ4Xc/smHhBMRdw3AC4o4XoyEAAQhAIO8IFLyAmK7okCFDtHr1aqU+Ruj2BwFxS8yO8SYExM9O3AqIn7WanIuAuEOKgLjjxWgIQAACEMg7AgiIh5KuX7++4dsfqYfPt/154YUXdO655+ryyy/XI4+4+PDC10GiEpCoTjyyoY/bsyAFLyDpQsZNRKJ6BiRb44ckJjwD4uGPPlMgAAEIQMAoAQTEA86PPvpIJ510kk4//XTtvPPOKisr03vvvafnn39eO+64oyZNmqQePXq4joyAbEGGgLhrnchPQBAQdwVDQMzwIgoEIAABCMSWAALioXRLly7Vj3/8Y33wwQcND5un3qSVEo9TTjlFt956q7p27eohqoSAICBeGgcB8UJNEicgvIbXY+swDQIQgAAE/BFAQPzxMzo7LAGx7cpVJsS4nIBEffUqzQ0BcflraJt4hHwiwhUsl/3C8PwlMHum9OUiadUKqapS6tJNGrCLNHh3qbg4f/fNziBgAQEExIIipFNAQOJ1AoKAZPzyxOUZEARE+2mUpkyZwgmIRX//SSUkAl/MkJ55VBr/F6niy6YXbdtOGv5d6aKrpN33CikxloFAYRFAQCyqNwKCgHhpR05AXFJDQBAQly3D8DwgsH6ddM/t0tjfSbW1zjd01PHSPY9IfZ19L8x5YEZCoLAJICAW1T8oAbH9ylVmCWy/gmXLyUeamzUCkk7I9pOQuAhI5i+GobdkcQXLoj/6pBIOgan/lS45U1qy2Nt6qRORMU9KJ5/pbT6zIACBRgQQEIuaAgGJxwkIApLjlwYBCeavCgISDFei5jeB9ydI3z1RSp2A+P156DnpzO/6jcJ8CEBAEgJiURsgIAiIl3bkBMQlNU5AuILlsmUYHlMCqYfMTzhIqlpjZgOpb3/95XXpwKFm4hEFAgVMAAGxqPgICALipR0REJfUEBAExGXLMDymBM44Wnr3TbPJd+kqTfxc6tzFbFyiQaDACCAgFhXcr4DE7VmPXOhtfRaEK1i5Kvf1v9t2FSuu4pENt8crWTwD4rB/GRZvAn/+g3T194PZw8gfSneMCSY2USFQIAQQEIsKjYBsXwwExFlzWncCkk4bAXFWQK+jEBCv5JiX7wSSSemA/tKiBcHstGVLafICqVv3YOITFQIFQAABsajICAgC4qUdERCH1DgBaQDFCYjDfmFYfAm8+5Z0xlHB5n/n/dIlVwe7BtEhkMcEEBCLiutWQPLtylW2UthyEmLb1as0LwTE4S9xvglI5rYdnoggIA77hWHxJTDqeunhXweb/6lnS4/9Kdg1iA6BPCaAgFhUXASk6WIgIM03KQLi8JcYAeEExGGrMCzmBM46TprwerCb6N5T+rgi2DWIDoE8JoCAWFRcBAQB8dKOCIhDaggIAuKwVRgWcwJH7y19Nj34TcyqlNp3CH4dVoBAHhJAQCwqai4BKZQrV5klifoExNarV2lO1gpIOsGoH0bPd/HI9jcsy5UsrmBZ9EefVIIhsHdvaekS57E77Cj19fDGrOd+LHXv5HwdRkIAAlsJICAWNQMCYucJCALi85cEAfEJ0ON0BMQjOKbFnoAbAdn5XGnuaVLFZvfbXnOe1L7M/TxmQAACfAndph5AQBAQL/3ICUgOapyAbAeIExAvv2XMiRWBkw6VJr/XfMrFZdIe90pvdJTqk+63V1okbRohFSXcz2UGBCCAgNjUA5kCUqhXrrLVJKqrWJyAGPotCfskpFDFI0e5plYmtd9/kpoyZYrKy8sNFZcwELCIwA0/kJ5+JHtC3YdIRbdI0zd5T3rYDtLL3/I+n5kQKHACXMGyqAEQkOaLgYA0zcf6E5B02giIFX9tEBArykASQRL450vSRWc0vcKeP5SmHCitqfWXwe8PkS7dxV8MZkOggAkgIBYVHwFBQLy0IwKShRonIE2CQUC8/JYxJ1YE6uqk/ftJSxZ/k3aLDtKA30pvFfnfSnFCqviO1K2l/1hEgECBEkBALCo8AoKAeGlHBAQBcdM3CIgbWoyNLYHf/Fz65W1b0u97rLTyUmmujytX24I4obf0z+Nii4bEIWADAQTEhip8nUNaQC58U+q5j0WJWZZKWFexbH/2I10WBCSjQTn5aPY3FgGx7A8a6QRDYG2VdNReUueR0oR+0uZ6M+u0KpamnSrt3N5MPKJAoEAJICAWFR4BcVYMBGR7TggIAuLsN2fLKATEDS3GxprAxAXS0W9JtR7ecpVt4w8eJF25a6yxkDwEbCCAgNhQBU5AXFUBAUFAmm0YTkA4AXH1F4XBeU3ggRnSNf81s8XLdpEePcRMLKJAoMAJICAWNQAnIN6KEZSQcAXLWz1yzgrqbViIR070nIA4QsSgfCPw4gJp5LvS6mpvOysrku4ql360u5Tgux/eIDILAtsTQEAs6ggExFsxEJCZ3sBFNQsBiYp8w7pcwYoUP4tHRWDReun8t6UJy9xlkHrW4/+OkPbr4m4eoyEAgWYJICAWNQgC4q0YCAgC0tA5nIA4+gVCQBxhYlA+Eqirl56dK42dJU3MISK7d5Au3lm6fBepbWk+0mBPEIiUAAISKf7tF0dAzBTDr5DE5epVmlZsHkLPLK/fkxCEw9MvDALiCRuT8o1AxQbp3xXSrCpp22fUe7eWju3FW67yrd7sxzoCCIhFJUFAzBQDATHDMfAoCEjgiJtaAAGJBDuLQgACEIDANgQQEIvaAQExUwwExAzHwKMgIIEjRkAiQcyiEIAABCCQgwACYlGLICBmioGAmOEYeBQ6aa4XAAAgAElEQVQEJHDECEgkiFkUAhCAAAQQkPj0AAISTK2cCkncnv1I08r7Z0B41sPoLwZXsIziJBgEIAABCHggwAmIB2hBTUFAgiGLgATD1XdUpycgCIhv1NsGQECM4iQYBCAAAQh4IICAeIAW1BQEJBiyCEgwXH1HRUB8I/QSAAHxQo05EIAABCBgkgACYpKmz1gIiE+APqfv2WGwzwjRTI/tFaxFxVuA3bbtOzCjYVhIqyIghVRt9goBCEDATgIIiEV1QUCiLQYCEjJ/BCRk4FuWQ0Aiwc6iEIAABCCwDQEExKJ2QECiLQYCEjJ/BCRk4AhIJMBZFAIQgAAEGhFAQCxqCgQkmmJc2GHAdgtPVmk0iXhclStYHsEV6DROQAq08GwbAhCAgEUEEBCLioGARFMMBCQa7uIEJBLwCEgk2FkUAhCAAAS2IYCAWNQOCEg0xUBAouGOgETDHQGJhjurQgACEIDANwQQEIu6AQEJtxiZ4pFenStYAdchffKRuQxvwwoY/JbwCEgomFkkBgSql0g1S6S6VVLdGqmki1Q2UGrRNwbJkyIEYk4AAbGogAhIuMVAQMLlvXU1BCQi8AhIpOBZ3AoC1QukVc9LleOl6jlNp1TcRep0ltTlQqlFfyvSJgkI5B0BBMSikiIg4RYDAQmXNwISEe+MZTkBsaMOZBEugfpN0rIx0vKHpORmh2snpPYnSL3vlEp7OpzDMAhAwBEBBMQRpnAGISDhcE6vgoCEyxsBiYg3AmIHeLKIjMDGT6UFl0jV872lUNxR2vEBqf1x3uYzCwIQaEwAAbGoKxCQcIuRTUDSWcTlWZDYvYY32xWsNHieBQn0F4ETkEDxEtwyAhumSnPPleqrfCZWJPV9TOpwks84TIcABBoIICAWNQICEm4xEJBweec8AUFAQikIAhIKZhaxgMDmBdLsE7Y8ZG7iJ9FKGjhOar2PiWjEgEBhE0BALKo/AhJuMRCQcHkjIBHxzlgWAbGjDmQRPIHUyce6N82uU9JDGvy2VNzBbFyiQaDQCCAgFlUcAQmnGLnEIzML269ixeYKVq6rV5yAhPILgICEgplF/n979wImVXnnefxX1V3VdNMtbYMS5dbAKuJwURBE7TxkZjIwJIMQcSYksoIjGVwWTXYZmRjdJzKJyYjJZOJlRePzCMEViTCZoLsrSDaQgIjakXARVK5yaUSRWzdNX6pqn3O42Pc6165zqr71PDyP6X7f97zn83+b8OvznnMyLHDiN9JHs/yZRI97pCsf9mdsRkUgVwQIIAGqNAGkc4pBAOkc51ZHIYBkCL75YQkggSgDk/BRIJWS3h8jGY/c9eNjbMUaXCnll/kxOmMikBsCBJAA1ZkA0jnFIIB0jjMBJEPOaQ5LAAlmXZiVdwI1m6Tdk7wbr62Rev3LufeE8EEAAWcCBBBnbr70IoD4wnpxULvBo+VsgroVK/BbsKxe+WgJztOwfPmBIID4wsqgARKo+oH0yVP+TqjbZKnfQn+PwegIZLMAASRA1SWA+FsMAoi/vu2OTgDJEHzbhyWABKocTMYHgT1/J1X/3oeBmwwZu0Ia/K6/x2B0BLJZgAASoOoSQPwtBgHEX18CSIZ8bR6WAGITjOahE/jgL6Wz2/2f9p99KOWV+H8cjoBANgoQQAJUVQKIv8VwG0AuzC5oW7ECuwXL6ZWPlsuArVie/mAQQDzlZLAACuy4XmqosjGxbilFxiRtdDjXdNBPo4r3iNjuRwcEEOBFhIFaAwQQf8tBAPHXt9XoBJBOBrd2OAKINSdahVfgveFS48fW5h8dkdSxyxt19pi19k1b/cVLMcW6EkDsy9EDAQJIoNYAAcTfchBA/PUlgHSyr8PDEUAcwtEtNAK7viqdqex4uqloSpqc1MeHE0ol7J9aJE/6q3+PKRIlgNjXowcCBJBArQECiL/lIID460sA6WRfh4cjgDiEo1toBA7eL322pP3pRq5IqeaWRp3cn3J8TmXDIxr1w5jj/nREINcFuAckQCuAAOJPMbwKHi1nl+l7QW5QgzmlQdvOv22rj4Nf43lJ7tWWq5Zz4h4QL6skAoinnAwWQIETr0gffavtiUXGJvVJXqMaTrub+LWz89RnQp67QeiNQA4LEEACVHwCiD/FIID44+rbFQ8CiK8FI4D4ysvgARBINUg7bmhxH0iXlBK3JnR0r/2bzVudUlT60qKYCi5l+1UAys0UQipAAAlQ4Qgg/hSDAOKPKwGkk1w9PgwBxGNQhgukwJFHpaM/Oze1yKCUTg5qVE2V8y1XTU+y+3UR3fADtl8FsvBMKjQCBJAAlYoA4m0x/Aoe7c3S7y1ZF7ZctTz+xS1YLb/h95Ysv7ZctQfMVixPfkAIIJ4wMkjABRpPSB+MlRpvSOjjkwkl67yZcDQm3fTzmIr7cPXDG1FGyVUBAkiAKk8A8bYYBBCf7wkhgHi7YDtpNAJIJ0FzmIwLfFaZ1Nv/3Ch5sOvqwskMujtP5ZO59yPjxWUCoRcggASohAQQb4tBACGAeLuismM0Akh21JGzsCawd0VCHyzy5u/CK74U1bC5+dYOTCsEEOhQgAASoAVCAPG2GJ0dQNLN3uoWrfa2WrU3frtbsNJNKN0Wrc6+wpFuvhe+z1Ysq1JttiOAuOKjcwgFDv+/hN5bmFCi1tnkI1Fp4DfyNODvorz3wxkhvRBoJUAACdCiIIB4WwwCSBpPAoi3Cy4koxFAQlIopumpQM3hlLY81qhTu+zdiN7lMmnYP+br0mujns6HwRDIdQECSJMVsHr1ai1fvlyVlZXaunWrGhoatHfvXpWXl7e5TrZt26Z58+Zp/fr15vcrKiq0YMECDRkyxNG6IoA4Ymu3EwGEAOLtisqO0Qgg2VFHzsK+QLIxpYOrkjq4OqnTezoOIoU9pV5fzlPfv4kqVswN5/a16YFAxwIEkCY+M2bM0NKlSzV06FDV1dXJCBjtBZAPP/xQo0aNUllZme69915zlMcff1wnTpzQW2+9pauuusr22iOA2CbrsAMBhADi7YrKjtEIINlRR87CncCZqpSObU7KuDKiJlmkS/eIyq6LqKQ8okiE4OFOmd4ItC9AAGlic+jQIfXo0UMFBQV66KGH9Mgjj7QbQG6//Xa99tpr2rFjh/r06WOOcuDAAQ0ePFgTJkzQyy+/bHvdEUBsk7XZIWjBw5uzan8Ux/eA+D0xv8bnHhBXsgQQV3x0RgABBBDwQIAA0g5iRwGkurpa3bt319SpU7V48eJmI0yfPl3Lli3Tp59+quLiYlslIoDY4mq3MQHEG8fAjkIAcVUaAogrPjojgAACCHggQABxEEA2btyom2++WU8//bTuueeeZiMYX5s9e7aMNmPGjLFVIgKILS4CyHkBroB4s25yZRQCSK5UmvNEAAEEgitAAHEQQFasWCFjC9bKlSs1ceLEZiMYX5s0aZJ5M/uUKVParXxVVZWMP00/xnauadOmacZa6QvXBXfRBH1mXAEJeoU8mh9XQhxBEkAcsdEJAQQQQMBDgawMIMbTq3bv3m2JqaioSH379m3VtqMtWEuWLNGdd96pVatWady4cc36Gk/SGj9+vIw2Rpho7/Pwww9r/vz5bX6bAGKpdO02IoC48wtNbwKIo1IRQByx0QkBBBBAwEOBrAwg+/btU//+/S0xjR07VmvXrrUVQLgCYok2Y40IIBmj79wDE0AceRNAHLHRCQEEEEDAQ4GsDCC1tbVat26dJSbjMbqjR4+2FUC4B8QSbac3yrXgcQE45+4BabmyCCK2ftYIILa4aIwAAggg4INAVgYQL5zcPAXrpZde0rFjx3gKlheFsDEGAcQGVjY1JYDYqiYBxBYXjRFAAAEEfBAggLSDmu49IMYN5sY9IDt37lTv3r3NUS68B8S4B8TYpmX3w1Ow7Io1b08AcecX2t4EEFulI4DY4qIxAggggIAPAgSQJqhbtmwxn2xlfNasWWNu45o7d65KS0vNP3PmzLnY+v333ze3bhnvA7nvvvvMrxtvQjeufBhvQh80aJDtchFAbJOZHXI1eFzQYgtWk9cYO1tCOdWLAJJT5eZkEUAAgUAKEECalGXRokW666672ixUv379ZNzc3vRjBJZ58+Zpw4YN5pcrKir06KOPatiwYY6KTQBxxEYA2bbfGVy29OIKiK1KEkBscdEYAQQQQMAHAQKID6hOhySAOJPjCggBxNnKyc1eBJDcrDtnjQACCARJgAASoGoQQJwVgwBCAHG2cnKzFwEkN+vOWbcWSNYmlaxOKVWbUqoupUhhRHllUUWLonAhgIDPAgQQn4HtDE8AsaP1eVsCSI4HkAtLga1Yln6ACCCWmGiUpQLJ6qTqtter4YMGJT5JtnmW0Usiig+Oq2BYXNESwkiWLgVOK8MCBJAMF6Dp4QkgzopBACGAmCuHAGLpB4gAYomJRlkmkEqkVFdZp9o366RGiycXleKDYioc24WrIhbJaIaAVQECiFWpTmhHAHGGTAAhgBBArP/sEECsW9EyOwQSnyVU/coZJY+1fcUj3VlGiiLq+pUixfrmp2vK9xFAwKIAAcQiVGc0I4DYU8714HFBK+cfw3sBgisgln6ACCCWmGiUJQKNnyRUvbzGvM/D1SciFU8qUmxAzNUwdEYAgXMCBJAArQQCiL1iEEDOeRFAzq8bAoilHyACiCUmGmWBQPJUUqderFbqjMvwccEiLpV8vVj5l+VlgQ6ngEBmBQggmfVvdnQCiL1iEEAIIM1WDAHE0g8QAcQSE42yQKD6P2rUsMfqDR/WTjhSElG36SWKxCPWOtAKAQTaFCCABGhhEECsFYPg0dyJKyAt1g1BpMMfJAKItb9naBVugfpdDapZecaXk+gyukCFFV18GZtBEcgVAQJIgCpNALFWDAIIAaTDlUIAIYBY+6uEVlkscPL500oed3bTeVqWmNTtW5co2oWrIGmtaIBAOwIEkAAtDQKItWIQQAggBBBrPyttteIKiHM7eoZDoLGqUaeX1vg62aIvF5rvCeGDAALOBAggztx86UUAscZKACGAEECs/awQQJw70TO8ArXrz+rsW3W+nkD8mpj5aF4+CCDgTIAA4szNl14EEGusBBACiKWVwlasNpm4AmJp9dAoxAKnV9Socb+3N5+35DBuRi/91iUhVmLqCGRWgACSWf9mRyeAWCsGAYQAYmmlEEAIIJYWCo2yTeDUktNKfOLT/R9NsErnXMLTsLJt8XA+nSZAAOk06vQHIoCkNzJaEEAIIJZWCgGEAGJpodAo2wROPHtKqWob7/6ISbGB9t9yXvTnhYoWRrONj/NBoFMECCCdwmztIASQjp0IHm378BjedtYNAYQAYu2vXlplmcCJZ04pVWMtgORdGVWsf0yqt4/Q5aYCRfJ5EpZ9OXogwJvQA7UGCCAEECcLkgBCALGzbrgHxI4WbcMoYLz9PHEkkXbqBSPi5wKEtazSarwuFQWKRAggaaFpgEAbAlwBCdCyIIAQQJwsRwIIAcTOuiGA2NGibRgFalafUf22hnanHimOqOD6uHTW+dlFu0V5DK9zPnoiIAJIgBYBAaTtYrD1quNFSgBJ80PMVqxmQASQAP2lz1R8EajfWa+a/1Pb5tjGvR55PfOk9vOJpTkZ4+Rfaf++EUuD0wiBHBAggASoyAQQAoiT5UgAIYDYWTcEEDtatA2jQCqR0slnTytV22RvVVTqMqpA8ujhWF1GFyhSwParMK4P5hwMAQJIMOpgzoIAQgBxshwJIAQQO+uGAGJHi7ZhFaj9w1mdffvcywijZREVXBtXyqN3E0a7RVQwrCCsNMwbgUAIEEACUYZzkyCAEECcLEcCiEU1tmKd+3vmREojf5dSZWWlRowYYRGPZgiESyB5JqlTi6sVG5CvaElUSn9PurUTjMi8fyTalcfvWgOjFQJtCxBAArQyCCAEECfLkQBiUY0AQgCxuFRolh0CjR83quEDb9+Int8vX7G+3PuRHSuEs8ikAAEkk/otjk0AIYA4WY4EEItqBBACiMWlQrPsEWjY36jGj7wJIdEeUcWvifHo3exZHpxJBgUIIBnEb3loAggBxMlyJIBYVCOAEEAsLhWaZZdAY1WjGvY0uroBPb93noyrH5EoN55n1+rgbDIlQADJlHwbxyWANEfh8bvWFicBxJqTCCAEEItLhWbZJ5CsSap+Z4NSZ2y+dTAuxa+OKe/SvOxD4YwQyKAAASSD+FwB6RifAGJtcRJArDkRQM45cRO6xfVCs6wTSCVTajycMN+S3uwRvW2daVzKvzxP+b3yFYlz1SPrFgMnlHEBAkjGS/D5BLgCwhUQJ8uRAGJRjSsgBBCLS4Vm2S9gXBFJHE+2CiJG2IheGlW0JMK9Htm/DDjDDAoQQDKIzxWQtvG58mFvURJA7Hnl+pUQroDYXC80RwABBBDwXIAA4jmp8wG5AnLOjgBibw0RQOx5EUB4D4jNFUNzBBBAAAGPBQggHoO6GY4AQgBxsn4IIDbVcnwrFldAbK4XmiOAAAIIeC5AAPGc1PmABBACiJPVQwBxoibl6pUQAojD9UI3BBBAAAHPBAggnlG6H4gAQgBxsooIIE7UCCCVlZUaMWKEQzy6IYAAAggg4FyAAOLczvOeBBACiJNFRQBxokYAIYA4XDd0QwABBBBwLUAAcU3o3QC5HkC4+dzZWiKAOHNjCxZXQByuHLohgAACCLgUIIC4BPSyOwFkgJecOTMWAcRhqXP0ZnTuAXG4XuiGAAIIIOCZAAHEM0r3AxFACCBOVhEBxIkaW7DYguVw3dANAQQQQMC1AAHENaF3AxBACCBOVhMBxIkaAYQA4nDd0A0BBBBAwLUAAcQ1oXcDEEAIIE5WEwHEiVqTPjm2FYstWC7XC90RQAABBFwLEEBcE3o3AAGEAOJkNRFAnKgRQLgC4nLd0B0BBBBAwLEAAcQxnfcdCSAEECerigDiRI0AQgBxuW7oHnqBs6mz2q1dqlKVYipUiW5QP8XUPZIX+nPjBBAIugABJEAVytUAwuN33S1CAog7v4u9c2QrFluwPFovDBNKgZOpk3pBv9SvtUKb9a4a1GCeRx8N0HatMP97mAr0NRVrui5R/0g8lOfJpBEIugABJEAVIoAEqBghmgoBxKNiEUA8gmQYBIIn0Jiq07q6R7Wl8RU93HV7qwlerev0jp5v9nXjOsh/SZXqB3WXq7QwEryTYkYIhFiAABKg4hFAAlSMEE2FAOJRsQggHkEyDALBEjie3KcXaqbocPKP5sQ+KrpRr+ZvaTbJYRqr9fq3VhP/4uFS7X22p168U/riwGCdF7NBIMwCBJAAVS/XAghbr7xZfAQQbxxz5c3obMHyaL0wTCgEqhJb9HzNeJ1OHbk437K86/TDru83m/9ITdTv9M/NvvaFZL5q5pfr9Mk8Fcak/5gpjbsmFKfNJBEIvAABJEAlIoAEqBghmgoBxKNicQXEI0iGQSAYAtXJo3qyeqROpg62mtD2ouu0Lv/zEHKjvqnXdX+zdqNfv1Jv/e+Si18rikvr7pVu6BuM82MWCIRZgAASoOoRQAJUjBBNhQDiUbEIIB5BMgwCwRD4KHWfNta+pc0Nm1pNqCz/Rv2w6PNtWGM0S6t1z8V2N54s1qbv92rVr7xMeu8BqZB704NRZGYRWgECSIBKRwAJUDFCNBUCiEfFIoB4BMkwCGRe4JRWqkr/TUpFdSoxRL+peUUJJS5OLKKI3uh6jd7N22d+bYz+Uat1h/nfl6SiKvxpf318ML/ViXTrktLDX35X3/mrEZk/SWaAQIgFCCABKh4BJEDFCNFUCCAeFyvLgwj3gHi8XhgukAL79Deq047PA0fqKr1WvVNVyf0Xv1Yaq9CPCivN/z1K8/Vb3Wr+9xcre+oPS0qbnVc8L6Wbem3Rn7bfrWTimPb/z80q7dotkOfOpBAIgwABJEBVIoAEqBghmgoBxONiEUA8BmU4BDpX4Ky2aL++1uqgkVSJdtX10B/qfmt+L08xrSrurQ+iR3Sdfqrf6y809Gyhtj7QR0qde+xuJJLSmN4HdWDfbB08uvHimL+Y9TPN/Mv/3LknxtEQyCIBAkiAikkACVAxQjQVAojHxSKAeAzKcAh0rsAnekyfaWG7B61PDNe/V6/SWZ1RSfxLerTLJl2rZ/XH1Gj1/kU/7XmvwOw7/IqTqv/se9qxb1mrsSaP+op+ff8vO/fEOBoCWSRAAAlQMXMlgPD4XW8XHQHEW89sfxwvW7A8Xi8MFziBA5qhM/pDh/OKpvro92c+1f7GvfpVcam6RJ9S6a4KrXuyhwZ0r1P31BN6e/u/tDvGF0ovV9Wz7wXu3JkQAmERIIAEqFIEkAAVI0RTIYB4XCyugHgMynAIdK5Acu+fK6UzaoyXqDEWV31cqoufVW3spOrzT0jnX2oeScV1pOE/6XeJM3o98j+0b0GF+sd/rTc236dksiHtpE//cp+KuxSnbUcDBBBoLUAACdCqIIAEqBghmgoBxONiEUA8BmU4BDpZYMdlUuJ4mwdNRQqk2BVKxHsoEStRQzyuYw3d9JsjD+iTD9aovv6U5ck+MOU73IhuWYuGCDQXIIAEaEVkewBh65U/i40A4o9rtm7FYguWT+uFYYMjsLOv1Hg4/XyqhkrvFqthywyd+c6dumRo68fudjhI3LhJ/fzllPRHowUCCDQRIIAEaDkQQAJUjBBNhQDiU7Gy9EoIAcSn9cKwwRHYPUaqfaft+Zwtk3b8mbTpgHR4r1Q0T59VTdLxb4xQ79Epxa6Oy3KmIIAEp+bMJHQCBJAAlYwAEqBihGgqBBCfikUA8QmWYRHwWeDg30snmjyhKiXp8HXSHwukd/8oNdafm0DXydKvJmvfNyu0p/5K3TQ7pUiRFB9shJA0VzYiUiTO1Q+fK8nwWSxAAAlQcQkgASpGiKZCAPG5WFkWRLgC4vN6YfjMCxx/QTo0Q6q9TNp+jbRpn/TxR83n1WWo9Nt/ko7Wa+t/vVWH93fVTf+UUiyVkgqlgiFpQkieFMkngGS+2MwgrAIEkABVjgASoGKEaCoEEJ+LRQDxGZjhEfBYIHFa+tmt0qY3pERj68HzL5W2PyW9d9b83oaZX1f1kaiuniJ9YWDyXPsCqWBoXJFoOyEjpva/5/HpMBwC2ShAAAlQVQkgASpGiKZCAPG5WAQQn4EZHgEfBH5xn/R/n2pj4Ih0fLG09lwwSXbJ15rxf6tUQiq4NKUb/yElGVu2jE++VDA8rkheixDC9isfCsaQuSZAAAlQxQkgASpGiKZCAPG5WAQQn4EZHgEfBI4fkb49RKpu8Tje6M+kFd0uHvDkjeV687KbLv7vm7+bUn7yQgKRFD0fQmJNQghXP3woGEPmmgABJEAVz9YAwuN3/V1kBBB/fbPtcbzcA+LzemH44Ahs+JX00298Pp+ie6X/dX2z+R385k3afqr84teu+bp0eb/z27CatIwPjylaEJW49yM49WUmoRYggASofASQABUjRFMhgPhcLK6A+AzM8Aj4KLDkAenXC6Sufy2t+IZUm2h2sPdmf0UHPvr8ikhhj5RG3d1kG1bTEDIspugl0fRPyPLxdBgagWwRIIAEqJIEkAAVI0RTIYD4XCwCiM/ADI+AzwK/+lfpv18pHaprdaBNs/5WJw41fwHhLQ+klJdosg1LUl6PqGKDYtx47nOpGD53BAggTWq9evVqLV++XJWVldq6dasaGhq0d+9elZd/fnn2QvMZM2Zo8eLFba6UAwcOqHfv3rZXUbYFELZe2V4CjjoQQByx2e+UJUGELVj2S0+PLBB45YA08w3p6LknXxmfVDSi335tqhItcsm1d0g9ep3fhpUnxcrzlX+lzbekZwEZp4CAnwIEkCa6RqhYunSphg4dqrq6Om3bti1tADFCSDQabVaj2267TUVFRbbrRgCxTUYHSQSQTloGBJBOguYwCPgkUNMgPbFTemqndPCMqodcoQ3lX2p1sK5XpjRyRkp5l+Up1jefFw76VA6GzW0BAkiT+h86dEg9evRQQUGBHnroIT3yyCNpA4hxlSQ/35vfjBBAcvuH0enZE0CcytnsRwCxCUZzBAIq0JiU3jiq6j0J7TnWU3WfpRSJSrGSiAovl8qGRVU2TIrmN//lYkDPhmkhEEoBAkg7ZbMaQOrr61VbW6vi4uJWV0LsrggCiF0x2hsCBJBOWgd9zt+8ele4/1HCFqxOWi8cBgEEEECgXQECiMsAUlJSotOnT6uwsFATJkzQggULNHDgQEdLjgDiiC3nOxFAOmkJEEA6CZrDIIAAAghkuwABxGEA+e53v2vepD5y5Ehzy9abb76pJ554QkYgeeedd9SvX78O105VVZWMP00/mzdv1t13362Jz0rdrw7/0ptY0iv8JxGCMyjf1XwdhWDK4Zxiz/M3pc5v8VbkkJ3NjtMpTXtHWr9+vW655ZaQzZ7pIoAAAghkg0BWBhAjGOzevdtSfYybxfv27duqbbotWG0N/vrrr2vcuHGaPn26Fi1a1OHxH374Yc2fP9/SHGmEAAIIeC3wwgsv6I477vB6WMZDAAEEEEAgrUBWBpB9+/apf//+aU/eaDB27FitXbvWkwBiDGJcETGubBw+fLjD47d1BeT48ePasWOHrr/+enNLV5g+xrynTZsm4x81gwcPDtPUQz1X3DNXvrDaG/esGX9Hjh8/3nzoBh8EEEAAAQQ6WyArA4jxf7Dr1q2zZFlWVqbRo0d7FkCMR/C++uqrMm5Oz6XPhftXjHeojBgxIpdOPaPninvm+LHPnD1HRgABBBAIt0BWBhAvSuJkC5Zx3GHDhsm4kmG8jDCXPvxjLDPVxj0z7sZRsc+cPUdGAAEEEAi3AAGknfp1FEBqamrMd38YN583/SxbtkxTp07VrFmztHDhwnCvDJuz5x9jNsE8ao67R5AOhsHeARpdEEAAAQQQkEQAabIMtmzZopUrV5pfWbNmjbmNa+7cuYqmduMAAAkYSURBVCotLTX/zJkzx/ye8bSqr371q5o8ebKuuuoqxeNxbdy4US+++KL69OmjTZs2qWfPnjm1wPjHWGbKjXtm3LkCkjl3jowAAgggEH4BAkiTGhpPrrrrrrvarKrxWF3jxk3jc+TIETOYvP322+bN5sZTt4zgMXHiRD344IM5eWOncVP9M888Y179ueKKK8L/kxGSM8A9c4XCPnP2HBkBBBBAINwCBJBw14/ZI4AAAggggAACCCAQKgECSKjKxWQRQAABBBBAAAEEEAi3AAEk3PVj9ggggAACCCCAAAIIhEqAABKqcjFZBBBAAAEEEEAAAQTCLUAACXf9mD0CCCCAAAIIIIAAAqESIICEqlxMFgEEEEAAAQQQQACBcAsQQMJdv0DMfvXq1Vq+fLkqKyu1detW87HEe/fuVXl5eZvz27Ztm+bNm6f169eb36+oqNCCBQs0ZMiQQJxPGCaRSCT02GOP6bnnntOBAwfMx0DPnDlT999/v/Ly8sJwCoGeY3V1tX7yk5+Ya/qdd94xH709ffp0GY/qbvmhFoEuJZNDAAEEEAigAAEkgEUJ25RmzJihpUuXaujQoaqrq5MRMNoLIB9++KFGjRqlsrIy3XvvveapPv744zpx4oTeeust88WOfNILzJ49W08//bT53pqbb75Zb7zxhp5//nkZX3/qqafSD0CLDgWMd/7079/ffKfNyJEj9eqrr7YbQKgFiwkBBBBAAAF7AgQQe160bkPg0KFD5ssXCwoK9NBDD+mRRx5pN4Dcfvvteu2117Rjxw7zt/bGx/gN/uDBgzVhwgS9/PLLGKcRMK4yDR8+3AxwP//5zy+2/va3v60nnnhCf/rTn8wwyMe5gBGkP/30U/Xq1UuNjY2KxWJtBhBq4dyYnggggAACuStAAMnd2vty5h0FEGNbS/fu3TV16lQtXry42fGN7S3Lli0z/9FXXFzsy9yyZdAHH3xQP/rRj7Rnzx7zt/QXPsZVpwEDBuh73/ueGQL5eCPQUQChFt4YMwoCCCCAQG4JEEByq96+n21HAWTjxo3mdiFj69A999zTbC7G14ytLEabMWPG+D7PMB9g/Pjx5lUO476Elp+ePXvq+uuvN68y8fFGoKMAQi28MWYUBBBAAIHcEiCA5Fa9fT/bjgLIihUrZGzBWrlypSZOnNhsLsbXJk2aZN7MPmXKFN/nGeYDGNur4vG4eYN0y8+IESPMhwAYW4P4eCPQUQChFt4YMwoCCCCAQG4JEEByq94dnq3xD9fdu3dbEikqKlLfvn1bte0ogCxZskR33nmnVq1apXHjxjXrazxJy/htstFm2rRpluaQq40GDhwo40qHceN5y49xheno0aPatWtXrvJ4ft4dBRBq4Tk3AyKAAAII5IAAASQHimz1FC88+cdK+7Fjx2rt2rW2AghXQKzIpm/Db93TG3nZgisgXmoyFgIIIIAAAhIBhFVwUaC2tlbr1q2zJGI8Rnf06NG2Agj3gFiiTduI+w7SEnnagHtAPOVkMAQQQAABBAggrAFvBdw8Beull17SsWPHeApWmpIYT7n68Y9/zFOwvF267Y7WUQChFp1UBA6DAAIIIJBVAlwByapyZv5k0r0HxLjB3LgHZOfOnerdu7c54QvvATF+s29s0+LTsYDxBCzjSVftvQdk8+bNGjZsGIweCXQUQKiFR8gMgwACCCCQUwIEkJwqtz8nu2XLFvPJVsZnzZo15jauuXPnqrS01PwzZ86ciwd+//33za1bxvtA7rvvPvPrxpvQjSsfxpvQBw0a5M8ks2xU4zHGzzzzjPkm9FtuuUUbNmww34Q+a9YsLVy4MMvONjOn8+STT+rEiRNKJpP6/ve/b4a+2267zZzMrbfeejHkUYvM1IejIoAAAgiEV4AAEt7aBWbmixYtMv8h3NanX79+Mm5ub/oxAsu8efPMfzQbn4qKCj366KP81t5GRY3fyi9YsEDPPfecDh48aF5Nmjlzpuman59vYySatidQXl6u/fv3t/ltI+zNmDHD/B61YA0hgAACCCBgT4AAYs+L1ggggAACCCCAAAIIIOBCgADiAo+uCCCAAAIIIIAAAgggYE+AAGLPi9YIIIAAAggggAACCCDgQoAA4gKPrggggAACCCCAAAIIIGBPgABiz4vWCCCAAAIIIIAAAggg4EKAAOICj64IIIAAAggggAACCCBgT4AAYs+L1ggggAACCCCAAAIIIOBCgADiAo+uCCCAAAIIIIAAAgggYE+AAGLPi9YIIIAAAggggAACCCDgQoAA4gKPrggggAACCCCAAAIIIGBPgABiz4vWCCCAAAIIIIAAAggg4EKAAOICj64IIIAAAggggAACCCBgT4AAYs+L1ggggAACCCCAAAIIIOBCgADiAo+uCCCAAAIIIIAAAgggYE+AAGLPi9YIIIAAAggggAACCCDgQoAA4gKPrggggAACCCCAAAIIIGBPgABiz4vWCCCAAAIIIIAAAggg4EKAAOICj64IIIAAAggggAACCCBgT4AAYs+L1ggggAACCCCAAAIIIOBCgADiAo+uCCCAAAIIIIAAAgggYE+AAGLPi9YIIIAAAggggAACCCDgQoAA4gKPrggggAACCCCAAAIIIGBPgABiz4vWCCCAAAIIIIAAAggg4EKAAOICj64IIIAAAggggAACCCBgT4AAYs+L1ggggAACCCCAAAIIIOBCgADiAo+uCCCAAAIIIIAAAgggYE+AAGLPi9YIIIAAAggggAACCCDgQoAA4gKPrggggAACCCCAAAIIIGBPgABiz4vWCCCAAAIIIIAAAggg4EKAAOICj64IIIAAAggggAACCCBgT4AAYs+L1ggggAACCCCAAAIIIOBCgADiAo+uCCCAAAIIIIAAAgggYE+AAGLPi9YIIIAAAggggAACCCDgQoAA4gKPrggggAACCCCAAAIIIGBPgABiz4vWCCCAAAIIIIAAAggg4EKAAOICj64IIIAAAggggAACCCBgT4AAYs+L1ggggAACCCCAAAIIIOBCgADiAo+uCCCAAAIIIIAAAgggYE+AAGLPi9YIIIAAAggggAACCCDgQoAA4gKPrggggAACCCCAAAIIIGBP4P8DsGAjyDZ84bUAAAAASUVORK5CYII=\" width=\"640\">"
      ],
      "text/plain": [
       "<IPython.core.display.HTML object>"
      ]
     },
     "metadata": {},
     "output_type": "display_data"
    },
    {
     "data": {
      "application/vnd.jupyter.widget-view+json": {
       "model_id": "ddd3b243cbfa4d128c83e51130bda70f",
       "version_major": 2,
       "version_minor": 0
      },
      "text/plain": [
       "Button(description='Save image', style=ButtonStyle())"
      ]
     },
     "metadata": {},
     "output_type": "display_data"
    },
    {
     "data": {
      "application/vnd.jupyter.widget-view+json": {
       "model_id": "d04b0d6fd4bc4857ade37c2c0a9ecfa1",
       "version_major": 2,
       "version_minor": 0
      },
      "text/plain": [
       "Output()"
      ]
     },
     "metadata": {},
     "output_type": "display_data"
    },
    {
     "data": {
      "application/vnd.jupyter.widget-view+json": {
       "model_id": "1c75aeea869e452d9fbb9ee96eb6cabf",
       "version_major": 2,
       "version_minor": 0
      },
      "text/plain": [
       "interactive(children=(IntSlider(value=10, continuous_update=False, description='frame', max=60, min=-60, step=…"
      ]
     },
     "metadata": {},
     "output_type": "display_data"
    }
   ],
   "source": [
    "%matplotlib notebook\n",
    "import numpy as np\n",
    "import matplotlib.pyplot as plt\n",
    "from matplotlib.colors import ListedColormap\n",
    "import matplotlib\n",
    "from soft_knn import SoftKNN\n",
    "from ipywidgets import interact, interactive, fixed, interact_manual\n",
    "import ipywidgets as widgets\n",
    "import fractions\n",
    "import itertools\n",
    "from collections import Counter\n",
    "\n",
    "\n",
    "def get_cmap(n, name='tab20'):\n",
    "    '''Returns a function that maps each index in 0, 1, ..., n-1 to a distinct \n",
    "    RGB color; the keyword argument name must be a standard mpl colormap name.'''\n",
    "    return plt.cm.get_cmap(name, n)\n",
    "def create_system(n, verbose=False):\n",
    "    A=[]\n",
    "    for i in range(1,int(np.ceil(n/2.))):\n",
    "        for j in range(2*i, n):#int(np.floor(n/2.))+i\n",
    "            vector = np.zeros(n)\n",
    "            vector[i-1]+=(1./(j/2.))\n",
    "            vector[n-i+1-1]+=(1/(n-(j/2.)))\n",
    "            vector[j-i+1-1]+=(-1./(j/2.))\n",
    "            vector[n-j+i-1]+=(-1/(n-(j/2.)))\n",
    "            A.append(vector)\n",
    "            if verbose:\n",
    "                print (\"(y_{0}/{1})+(y_{2}/{3}) = (y_{4}/{1}) + (y_{5}/{3})    \".format(i,j/2.,n-i+1,n-(j/2.),j-i+1,n-j+i))\n",
    "        if verbose: \n",
    "            print(\"\\n\")\n",
    "    A.append(np.ones(n))\n",
    "    A.append(np.zeros(n))\n",
    "    A[-1][-1]=1\n",
    "    b = np.zeros(len(A))\n",
    "    b[-2]=1\n",
    "    return A, b\n",
    "def solve_system(A,b):\n",
    "    soln, _, _, _ = np.linalg.lstsq(A,b,rcond=None)\n",
    "    return soln\n",
    "def labels_2_points_n_classes(n):\n",
    "    denom = sum([j**2 for j in range(1,n)])\n",
    "    y=[(n*(n-1)-i*(i-1))/denom for i in range(1,n+1)]\n",
    "    y=[elem/sum(y) for elem in y]\n",
    "    return y\n",
    "def expected_num_eqns(n):\n",
    "    return (np.ceil(n/2.)-1)*(n-np.ceil(n/2.))\n",
    "    \n",
    "\n",
    "ims=[]\n",
    "fig=plt.figure()\n",
    "\n",
    "\n",
    "def animate(frame, num_points, num_classes, mode, resolution, zoom, filename, k, normalize):\n",
    "    \n",
    "    #frame+=20\n",
    "    ax_list=fig.axes\n",
    "    [fig.delaxes(ax) for ax in ax_list]\n",
    "    ax1 = fig.add_subplot(1,2,1)\n",
    "    axs = [fig.add_subplot(num_points,2,2*(point+1)) for point in range(num_points)]\n",
    "    if mode == \"poly_and_center\":\n",
    "        frame+=20\n",
    "        num_classes = 2*(num_points-1)+num_points\n",
    "        polygon = matplotlib.patches.RegularPolygon((0,0),num_points-1, radius=5)\n",
    "        dd=polygon.get_verts()[:-1]\n",
    "        dd=np.append(dd,np.array([[0,0]]),axis=0)\n",
    "        dy=np.zeros((num_points,num_classes))\n",
    "        for i in range(num_points-1): \n",
    "            #Set the surrounding polygon classes\n",
    "            dy[i][2*i]=0.4-frame*0.0012\n",
    "            dy[i][(2*i+1)%(2*(num_points-1))]=0.2+frame*0.0004\n",
    "            dy[i][(2*i-1)%(2*(num_points-1))]=0.2+frame*0.0004\n",
    "            dy[i][(2*(num_points-1)+i)]=0.2+frame*0.0004\n",
    "            #Set the central classes\n",
    "            dy[-1][(2*(num_points-1)+i)]=0.2+frame*0.0004\n",
    "        dy[-1][-1]=0.4-frame*0.0004*(num_points-1)\n",
    "    if mode == \"pairs_with_center\":\n",
    "        num_classes = 2*(num_points-1)+1\n",
    "        polygon = matplotlib.patches.RegularPolygon((0,0),num_points-1, radius=5)\n",
    "        dd=polygon.get_verts()[:-1]\n",
    "        dd=np.append(dd,np.array([[0,0]]),axis=0)\n",
    "        dy=np.zeros((num_points,num_classes))\n",
    "        solutions = labels_2_points_n_classes(3)\n",
    "        for i in range(num_points-1): \n",
    "            #Set the surrounding polygon classes\n",
    "            dy[i][2*i]=solutions[0]\n",
    "            dy[i][2*i+1]=solutions[1]\n",
    "            dy[i][-1] = solutions[2]\n",
    "            #Set the central classes\n",
    "            dy[-1][2*i]=solutions[2]\n",
    "            dy[-1][2*i+1]=solutions[1]\n",
    "        dy[-1][-1]=solutions[0]\n",
    "        if normalize:\n",
    "            mag=sum(dy[-1])\n",
    "            for i in range(len(dy[-1])):\n",
    "                dy[-1][i]/=mag\n",
    "    if mode ==\"every_other\":\n",
    "        num_classes = 2*num_points\n",
    "        polygon = matplotlib.patches.RegularPolygon((0,0),num_classes, radius=5)\n",
    "        dd=polygon.get_verts()[:-1:2]\n",
    "        dy=np.zeros((num_points,num_classes))\n",
    "        for i in range(num_points):\n",
    "            dy[i][2*i]=0.49-frame*0.001\n",
    "            dy[i][(2*i+1)%num_classes]=0.255+frame*0.0005\n",
    "            dy[i][(2*i-1)%num_classes]=0.255+frame*0.0005\n",
    "    if mode == \"poly_every_subset\":\n",
    "        num_classes = 2**num_points - 1\n",
    "        polygon = matplotlib.patches.RegularPolygon((0,0),num_points, radius=5)\n",
    "        dd=polygon.get_verts()[:-1]\n",
    "        dy=np.full((num_points,num_classes),num_points/num_classes)\n",
    "        #Incomplete\n",
    "    if mode == \"2points_n_classes\":\n",
    "        dd=np.array([[0,0],[1,0]])\n",
    "        dy=np.zeros((num_points,num_classes))\n",
    "        \n",
    "        dy[0] = labels_2_points_n_classes(num_classes)\n",
    "        #A, b = create_system(num_classes)\n",
    "        #dy[0]=solve_system(A,b)\n",
    "        \n",
    "#         if num_classes ==3:\n",
    "#             dy[0]=np.array([3/5,2/5,0])\n",
    "#         if num_classes==4:\n",
    "#             #dy[0]=np.array([5/12,4/12,3/12,0])\n",
    "#             dy[0]=np.array([6/14,5/14,3/14,0])\n",
    "#         if num_classes==5:\n",
    "#             dy[0]=np.array([60/200,49/200,47/200,44/200,0])\n",
    "#         if num_classes==6:\n",
    "#             dy[0]=np.array([56/210,52/210,42/210,40/210,20/210,0])\n",
    "\n",
    "     \n",
    "        dy[1]=dy[0][::-1]\n",
    "        print(dy)\n",
    "    if mode == \"2points_half_n_classes\":\n",
    "        num_classes=2*num_classes\n",
    "        dd=np.array([[0,0],[1,0]])\n",
    "        dy=np.zeros((num_points,num_classes))\n",
    "        \n",
    "        dy[0] = labels_2_points_n_classes(num_classes)\n",
    "        dy[1]=dy[0][::-1]  \n",
    "        half_ind = int((num_classes+1)/2)\n",
    "        dy[0][half_ind:]=np.zeros_like(dy[0][half_ind:])\n",
    "        dy[1][half_ind:]=np.zeros_like(dy[1][half_ind:])\n",
    "        \n",
    "    if mode == \"3points_n_classes\":\n",
    "        dd=np.array([[-1,0],[0,0],[1,0]])\n",
    "        dy=np.zeros((num_points,num_classes))\n",
    "        \n",
    "        dy[0] = labels_2_points_n_classes(num_classes)\n",
    "        #A, b = create_system(num_classes)\n",
    "        #dy[0]=solve_system(A,b)\n",
    "        \n",
    "#         if num_classes ==3:\n",
    "#             dy[0]=np.array([3/5,2/5,0])\n",
    "#         if num_classes==4:\n",
    "#             #dy[0]=np.array([5/12,4/12,3/12,0])\n",
    "#             dy[0]=np.array([6/14,5/14,3/14,0])\n",
    "#         if num_classes==5:\n",
    "#             dy[0]=np.array([60/200,49/200,47/200,44/200,0])\n",
    "#         if num_classes==6:\n",
    "#             dy[0]=np.array([56/210,52/210,42/210,40/210,20/210,0])\n",
    "\n",
    "     \n",
    "        dy[1]=dy[0][::-1] \n",
    "        dy[2]=dy[0]  \n",
    "        \n",
    "    if mode == \"3points_half_n_classes\":\n",
    "        num_classes=2*num_classes\n",
    "\n",
    "        dd=np.array([[-1,0],[0,0],[1,0]])\n",
    "        dy=np.zeros((num_points,num_classes))\n",
    "        \n",
    "        dy[1] = labels_2_points_n_classes(num_classes)\n",
    "\n",
    "     \n",
    "        dy[0]=dy[1][::-1] \n",
    "        dy[2]=dy[0]  \n",
    "        half_ind = int((num_classes+1)/2)\n",
    "        dy[0][half_ind:]=np.zeros_like(dy[0][half_ind:])\n",
    "        dy[1][half_ind:]=np.zeros_like(dy[1][half_ind:])\n",
    "        dy[2][half_ind:]=np.zeros_like(dy[2][half_ind:])\n",
    "    #print(dy)\n",
    "    if not mode != \"true\":\n",
    "        distX=[]\n",
    "        distY=[]\n",
    "        for i in range(num_points):\n",
    "            class_list = []\n",
    "            for j in range(num_classes):\n",
    "                class_list.append(int(dy[i][j]*granularity)+1*(mode!=\"2points_n_classes\"))\n",
    "                distY.append(np.repeat(j, class_list[-1]))\n",
    "            #print(class_list)\n",
    "            #class_list.append(granularity-sum(class_list))\n",
    "            #print(class_list)\n",
    "            #distY.append(np.repeat(i, class_list[-1]))\n",
    "            distX.append(np.repeat([dd[i]], sum(class_list),axis=0))\n",
    "            #tempy=\n",
    "            \n",
    "            \n",
    "        distX=np.concatenate(distX)\n",
    "        distY=np.concatenate(distY)\n",
    "    distX=dd\n",
    "    distY=dy\n",
    "        #print(distX)\n",
    "        #print(distY)\n",
    "\n",
    "    # Create color maps\n",
    "    cmap_light = ListedColormap(['#FFAAAA', '#AAFFAA', '#AAAAFF', '#FFA8E8', '#A8FFE8', '#E8A8FF', '#E8FFA8' ])\n",
    "    cmap_bold = ListedColormap(['#FF8888', '#88FF88', '#8888FF', '#994282', '#429982', '#824299' ,'#829942' ])\n",
    "    cmap_bolder = ListedColormap(['#000000', '#000000', '#000000'])\n",
    "    colors=['#FFAAAA', '#AAFFAA', '#AAAAFF']\n",
    "    if num_classes>20:\n",
    "        cmap=\"gist_ncar\"\n",
    "    else:\n",
    "        cmap=\"tab20\"\n",
    "    cmap_single = get_cmap(num_classes, cmap)\n",
    "    colors=cmap_single(range(num_classes))\n",
    "    # create KNN classifier\n",
    "    clf = SoftKNN(k=k)\n",
    "    #clf = neighbors.KNeighborsClassifier(min(n_neighbors, len(distX)), weights=weights)\n",
    "    clf.fit(distX, distY)\n",
    "\n",
    "    # Plot the decision boundary. For that, we will assign a color to each\n",
    "    # point in the mesh [x_min, x_max]x[y_min, y_max].\n",
    "    if mode==\"2points_n_classes\":\n",
    "        x_min, x_max = -0-5+zoom, 1 + 5-zoom\n",
    "        y_min, y_max = -1+(-5+zoom)/2, 1 + (5-zoom)/2\n",
    "    elif mode==\"2points_half_n_classes\":\n",
    "        x_min, x_max = -0-5+zoom, 1 + 5-zoom\n",
    "        y_min, y_max = -1+(-5+zoom)/2, 1 + (5-zoom)/2\n",
    "    elif mode==\"3points_n_classes\":\n",
    "        x_min, x_max = -1-5+zoom, 1 + 5-zoom\n",
    "        y_min, y_max = -1+(-5+zoom)/2, 1 + (5-zoom)/2\n",
    "    elif mode==\"3points_half_n_classes\":\n",
    "        x_min, x_max = -1-5+zoom, 1 + 5-zoom\n",
    "        y_min, y_max = -1+(-5+zoom)/2, 1 + (5-zoom)/2\n",
    "    elif mode==\"every_other\":\n",
    "        x_min, x_max = -20,20\n",
    "        y_min, y_max = -20,20\n",
    "    elif mode==\"pairs_with_center\":\n",
    "        x_min, x_max = -15,15\n",
    "        y_min, y_max = -15,15\n",
    "    else:\n",
    "        x_min, x_max = -10,10\n",
    "        y_min, y_max = -10,10\n",
    "    size = (x_max-x_min)*(y_max-y_min)\n",
    "    desired_particles = 12000./resolution\n",
    "    h = (size/desired_particles)**0.5  # step size in the mesh\n",
    "    \n",
    "    xx, yy = np.meshgrid(np.arange(x_min, x_max, h),\n",
    "                         np.arange(y_min, y_max, h))\n",
    "    Z = clf.predict(np.c_[xx.ravel(), yy.ravel()])\n",
    "    # Put the result into a color plot\n",
    "    Z = Z.reshape(xx.shape)\n",
    "    ax1.clear()\n",
    "    ax1.pcolormesh(xx, yy, Z, cmap=cmap_single)\n",
    "    if not mode ==\"true\": \n",
    "        ax1.scatter(distX[:, 0], distX[:, 1], c=\"black\")\n",
    "    plt.xlim(xx.min(), xx.max())\n",
    "    plt.ylim(yy.min(), yy.max())\n",
    "    #plt.title(\"3-Class classification (k = %i)\")\n",
    "    for i in range(num_points):\n",
    "        axs[i].pie(dy[i], colors=colors)\n",
    "\n",
    "    if mode== \"2points_n_classes\":\n",
    "        axs[0].title.set_text(\"Left\")\n",
    "        axs[1].title.set_text(\"Right\")\n",
    "\n",
    "\n",
    "#play = widgets.Play(\n",
    "#      value=50,\n",
    "#      min=0,\n",
    "#      max=100,\n",
    "#      step=1,\n",
    "#      interval=2000,\n",
    "#      description=\"Press play\",\n",
    "#     disabled=False\n",
    "#  )\n",
    "# slider=widgets.IntSlider()\n",
    "# widgets.jslink((play, 'value'), (slider, 'value'))\n",
    "# widgets.HBox([play, slider])\n",
    "#interact(animate,frame=10)\n",
    "frame=widgets.IntSlider(min=-60, max=60, value=10, step=10, continuous_update=False)\n",
    "num_points=widgets.IntSlider(min=2, max=12, continuous_update=False)\n",
    "num_classes=widgets.IntSlider(min=2, max=24, disabled=True, continuous_update=False)\n",
    "k_nearest=widgets.IntSlider(min=1, max=24, value=2, disabled=False, continuous_update=False)\n",
    "mode=widgets.Dropdown(\n",
    "    options=['poly_and_center', 'every_other', 'pairs_with_center', '2points_n_classes', '3points_n_classes','2points_half_n_classes', '3points_half_n_classes'],\n",
    "    value='every_other',\n",
    "    description='Mode:',\n",
    "    disabled=False,\n",
    ")\n",
    "resolution = widgets.RadioButtons(\n",
    "    options=[(\"Very Low\",1.0),(\"Low\",0.8),(\"Medium\",0.6),(\"High\", 0.4),(\"Very High\", 0.2)],\n",
    "    description='Resolution:',\n",
    "    value=0.6,\n",
    "    disabled=False\n",
    ")\n",
    "zoom = widgets.IntSlider(min=-5, max=5, value=5, step=1, continuous_update=False, disabled=True)\n",
    "filename=widgets.Text(\n",
    "    value='image.png',\n",
    "    placeholder='image.png',\n",
    "    description='Filename:',\n",
    "    disabled=False\n",
    ")\n",
    "normalize=widgets.Checkbox(\n",
    "    value=False,\n",
    "    description='Normalize',\n",
    "    disabled=False,\n",
    "    indent = False\n",
    ")\n",
    "# save=widgets.Button(\n",
    "#     description='Save Image')\n",
    "# output = widgets.Output()\n",
    "\n",
    "# display(save, output)\n",
    "# def on_save(b):\n",
    "#     with output:\n",
    "#         plt.savefig(\"abc\")\n",
    "# save.on_click(on_save)\n",
    "from IPython.display import display\n",
    "button = widgets.Button(description='Save image')\n",
    "output = widgets.Output()\n",
    "display(button, output)\n",
    "def on_save(b):\n",
    "    with output:\n",
    "        plt.savefig(filename.value)\n",
    "\n",
    "\n",
    "button.on_click(on_save)\n",
    "\n",
    "\n",
    "\n",
    "def update_points_range(*args):\n",
    "    if mode.value==\"every_other\":\n",
    "        num_classes.max=2*num_points.max\n",
    "        num_classes.min=1\n",
    "        num_classes.value = num_points.value*2\n",
    "        num_classes.disabled=True\n",
    "        num_points.disabled=False\n",
    "        new_max_points = 12\n",
    "        new_min_points = 4\n",
    "        frame.disabled=False\n",
    "        zoom.disabled=True\n",
    "    if mode.value==\"poly_and_center\":\n",
    "        num_points.disabled=False\n",
    "        new_max_points = 12\n",
    "        new_min_points = 4\n",
    "        num_classes.max=3*num_points.max-2\n",
    "        num_classes.min=1\n",
    "        num_classes.value = 3*num_points.value-2\n",
    "        num_classes.disabled=True\n",
    "        frame.disabled=False\n",
    "        zoom.disabled=True\n",
    "    if mode.value==\"pairs_with_center\":\n",
    "        num_points.disabled=False\n",
    "        new_max_points = 12\n",
    "        new_min_points = 4\n",
    "        num_classes.max=2*num_points.max+1\n",
    "        num_classes.min=1\n",
    "        num_classes.value = 2*num_points.value-1\n",
    "        num_classes.disabled=True\n",
    "        frame.disabled=False\n",
    "        zoom.disabled=True\n",
    "    if mode.value==\"2points_n_classes\":\n",
    "        new_min_points = 2\n",
    "        new_max_points = 2\n",
    "        num_points.value = 2\n",
    "        num_points.disabled=True\n",
    "        num_classes.min=2\n",
    "        num_classes.max=20\n",
    "        num_classes.value=3\n",
    "        num_classes.disabled=False\n",
    "        frame.disabled=True\n",
    "        zoom.disabled=False\n",
    "        resolution.value=0.2\n",
    "    if mode.value==\"2points_half_n_classes\":\n",
    "        new_min_points = 2\n",
    "        new_max_points = 2\n",
    "        num_points.value = 2\n",
    "        num_points.disabled=True\n",
    "        num_classes.min=2\n",
    "        num_classes.max=20\n",
    "        num_classes.value=3\n",
    "        num_classes.disabled=False\n",
    "        frame.disabled=True\n",
    "        zoom.disabled=False\n",
    "        resolution.value=0.2\n",
    "    if mode.value==\"3points_n_classes\":\n",
    "        new_min_points = 3\n",
    "        new_max_points = 3\n",
    "        num_points.value = 3\n",
    "        num_points.disabled=True\n",
    "        num_classes.min=2\n",
    "        num_classes.max=20\n",
    "        num_classes.value=3\n",
    "        num_classes.disabled=False\n",
    "        frame.disabled=True\n",
    "        zoom.disabled=False\n",
    "        resolution.value=0.2\n",
    "    if mode.value==\"3points_half_n_classes\":\n",
    "        new_min_points = 3\n",
    "        new_max_points = 3\n",
    "        num_points.value = 3\n",
    "        num_points.disabled=True\n",
    "        num_classes.min=2\n",
    "        num_classes.max=20\n",
    "        num_classes.value=3\n",
    "        num_classes.disabled=False\n",
    "        frame.disabled=True\n",
    "        zoom.disabled=False\n",
    "        resolution.value=0.2\n",
    "    if new_min_points > num_points.max:\n",
    "        num_points.max = new_max_points\n",
    "        num_points.min=new_min_points\n",
    "    else:\n",
    "        num_points.min = new_min_points\n",
    "        num_points.max = new_max_points\n",
    "    k_nearest.max=num_points.max\n",
    "        \n",
    "mode.observe(update_points_range, 'value')\n",
    "num_points.observe(update_points_range)\n",
    "interactive_plot=interactive(animate,frame=frame, num_points=num_points, num_classes=num_classes,k=k_nearest, mode=mode, resolution=resolution, zoom=zoom, filename=filename, normalize=normalize)\n",
    "output = interactive_plot.children[-1]\n",
    "output.layout.height = '350px'\n",
    "\n",
    "interactive_plot\n",
    "\n"
   ]
  },
  {
   "cell_type": "code",
   "execution_count": 14,
   "metadata": {},
   "outputs": [],
   "source": [
    "def create_system(n, verbose=False):\n",
    "    A=[]\n",
    "    for i in range(1,int(np.ceil(n/2.))):\n",
    "        for j in range(2*i, n):#int(np.floor(n/2.))+i\n",
    "            vector = np.zeros(n)\n",
    "            vector[i-1]+=(2*n-j)\n",
    "            vector[n-i+1-1]+=(j)\n",
    "            vector[j-i+1-1]+=(-(2*n-j))\n",
    "            vector[n-j+i-1]+=(-j)\n",
    "            A.append(vector)\n",
    "            if verbose:\n",
    "                print (\"(y_{0}/{1})+(y_{2}/{3}) = (y_{4}/{1}) + (y_{5}/{3})    \".format(i,j/2.,n-i+1,n-(j/2.),j-i+1,n-j+i))\n",
    "        if verbose: \n",
    "            print(\"\\n\")\n",
    "    A.append(np.ones(n))\n",
    "    A.append(np.zeros(n))\n",
    "    A[-1][-1]=1\n",
    "    b = np.zeros(len(A))\n",
    "    b[-2]=1\n",
    "    return A, b\n",
    "\n",
    "def do_stuff():\n",
    "    n=8\n",
    "    A,b=create_system(n, verbose=False)\n",
    "    print (\"Expected: {0} Found: {1}\".format(expected_num_eqns(n),len(A)-2))\n",
    "    print(\"\".join([str(a)+\"\\n\" for a in A]))\n",
    "\n",
    "    C=A[:(n-2)]\n",
    "    C.append(A[-1])\n",
    "    C.append(A[-2])\n",
    "    # if n%2==1:\n",
    "    #C.append(A[-3])\n",
    "    print(np.linalg.matrix_rank(C))\n",
    "    def solve_system(A,b):\n",
    "        soln, rsq, _, _ = np.linalg.lstsq(A,b,rcond=None)\n",
    "        return soln, rsq\n",
    "    #print(solve_system(A,b))\n",
    "    soln=solve_system(A,b)[0]\n",
    "    print([str(fractions.Fraction(i).limit_denominator()) for i in soln])\n",
    "    choices = np.transpose(np.array(A[:n-2]))\n",
    "    #print(choices)\n",
    "    target=A[n-2+n-4]\n",
    "    #print(target)\n",
    "    soln=solve_system(choices, target)\n",
    "    #[str(fractions.Fraction(i).limit_denominator()) for i in soln[0]]"
   ]
  },
  {
   "cell_type": "code",
   "execution_count": null,
   "metadata": {},
   "outputs": [],
   "source": []
  }
 ],
 "metadata": {
  "kernelspec": {
   "display_name": "Python 3",
   "language": "python",
   "name": "python3"
  },
  "language_info": {
   "codemirror_mode": {
    "name": "ipython",
    "version": 3
   },
   "file_extension": ".py",
   "mimetype": "text/x-python",
   "name": "python",
   "nbconvert_exporter": "python",
   "pygments_lexer": "ipython3",
   "version": "3.7.3"
  },
  "widgets": {
   "application/vnd.jupyter.widget-state+json": {
    "state": {
     "01a4fc5ae7004e07beb1e43f97544f57": {
      "model_module": "@jupyter-widgets/controls",
      "model_module_version": "1.5.0",
      "model_name": "IntSliderModel",
      "state": {
       "continuous_update": false,
       "description": "frame",
       "layout": "IPY_MODEL_295604e36d824903864903c09774409a",
       "max": 60,
       "min": -60,
       "step": 10,
       "style": "IPY_MODEL_d1813e7f5b66432db6011421b3f0ab78",
       "value": 10
      }
     },
     "0230f19b86504a7181e9aefafbe17bcd": {
      "model_module": "@jupyter-widgets/controls",
      "model_module_version": "1.5.0",
      "model_name": "SliderStyleModel",
      "state": {
       "description_width": ""
      }
     },
     "025a4d00c9c1494b86f11d581f1ae53e": {
      "model_module": "@jupyter-widgets/base",
      "model_module_version": "1.2.0",
      "model_name": "LayoutModel",
      "state": {}
     },
     "02a6f2d1539b4ce7b32ea24c923b8664": {
      "model_module": "@jupyter-widgets/controls",
      "model_module_version": "1.5.0",
      "model_name": "DescriptionStyleModel",
      "state": {
       "description_width": ""
      }
     },
     "02b054920bf04f5b879e1425ad04ed60": {
      "model_module": "@jupyter-widgets/controls",
      "model_module_version": "1.5.0",
      "model_name": "ButtonStyleModel",
      "state": {}
     },
     "0355885167d7484fa86980cdcd099aad": {
      "model_module": "@jupyter-widgets/base",
      "model_module_version": "1.2.0",
      "model_name": "LayoutModel",
      "state": {}
     },
     "0363f7d404714500af9ab37ac2f4e1bd": {
      "model_module": "@jupyter-widgets/controls",
      "model_module_version": "1.5.0",
      "model_name": "TextModel",
      "state": {
       "description": "Filename:",
       "layout": "IPY_MODEL_4c824113c0ac40f5ba3b1e0b8300bf24",
       "placeholder": "image.png",
       "style": "IPY_MODEL_bcae59261f944854b44eee5d2d9333cb",
       "value": "image.png"
      }
     },
     "03ad7b0e5db945c2b7bca4484f3a1d33": {
      "model_module": "@jupyter-widgets/controls",
      "model_module_version": "1.5.0",
      "model_name": "IntSliderModel",
      "state": {
       "continuous_update": false,
       "description": "frame",
       "layout": "IPY_MODEL_2a6597d00874411eb1fa8cfbe2c6ff83",
       "max": 60,
       "min": -60,
       "step": 10,
       "style": "IPY_MODEL_5f1f60fe52dd4d01ae84d87b7b527556",
       "value": 10
      }
     },
     "03c39a9506804d759d3231cbf3f285cb": {
      "model_module": "@jupyter-widgets/controls",
      "model_module_version": "1.5.0",
      "model_name": "IntSliderModel",
      "state": {
       "continuous_update": false,
       "description": "num_points",
       "layout": "IPY_MODEL_8711481de24e4f898c85d905ac2f8484",
       "max": 12,
       "min": 4,
       "style": "IPY_MODEL_8b0e8b2dc4464ef6b8d0cba0d7d90972",
       "value": 4
      }
     },
     "03d444ce591346049604936eae2cd5be": {
      "model_module": "@jupyter-widgets/base",
      "model_module_version": "1.2.0",
      "model_name": "LayoutModel",
      "state": {}
     },
     "04441ec512c24d93970f36d5c069661c": {
      "model_module": "@jupyter-widgets/controls",
      "model_module_version": "1.5.0",
      "model_name": "IntSliderModel",
      "state": {
       "continuous_update": false,
       "description": "num_points",
       "layout": "IPY_MODEL_4395d1c8618749cca461934c3c9eb596",
       "max": 12,
       "min": 4,
       "style": "IPY_MODEL_5697c75d418e4169ac2f6977de0634d2",
       "value": 4
      }
     },
     "04ddf22778cf491da30a934607d759aa": {
      "model_module": "@jupyter-widgets/base",
      "model_module_version": "1.2.0",
      "model_name": "LayoutModel",
      "state": {}
     },
     "058dfb76cdde4d4f9416dfde7d9b3a76": {
      "model_module": "@jupyter-widgets/base",
      "model_module_version": "1.2.0",
      "model_name": "LayoutModel",
      "state": {}
     },
     "06933a8750d84eb38f7ff6d693031b77": {
      "model_module": "@jupyter-widgets/controls",
      "model_module_version": "1.5.0",
      "model_name": "SliderStyleModel",
      "state": {
       "description_width": ""
      }
     },
     "069bab03fb0b487c9c35ff5e91f7cee7": {
      "model_module": "@jupyter-widgets/controls",
      "model_module_version": "1.5.0",
      "model_name": "VBoxModel",
      "state": {
       "_dom_classes": [
        "widget-interact"
       ],
       "children": [
        "IPY_MODEL_59dc739b8839457c9c2e86c483afbe1c",
        "IPY_MODEL_04441ec512c24d93970f36d5c069661c",
        "IPY_MODEL_7439e7c668794e0d890ac826a4cca73b",
        "IPY_MODEL_4fffa390c1374688a1a5b96e329e9f49",
        "IPY_MODEL_42ef5d8d2df64aa084880db9dc6961a2",
        "IPY_MODEL_28d126adbced44fdbd00f8da31c26974",
        "IPY_MODEL_4701be596ff846ba916e4d892ad50f63",
        "IPY_MODEL_e7d01248b79944eea005ede1bbd16055"
       ],
       "layout": "IPY_MODEL_569879ea9def40e696236684a8268aae"
      }
     },
     "06a4e4290b5546aba03a2b9a61131d22": {
      "model_module": "@jupyter-widgets/base",
      "model_module_version": "1.2.0",
      "model_name": "LayoutModel",
      "state": {}
     },
     "06a5995b35be4fb4857e46992391ffb0": {
      "model_module": "@jupyter-widgets/base",
      "model_module_version": "1.2.0",
      "model_name": "LayoutModel",
      "state": {}
     },
     "06f36ddf609d40a59f92d7c7cc106d7a": {
      "model_module": "@jupyter-widgets/controls",
      "model_module_version": "1.5.0",
      "model_name": "DescriptionStyleModel",
      "state": {
       "description_width": ""
      }
     },
     "08e2f7cd069a4e3c9c9705b4f23a6fab": {
      "model_module": "@jupyter-widgets/controls",
      "model_module_version": "1.5.0",
      "model_name": "IntSliderModel",
      "state": {
       "continuous_update": false,
       "description": "frame",
       "layout": "IPY_MODEL_98eaa6ea82e04a4cb4796ac542c7b26c",
       "max": 60,
       "min": -60,
       "step": 10,
       "style": "IPY_MODEL_24d8bc778e024fc9bb36ea38e13c070f",
       "value": 10
      }
     },
     "08efd1778b2c46febb5eb62067994032": {
      "model_module": "@jupyter-widgets/controls",
      "model_module_version": "1.5.0",
      "model_name": "IntSliderModel",
      "state": {
       "continuous_update": false,
       "description": "num_points",
       "layout": "IPY_MODEL_1b87869ac6df48a99137d2ba8d8388b3",
       "max": 12,
       "min": 4,
       "style": "IPY_MODEL_e9a26ffaf6ef430b9f9a86fa000e05a5",
       "value": 4
      }
     },
     "0a264ea52df54329a8c66cb5f38bd5b1": {
      "model_module": "@jupyter-widgets/base",
      "model_module_version": "1.2.0",
      "model_name": "LayoutModel",
      "state": {}
     },
     "0ad3cfcd96f7451b845f3d064994c522": {
      "model_module": "@jupyter-widgets/controls",
      "model_module_version": "1.5.0",
      "model_name": "DropdownModel",
      "state": {
       "_options_labels": [
        "poly_and_center",
        "every_other",
        "2points_n_classes",
        "3points_n_classes"
       ],
       "description": "Mode:",
       "index": 1,
       "layout": "IPY_MODEL_67bcd54a399b4f8097a49b724ccc3a66",
       "style": "IPY_MODEL_650b80a9bb134f01bb619aa628da0a95"
      }
     },
     "0d2a8114948644aaab36e01e84f0d6e4": {
      "model_module": "@jupyter-widgets/controls",
      "model_module_version": "1.5.0",
      "model_name": "DescriptionStyleModel",
      "state": {
       "description_width": ""
      }
     },
     "0e91b512510f4094aa3cc18f31c0b2a0": {
      "model_module": "@jupyter-widgets/controls",
      "model_module_version": "1.5.0",
      "model_name": "DescriptionStyleModel",
      "state": {
       "description_width": ""
      }
     },
     "0f6b5ca32f7549bd9083b89406be0ace": {
      "model_module": "@jupyter-widgets/base",
      "model_module_version": "1.2.0",
      "model_name": "LayoutModel",
      "state": {}
     },
     "106dadb3769a45eaa031a3cb84ef527e": {
      "model_module": "@jupyter-widgets/output",
      "model_module_version": "1.0.0",
      "model_name": "OutputModel",
      "state": {
       "layout": "IPY_MODEL_3e4ac1df44bd4baaadb5458a10c00a6f"
      }
     },
     "106ea0c847ba4ec4ab02590af717e513": {
      "model_module": "@jupyter-widgets/controls",
      "model_module_version": "1.5.0",
      "model_name": "IntSliderModel",
      "state": {
       "continuous_update": false,
       "description": "num_classes",
       "disabled": true,
       "layout": "IPY_MODEL_7379878c62904aaf81655be94bfa28aa",
       "max": 24,
       "min": 1,
       "style": "IPY_MODEL_abf2beb16e5d4f58a6ea1cc2f51fa05e",
       "value": 8
      }
     },
     "117fbdaf985b4922a76bdbff2fc2e0f2": {
      "model_module": "@jupyter-widgets/base",
      "model_module_version": "1.2.0",
      "model_name": "LayoutModel",
      "state": {}
     },
     "12944d198d154bf7b734ed2c0fec07df": {
      "model_module": "@jupyter-widgets/base",
      "model_module_version": "1.2.0",
      "model_name": "LayoutModel",
      "state": {
       "height": "350px"
      }
     },
     "1687e9dea56f4874b028846ec673f650": {
      "model_module": "@jupyter-widgets/controls",
      "model_module_version": "1.5.0",
      "model_name": "SliderStyleModel",
      "state": {
       "description_width": ""
      }
     },
     "16f0762b2e864ff5abca381fc81d29a8": {
      "model_module": "@jupyter-widgets/base",
      "model_module_version": "1.2.0",
      "model_name": "LayoutModel",
      "state": {}
     },
     "17b4234f4ef44613882cd6611c980cd5": {
      "model_module": "@jupyter-widgets/controls",
      "model_module_version": "1.5.0",
      "model_name": "SliderStyleModel",
      "state": {
       "description_width": ""
      }
     },
     "180f2e2b2f9b40ce958b0e2095892e2e": {
      "model_module": "@jupyter-widgets/controls",
      "model_module_version": "1.5.0",
      "model_name": "SliderStyleModel",
      "state": {
       "description_width": ""
      }
     },
     "186d2c417c5249099197aba167038fc9": {
      "model_module": "@jupyter-widgets/controls",
      "model_module_version": "1.5.0",
      "model_name": "TextModel",
      "state": {
       "description": "Filename:",
       "layout": "IPY_MODEL_058dfb76cdde4d4f9416dfde7d9b3a76",
       "placeholder": "image.png",
       "style": "IPY_MODEL_afaed3715c384baaa7de4742b3465f2a",
       "value": "image.png"
      }
     },
     "187f56e973f94e5d8ad9b3b98cb20aca": {
      "model_module": "@jupyter-widgets/base",
      "model_module_version": "1.2.0",
      "model_name": "LayoutModel",
      "state": {}
     },
     "18c9b8dbd176451e8579640121e6bb85": {
      "model_module": "@jupyter-widgets/controls",
      "model_module_version": "1.5.0",
      "model_name": "VBoxModel",
      "state": {
       "_dom_classes": [
        "widget-interact"
       ],
       "children": [
        "IPY_MODEL_01a4fc5ae7004e07beb1e43f97544f57",
        "IPY_MODEL_98b8bc679ad74cf6baa7b5312b7bb19c",
        "IPY_MODEL_bb0f53edfe464c7993cb191e0d1bc0b8",
        "IPY_MODEL_d2b0ff5ada8f477fb017c043ba92e54f",
        "IPY_MODEL_d6fffa8827374b788c2b8b25ccc673b0",
        "IPY_MODEL_8779afae79df4f01ba9613d8628190af",
        "IPY_MODEL_33cc0b10d64e463cb86570ea7c33e52e",
        "IPY_MODEL_84946cbe3077401cb5faf2bae3b4cedd"
       ],
       "layout": "IPY_MODEL_df2e40018a0d4734b0c8f956eeef34fd"
      }
     },
     "1b118411b9ae4331807b21d59f319e43": {
      "model_module": "@jupyter-widgets/controls",
      "model_module_version": "1.5.0",
      "model_name": "SliderStyleModel",
      "state": {
       "description_width": ""
      }
     },
     "1b75e02e7ee54662acb3ea343e9edd28": {
      "model_module": "@jupyter-widgets/base",
      "model_module_version": "1.2.0",
      "model_name": "LayoutModel",
      "state": {}
     },
     "1b87869ac6df48a99137d2ba8d8388b3": {
      "model_module": "@jupyter-widgets/base",
      "model_module_version": "1.2.0",
      "model_name": "LayoutModel",
      "state": {}
     },
     "1c0e5dfbf4484d4cbbe77da591fce7cd": {
      "model_module": "@jupyter-widgets/controls",
      "model_module_version": "1.5.0",
      "model_name": "RadioButtonsModel",
      "state": {
       "_options_labels": [
        "Very Low",
        "Low",
        "Medium",
        "High",
        "Very High"
       ],
       "description": "Resolution:",
       "index": 4,
       "layout": "IPY_MODEL_a83fcb0fc89d4aee968b9ab97dd34762",
       "style": "IPY_MODEL_70f854fb38e44187837263d6f09e7487"
      }
     },
     "1cdc290bc8514818af984fd144470825": {
      "model_module": "@jupyter-widgets/base",
      "model_module_version": "1.2.0",
      "model_name": "LayoutModel",
      "state": {
       "height": "350px"
      }
     },
     "1dec1054b3364a24b5ae775fceb186f1": {
      "model_module": "@jupyter-widgets/controls",
      "model_module_version": "1.5.0",
      "model_name": "DescriptionStyleModel",
      "state": {
       "description_width": ""
      }
     },
     "1e9220e2e94c4b0680944872ca24d164": {
      "model_module": "@jupyter-widgets/output",
      "model_module_version": "1.0.0",
      "model_name": "OutputModel",
      "state": {
       "layout": "IPY_MODEL_d898efbb93d94aeb89379f49389e8780"
      }
     },
     "1f206444ddc54523b41ae62eda2c2b08": {
      "model_module": "@jupyter-widgets/base",
      "model_module_version": "1.2.0",
      "model_name": "LayoutModel",
      "state": {}
     },
     "20c5273e31ea4404ac51135dda090de8": {
      "model_module": "@jupyter-widgets/controls",
      "model_module_version": "1.5.0",
      "model_name": "SliderStyleModel",
      "state": {
       "description_width": ""
      }
     },
     "22521160ab1f41679a9eb6d198e87347": {
      "model_module": "@jupyter-widgets/controls",
      "model_module_version": "1.5.0",
      "model_name": "IntSliderModel",
      "state": {
       "continuous_update": false,
       "description": "num_points",
       "layout": "IPY_MODEL_f9523b6430d7484f9e5b9d2c5d0daa2a",
       "max": 12,
       "min": 4,
       "style": "IPY_MODEL_5199a586edb24c30ac7e7bbfbfdc8bfb",
       "value": 4
      }
     },
     "228be73401b5443f90986f3cf23a0bbc": {
      "model_module": "@jupyter-widgets/controls",
      "model_module_version": "1.5.0",
      "model_name": "DropdownModel",
      "state": {
       "_options_labels": [
        "poly_and_center",
        "every_other",
        "2points_n_classes",
        "3points_n_classes"
       ],
       "description": "Mode:",
       "index": 1,
       "layout": "IPY_MODEL_c653507a7e564f9389e18033c5d39949",
       "style": "IPY_MODEL_795e916fbaa34789bc6d42d2544859d7"
      }
     },
     "22f199bf76bf47fc91a0722f973f7651": {
      "model_module": "@jupyter-widgets/controls",
      "model_module_version": "1.5.0",
      "model_name": "VBoxModel",
      "state": {
       "_dom_classes": [
        "widget-interact"
       ],
       "children": [
        "IPY_MODEL_2574b3334a814ee5b80057f0957b812b",
        "IPY_MODEL_d995359963aa4896b44ff567c6c1e1be",
        "IPY_MODEL_7f3de45af001495eb6b873f1bea58a04",
        "IPY_MODEL_b002866d717a42629f47a15566d05703",
        "IPY_MODEL_9b0a8dc02e1f412f8e4755e768874ca7",
        "IPY_MODEL_2db5a9bcb27f41c5b08dd887ca13159d",
        "IPY_MODEL_59ea4cbb77ed49e4b9246b9f85e50533",
        "IPY_MODEL_72d6ffab2f0d4aafb671f624beebf9f4"
       ],
       "layout": "IPY_MODEL_a9bed6f80670432f9befac97b10d0178"
      }
     },
     "239d75b397684936abfdd7240b26cbe1": {
      "model_module": "@jupyter-widgets/controls",
      "model_module_version": "1.5.0",
      "model_name": "VBoxModel",
      "state": {
       "_dom_classes": [
        "widget-interact"
       ],
       "children": [
        "IPY_MODEL_fa6acaabf9e04ea086eabfda6cb5bc6b",
        "IPY_MODEL_c22f70ed32794efb85f8e3d5dc218e21",
        "IPY_MODEL_d7438918041a431d9246785f39c70711",
        "IPY_MODEL_c53f317cbe6545528203bc56c405e065",
        "IPY_MODEL_dae4e3935d0f4c549c8cc99ccc6b8739",
        "IPY_MODEL_b071438467494eee89d56b9ec635583c",
        "IPY_MODEL_42d67f2ad11541daaa7b8517a0d55932",
        "IPY_MODEL_506e9add428a483db18b367010917635"
       ],
       "layout": "IPY_MODEL_7f9e78cc68544adda02de7fc092f056d"
      }
     },
     "23aaf2c0e40d4154a7e6fed2514261c4": {
      "model_module": "@jupyter-widgets/controls",
      "model_module_version": "1.5.0",
      "model_name": "TextModel",
      "state": {
       "description": "Filename:",
       "layout": "IPY_MODEL_bece4f56058c43b283a8c0e0778900ee",
       "placeholder": "image.png",
       "style": "IPY_MODEL_d1be0e91f5f84f64ae2dd98b32af2103",
       "value": "image.png"
      }
     },
     "24666321686b498dbe12db630f6c5017": {
      "model_module": "@jupyter-widgets/controls",
      "model_module_version": "1.5.0",
      "model_name": "SliderStyleModel",
      "state": {
       "description_width": ""
      }
     },
     "24d8bc778e024fc9bb36ea38e13c070f": {
      "model_module": "@jupyter-widgets/controls",
      "model_module_version": "1.5.0",
      "model_name": "SliderStyleModel",
      "state": {
       "description_width": ""
      }
     },
     "254543630b2e4579bf4256887bebe484": {
      "model_module": "@jupyter-widgets/base",
      "model_module_version": "1.2.0",
      "model_name": "LayoutModel",
      "state": {}
     },
     "2559d63287884aeb9c98fff7880dd0c1": {
      "model_module": "@jupyter-widgets/base",
      "model_module_version": "1.2.0",
      "model_name": "LayoutModel",
      "state": {
       "height": "350px"
      }
     },
     "2574b3334a814ee5b80057f0957b812b": {
      "model_module": "@jupyter-widgets/controls",
      "model_module_version": "1.5.0",
      "model_name": "IntSliderModel",
      "state": {
       "continuous_update": false,
       "description": "frame",
       "layout": "IPY_MODEL_9371059fc5574ed9aa791a7328fad5ff",
       "max": 60,
       "min": -60,
       "step": 10,
       "style": "IPY_MODEL_ef8ee34dd59c4541a6d568a01ad78143",
       "value": 10
      }
     },
     "25edb56be39f47f88d89aa8a698944c7": {
      "model_module": "@jupyter-widgets/controls",
      "model_module_version": "1.5.0",
      "model_name": "ButtonStyleModel",
      "state": {}
     },
     "272cb574968b4629b683d8b7d6a4f168": {
      "model_module": "@jupyter-widgets/output",
      "model_module_version": "1.0.0",
      "model_name": "OutputModel",
      "state": {
       "layout": "IPY_MODEL_646bd33f23e9494bbeb9f51e4453e846"
      }
     },
     "275e63faffc94e71bb30e12f70869a3a": {
      "model_module": "@jupyter-widgets/base",
      "model_module_version": "1.2.0",
      "model_name": "LayoutModel",
      "state": {}
     },
     "27891239da264d36af0c64795a3597a7": {
      "model_module": "@jupyter-widgets/output",
      "model_module_version": "1.0.0",
      "model_name": "OutputModel",
      "state": {
       "layout": "IPY_MODEL_1cdc290bc8514818af984fd144470825"
      }
     },
     "2794a456cc58472b936581c4d0235415": {
      "model_module": "@jupyter-widgets/controls",
      "model_module_version": "1.5.0",
      "model_name": "SliderStyleModel",
      "state": {
       "description_width": ""
      }
     },
     "28af8abfdab34476b6e47f98bb7aaa69": {
      "model_module": "@jupyter-widgets/controls",
      "model_module_version": "1.5.0",
      "model_name": "SliderStyleModel",
      "state": {
       "description_width": ""
      }
     },
     "28d126adbced44fdbd00f8da31c26974": {
      "model_module": "@jupyter-widgets/controls",
      "model_module_version": "1.5.0",
      "model_name": "IntSliderModel",
      "state": {
       "continuous_update": false,
       "description": "zoom",
       "disabled": true,
       "layout": "IPY_MODEL_e751df4250824168acba5e6c1696a58d",
       "max": 5,
       "min": -5,
       "style": "IPY_MODEL_bb584037b893458e87de43c5db4ab9c2",
       "value": 5
      }
     },
     "29300d5d8aef4b54ac761802accf8bb6": {
      "model_module": "@jupyter-widgets/base",
      "model_module_version": "1.2.0",
      "model_name": "LayoutModel",
      "state": {}
     },
     "295604e36d824903864903c09774409a": {
      "model_module": "@jupyter-widgets/base",
      "model_module_version": "1.2.0",
      "model_name": "LayoutModel",
      "state": {}
     },
     "2a6597d00874411eb1fa8cfbe2c6ff83": {
      "model_module": "@jupyter-widgets/base",
      "model_module_version": "1.2.0",
      "model_name": "LayoutModel",
      "state": {}
     },
     "2a9225dfc57a494b97aa7b9d7227e8ed": {
      "model_module": "@jupyter-widgets/controls",
      "model_module_version": "1.5.0",
      "model_name": "SliderStyleModel",
      "state": {
       "description_width": ""
      }
     },
     "2b29bea959014ff9b27184f1ac69c6fe": {
      "model_module": "@jupyter-widgets/output",
      "model_module_version": "1.0.0",
      "model_name": "OutputModel",
      "state": {
       "layout": "IPY_MODEL_a8018102e09d4f32b7f26daaefc3b093"
      }
     },
     "2cb8995808814a29a7b9ba310862483a": {
      "model_module": "@jupyter-widgets/controls",
      "model_module_version": "1.5.0",
      "model_name": "DescriptionStyleModel",
      "state": {
       "description_width": ""
      }
     },
     "2d6ebbf4539b4e6994e368cdc8c8f5db": {
      "model_module": "@jupyter-widgets/base",
      "model_module_version": "1.2.0",
      "model_name": "LayoutModel",
      "state": {}
     },
     "2db5a9bcb27f41c5b08dd887ca13159d": {
      "model_module": "@jupyter-widgets/controls",
      "model_module_version": "1.5.0",
      "model_name": "IntSliderModel",
      "state": {
       "continuous_update": false,
       "description": "zoom",
       "disabled": true,
       "layout": "IPY_MODEL_2fbaa13e09d842b692d2af9cddab956e",
       "max": 5,
       "min": -5,
       "style": "IPY_MODEL_20c5273e31ea4404ac51135dda090de8",
       "value": 5
      }
     },
     "2dcb96d392c147d2aacbe83d027875b6": {
      "model_module": "@jupyter-widgets/controls",
      "model_module_version": "1.5.0",
      "model_name": "VBoxModel",
      "state": {
       "_dom_classes": [
        "widget-interact"
       ],
       "children": [
        "IPY_MODEL_3e3c6495b98843198a978c65be893b82",
        "IPY_MODEL_22521160ab1f41679a9eb6d198e87347",
        "IPY_MODEL_d6663c9d4d4f42ffaa114b4945b9fca6",
        "IPY_MODEL_2e4858fbe32a42608457070aea56909b",
        "IPY_MODEL_5d4aa5a076e149b4b09aea89d8acc9a2",
        "IPY_MODEL_6eccd509a8954c458f38f5a347b9d12f",
        "IPY_MODEL_186d2c417c5249099197aba167038fc9",
        "IPY_MODEL_2b29bea959014ff9b27184f1ac69c6fe"
       ],
       "layout": "IPY_MODEL_82eb7921ae904fd7aa03c9ffdba95969"
      }
     },
     "2e4858fbe32a42608457070aea56909b": {
      "model_module": "@jupyter-widgets/controls",
      "model_module_version": "1.5.0",
      "model_name": "DropdownModel",
      "state": {
       "_options_labels": [
        "poly_and_center",
        "every_other",
        "2points_n_classes",
        "3points_n_classes"
       ],
       "description": "Mode:",
       "index": 1,
       "layout": "IPY_MODEL_f2559a881e4d4adb88fb09030ee48184",
       "style": "IPY_MODEL_8381e71f4b30442d9004307513418618"
      }
     },
     "2fbaa13e09d842b692d2af9cddab956e": {
      "model_module": "@jupyter-widgets/base",
      "model_module_version": "1.2.0",
      "model_name": "LayoutModel",
      "state": {}
     },
     "3149a2679c3b4b5dbabbb2adc6745163": {
      "model_module": "@jupyter-widgets/base",
      "model_module_version": "1.2.0",
      "model_name": "LayoutModel",
      "state": {}
     },
     "32b0af7b7d794860b5790e32b1e1b44e": {
      "model_module": "@jupyter-widgets/output",
      "model_module_version": "1.0.0",
      "model_name": "OutputModel",
      "state": {
       "layout": "IPY_MODEL_8a552da9ddba480c8c8921d2dafdd750"
      }
     },
     "32b5a09476b5457bbcb0ee669b7b9359": {
      "model_module": "@jupyter-widgets/controls",
      "model_module_version": "1.5.0",
      "model_name": "IntSliderModel",
      "state": {
       "continuous_update": false,
       "description": "zoom",
       "disabled": true,
       "layout": "IPY_MODEL_8c63f87ba9c145049ae7e92a7b2e4665",
       "max": 5,
       "min": -5,
       "style": "IPY_MODEL_eb4eba8fccde44419704ac911597ca77",
       "value": 5
      }
     },
     "33cc0b10d64e463cb86570ea7c33e52e": {
      "model_module": "@jupyter-widgets/controls",
      "model_module_version": "1.5.0",
      "model_name": "TextModel",
      "state": {
       "description": "Filename:",
       "layout": "IPY_MODEL_72f2db47245e49c4be24ac9f4ad10dcb",
       "placeholder": "image.png",
       "style": "IPY_MODEL_416a29f7eb0443eb8b5f1ce4e2c420cc",
       "value": "image.png"
      }
     },
     "34d6a5790d7f46518037fdadd20a495d": {
      "model_module": "@jupyter-widgets/controls",
      "model_module_version": "1.5.0",
      "model_name": "SliderStyleModel",
      "state": {
       "description_width": ""
      }
     },
     "36dcc0fe13644bafb6499227731f7708": {
      "model_module": "@jupyter-widgets/base",
      "model_module_version": "1.2.0",
      "model_name": "LayoutModel",
      "state": {}
     },
     "37a4cb86791e4f70b0e32aa532e2f521": {
      "model_module": "@jupyter-widgets/base",
      "model_module_version": "1.2.0",
      "model_name": "LayoutModel",
      "state": {}
     },
     "38f7705d731a487ea9b20636c27e313b": {
      "model_module": "@jupyter-widgets/controls",
      "model_module_version": "1.5.0",
      "model_name": "ButtonStyleModel",
      "state": {}
     },
     "394cff04415944249c682bdb1e7783b5": {
      "model_module": "@jupyter-widgets/base",
      "model_module_version": "1.2.0",
      "model_name": "LayoutModel",
      "state": {}
     },
     "39c587588b7a4250aed602d5b2c795d4": {
      "model_module": "@jupyter-widgets/controls",
      "model_module_version": "1.5.0",
      "model_name": "SliderStyleModel",
      "state": {
       "description_width": ""
      }
     },
     "3ac6a6b58df84352add8af23bd1b952c": {
      "model_module": "@jupyter-widgets/base",
      "model_module_version": "1.2.0",
      "model_name": "LayoutModel",
      "state": {}
     },
     "3bc0e0b23aef4e9cad224d5c57d74f3f": {
      "model_module": "@jupyter-widgets/base",
      "model_module_version": "1.2.0",
      "model_name": "LayoutModel",
      "state": {}
     },
     "3c79e20e300c4b52b1dc256746926247": {
      "model_module": "@jupyter-widgets/base",
      "model_module_version": "1.2.0",
      "model_name": "LayoutModel",
      "state": {}
     },
     "3c8c4fd405d24c8f91a0b43704677cf5": {
      "model_module": "@jupyter-widgets/base",
      "model_module_version": "1.2.0",
      "model_name": "LayoutModel",
      "state": {}
     },
     "3e3c6495b98843198a978c65be893b82": {
      "model_module": "@jupyter-widgets/controls",
      "model_module_version": "1.5.0",
      "model_name": "IntSliderModel",
      "state": {
       "continuous_update": false,
       "description": "frame",
       "layout": "IPY_MODEL_03d444ce591346049604936eae2cd5be",
       "max": 60,
       "min": -60,
       "step": 10,
       "style": "IPY_MODEL_550a3c1f45904aed857e8f28adf2ab6a",
       "value": 10
      }
     },
     "3e4ac1df44bd4baaadb5458a10c00a6f": {
      "model_module": "@jupyter-widgets/base",
      "model_module_version": "1.2.0",
      "model_name": "LayoutModel",
      "state": {
       "height": "350px"
      }
     },
     "3efb5db3a6a04e5da8788c607e0e33bb": {
      "model_module": "@jupyter-widgets/controls",
      "model_module_version": "1.5.0",
      "model_name": "IntSliderModel",
      "state": {
       "continuous_update": false,
       "description": "num_classes",
       "layout": "IPY_MODEL_06a5995b35be4fb4857e46992391ffb0",
       "max": 20,
       "min": 2,
       "style": "IPY_MODEL_180f2e2b2f9b40ce958b0e2095892e2e",
       "value": 7
      }
     },
     "3f195463de5a460eada42417d134357a": {
      "model_module": "@jupyter-widgets/output",
      "model_module_version": "1.0.0",
      "model_name": "OutputModel",
      "state": {
       "layout": "IPY_MODEL_c58061758af44806bb627fb025b5dfd3"
      }
     },
     "401829fdca494c05bc8a6e1d35d657a4": {
      "model_module": "@jupyter-widgets/controls",
      "model_module_version": "1.5.0",
      "model_name": "DropdownModel",
      "state": {
       "_options_labels": [
        "poly_and_center",
        "every_other",
        "2points_n_classes",
        "3points_n_classes"
       ],
       "description": "Mode:",
       "index": 1,
       "layout": "IPY_MODEL_d18e9d8d34a24dd0b52b43e16aeeafae",
       "style": "IPY_MODEL_60d1a3bff5b147c4b6b3cc1b9455c61e"
      }
     },
     "416a29f7eb0443eb8b5f1ce4e2c420cc": {
      "model_module": "@jupyter-widgets/controls",
      "model_module_version": "1.5.0",
      "model_name": "DescriptionStyleModel",
      "state": {
       "description_width": ""
      }
     },
     "41a74390c64348bc85aaa1001840c2dc": {
      "model_module": "@jupyter-widgets/controls",
      "model_module_version": "1.5.0",
      "model_name": "ButtonStyleModel",
      "state": {}
     },
     "41ac8d43355a48c9aef561a51fef5473": {
      "model_module": "@jupyter-widgets/controls",
      "model_module_version": "1.5.0",
      "model_name": "ButtonStyleModel",
      "state": {}
     },
     "420278ec40fe4080a1a8163fb13201ec": {
      "model_module": "@jupyter-widgets/base",
      "model_module_version": "1.2.0",
      "model_name": "LayoutModel",
      "state": {}
     },
     "42bee52820614430a0e82c04292099b3": {
      "model_module": "@jupyter-widgets/controls",
      "model_module_version": "1.5.0",
      "model_name": "DescriptionStyleModel",
      "state": {
       "description_width": ""
      }
     },
     "42d67f2ad11541daaa7b8517a0d55932": {
      "model_module": "@jupyter-widgets/controls",
      "model_module_version": "1.5.0",
      "model_name": "TextModel",
      "state": {
       "description": "Filename:",
       "layout": "IPY_MODEL_caf683284ff54a1fb6985bd99e9c7e29",
       "placeholder": "image.png",
       "style": "IPY_MODEL_2cb8995808814a29a7b9ba310862483a",
       "value": "image.png"
      }
     },
     "42ef5d8d2df64aa084880db9dc6961a2": {
      "model_module": "@jupyter-widgets/controls",
      "model_module_version": "1.5.0",
      "model_name": "RadioButtonsModel",
      "state": {
       "_options_labels": [
        "Very Low",
        "Low",
        "Medium",
        "High",
        "Very High"
       ],
       "description": "Resolution:",
       "index": 2,
       "layout": "IPY_MODEL_c40c4ff2c89d43fe9c8716864a155a83",
       "style": "IPY_MODEL_4ce348803ba44e87ad5d352cfe0ba90b"
      }
     },
     "4395d1c8618749cca461934c3c9eb596": {
      "model_module": "@jupyter-widgets/base",
      "model_module_version": "1.2.0",
      "model_name": "LayoutModel",
      "state": {}
     },
     "4472560ed49a40189508184b07a5e5a1": {
      "model_module": "@jupyter-widgets/controls",
      "model_module_version": "1.5.0",
      "model_name": "VBoxModel",
      "state": {
       "_dom_classes": [
        "widget-interact"
       ],
       "children": [
        "IPY_MODEL_08e2f7cd069a4e3c9c9705b4f23a6fab",
        "IPY_MODEL_aa4219faeed340f49d3f0d449d70c63b",
        "IPY_MODEL_54643cf97be74483a266a76b1e65f7e3",
        "IPY_MODEL_9d19e1518abd4b5e96c0ffe52f9f31f2",
        "IPY_MODEL_a98f49be2d634e4491f0407820e609b3",
        "IPY_MODEL_32b5a09476b5457bbcb0ee669b7b9359",
        "IPY_MODEL_23aaf2c0e40d4154a7e6fed2514261c4",
        "IPY_MODEL_3f195463de5a460eada42417d134357a"
       ],
       "layout": "IPY_MODEL_4babbfd5d0324eac8f8b9a7994357867"
      }
     },
     "456eb002d05848a89e6fb5156b60a97c": {
      "model_module": "@jupyter-widgets/controls",
      "model_module_version": "1.5.0",
      "model_name": "IntSliderModel",
      "state": {
       "continuous_update": false,
       "description": "num_points",
       "layout": "IPY_MODEL_04ddf22778cf491da30a934607d759aa",
       "max": 12,
       "min": 4,
       "style": "IPY_MODEL_60d0f2f2cbf844c4a14856a897f591cc",
       "value": 4
      }
     },
     "45768a1de72348f49459e82a26fb3a05": {
      "model_module": "@jupyter-widgets/controls",
      "model_module_version": "1.5.0",
      "model_name": "IntSliderModel",
      "state": {
       "continuous_update": false,
       "description": "zoom",
       "disabled": true,
       "layout": "IPY_MODEL_b20d74ab64c94d258aa35604bdf50d13",
       "max": 5,
       "min": -5,
       "style": "IPY_MODEL_89ed37fa51ca4df8accd5c32c6e185ba",
       "value": 5
      }
     },
     "457814f167bf4e40a524268461fc8776": {
      "model_module": "@jupyter-widgets/controls",
      "model_module_version": "1.5.0",
      "model_name": "DescriptionStyleModel",
      "state": {
       "description_width": ""
      }
     },
     "46d310bad583403498b7d50b8cd6dc15": {
      "model_module": "@jupyter-widgets/base",
      "model_module_version": "1.2.0",
      "model_name": "LayoutModel",
      "state": {}
     },
     "4701be596ff846ba916e4d892ad50f63": {
      "model_module": "@jupyter-widgets/controls",
      "model_module_version": "1.5.0",
      "model_name": "TextModel",
      "state": {
       "description": "Filename:",
       "layout": "IPY_MODEL_a6d1973f15ec46a99c396a40f0017152",
       "placeholder": "image.png",
       "style": "IPY_MODEL_52b17e5a008549dba9c5a2a0ab54b641",
       "value": "image.png"
      }
     },
     "4747b0d96e1d470d97e4d7cc6a28f400": {
      "model_module": "@jupyter-widgets/output",
      "model_module_version": "1.0.0",
      "model_name": "OutputModel",
      "state": {
       "layout": "IPY_MODEL_3bc0e0b23aef4e9cad224d5c57d74f3f"
      }
     },
     "47accdf2212844c295f76a4f6b88ce70": {
      "model_module": "@jupyter-widgets/controls",
      "model_module_version": "1.5.0",
      "model_name": "SliderStyleModel",
      "state": {
       "description_width": ""
      }
     },
     "47d3794697844ea9b3033d8a97f9db48": {
      "model_module": "@jupyter-widgets/controls",
      "model_module_version": "1.5.0",
      "model_name": "IntSliderModel",
      "state": {
       "continuous_update": false,
       "description": "frame",
       "layout": "IPY_MODEL_bebd1e326a574f9fa237f19c04ec21cb",
       "max": 60,
       "min": -60,
       "step": 10,
       "style": "IPY_MODEL_7743d9b4bb9349e78035cc9b57f8e42f",
       "value": 10
      }
     },
     "47d62be925e44cd6abd135af4e250fd2": {
      "model_module": "@jupyter-widgets/controls",
      "model_module_version": "1.5.0",
      "model_name": "ButtonModel",
      "state": {
       "description": "Save image",
       "layout": "IPY_MODEL_487fd241bf274cdbb4d0b24291347514",
       "style": "IPY_MODEL_ac5cb17193ee46e196d5da459537719f"
      }
     },
     "487fd241bf274cdbb4d0b24291347514": {
      "model_module": "@jupyter-widgets/base",
      "model_module_version": "1.2.0",
      "model_name": "LayoutModel",
      "state": {}
     },
     "4991f16735684dc38d61655b3e87af44": {
      "model_module": "@jupyter-widgets/controls",
      "model_module_version": "1.5.0",
      "model_name": "SliderStyleModel",
      "state": {
       "description_width": ""
      }
     },
     "4b7aa7ed821140599e844b76f930808e": {
      "model_module": "@jupyter-widgets/controls",
      "model_module_version": "1.5.0",
      "model_name": "ButtonStyleModel",
      "state": {}
     },
     "4babbfd5d0324eac8f8b9a7994357867": {
      "model_module": "@jupyter-widgets/base",
      "model_module_version": "1.2.0",
      "model_name": "LayoutModel",
      "state": {}
     },
     "4bb6269c63b241b9b7b9527d8ee0b2c7": {
      "model_module": "@jupyter-widgets/controls",
      "model_module_version": "1.5.0",
      "model_name": "DropdownModel",
      "state": {
       "_options_labels": [
        "poly_and_center",
        "every_other",
        "2points_n_classes",
        "3points_n_classes"
       ],
       "description": "Mode:",
       "index": 1,
       "layout": "IPY_MODEL_75cb3384f4ba451aad7a038c83e85992",
       "style": "IPY_MODEL_71413c28cdc44131b2216f5de306f959"
      }
     },
     "4c824113c0ac40f5ba3b1e0b8300bf24": {
      "model_module": "@jupyter-widgets/base",
      "model_module_version": "1.2.0",
      "model_name": "LayoutModel",
      "state": {}
     },
     "4ce348803ba44e87ad5d352cfe0ba90b": {
      "model_module": "@jupyter-widgets/controls",
      "model_module_version": "1.5.0",
      "model_name": "DescriptionStyleModel",
      "state": {
       "description_width": ""
      }
     },
     "4d1c50d66e13485d854fd24e7ceb1330": {
      "model_module": "@jupyter-widgets/base",
      "model_module_version": "1.2.0",
      "model_name": "LayoutModel",
      "state": {}
     },
     "4d2c2a828da44d98806178aec31f7ef8": {
      "model_module": "@jupyter-widgets/controls",
      "model_module_version": "1.5.0",
      "model_name": "SliderStyleModel",
      "state": {
       "description_width": ""
      }
     },
     "4ff71ffc1a3349b29e8984ebd08049b9": {
      "model_module": "@jupyter-widgets/controls",
      "model_module_version": "1.5.0",
      "model_name": "RadioButtonsModel",
      "state": {
       "_options_labels": [
        "Very Low",
        "Low",
        "Medium",
        "High",
        "Very High"
       ],
       "description": "Resolution:",
       "index": 2,
       "layout": "IPY_MODEL_37a4cb86791e4f70b0e32aa532e2f521",
       "style": "IPY_MODEL_d7f9dafed27b45ad9797aa9b01c22ad4"
      }
     },
     "4fffa390c1374688a1a5b96e329e9f49": {
      "model_module": "@jupyter-widgets/controls",
      "model_module_version": "1.5.0",
      "model_name": "DropdownModel",
      "state": {
       "_options_labels": [
        "poly_and_center",
        "every_other",
        "2points_n_classes",
        "3points_n_classes"
       ],
       "description": "Mode:",
       "index": 1,
       "layout": "IPY_MODEL_9c7cc69208a74d18be16ffbf80557a29",
       "style": "IPY_MODEL_cb68ccb3867d488ca74888458841ed16"
      }
     },
     "504248b60ca94ba08895d0ab5e0eb882": {
      "model_module": "@jupyter-widgets/base",
      "model_module_version": "1.2.0",
      "model_name": "LayoutModel",
      "state": {}
     },
     "506e9add428a483db18b367010917635": {
      "model_module": "@jupyter-widgets/output",
      "model_module_version": "1.0.0",
      "model_name": "OutputModel",
      "state": {
       "layout": "IPY_MODEL_b155d79cde854a84968e530922968412"
      }
     },
     "5113308e5f304115b788152907ca13d3": {
      "model_module": "@jupyter-widgets/base",
      "model_module_version": "1.2.0",
      "model_name": "LayoutModel",
      "state": {}
     },
     "517d13b0b31548a692f0fcd9c2d40775": {
      "model_module": "@jupyter-widgets/controls",
      "model_module_version": "1.5.0",
      "model_name": "DescriptionStyleModel",
      "state": {
       "description_width": ""
      }
     },
     "5199a586edb24c30ac7e7bbfbfdc8bfb": {
      "model_module": "@jupyter-widgets/controls",
      "model_module_version": "1.5.0",
      "model_name": "SliderStyleModel",
      "state": {
       "description_width": ""
      }
     },
     "51d161f85aea4411baad428ff5038f1e": {
      "model_module": "@jupyter-widgets/base",
      "model_module_version": "1.2.0",
      "model_name": "LayoutModel",
      "state": {}
     },
     "52b17e5a008549dba9c5a2a0ab54b641": {
      "model_module": "@jupyter-widgets/controls",
      "model_module_version": "1.5.0",
      "model_name": "DescriptionStyleModel",
      "state": {
       "description_width": ""
      }
     },
     "52c49cac66b34e758901cca5b476ca29": {
      "model_module": "@jupyter-widgets/output",
      "model_module_version": "1.0.0",
      "model_name": "OutputModel",
      "state": {
       "layout": "IPY_MODEL_420278ec40fe4080a1a8163fb13201ec"
      }
     },
     "5379d0c43b24472a985586d87f3a4965": {
      "model_module": "@jupyter-widgets/controls",
      "model_module_version": "1.5.0",
      "model_name": "IntSliderModel",
      "state": {
       "continuous_update": false,
       "description": "zoom",
       "disabled": true,
       "layout": "IPY_MODEL_940e4903a7774f87b2596eb2e103999b",
       "max": 5,
       "min": -5,
       "style": "IPY_MODEL_5c09030212ff493f84049bfb1c9bfb41",
       "value": 5
      }
     },
     "542aab1f2a3642c29466b61d840c0450": {
      "model_module": "@jupyter-widgets/base",
      "model_module_version": "1.2.0",
      "model_name": "LayoutModel",
      "state": {}
     },
     "54643cf97be74483a266a76b1e65f7e3": {
      "model_module": "@jupyter-widgets/controls",
      "model_module_version": "1.5.0",
      "model_name": "IntSliderModel",
      "state": {
       "continuous_update": false,
       "description": "num_classes",
       "disabled": true,
       "layout": "IPY_MODEL_c8a35215954249e7a5e306af8d7700e6",
       "max": 24,
       "min": 1,
       "style": "IPY_MODEL_9677ae26a5f8429ca505614a0c2b57ef",
       "value": 8
      }
     },
     "550a3c1f45904aed857e8f28adf2ab6a": {
      "model_module": "@jupyter-widgets/controls",
      "model_module_version": "1.5.0",
      "model_name": "SliderStyleModel",
      "state": {
       "description_width": ""
      }
     },
     "563d68e7de7d46e394d3226aa0c32498": {
      "model_module": "@jupyter-widgets/controls",
      "model_module_version": "1.5.0",
      "model_name": "SliderStyleModel",
      "state": {
       "description_width": ""
      }
     },
     "5697c75d418e4169ac2f6977de0634d2": {
      "model_module": "@jupyter-widgets/controls",
      "model_module_version": "1.5.0",
      "model_name": "SliderStyleModel",
      "state": {
       "description_width": ""
      }
     },
     "569879ea9def40e696236684a8268aae": {
      "model_module": "@jupyter-widgets/base",
      "model_module_version": "1.2.0",
      "model_name": "LayoutModel",
      "state": {}
     },
     "5846caa706274cc59f708ecf321f2a10": {
      "model_module": "@jupyter-widgets/base",
      "model_module_version": "1.2.0",
      "model_name": "LayoutModel",
      "state": {}
     },
     "58ab936bb3e14cf19c3209afa80eaea0": {
      "model_module": "@jupyter-widgets/output",
      "model_module_version": "1.0.0",
      "model_name": "OutputModel",
      "state": {
       "layout": "IPY_MODEL_d4105f47852b4bbea3ac497c0091ce6f"
      }
     },
     "598a6fbe3dad46fbb0b8c5dc69c8e714": {
      "model_module": "@jupyter-widgets/controls",
      "model_module_version": "1.5.0",
      "model_name": "DescriptionStyleModel",
      "state": {
       "description_width": ""
      }
     },
     "59dc739b8839457c9c2e86c483afbe1c": {
      "model_module": "@jupyter-widgets/controls",
      "model_module_version": "1.5.0",
      "model_name": "IntSliderModel",
      "state": {
       "continuous_update": false,
       "description": "frame",
       "layout": "IPY_MODEL_6723b2e67d9b4ed4ac621548e6ae8304",
       "max": 60,
       "min": -60,
       "step": 10,
       "style": "IPY_MODEL_ed27f7c15ef047dcbb3fbf9682275cc9",
       "value": 10
      }
     },
     "59ea4cbb77ed49e4b9246b9f85e50533": {
      "model_module": "@jupyter-widgets/controls",
      "model_module_version": "1.5.0",
      "model_name": "TextModel",
      "state": {
       "description": "Filename:",
       "layout": "IPY_MODEL_ad6624461ae9442aa4f9ec0d67dc09f1",
       "placeholder": "image.png",
       "style": "IPY_MODEL_ef2a4617823b41b7ba0e1bb53005f5f7",
       "value": "image.png"
      }
     },
     "5a2919b23ef44239a628f58a2950a9fe": {
      "model_module": "@jupyter-widgets/controls",
      "model_module_version": "1.5.0",
      "model_name": "RadioButtonsModel",
      "state": {
       "_options_labels": [
        "Very Low",
        "Low",
        "Medium",
        "High",
        "Very High"
       ],
       "description": "Resolution:",
       "index": 2,
       "layout": "IPY_MODEL_7a565445aa824ed4a74f562218c9bd63",
       "style": "IPY_MODEL_7388ac401a124a5e91a61638cebd6a25"
      }
     },
     "5a69a439da504d31a101895e4834d3e2": {
      "model_module": "@jupyter-widgets/base",
      "model_module_version": "1.2.0",
      "model_name": "LayoutModel",
      "state": {}
     },
     "5ab1e6497eb84d02b3680a6838e4be8f": {
      "model_module": "@jupyter-widgets/base",
      "model_module_version": "1.2.0",
      "model_name": "LayoutModel",
      "state": {}
     },
     "5b31579438af4fe9af44677072f78dcf": {
      "model_module": "@jupyter-widgets/base",
      "model_module_version": "1.2.0",
      "model_name": "LayoutModel",
      "state": {
       "height": "350px"
      }
     },
     "5c09030212ff493f84049bfb1c9bfb41": {
      "model_module": "@jupyter-widgets/controls",
      "model_module_version": "1.5.0",
      "model_name": "SliderStyleModel",
      "state": {
       "description_width": ""
      }
     },
     "5c3cbc618c4543d7b074cbaf2911478c": {
      "model_module": "@jupyter-widgets/controls",
      "model_module_version": "1.5.0",
      "model_name": "TextModel",
      "state": {
       "description": "Filename:",
       "layout": "IPY_MODEL_2d6ebbf4539b4e6994e368cdc8c8f5db",
       "placeholder": "image.png",
       "style": "IPY_MODEL_517d13b0b31548a692f0fcd9c2d40775",
       "value": "image.png"
      }
     },
     "5d18fd1cdd254fb98f642b8d25199629": {
      "model_module": "@jupyter-widgets/controls",
      "model_module_version": "1.5.0",
      "model_name": "IntSliderModel",
      "state": {
       "continuous_update": false,
       "description": "frame",
       "layout": "IPY_MODEL_4d1c50d66e13485d854fd24e7ceb1330",
       "max": 60,
       "min": -60,
       "step": 10,
       "style": "IPY_MODEL_859e9d9eaf294aaebb65caa6d836dce6",
       "value": 10
      }
     },
     "5d4aa5a076e149b4b09aea89d8acc9a2": {
      "model_module": "@jupyter-widgets/controls",
      "model_module_version": "1.5.0",
      "model_name": "RadioButtonsModel",
      "state": {
       "_options_labels": [
        "Very Low",
        "Low",
        "Medium",
        "High",
        "Very High"
       ],
       "description": "Resolution:",
       "index": 2,
       "layout": "IPY_MODEL_b14a8ffa69d44189a8778dc8dcb0f3a8",
       "style": "IPY_MODEL_8a096222a0a04f168f87250e98d937c1"
      }
     },
     "5d7ff55557f241c7aab737935b0d74ae": {
      "model_module": "@jupyter-widgets/base",
      "model_module_version": "1.2.0",
      "model_name": "LayoutModel",
      "state": {}
     },
     "5e865e1b9bb24e0aa386818e21b76636": {
      "model_module": "@jupyter-widgets/controls",
      "model_module_version": "1.5.0",
      "model_name": "SliderStyleModel",
      "state": {
       "description_width": ""
      }
     },
     "5f1f60fe52dd4d01ae84d87b7b527556": {
      "model_module": "@jupyter-widgets/controls",
      "model_module_version": "1.5.0",
      "model_name": "SliderStyleModel",
      "state": {
       "description_width": ""
      }
     },
     "5f490ba4470e42c294a3413b2b420d53": {
      "model_module": "@jupyter-widgets/base",
      "model_module_version": "1.2.0",
      "model_name": "LayoutModel",
      "state": {}
     },
     "5f86d663f5c84f22bbf621711f2d4635": {
      "model_module": "@jupyter-widgets/base",
      "model_module_version": "1.2.0",
      "model_name": "LayoutModel",
      "state": {}
     },
     "60d0f2f2cbf844c4a14856a897f591cc": {
      "model_module": "@jupyter-widgets/controls",
      "model_module_version": "1.5.0",
      "model_name": "SliderStyleModel",
      "state": {
       "description_width": ""
      }
     },
     "60d1a3bff5b147c4b6b3cc1b9455c61e": {
      "model_module": "@jupyter-widgets/controls",
      "model_module_version": "1.5.0",
      "model_name": "DescriptionStyleModel",
      "state": {
       "description_width": ""
      }
     },
     "62299593b62b48da80cec856c160c0b7": {
      "model_module": "@jupyter-widgets/base",
      "model_module_version": "1.2.0",
      "model_name": "LayoutModel",
      "state": {}
     },
     "6235c85a5a074020b95b2b7b9b88437e": {
      "model_module": "@jupyter-widgets/controls",
      "model_module_version": "1.5.0",
      "model_name": "SliderStyleModel",
      "state": {
       "description_width": ""
      }
     },
     "630d2534ffb047529777a45129e542bf": {
      "model_module": "@jupyter-widgets/controls",
      "model_module_version": "1.5.0",
      "model_name": "IntSliderModel",
      "state": {
       "continuous_update": false,
       "description": "zoom",
       "disabled": true,
       "layout": "IPY_MODEL_1f206444ddc54523b41ae62eda2c2b08",
       "max": 5,
       "min": -5,
       "style": "IPY_MODEL_24666321686b498dbe12db630f6c5017",
       "value": 5
      }
     },
     "6413eb8c130f4313aca73647d7792d0c": {
      "model_module": "@jupyter-widgets/controls",
      "model_module_version": "1.5.0",
      "model_name": "DescriptionStyleModel",
      "state": {
       "description_width": ""
      }
     },
     "646bd33f23e9494bbeb9f51e4453e846": {
      "model_module": "@jupyter-widgets/base",
      "model_module_version": "1.2.0",
      "model_name": "LayoutModel",
      "state": {
       "height": "350px"
      }
     },
     "64cde2ef0e4f4e2dab6b9b3fc80bf447": {
      "model_module": "@jupyter-widgets/controls",
      "model_module_version": "1.5.0",
      "model_name": "TextModel",
      "state": {
       "description": "Filename:",
       "layout": "IPY_MODEL_025a4d00c9c1494b86f11d581f1ae53e",
       "placeholder": "image.png",
       "style": "IPY_MODEL_02a6f2d1539b4ce7b32ea24c923b8664",
       "value": "image.png"
      }
     },
     "650b80a9bb134f01bb619aa628da0a95": {
      "model_module": "@jupyter-widgets/controls",
      "model_module_version": "1.5.0",
      "model_name": "DescriptionStyleModel",
      "state": {
       "description_width": ""
      }
     },
     "65b1ff06e66a4440a2adff77cc68db75": {
      "model_module": "@jupyter-widgets/controls",
      "model_module_version": "1.5.0",
      "model_name": "DescriptionStyleModel",
      "state": {
       "description_width": ""
      }
     },
     "66c539b6e79f4a13a42405f56d17e026": {
      "model_module": "@jupyter-widgets/base",
      "model_module_version": "1.2.0",
      "model_name": "LayoutModel",
      "state": {}
     },
     "66de3b25a49649098d4510a7ffcd77a7": {
      "model_module": "@jupyter-widgets/controls",
      "model_module_version": "1.5.0",
      "model_name": "TextModel",
      "state": {
       "description": "Filename:",
       "layout": "IPY_MODEL_e49c0f8a80ff49988abff2cf952a3755",
       "placeholder": "image.png",
       "style": "IPY_MODEL_7dc7f1e337b843a28e0c4fa70ff4f78c",
       "value": "image.png"
      }
     },
     "66ea9403a7f4427197c708146e6ae8e0": {
      "model_module": "@jupyter-widgets/output",
      "model_module_version": "1.0.0",
      "model_name": "OutputModel",
      "state": {
       "layout": "IPY_MODEL_a3b69459bd094f1a816c44413b2fe3bc"
      }
     },
     "6723b2e67d9b4ed4ac621548e6ae8304": {
      "model_module": "@jupyter-widgets/base",
      "model_module_version": "1.2.0",
      "model_name": "LayoutModel",
      "state": {}
     },
     "6767512fd20247689c08fcb421fa2969": {
      "model_module": "@jupyter-widgets/base",
      "model_module_version": "1.2.0",
      "model_name": "LayoutModel",
      "state": {}
     },
     "67bcd54a399b4f8097a49b724ccc3a66": {
      "model_module": "@jupyter-widgets/base",
      "model_module_version": "1.2.0",
      "model_name": "LayoutModel",
      "state": {}
     },
     "689871b80fa8414293843bf0654f15db": {
      "model_module": "@jupyter-widgets/controls",
      "model_module_version": "1.5.0",
      "model_name": "ButtonStyleModel",
      "state": {}
     },
     "6a7c43a69aef44198e4addccfec07998": {
      "model_module": "@jupyter-widgets/base",
      "model_module_version": "1.2.0",
      "model_name": "LayoutModel",
      "state": {}
     },
     "6a905c1416ac481da4eb2c5a024da223": {
      "model_module": "@jupyter-widgets/controls",
      "model_module_version": "1.5.0",
      "model_name": "DescriptionStyleModel",
      "state": {
       "description_width": ""
      }
     },
     "6aacc601fc124f71a2870979fe97fda1": {
      "model_module": "@jupyter-widgets/controls",
      "model_module_version": "1.5.0",
      "model_name": "SliderStyleModel",
      "state": {
       "description_width": ""
      }
     },
     "6b130968476f434b9d43cc62c9bcebe2": {
      "model_module": "@jupyter-widgets/controls",
      "model_module_version": "1.5.0",
      "model_name": "DropdownModel",
      "state": {
       "_options_labels": [
        "poly_and_center",
        "every_other",
        "2points_n_classes",
        "3points_n_classes"
       ],
       "description": "Mode:",
       "index": 2,
       "layout": "IPY_MODEL_cd1c909f7f324b85ac08c7fdb12927fe",
       "style": "IPY_MODEL_0d2a8114948644aaab36e01e84f0d6e4"
      }
     },
     "6c5ae7b80b9d415a962ba478350ad124": {
      "model_module": "@jupyter-widgets/base",
      "model_module_version": "1.2.0",
      "model_name": "LayoutModel",
      "state": {}
     },
     "6ce08dbbb9b24df49e682ba08c748bac": {
      "model_module": "@jupyter-widgets/output",
      "model_module_version": "1.0.0",
      "model_name": "OutputModel",
      "state": {
       "layout": "IPY_MODEL_dda0d290e3914021ae6ab2526e6ae98c"
      }
     },
     "6eccd509a8954c458f38f5a347b9d12f": {
      "model_module": "@jupyter-widgets/controls",
      "model_module_version": "1.5.0",
      "model_name": "IntSliderModel",
      "state": {
       "continuous_update": false,
       "description": "zoom",
       "disabled": true,
       "layout": "IPY_MODEL_8741b5bd4bf04276b15657b96656369c",
       "max": 5,
       "min": -5,
       "style": "IPY_MODEL_5e865e1b9bb24e0aa386818e21b76636",
       "value": 5
      }
     },
     "6f2b147a025b442987a11e4b9d8395c2": {
      "model_module": "@jupyter-widgets/controls",
      "model_module_version": "1.5.0",
      "model_name": "IntSliderModel",
      "state": {
       "continuous_update": false,
       "description": "num_classes",
       "disabled": true,
       "layout": "IPY_MODEL_edd3721f07d84e1ba8b014e8232640df",
       "max": 24,
       "min": 1,
       "style": "IPY_MODEL_8cdf60c21c60455fac0305607e244d73",
       "value": 8
      }
     },
     "70ad8e4661464edcb751a5c6a0c3360b": {
      "model_module": "@jupyter-widgets/base",
      "model_module_version": "1.2.0",
      "model_name": "LayoutModel",
      "state": {}
     },
     "70c564dd43de4399aa5585778755c9a9": {
      "model_module": "@jupyter-widgets/controls",
      "model_module_version": "1.5.0",
      "model_name": "SliderStyleModel",
      "state": {
       "description_width": ""
      }
     },
     "70f854fb38e44187837263d6f09e7487": {
      "model_module": "@jupyter-widgets/controls",
      "model_module_version": "1.5.0",
      "model_name": "DescriptionStyleModel",
      "state": {
       "description_width": ""
      }
     },
     "71413c28cdc44131b2216f5de306f959": {
      "model_module": "@jupyter-widgets/controls",
      "model_module_version": "1.5.0",
      "model_name": "DescriptionStyleModel",
      "state": {
       "description_width": ""
      }
     },
     "7197062e7b294552a7dd04377fd5949c": {
      "model_module": "@jupyter-widgets/base",
      "model_module_version": "1.2.0",
      "model_name": "LayoutModel",
      "state": {}
     },
     "71c9795075104401b4c75ab28a2b1bc4": {
      "model_module": "@jupyter-widgets/controls",
      "model_module_version": "1.5.0",
      "model_name": "VBoxModel",
      "state": {
       "_dom_classes": [
        "widget-interact"
       ],
       "children": [
        "IPY_MODEL_d9f0a51faff24f84889d36d5cd085776",
        "IPY_MODEL_f7eae17659284565ac272322f4418936",
        "IPY_MODEL_106ea0c847ba4ec4ab02590af717e513",
        "IPY_MODEL_0ad3cfcd96f7451b845f3d064994c522",
        "IPY_MODEL_aa9ed39ed1cc401bab5ee0e0704d049b",
        "IPY_MODEL_45768a1de72348f49459e82a26fb3a05",
        "IPY_MODEL_caf500af7f104ad2b924bab70c3c11bb",
        "IPY_MODEL_8a475dd82dda4380b7cdd55fca2334a7"
       ],
       "layout": "IPY_MODEL_5846caa706274cc59f708ecf321f2a10"
      }
     },
     "72d6ffab2f0d4aafb671f624beebf9f4": {
      "model_module": "@jupyter-widgets/output",
      "model_module_version": "1.0.0",
      "model_name": "OutputModel",
      "state": {
       "layout": "IPY_MODEL_dd09634f590d4fb3aad8465a477323f5"
      }
     },
     "72f2db47245e49c4be24ac9f4ad10dcb": {
      "model_module": "@jupyter-widgets/base",
      "model_module_version": "1.2.0",
      "model_name": "LayoutModel",
      "state": {}
     },
     "7379878c62904aaf81655be94bfa28aa": {
      "model_module": "@jupyter-widgets/base",
      "model_module_version": "1.2.0",
      "model_name": "LayoutModel",
      "state": {}
     },
     "7388ac401a124a5e91a61638cebd6a25": {
      "model_module": "@jupyter-widgets/controls",
      "model_module_version": "1.5.0",
      "model_name": "DescriptionStyleModel",
      "state": {
       "description_width": ""
      }
     },
     "73afda1d91d94614926d26f02b27ce9c": {
      "model_module": "@jupyter-widgets/controls",
      "model_module_version": "1.5.0",
      "model_name": "ButtonStyleModel",
      "state": {}
     },
     "740c73aecf704938a13d31e2bbe6a517": {
      "model_module": "@jupyter-widgets/controls",
      "model_module_version": "1.5.0",
      "model_name": "DescriptionStyleModel",
      "state": {
       "description_width": ""
      }
     },
     "7439e7c668794e0d890ac826a4cca73b": {
      "model_module": "@jupyter-widgets/controls",
      "model_module_version": "1.5.0",
      "model_name": "IntSliderModel",
      "state": {
       "continuous_update": false,
       "description": "num_classes",
       "disabled": true,
       "layout": "IPY_MODEL_a4e120e10f1c4c24ad884e35845abd9c",
       "max": 24,
       "min": 1,
       "style": "IPY_MODEL_b2c52a7d43ce4fc6a1f2e7b37fe9feeb",
       "value": 8
      }
     },
     "753fc1d4bc2e493cb6153e17319338f3": {
      "model_module": "@jupyter-widgets/base",
      "model_module_version": "1.2.0",
      "model_name": "LayoutModel",
      "state": {}
     },
     "756fd2b0f9d2442bbc80998274eaae9a": {
      "model_module": "@jupyter-widgets/controls",
      "model_module_version": "1.5.0",
      "model_name": "ButtonModel",
      "state": {
       "description": "Save image",
       "layout": "IPY_MODEL_809493b290eb4882ac07cbb2320b1a3d",
       "style": "IPY_MODEL_c5bdad07ebab4af480d2e9307e03b2eb"
      }
     },
     "759095f67ccd4beab1b1d5712f2b1598": {
      "model_module": "@jupyter-widgets/base",
      "model_module_version": "1.2.0",
      "model_name": "LayoutModel",
      "state": {}
     },
     "75cb3384f4ba451aad7a038c83e85992": {
      "model_module": "@jupyter-widgets/base",
      "model_module_version": "1.2.0",
      "model_name": "LayoutModel",
      "state": {}
     },
     "76a60d2f7e3a49d08b26515534d81024": {
      "model_module": "@jupyter-widgets/controls",
      "model_module_version": "1.5.0",
      "model_name": "ButtonModel",
      "state": {
       "description": "Save image",
       "layout": "IPY_MODEL_fc6ea7dbd3bb469dbdcd7e109fce94b9",
       "style": "IPY_MODEL_41ac8d43355a48c9aef561a51fef5473"
      }
     },
     "7743d9b4bb9349e78035cc9b57f8e42f": {
      "model_module": "@jupyter-widgets/controls",
      "model_module_version": "1.5.0",
      "model_name": "SliderStyleModel",
      "state": {
       "description_width": ""
      }
     },
     "78a96179272b49829ad2b633f092c26a": {
      "model_module": "@jupyter-widgets/controls",
      "model_module_version": "1.5.0",
      "model_name": "ButtonModel",
      "state": {
       "description": "Save image",
       "layout": "IPY_MODEL_187f56e973f94e5d8ad9b3b98cb20aca",
       "style": "IPY_MODEL_689871b80fa8414293843bf0654f15db"
      }
     },
     "795e916fbaa34789bc6d42d2544859d7": {
      "model_module": "@jupyter-widgets/controls",
      "model_module_version": "1.5.0",
      "model_name": "DescriptionStyleModel",
      "state": {
       "description_width": ""
      }
     },
     "7a565445aa824ed4a74f562218c9bd63": {
      "model_module": "@jupyter-widgets/base",
      "model_module_version": "1.2.0",
      "model_name": "LayoutModel",
      "state": {}
     },
     "7a98d7650dab4d50a57664015add566d": {
      "model_module": "@jupyter-widgets/controls",
      "model_module_version": "1.5.0",
      "model_name": "IntSliderModel",
      "state": {
       "continuous_update": false,
       "description": "num_points",
       "layout": "IPY_MODEL_759095f67ccd4beab1b1d5712f2b1598",
       "max": 12,
       "min": 4,
       "style": "IPY_MODEL_4d2c2a828da44d98806178aec31f7ef8",
       "value": 4
      }
     },
     "7ad041c432dd4a3faf29872b99277bce": {
      "model_module": "@jupyter-widgets/base",
      "model_module_version": "1.2.0",
      "model_name": "LayoutModel",
      "state": {}
     },
     "7dc7f1e337b843a28e0c4fa70ff4f78c": {
      "model_module": "@jupyter-widgets/controls",
      "model_module_version": "1.5.0",
      "model_name": "DescriptionStyleModel",
      "state": {
       "description_width": ""
      }
     },
     "7f3de45af001495eb6b873f1bea58a04": {
      "model_module": "@jupyter-widgets/controls",
      "model_module_version": "1.5.0",
      "model_name": "IntSliderModel",
      "state": {
       "continuous_update": false,
       "description": "num_classes",
       "disabled": true,
       "layout": "IPY_MODEL_ad1abe60855241fd9bceb2e0faf034e0",
       "max": 24,
       "min": 1,
       "style": "IPY_MODEL_e115403c7aaf40de9f246cc9826a891b",
       "value": 8
      }
     },
     "7f6b8d69fdac4a67af4bdf60d28c64dc": {
      "model_module": "@jupyter-widgets/controls",
      "model_module_version": "1.5.0",
      "model_name": "ButtonModel",
      "state": {
       "description": "Save image",
       "layout": "IPY_MODEL_b6ec49e52ae1410bbfe8c494033b90cd",
       "style": "IPY_MODEL_4b7aa7ed821140599e844b76f930808e"
      }
     },
     "7f859b529297436c8a8d72b4b706e2fc": {
      "model_module": "@jupyter-widgets/output",
      "model_module_version": "1.0.0",
      "model_name": "OutputModel",
      "state": {
       "layout": "IPY_MODEL_a84b51eb57ad43efb6a56c7bd5c6266b"
      }
     },
     "7f9e78cc68544adda02de7fc092f056d": {
      "model_module": "@jupyter-widgets/base",
      "model_module_version": "1.2.0",
      "model_name": "LayoutModel",
      "state": {}
     },
     "809493b290eb4882ac07cbb2320b1a3d": {
      "model_module": "@jupyter-widgets/base",
      "model_module_version": "1.2.0",
      "model_name": "LayoutModel",
      "state": {}
     },
     "81176380c4174e14b764da7efd13beda": {
      "model_module": "@jupyter-widgets/base",
      "model_module_version": "1.2.0",
      "model_name": "LayoutModel",
      "state": {}
     },
     "81c6f84f791340b18125bc07c263e9e0": {
      "model_module": "@jupyter-widgets/controls",
      "model_module_version": "1.5.0",
      "model_name": "ButtonModel",
      "state": {
       "description": "Save image",
       "layout": "IPY_MODEL_f7e6a505a68e4f4f801787e6a8a0a8e2",
       "style": "IPY_MODEL_9439f526da50431887347fbf18a1b3c7"
      }
     },
     "82ddcd7774044c02bc9792e91b7f8a6e": {
      "model_module": "@jupyter-widgets/controls",
      "model_module_version": "1.5.0",
      "model_name": "DropdownModel",
      "state": {
       "_options_labels": [
        "poly_and_center",
        "every_other",
        "2points_n_classes",
        "3points_n_classes"
       ],
       "description": "Mode:",
       "index": 1,
       "layout": "IPY_MODEL_16f0762b2e864ff5abca381fc81d29a8",
       "style": "IPY_MODEL_0e91b512510f4094aa3cc18f31c0b2a0"
      }
     },
     "82eb7921ae904fd7aa03c9ffdba95969": {
      "model_module": "@jupyter-widgets/base",
      "model_module_version": "1.2.0",
      "model_name": "LayoutModel",
      "state": {}
     },
     "834953fa9e3f4d75bf2d595bee71c20e": {
      "model_module": "@jupyter-widgets/base",
      "model_module_version": "1.2.0",
      "model_name": "LayoutModel",
      "state": {}
     },
     "8381e71f4b30442d9004307513418618": {
      "model_module": "@jupyter-widgets/controls",
      "model_module_version": "1.5.0",
      "model_name": "DescriptionStyleModel",
      "state": {
       "description_width": ""
      }
     },
     "84583671c64d4613a6fc953a2d04fcb5": {
      "model_module": "@jupyter-widgets/controls",
      "model_module_version": "1.5.0",
      "model_name": "VBoxModel",
      "state": {
       "_dom_classes": [
        "widget-interact"
       ],
       "children": [
        "IPY_MODEL_a6a82ea3026c4243994cdbf50c7a522c",
        "IPY_MODEL_08efd1778b2c46febb5eb62067994032",
        "IPY_MODEL_9ada6b96f6ac42299c3d4ca7db381550",
        "IPY_MODEL_9268ea74e77649beb306d96dd0db4fcf",
        "IPY_MODEL_ca5f83291343454aa7f7f938084f89c6",
        "IPY_MODEL_5379d0c43b24472a985586d87f3a4965",
        "IPY_MODEL_64cde2ef0e4f4e2dab6b9b3fc80bf447",
        "IPY_MODEL_e4bbe30cffcb4c01a165c0c43637b07f"
       ],
       "layout": "IPY_MODEL_70ad8e4661464edcb751a5c6a0c3360b"
      }
     },
     "84946cbe3077401cb5faf2bae3b4cedd": {
      "model_module": "@jupyter-widgets/output",
      "model_module_version": "1.0.0",
      "model_name": "OutputModel",
      "state": {
       "layout": "IPY_MODEL_a7dc0e5eb8c74954bce60c3c37fb5b9b"
      }
     },
     "859e9d9eaf294aaebb65caa6d836dce6": {
      "model_module": "@jupyter-widgets/controls",
      "model_module_version": "1.5.0",
      "model_name": "SliderStyleModel",
      "state": {
       "description_width": ""
      }
     },
     "85c243d4ef57465a9613cbc3edd6e27d": {
      "model_module": "@jupyter-widgets/controls",
      "model_module_version": "1.5.0",
      "model_name": "SliderStyleModel",
      "state": {
       "description_width": ""
      }
     },
     "870f976359d64df5b27a612be1d7a760": {
      "model_module": "@jupyter-widgets/base",
      "model_module_version": "1.2.0",
      "model_name": "LayoutModel",
      "state": {}
     },
     "8711481de24e4f898c85d905ac2f8484": {
      "model_module": "@jupyter-widgets/base",
      "model_module_version": "1.2.0",
      "model_name": "LayoutModel",
      "state": {}
     },
     "8741b5bd4bf04276b15657b96656369c": {
      "model_module": "@jupyter-widgets/base",
      "model_module_version": "1.2.0",
      "model_name": "LayoutModel",
      "state": {}
     },
     "8779afae79df4f01ba9613d8628190af": {
      "model_module": "@jupyter-widgets/controls",
      "model_module_version": "1.5.0",
      "model_name": "IntSliderModel",
      "state": {
       "continuous_update": false,
       "description": "zoom",
       "disabled": true,
       "layout": "IPY_MODEL_b04937f8a0dc46c090a4479daa038594",
       "max": 5,
       "min": -5,
       "style": "IPY_MODEL_28af8abfdab34476b6e47f98bb7aaa69",
       "value": 5
      }
     },
     "880f1a1773344a5da1401aa40c7ef924": {
      "model_module": "@jupyter-widgets/controls",
      "model_module_version": "1.5.0",
      "model_name": "VBoxModel",
      "state": {
       "_dom_classes": [
        "widget-interact"
       ],
       "children": [
        "IPY_MODEL_e74e962f0f68489fab028f3cff302a0d",
        "IPY_MODEL_7a98d7650dab4d50a57664015add566d",
        "IPY_MODEL_6f2b147a025b442987a11e4b9d8395c2",
        "IPY_MODEL_b3af0e40f1f44871885243f8761c75ef",
        "IPY_MODEL_4ff71ffc1a3349b29e8984ebd08049b9",
        "IPY_MODEL_9bb913b034b6496b8477022cc2ca579a",
        "IPY_MODEL_0363f7d404714500af9ab37ac2f4e1bd",
        "IPY_MODEL_dd6f9965bddb4ec4988accf41cd0af66"
       ],
       "layout": "IPY_MODEL_6a7c43a69aef44198e4addccfec07998"
      }
     },
     "89ed37fa51ca4df8accd5c32c6e185ba": {
      "model_module": "@jupyter-widgets/controls",
      "model_module_version": "1.5.0",
      "model_name": "SliderStyleModel",
      "state": {
       "description_width": ""
      }
     },
     "89f1ec10bd5942d58db5bc160307b0f4": {
      "model_module": "@jupyter-widgets/output",
      "model_module_version": "1.0.0",
      "model_name": "OutputModel",
      "state": {
       "layout": "IPY_MODEL_8fe592f5e6924ed29501131a88f7b966"
      }
     },
     "8a096222a0a04f168f87250e98d937c1": {
      "model_module": "@jupyter-widgets/controls",
      "model_module_version": "1.5.0",
      "model_name": "DescriptionStyleModel",
      "state": {
       "description_width": ""
      }
     },
     "8a185b02db664820a56affda26f193c9": {
      "model_module": "@jupyter-widgets/base",
      "model_module_version": "1.2.0",
      "model_name": "LayoutModel",
      "state": {}
     },
     "8a2ef60c384340d789d09de6dddd348a": {
      "model_module": "@jupyter-widgets/base",
      "model_module_version": "1.2.0",
      "model_name": "LayoutModel",
      "state": {}
     },
     "8a3845779ed14e0da480a090c0547adc": {
      "model_module": "@jupyter-widgets/controls",
      "model_module_version": "1.5.0",
      "model_name": "VBoxModel",
      "state": {
       "_dom_classes": [
        "widget-interact"
       ],
       "children": [
        "IPY_MODEL_47d3794697844ea9b3033d8a97f9db48",
        "IPY_MODEL_456eb002d05848a89e6fb5156b60a97c",
        "IPY_MODEL_978f598e949d4cb59f51627771adf4eb",
        "IPY_MODEL_82ddcd7774044c02bc9792e91b7f8a6e",
        "IPY_MODEL_f1256990b95d465489453e8ea637bf43",
        "IPY_MODEL_9143e5ed8e1744a3bb85df138f8799ad",
        "IPY_MODEL_ac25e95194364777bedff480745c94cd",
        "IPY_MODEL_32b0af7b7d794860b5790e32b1e1b44e"
       ],
       "layout": "IPY_MODEL_a76a6d920dd2464c8807b354fc70eeb5"
      }
     },
     "8a3ff2ebd512400a9b79212430c1f6f1": {
      "model_module": "@jupyter-widgets/controls",
      "model_module_version": "1.5.0",
      "model_name": "DescriptionStyleModel",
      "state": {
       "description_width": ""
      }
     },
     "8a475dd82dda4380b7cdd55fca2334a7": {
      "model_module": "@jupyter-widgets/output",
      "model_module_version": "1.0.0",
      "model_name": "OutputModel",
      "state": {
       "layout": "IPY_MODEL_b242ab3538fb4836afee10004210431e"
      }
     },
     "8a552da9ddba480c8c8921d2dafdd750": {
      "model_module": "@jupyter-widgets/base",
      "model_module_version": "1.2.0",
      "model_name": "LayoutModel",
      "state": {
       "height": "350px"
      }
     },
     "8ad51d181a364a68b867b4991573af63": {
      "model_module": "@jupyter-widgets/output",
      "model_module_version": "1.0.0",
      "model_name": "OutputModel",
      "state": {
       "layout": "IPY_MODEL_394cff04415944249c682bdb1e7783b5"
      }
     },
     "8ad6cbc5d50448a5a524de7d508024cb": {
      "model_module": "@jupyter-widgets/controls",
      "model_module_version": "1.5.0",
      "model_name": "DescriptionStyleModel",
      "state": {
       "description_width": ""
      }
     },
     "8b0e8b2dc4464ef6b8d0cba0d7d90972": {
      "model_module": "@jupyter-widgets/controls",
      "model_module_version": "1.5.0",
      "model_name": "SliderStyleModel",
      "state": {
       "description_width": ""
      }
     },
     "8bcdb893db674b759be457b82c9b9829": {
      "model_module": "@jupyter-widgets/controls",
      "model_module_version": "1.5.0",
      "model_name": "SliderStyleModel",
      "state": {
       "description_width": ""
      }
     },
     "8c63f87ba9c145049ae7e92a7b2e4665": {
      "model_module": "@jupyter-widgets/base",
      "model_module_version": "1.2.0",
      "model_name": "LayoutModel",
      "state": {}
     },
     "8c9ad17af7f8439fbfe9c02d13aa04b0": {
      "model_module": "@jupyter-widgets/controls",
      "model_module_version": "1.5.0",
      "model_name": "TextModel",
      "state": {
       "description": "Filename:",
       "layout": "IPY_MODEL_06a4e4290b5546aba03a2b9a61131d22",
       "placeholder": "image.png",
       "style": "IPY_MODEL_df86414ea8f74e82bae06ae03501aaa8",
       "value": "image.png"
      }
     },
     "8cdf60c21c60455fac0305607e244d73": {
      "model_module": "@jupyter-widgets/controls",
      "model_module_version": "1.5.0",
      "model_name": "SliderStyleModel",
      "state": {
       "description_width": ""
      }
     },
     "8f6bbc1543334d55a4032ea26a2e31d9": {
      "model_module": "@jupyter-widgets/controls",
      "model_module_version": "1.5.0",
      "model_name": "SliderStyleModel",
      "state": {
       "description_width": ""
      }
     },
     "8fe592f5e6924ed29501131a88f7b966": {
      "model_module": "@jupyter-widgets/base",
      "model_module_version": "1.2.0",
      "model_name": "LayoutModel",
      "state": {}
     },
     "90cb6cf3e90a4d2693d36e3ec1f8b650": {
      "model_module": "@jupyter-widgets/controls",
      "model_module_version": "1.5.0",
      "model_name": "ButtonModel",
      "state": {
       "description": "Save image",
       "layout": "IPY_MODEL_b1e42048b66e41b58ebac671dc2cf497",
       "style": "IPY_MODEL_38f7705d731a487ea9b20636c27e313b"
      }
     },
     "90ed935a84ca4e839091152866e56897": {
      "model_module": "@jupyter-widgets/controls",
      "model_module_version": "1.5.0",
      "model_name": "SliderStyleModel",
      "state": {
       "description_width": ""
      }
     },
     "9143e5ed8e1744a3bb85df138f8799ad": {
      "model_module": "@jupyter-widgets/controls",
      "model_module_version": "1.5.0",
      "model_name": "IntSliderModel",
      "state": {
       "continuous_update": false,
       "description": "zoom",
       "disabled": true,
       "layout": "IPY_MODEL_ff1ebbb9593045a1bb76751be453e232",
       "max": 5,
       "min": -5,
       "style": "IPY_MODEL_563d68e7de7d46e394d3226aa0c32498",
       "value": 5
      }
     },
     "9268ea74e77649beb306d96dd0db4fcf": {
      "model_module": "@jupyter-widgets/controls",
      "model_module_version": "1.5.0",
      "model_name": "DropdownModel",
      "state": {
       "_options_labels": [
        "poly_and_center",
        "every_other",
        "2points_n_classes",
        "3points_n_classes"
       ],
       "description": "Mode:",
       "index": 1,
       "layout": "IPY_MODEL_3149a2679c3b4b5dbabbb2adc6745163",
       "style": "IPY_MODEL_ccf2c7ebd9164dd0b38afd89d41e9dd1"
      }
     },
     "9371059fc5574ed9aa791a7328fad5ff": {
      "model_module": "@jupyter-widgets/base",
      "model_module_version": "1.2.0",
      "model_name": "LayoutModel",
      "state": {}
     },
     "940e4903a7774f87b2596eb2e103999b": {
      "model_module": "@jupyter-widgets/base",
      "model_module_version": "1.2.0",
      "model_name": "LayoutModel",
      "state": {}
     },
     "9439f526da50431887347fbf18a1b3c7": {
      "model_module": "@jupyter-widgets/controls",
      "model_module_version": "1.5.0",
      "model_name": "ButtonStyleModel",
      "state": {}
     },
     "95e782cbb7374cb397b0167b8c35d720": {
      "model_module": "@jupyter-widgets/controls",
      "model_module_version": "1.5.0",
      "model_name": "ButtonModel",
      "state": {
       "description": "Save image",
       "layout": "IPY_MODEL_504248b60ca94ba08895d0ab5e0eb882",
       "style": "IPY_MODEL_73afda1d91d94614926d26f02b27ce9c"
      }
     },
     "960c21bd1211411db8533335167fc7e9": {
      "model_module": "@jupyter-widgets/controls",
      "model_module_version": "1.5.0",
      "model_name": "DescriptionStyleModel",
      "state": {
       "description_width": ""
      }
     },
     "9677ae26a5f8429ca505614a0c2b57ef": {
      "model_module": "@jupyter-widgets/controls",
      "model_module_version": "1.5.0",
      "model_name": "SliderStyleModel",
      "state": {
       "description_width": ""
      }
     },
     "978f598e949d4cb59f51627771adf4eb": {
      "model_module": "@jupyter-widgets/controls",
      "model_module_version": "1.5.0",
      "model_name": "IntSliderModel",
      "state": {
       "continuous_update": false,
       "description": "num_classes",
       "disabled": true,
       "layout": "IPY_MODEL_c47002ac350347f98373b962485ce099",
       "max": 24,
       "min": 1,
       "style": "IPY_MODEL_70c564dd43de4399aa5585778755c9a9",
       "value": 8
      }
     },
     "98b640dc17af4dbca7ce1c0ee27ccdaf": {
      "model_module": "@jupyter-widgets/output",
      "model_module_version": "1.0.0",
      "model_name": "OutputModel",
      "state": {
       "layout": "IPY_MODEL_0a264ea52df54329a8c66cb5f38bd5b1"
      }
     },
     "98b8bc679ad74cf6baa7b5312b7bb19c": {
      "model_module": "@jupyter-widgets/controls",
      "model_module_version": "1.5.0",
      "model_name": "IntSliderModel",
      "state": {
       "continuous_update": false,
       "description": "num_points",
       "layout": "IPY_MODEL_0355885167d7484fa86980cdcd099aad",
       "max": 12,
       "min": 4,
       "style": "IPY_MODEL_2a9225dfc57a494b97aa7b9d7227e8ed",
       "value": 4
      }
     },
     "98eaa6ea82e04a4cb4796ac542c7b26c": {
      "model_module": "@jupyter-widgets/base",
      "model_module_version": "1.2.0",
      "model_name": "LayoutModel",
      "state": {}
     },
     "9ada6b96f6ac42299c3d4ca7db381550": {
      "model_module": "@jupyter-widgets/controls",
      "model_module_version": "1.5.0",
      "model_name": "IntSliderModel",
      "state": {
       "continuous_update": false,
       "description": "num_classes",
       "disabled": true,
       "layout": "IPY_MODEL_fad33eef822f4725831ad721575da14d",
       "max": 24,
       "min": 1,
       "style": "IPY_MODEL_8f6bbc1543334d55a4032ea26a2e31d9",
       "value": 8
      }
     },
     "9b0a8dc02e1f412f8e4755e768874ca7": {
      "model_module": "@jupyter-widgets/controls",
      "model_module_version": "1.5.0",
      "model_name": "RadioButtonsModel",
      "state": {
       "_options_labels": [
        "Very Low",
        "Low",
        "Medium",
        "High",
        "Very High"
       ],
       "description": "Resolution:",
       "index": 2,
       "layout": "IPY_MODEL_ba2a29032ffb428ebdedb68719f7eb81",
       "style": "IPY_MODEL_b0985378c620426dbaf7a38d1d36124c"
      }
     },
     "9bace9b711a240d28c3ddfd06c488667": {
      "model_module": "@jupyter-widgets/controls",
      "model_module_version": "1.5.0",
      "model_name": "DescriptionStyleModel",
      "state": {
       "description_width": ""
      }
     },
     "9bb913b034b6496b8477022cc2ca579a": {
      "model_module": "@jupyter-widgets/controls",
      "model_module_version": "1.5.0",
      "model_name": "IntSliderModel",
      "state": {
       "continuous_update": false,
       "description": "zoom",
       "disabled": true,
       "layout": "IPY_MODEL_7197062e7b294552a7dd04377fd5949c",
       "max": 5,
       "min": -5,
       "style": "IPY_MODEL_06933a8750d84eb38f7ff6d693031b77",
       "value": 5
      }
     },
     "9c7cc69208a74d18be16ffbf80557a29": {
      "model_module": "@jupyter-widgets/base",
      "model_module_version": "1.2.0",
      "model_name": "LayoutModel",
      "state": {}
     },
     "9d19e1518abd4b5e96c0ffe52f9f31f2": {
      "model_module": "@jupyter-widgets/controls",
      "model_module_version": "1.5.0",
      "model_name": "DropdownModel",
      "state": {
       "_options_labels": [
        "poly_and_center",
        "every_other",
        "2points_n_classes",
        "3points_n_classes"
       ],
       "description": "Mode:",
       "index": 1,
       "layout": "IPY_MODEL_3c8c4fd405d24c8f91a0b43704677cf5",
       "style": "IPY_MODEL_1dec1054b3364a24b5ae775fceb186f1"
      }
     },
     "9dc7263effa2453d88122b7ca08cfd77": {
      "model_module": "@jupyter-widgets/controls",
      "model_module_version": "1.5.0",
      "model_name": "SliderStyleModel",
      "state": {
       "description_width": ""
      }
     },
     "9e989e9d356a4b57b9bf684f294d6c44": {
      "model_module": "@jupyter-widgets/base",
      "model_module_version": "1.2.0",
      "model_name": "LayoutModel",
      "state": {}
     },
     "9f30a17bfac54334b66e60c3db24cbce": {
      "model_module": "@jupyter-widgets/controls",
      "model_module_version": "1.5.0",
      "model_name": "SliderStyleModel",
      "state": {
       "description_width": ""
      }
     },
     "a062cf1414b348819c1e9f711a6e95f5": {
      "model_module": "@jupyter-widgets/base",
      "model_module_version": "1.2.0",
      "model_name": "LayoutModel",
      "state": {}
     },
     "a0d4b109450c4ac2a80d74e800ab1830": {
      "model_module": "@jupyter-widgets/controls",
      "model_module_version": "1.5.0",
      "model_name": "SliderStyleModel",
      "state": {
       "description_width": ""
      }
     },
     "a35a908d8d1c466181df59c8b530a24e": {
      "model_module": "@jupyter-widgets/base",
      "model_module_version": "1.2.0",
      "model_name": "LayoutModel",
      "state": {}
     },
     "a3b69459bd094f1a816c44413b2fe3bc": {
      "model_module": "@jupyter-widgets/base",
      "model_module_version": "1.2.0",
      "model_name": "LayoutModel",
      "state": {}
     },
     "a4e120e10f1c4c24ad884e35845abd9c": {
      "model_module": "@jupyter-widgets/base",
      "model_module_version": "1.2.0",
      "model_name": "LayoutModel",
      "state": {}
     },
     "a5526cf3dc1143019cfe08531dd179ab": {
      "model_module": "@jupyter-widgets/controls",
      "model_module_version": "1.5.0",
      "model_name": "VBoxModel",
      "state": {
       "_dom_classes": [
        "widget-interact"
       ],
       "children": [
        "IPY_MODEL_5d18fd1cdd254fb98f642b8d25199629",
        "IPY_MODEL_03c39a9506804d759d3231cbf3f285cb",
        "IPY_MODEL_aad6eaa74a304aa4848d00c84b46e3b1",
        "IPY_MODEL_4bb6269c63b241b9b7b9527d8ee0b2c7",
        "IPY_MODEL_d2793efaeef6424eaab710a0a0eae22c",
        "IPY_MODEL_c06b7a1c5f484922980dcd4b301adb4d",
        "IPY_MODEL_a9d23d8902864549b420205efc9ca4e3",
        "IPY_MODEL_d7a720fb172d4734925277cb9a7d1315"
       ],
       "layout": "IPY_MODEL_0f6b5ca32f7549bd9083b89406be0ace"
      }
     },
     "a5d508483055422aba728096683e8f7b": {
      "model_module": "@jupyter-widgets/base",
      "model_module_version": "1.2.0",
      "model_name": "LayoutModel",
      "state": {}
     },
     "a6a82ea3026c4243994cdbf50c7a522c": {
      "model_module": "@jupyter-widgets/controls",
      "model_module_version": "1.5.0",
      "model_name": "IntSliderModel",
      "state": {
       "continuous_update": false,
       "description": "frame",
       "layout": "IPY_MODEL_edcfa694a61e4c2c88d1b5846966f224",
       "max": 60,
       "min": -60,
       "step": 10,
       "style": "IPY_MODEL_c658113b5770444f808e7ab5e3eb1772",
       "value": 10
      }
     },
     "a6a834c9eb174da7845f2dee261d9b0d": {
      "model_module": "@jupyter-widgets/controls",
      "model_module_version": "1.5.0",
      "model_name": "ButtonStyleModel",
      "state": {}
     },
     "a6d1973f15ec46a99c396a40f0017152": {
      "model_module": "@jupyter-widgets/base",
      "model_module_version": "1.2.0",
      "model_name": "LayoutModel",
      "state": {}
     },
     "a76a6d920dd2464c8807b354fc70eeb5": {
      "model_module": "@jupyter-widgets/base",
      "model_module_version": "1.2.0",
      "model_name": "LayoutModel",
      "state": {}
     },
     "a7bb5f039da34846b42e7c4c40514205": {
      "model_module": "@jupyter-widgets/controls",
      "model_module_version": "1.5.0",
      "model_name": "VBoxModel",
      "state": {
       "_dom_classes": [
        "widget-interact"
       ],
       "children": [
        "IPY_MODEL_d01d504005ab4f45a6bda981f9e24220",
        "IPY_MODEL_ae745ad5cddf4ff38fbf41fa1d3ed8e1",
        "IPY_MODEL_bf8fc11ee6944822b0de826ae283344b",
        "IPY_MODEL_401829fdca494c05bc8a6e1d35d657a4",
        "IPY_MODEL_c5f74680eb904d29a5378e0b81403765",
        "IPY_MODEL_630d2534ffb047529777a45129e542bf",
        "IPY_MODEL_8c9ad17af7f8439fbfe9c02d13aa04b0",
        "IPY_MODEL_106dadb3769a45eaa031a3cb84ef527e"
       ],
       "layout": "IPY_MODEL_f722d1e46b0642d091a5c4478ba814f8"
      }
     },
     "a7dc0e5eb8c74954bce60c3c37fb5b9b": {
      "model_module": "@jupyter-widgets/base",
      "model_module_version": "1.2.0",
      "model_name": "LayoutModel",
      "state": {
       "height": "350px"
      }
     },
     "a8018102e09d4f32b7f26daaefc3b093": {
      "model_module": "@jupyter-widgets/base",
      "model_module_version": "1.2.0",
      "model_name": "LayoutModel",
      "state": {
       "height": "350px"
      }
     },
     "a80e9052f5f64a18b2c6bf7aa7e22f31": {
      "model_module": "@jupyter-widgets/base",
      "model_module_version": "1.2.0",
      "model_name": "LayoutModel",
      "state": {}
     },
     "a83fcb0fc89d4aee968b9ab97dd34762": {
      "model_module": "@jupyter-widgets/base",
      "model_module_version": "1.2.0",
      "model_name": "LayoutModel",
      "state": {}
     },
     "a84b51eb57ad43efb6a56c7bd5c6266b": {
      "model_module": "@jupyter-widgets/base",
      "model_module_version": "1.2.0",
      "model_name": "LayoutModel",
      "state": {}
     },
     "a88382b827f94c7ab5442cb140fc5a37": {
      "model_module": "@jupyter-widgets/controls",
      "model_module_version": "1.5.0",
      "model_name": "DescriptionStyleModel",
      "state": {
       "description_width": ""
      }
     },
     "a98f49be2d634e4491f0407820e609b3": {
      "model_module": "@jupyter-widgets/controls",
      "model_module_version": "1.5.0",
      "model_name": "RadioButtonsModel",
      "state": {
       "_options_labels": [
        "Very Low",
        "Low",
        "Medium",
        "High",
        "Very High"
       ],
       "description": "Resolution:",
       "index": 2,
       "layout": "IPY_MODEL_81176380c4174e14b764da7efd13beda",
       "style": "IPY_MODEL_457814f167bf4e40a524268461fc8776"
      }
     },
     "a9bed6f80670432f9befac97b10d0178": {
      "model_module": "@jupyter-widgets/base",
      "model_module_version": "1.2.0",
      "model_name": "LayoutModel",
      "state": {}
     },
     "a9d23d8902864549b420205efc9ca4e3": {
      "model_module": "@jupyter-widgets/controls",
      "model_module_version": "1.5.0",
      "model_name": "TextModel",
      "state": {
       "description": "Filename:",
       "layout": "IPY_MODEL_5f86d663f5c84f22bbf621711f2d4635",
       "placeholder": "image.png",
       "style": "IPY_MODEL_8a3ff2ebd512400a9b79212430c1f6f1",
       "value": "image.png"
      }
     },
     "aa39aabfe4b840e28c2f4e5f5f981042": {
      "model_module": "@jupyter-widgets/controls",
      "model_module_version": "1.5.0",
      "model_name": "IntSliderModel",
      "state": {
       "continuous_update": false,
       "description": "zoom",
       "disabled": true,
       "layout": "IPY_MODEL_fef72de3508e4e39b9bd40f59030e9ec",
       "max": 5,
       "min": -5,
       "style": "IPY_MODEL_bcaa963d5836467c9743d88d36a0de1c",
       "value": 5
      }
     },
     "aa4219faeed340f49d3f0d449d70c63b": {
      "model_module": "@jupyter-widgets/controls",
      "model_module_version": "1.5.0",
      "model_name": "IntSliderModel",
      "state": {
       "continuous_update": false,
       "description": "num_points",
       "layout": "IPY_MODEL_51d161f85aea4411baad428ff5038f1e",
       "max": 12,
       "min": 4,
       "style": "IPY_MODEL_34d6a5790d7f46518037fdadd20a495d",
       "value": 4
      }
     },
     "aa9ed39ed1cc401bab5ee0e0704d049b": {
      "model_module": "@jupyter-widgets/controls",
      "model_module_version": "1.5.0",
      "model_name": "RadioButtonsModel",
      "state": {
       "_options_labels": [
        "Very Low",
        "Low",
        "Medium",
        "High",
        "Very High"
       ],
       "description": "Resolution:",
       "index": 2,
       "layout": "IPY_MODEL_e9b2549e170a4ba4b1e0d6493214ad78",
       "style": "IPY_MODEL_b1ab02036e7f4e9380f2732e462aeb13"
      }
     },
     "aad6eaa74a304aa4848d00c84b46e3b1": {
      "model_module": "@jupyter-widgets/controls",
      "model_module_version": "1.5.0",
      "model_name": "IntSliderModel",
      "state": {
       "continuous_update": false,
       "description": "num_classes",
       "disabled": true,
       "layout": "IPY_MODEL_af2726cf224048f79539010f94bde349",
       "max": 24,
       "min": 1,
       "style": "IPY_MODEL_47accdf2212844c295f76a4f6b88ce70",
       "value": 8
      }
     },
     "abf2beb16e5d4f58a6ea1cc2f51fa05e": {
      "model_module": "@jupyter-widgets/controls",
      "model_module_version": "1.5.0",
      "model_name": "SliderStyleModel",
      "state": {
       "description_width": ""
      }
     },
     "ac25e95194364777bedff480745c94cd": {
      "model_module": "@jupyter-widgets/controls",
      "model_module_version": "1.5.0",
      "model_name": "TextModel",
      "state": {
       "description": "Filename:",
       "layout": "IPY_MODEL_62299593b62b48da80cec856c160c0b7",
       "placeholder": "image.png",
       "style": "IPY_MODEL_b5e46c72ed90485fb4310472f843e3c2",
       "value": "image.png"
      }
     },
     "ac5cb17193ee46e196d5da459537719f": {
      "model_module": "@jupyter-widgets/controls",
      "model_module_version": "1.5.0",
      "model_name": "ButtonStyleModel",
      "state": {}
     },
     "ad1abe60855241fd9bceb2e0faf034e0": {
      "model_module": "@jupyter-widgets/base",
      "model_module_version": "1.2.0",
      "model_name": "LayoutModel",
      "state": {}
     },
     "ad6624461ae9442aa4f9ec0d67dc09f1": {
      "model_module": "@jupyter-widgets/base",
      "model_module_version": "1.2.0",
      "model_name": "LayoutModel",
      "state": {}
     },
     "ae745ad5cddf4ff38fbf41fa1d3ed8e1": {
      "model_module": "@jupyter-widgets/controls",
      "model_module_version": "1.5.0",
      "model_name": "IntSliderModel",
      "state": {
       "continuous_update": false,
       "description": "num_points",
       "layout": "IPY_MODEL_254543630b2e4579bf4256887bebe484",
       "max": 12,
       "min": 4,
       "style": "IPY_MODEL_6235c85a5a074020b95b2b7b9b88437e",
       "value": 4
      }
     },
     "af2726cf224048f79539010f94bde349": {
      "model_module": "@jupyter-widgets/base",
      "model_module_version": "1.2.0",
      "model_name": "LayoutModel",
      "state": {}
     },
     "afaed3715c384baaa7de4742b3465f2a": {
      "model_module": "@jupyter-widgets/controls",
      "model_module_version": "1.5.0",
      "model_name": "DescriptionStyleModel",
      "state": {
       "description_width": ""
      }
     },
     "b002866d717a42629f47a15566d05703": {
      "model_module": "@jupyter-widgets/controls",
      "model_module_version": "1.5.0",
      "model_name": "DropdownModel",
      "state": {
       "_options_labels": [
        "poly_and_center",
        "every_other",
        "2points_n_classes",
        "3points_n_classes"
       ],
       "description": "Mode:",
       "index": 1,
       "layout": "IPY_MODEL_5f490ba4470e42c294a3413b2b420d53",
       "style": "IPY_MODEL_740c73aecf704938a13d31e2bbe6a517"
      }
     },
     "b0086946fef4433e8efe8730b39ce8e4": {
      "model_module": "@jupyter-widgets/output",
      "model_module_version": "1.0.0",
      "model_name": "OutputModel",
      "state": {
       "layout": "IPY_MODEL_ce9a02e26c6f4416bc2c0e66aa8e5772"
      }
     },
     "b04937f8a0dc46c090a4479daa038594": {
      "model_module": "@jupyter-widgets/base",
      "model_module_version": "1.2.0",
      "model_name": "LayoutModel",
      "state": {}
     },
     "b071438467494eee89d56b9ec635583c": {
      "model_module": "@jupyter-widgets/controls",
      "model_module_version": "1.5.0",
      "model_name": "IntSliderModel",
      "state": {
       "continuous_update": false,
       "description": "zoom",
       "disabled": true,
       "layout": "IPY_MODEL_753fc1d4bc2e493cb6153e17319338f3",
       "max": 5,
       "min": -5,
       "style": "IPY_MODEL_85c243d4ef57465a9613cbc3edd6e27d",
       "value": 5
      }
     },
     "b0985378c620426dbaf7a38d1d36124c": {
      "model_module": "@jupyter-widgets/controls",
      "model_module_version": "1.5.0",
      "model_name": "DescriptionStyleModel",
      "state": {
       "description_width": ""
      }
     },
     "b14a8ffa69d44189a8778dc8dcb0f3a8": {
      "model_module": "@jupyter-widgets/base",
      "model_module_version": "1.2.0",
      "model_name": "LayoutModel",
      "state": {}
     },
     "b155d79cde854a84968e530922968412": {
      "model_module": "@jupyter-widgets/base",
      "model_module_version": "1.2.0",
      "model_name": "LayoutModel",
      "state": {
       "height": "350px"
      }
     },
     "b174bf22d84e4957920a102bdb0e80d1": {
      "model_module": "@jupyter-widgets/controls",
      "model_module_version": "1.5.0",
      "model_name": "VBoxModel",
      "state": {
       "_dom_classes": [
        "widget-interact"
       ],
       "children": [
        "IPY_MODEL_f5e7068271e5442797a29e84b1e97dd8",
        "IPY_MODEL_c209e9c25c93496ca4cbb064c9be7126",
        "IPY_MODEL_3efb5db3a6a04e5da8788c607e0e33bb",
        "IPY_MODEL_6b130968476f434b9d43cc62c9bcebe2",
        "IPY_MODEL_1c0e5dfbf4484d4cbbe77da591fce7cd",
        "IPY_MODEL_d99675da08864bafa49533a4defd1eae",
        "IPY_MODEL_5c3cbc618c4543d7b074cbaf2911478c",
        "IPY_MODEL_27891239da264d36af0c64795a3597a7"
       ],
       "layout": "IPY_MODEL_dca47b7feb2a4f23a38cd7b77e91f101"
      }
     },
     "b1ab02036e7f4e9380f2732e462aeb13": {
      "model_module": "@jupyter-widgets/controls",
      "model_module_version": "1.5.0",
      "model_name": "DescriptionStyleModel",
      "state": {
       "description_width": ""
      }
     },
     "b1e42048b66e41b58ebac671dc2cf497": {
      "model_module": "@jupyter-widgets/base",
      "model_module_version": "1.2.0",
      "model_name": "LayoutModel",
      "state": {}
     },
     "b20d74ab64c94d258aa35604bdf50d13": {
      "model_module": "@jupyter-widgets/base",
      "model_module_version": "1.2.0",
      "model_name": "LayoutModel",
      "state": {}
     },
     "b242ab3538fb4836afee10004210431e": {
      "model_module": "@jupyter-widgets/base",
      "model_module_version": "1.2.0",
      "model_name": "LayoutModel",
      "state": {
       "height": "350px"
      }
     },
     "b2c52a7d43ce4fc6a1f2e7b37fe9feeb": {
      "model_module": "@jupyter-widgets/controls",
      "model_module_version": "1.5.0",
      "model_name": "SliderStyleModel",
      "state": {
       "description_width": ""
      }
     },
     "b36844c9b3814ffa9d329601202668ee": {
      "model_module": "@jupyter-widgets/controls",
      "model_module_version": "1.5.0",
      "model_name": "ButtonModel",
      "state": {
       "description": "Save image",
       "layout": "IPY_MODEL_46d310bad583403498b7d50b8cd6dc15",
       "style": "IPY_MODEL_41a74390c64348bc85aaa1001840c2dc"
      }
     },
     "b3af0e40f1f44871885243f8761c75ef": {
      "model_module": "@jupyter-widgets/controls",
      "model_module_version": "1.5.0",
      "model_name": "DropdownModel",
      "state": {
       "_options_labels": [
        "poly_and_center",
        "every_other",
        "2points_n_classes",
        "3points_n_classes"
       ],
       "description": "Mode:",
       "index": 1,
       "layout": "IPY_MODEL_ee185e304ca94485b3030d3ecce984b7",
       "style": "IPY_MODEL_6a905c1416ac481da4eb2c5a024da223"
      }
     },
     "b403f74615c24ca69f1577a227b03367": {
      "model_module": "@jupyter-widgets/base",
      "model_module_version": "1.2.0",
      "model_name": "LayoutModel",
      "state": {
       "height": "350px"
      }
     },
     "b5e46c72ed90485fb4310472f843e3c2": {
      "model_module": "@jupyter-widgets/controls",
      "model_module_version": "1.5.0",
      "model_name": "DescriptionStyleModel",
      "state": {
       "description_width": ""
      }
     },
     "b6318c9efb3143ff90353c927932fd61": {
      "model_module": "@jupyter-widgets/controls",
      "model_module_version": "1.5.0",
      "model_name": "SliderStyleModel",
      "state": {
       "description_width": ""
      }
     },
     "b6ec49e52ae1410bbfe8c494033b90cd": {
      "model_module": "@jupyter-widgets/base",
      "model_module_version": "1.2.0",
      "model_name": "LayoutModel",
      "state": {}
     },
     "b9ef5f98a43f4af38eef278ac98e73dc": {
      "model_module": "@jupyter-widgets/base",
      "model_module_version": "1.2.0",
      "model_name": "LayoutModel",
      "state": {}
     },
     "ba2a29032ffb428ebdedb68719f7eb81": {
      "model_module": "@jupyter-widgets/base",
      "model_module_version": "1.2.0",
      "model_name": "LayoutModel",
      "state": {}
     },
     "bad2ac4758384905994b8735890add27": {
      "model_module": "@jupyter-widgets/controls",
      "model_module_version": "1.5.0",
      "model_name": "SliderStyleModel",
      "state": {
       "description_width": ""
      }
     },
     "bb0f53edfe464c7993cb191e0d1bc0b8": {
      "model_module": "@jupyter-widgets/controls",
      "model_module_version": "1.5.0",
      "model_name": "IntSliderModel",
      "state": {
       "continuous_update": false,
       "description": "num_classes",
       "disabled": true,
       "layout": "IPY_MODEL_f023c32c4c824f5b8917606712b48d8e",
       "max": 24,
       "min": 1,
       "style": "IPY_MODEL_d5862b65c47740508f46300c26c066bf",
       "value": 8
      }
     },
     "bb584037b893458e87de43c5db4ab9c2": {
      "model_module": "@jupyter-widgets/controls",
      "model_module_version": "1.5.0",
      "model_name": "SliderStyleModel",
      "state": {
       "description_width": ""
      }
     },
     "bba1a9b204f647b5a60b41c057684559": {
      "model_module": "@jupyter-widgets/controls",
      "model_module_version": "1.5.0",
      "model_name": "IntSliderModel",
      "state": {
       "continuous_update": false,
       "description": "num_points",
       "layout": "IPY_MODEL_8a2ef60c384340d789d09de6dddd348a",
       "max": 12,
       "min": 4,
       "style": "IPY_MODEL_b6318c9efb3143ff90353c927932fd61",
       "value": 4
      }
     },
     "bcaa963d5836467c9743d88d36a0de1c": {
      "model_module": "@jupyter-widgets/controls",
      "model_module_version": "1.5.0",
      "model_name": "SliderStyleModel",
      "state": {
       "description_width": ""
      }
     },
     "bcae59261f944854b44eee5d2d9333cb": {
      "model_module": "@jupyter-widgets/controls",
      "model_module_version": "1.5.0",
      "model_name": "DescriptionStyleModel",
      "state": {
       "description_width": ""
      }
     },
     "bebd1e326a574f9fa237f19c04ec21cb": {
      "model_module": "@jupyter-widgets/base",
      "model_module_version": "1.2.0",
      "model_name": "LayoutModel",
      "state": {}
     },
     "bece4f56058c43b283a8c0e0778900ee": {
      "model_module": "@jupyter-widgets/base",
      "model_module_version": "1.2.0",
      "model_name": "LayoutModel",
      "state": {}
     },
     "bf3fdea8347b4e6884c78ed54a1ec609": {
      "model_module": "@jupyter-widgets/controls",
      "model_module_version": "1.5.0",
      "model_name": "ButtonModel",
      "state": {
       "description": "Save image",
       "layout": "IPY_MODEL_36dcc0fe13644bafb6499227731f7708",
       "style": "IPY_MODEL_02b054920bf04f5b879e1425ad04ed60"
      }
     },
     "bf8fc11ee6944822b0de826ae283344b": {
      "model_module": "@jupyter-widgets/controls",
      "model_module_version": "1.5.0",
      "model_name": "IntSliderModel",
      "state": {
       "continuous_update": false,
       "description": "num_classes",
       "disabled": true,
       "layout": "IPY_MODEL_e1ceeeb079df4202a8977d1162173736",
       "max": 24,
       "min": 1,
       "style": "IPY_MODEL_6aacc601fc124f71a2870979fe97fda1",
       "value": 8
      }
     },
     "c06b7a1c5f484922980dcd4b301adb4d": {
      "model_module": "@jupyter-widgets/controls",
      "model_module_version": "1.5.0",
      "model_name": "IntSliderModel",
      "state": {
       "continuous_update": false,
       "description": "zoom",
       "disabled": true,
       "layout": "IPY_MODEL_66c539b6e79f4a13a42405f56d17e026",
       "max": 5,
       "min": -5,
       "style": "IPY_MODEL_2794a456cc58472b936581c4d0235415",
       "value": 5
      }
     },
     "c0ab77cc720a472aa0f95190c8012181": {
      "model_module": "@jupyter-widgets/controls",
      "model_module_version": "1.5.0",
      "model_name": "ButtonModel",
      "state": {
       "description": "Save image",
       "layout": "IPY_MODEL_7ad041c432dd4a3faf29872b99277bce",
       "style": "IPY_MODEL_a6a834c9eb174da7845f2dee261d9b0d"
      }
     },
     "c209e9c25c93496ca4cbb064c9be7126": {
      "model_module": "@jupyter-widgets/controls",
      "model_module_version": "1.5.0",
      "model_name": "IntSliderModel",
      "state": {
       "continuous_update": false,
       "description": "num_points",
       "disabled": true,
       "layout": "IPY_MODEL_b9ef5f98a43f4af38eef278ac98e73dc",
       "max": 2,
       "min": 2,
       "style": "IPY_MODEL_90ed935a84ca4e839091152866e56897",
       "value": 2
      }
     },
     "c22f70ed32794efb85f8e3d5dc218e21": {
      "model_module": "@jupyter-widgets/controls",
      "model_module_version": "1.5.0",
      "model_name": "IntSliderModel",
      "state": {
       "continuous_update": false,
       "description": "num_points",
       "layout": "IPY_MODEL_29300d5d8aef4b54ac761802accf8bb6",
       "max": 12,
       "min": 4,
       "style": "IPY_MODEL_17b4234f4ef44613882cd6611c980cd5",
       "value": 4
      }
     },
     "c368901a8ed94ce6977a2b39a4eac54b": {
      "model_module": "@jupyter-widgets/controls",
      "model_module_version": "1.5.0",
      "model_name": "ButtonModel",
      "state": {
       "description": "Save image",
       "layout": "IPY_MODEL_117fbdaf985b4922a76bdbff2fc2e0f2",
       "style": "IPY_MODEL_25edb56be39f47f88d89aa8a698944c7"
      }
     },
     "c40c4ff2c89d43fe9c8716864a155a83": {
      "model_module": "@jupyter-widgets/base",
      "model_module_version": "1.2.0",
      "model_name": "LayoutModel",
      "state": {}
     },
     "c46d2496f1c247ccb62b761e694b3651": {
      "model_module": "@jupyter-widgets/base",
      "model_module_version": "1.2.0",
      "model_name": "LayoutModel",
      "state": {}
     },
     "c47002ac350347f98373b962485ce099": {
      "model_module": "@jupyter-widgets/base",
      "model_module_version": "1.2.0",
      "model_name": "LayoutModel",
      "state": {}
     },
     "c53f317cbe6545528203bc56c405e065": {
      "model_module": "@jupyter-widgets/controls",
      "model_module_version": "1.5.0",
      "model_name": "DropdownModel",
      "state": {
       "_options_labels": [
        "poly_and_center",
        "every_other",
        "2points_n_classes",
        "3points_n_classes"
       ],
       "description": "Mode:",
       "index": 1,
       "layout": "IPY_MODEL_a5d508483055422aba728096683e8f7b",
       "style": "IPY_MODEL_9bace9b711a240d28c3ddfd06c488667"
      }
     },
     "c58061758af44806bb627fb025b5dfd3": {
      "model_module": "@jupyter-widgets/base",
      "model_module_version": "1.2.0",
      "model_name": "LayoutModel",
      "state": {
       "height": "350px"
      }
     },
     "c5bdad07ebab4af480d2e9307e03b2eb": {
      "model_module": "@jupyter-widgets/controls",
      "model_module_version": "1.5.0",
      "model_name": "ButtonStyleModel",
      "state": {}
     },
     "c5f74680eb904d29a5378e0b81403765": {
      "model_module": "@jupyter-widgets/controls",
      "model_module_version": "1.5.0",
      "model_name": "RadioButtonsModel",
      "state": {
       "_options_labels": [
        "Very Low",
        "Low",
        "Medium",
        "High",
        "Very High"
       ],
       "description": "Resolution:",
       "index": 2,
       "layout": "IPY_MODEL_a35a908d8d1c466181df59c8b530a24e",
       "style": "IPY_MODEL_a88382b827f94c7ab5442cb140fc5a37"
      }
     },
     "c653507a7e564f9389e18033c5d39949": {
      "model_module": "@jupyter-widgets/base",
      "model_module_version": "1.2.0",
      "model_name": "LayoutModel",
      "state": {}
     },
     "c658113b5770444f808e7ab5e3eb1772": {
      "model_module": "@jupyter-widgets/controls",
      "model_module_version": "1.5.0",
      "model_name": "SliderStyleModel",
      "state": {
       "description_width": ""
      }
     },
     "c8a35215954249e7a5e306af8d7700e6": {
      "model_module": "@jupyter-widgets/base",
      "model_module_version": "1.2.0",
      "model_name": "LayoutModel",
      "state": {}
     },
     "ca5f83291343454aa7f7f938084f89c6": {
      "model_module": "@jupyter-widgets/controls",
      "model_module_version": "1.5.0",
      "model_name": "RadioButtonsModel",
      "state": {
       "_options_labels": [
        "Very Low",
        "Low",
        "Medium",
        "High",
        "Very High"
       ],
       "description": "Resolution:",
       "index": 2,
       "layout": "IPY_MODEL_1b75e02e7ee54662acb3ea343e9edd28",
       "style": "IPY_MODEL_960c21bd1211411db8533335167fc7e9"
      }
     },
     "caf500af7f104ad2b924bab70c3c11bb": {
      "model_module": "@jupyter-widgets/controls",
      "model_module_version": "1.5.0",
      "model_name": "TextModel",
      "state": {
       "description": "Filename:",
       "layout": "IPY_MODEL_834953fa9e3f4d75bf2d595bee71c20e",
       "placeholder": "image.png",
       "style": "IPY_MODEL_8ad6cbc5d50448a5a524de7d508024cb",
       "value": "image.png"
      }
     },
     "caf683284ff54a1fb6985bd99e9c7e29": {
      "model_module": "@jupyter-widgets/base",
      "model_module_version": "1.2.0",
      "model_name": "LayoutModel",
      "state": {}
     },
     "cb68ccb3867d488ca74888458841ed16": {
      "model_module": "@jupyter-widgets/controls",
      "model_module_version": "1.5.0",
      "model_name": "DescriptionStyleModel",
      "state": {
       "description_width": ""
      }
     },
     "cbd1354d088f4d9192583fcc341793a4": {
      "model_module": "@jupyter-widgets/base",
      "model_module_version": "1.2.0",
      "model_name": "LayoutModel",
      "state": {}
     },
     "ccf2c7ebd9164dd0b38afd89d41e9dd1": {
      "model_module": "@jupyter-widgets/controls",
      "model_module_version": "1.5.0",
      "model_name": "DescriptionStyleModel",
      "state": {
       "description_width": ""
      }
     },
     "cd1c909f7f324b85ac08c7fdb12927fe": {
      "model_module": "@jupyter-widgets/base",
      "model_module_version": "1.2.0",
      "model_name": "LayoutModel",
      "state": {}
     },
     "cdc3a83518c646749f5d2bb0fb6e26ae": {
      "model_module": "@jupyter-widgets/base",
      "model_module_version": "1.2.0",
      "model_name": "LayoutModel",
      "state": {}
     },
     "ce9a02e26c6f4416bc2c0e66aa8e5772": {
      "model_module": "@jupyter-widgets/base",
      "model_module_version": "1.2.0",
      "model_name": "LayoutModel",
      "state": {}
     },
     "d01d504005ab4f45a6bda981f9e24220": {
      "model_module": "@jupyter-widgets/controls",
      "model_module_version": "1.5.0",
      "model_name": "IntSliderModel",
      "state": {
       "continuous_update": false,
       "description": "frame",
       "layout": "IPY_MODEL_cbd1354d088f4d9192583fcc341793a4",
       "max": 60,
       "min": -60,
       "step": 10,
       "style": "IPY_MODEL_9dc7263effa2453d88122b7ca08cfd77",
       "value": 10
      }
     },
     "d1813e7f5b66432db6011421b3f0ab78": {
      "model_module": "@jupyter-widgets/controls",
      "model_module_version": "1.5.0",
      "model_name": "SliderStyleModel",
      "state": {
       "description_width": ""
      }
     },
     "d18e9d8d34a24dd0b52b43e16aeeafae": {
      "model_module": "@jupyter-widgets/base",
      "model_module_version": "1.2.0",
      "model_name": "LayoutModel",
      "state": {}
     },
     "d1be0e91f5f84f64ae2dd98b32af2103": {
      "model_module": "@jupyter-widgets/controls",
      "model_module_version": "1.5.0",
      "model_name": "DescriptionStyleModel",
      "state": {
       "description_width": ""
      }
     },
     "d2793efaeef6424eaab710a0a0eae22c": {
      "model_module": "@jupyter-widgets/controls",
      "model_module_version": "1.5.0",
      "model_name": "RadioButtonsModel",
      "state": {
       "_options_labels": [
        "Very Low",
        "Low",
        "Medium",
        "High",
        "Very High"
       ],
       "description": "Resolution:",
       "index": 2,
       "layout": "IPY_MODEL_275e63faffc94e71bb30e12f70869a3a",
       "style": "IPY_MODEL_65b1ff06e66a4440a2adff77cc68db75"
      }
     },
     "d2b0ff5ada8f477fb017c043ba92e54f": {
      "model_module": "@jupyter-widgets/controls",
      "model_module_version": "1.5.0",
      "model_name": "DropdownModel",
      "state": {
       "_options_labels": [
        "poly_and_center",
        "every_other",
        "2points_n_classes",
        "3points_n_classes"
       ],
       "description": "Mode:",
       "index": 1,
       "layout": "IPY_MODEL_a062cf1414b348819c1e9f711a6e95f5",
       "style": "IPY_MODEL_6413eb8c130f4313aca73647d7792d0c"
      }
     },
     "d4105f47852b4bbea3ac497c0091ce6f": {
      "model_module": "@jupyter-widgets/base",
      "model_module_version": "1.2.0",
      "model_name": "LayoutModel",
      "state": {}
     },
     "d5862b65c47740508f46300c26c066bf": {
      "model_module": "@jupyter-widgets/controls",
      "model_module_version": "1.5.0",
      "model_name": "SliderStyleModel",
      "state": {
       "description_width": ""
      }
     },
     "d58e1242109147e7969e9c599b18d4c5": {
      "model_module": "@jupyter-widgets/controls",
      "model_module_version": "1.5.0",
      "model_name": "ButtonStyleModel",
      "state": {}
     },
     "d6663c9d4d4f42ffaa114b4945b9fca6": {
      "model_module": "@jupyter-widgets/controls",
      "model_module_version": "1.5.0",
      "model_name": "IntSliderModel",
      "state": {
       "continuous_update": false,
       "description": "num_classes",
       "disabled": true,
       "layout": "IPY_MODEL_dcc6a86f59414ad6b5a4553031e87f46",
       "max": 24,
       "min": 1,
       "style": "IPY_MODEL_1687e9dea56f4874b028846ec673f650",
       "value": 8
      }
     },
     "d6fffa8827374b788c2b8b25ccc673b0": {
      "model_module": "@jupyter-widgets/controls",
      "model_module_version": "1.5.0",
      "model_name": "RadioButtonsModel",
      "state": {
       "_options_labels": [
        "Very Low",
        "Low",
        "Medium",
        "High",
        "Very High"
       ],
       "description": "Resolution:",
       "index": 2,
       "layout": "IPY_MODEL_5113308e5f304115b788152907ca13d3",
       "style": "IPY_MODEL_42bee52820614430a0e82c04292099b3"
      }
     },
     "d7438918041a431d9246785f39c70711": {
      "model_module": "@jupyter-widgets/controls",
      "model_module_version": "1.5.0",
      "model_name": "IntSliderModel",
      "state": {
       "continuous_update": false,
       "description": "num_classes",
       "disabled": true,
       "layout": "IPY_MODEL_8a185b02db664820a56affda26f193c9",
       "max": 24,
       "min": 1,
       "style": "IPY_MODEL_f1e080d040274dcfa622ffb335e157ff",
       "value": 8
      }
     },
     "d7a720fb172d4734925277cb9a7d1315": {
      "model_module": "@jupyter-widgets/output",
      "model_module_version": "1.0.0",
      "model_name": "OutputModel",
      "state": {
       "layout": "IPY_MODEL_12944d198d154bf7b734ed2c0fec07df"
      }
     },
     "d7f9dafed27b45ad9797aa9b01c22ad4": {
      "model_module": "@jupyter-widgets/controls",
      "model_module_version": "1.5.0",
      "model_name": "DescriptionStyleModel",
      "state": {
       "description_width": ""
      }
     },
     "d898efbb93d94aeb89379f49389e8780": {
      "model_module": "@jupyter-widgets/base",
      "model_module_version": "1.2.0",
      "model_name": "LayoutModel",
      "state": {}
     },
     "d995359963aa4896b44ff567c6c1e1be": {
      "model_module": "@jupyter-widgets/controls",
      "model_module_version": "1.5.0",
      "model_name": "IntSliderModel",
      "state": {
       "continuous_update": false,
       "description": "num_points",
       "layout": "IPY_MODEL_fd7bbadde6ed4e08884c2bae6993e150",
       "max": 12,
       "min": 4,
       "style": "IPY_MODEL_4991f16735684dc38d61655b3e87af44",
       "value": 4
      }
     },
     "d99675da08864bafa49533a4defd1eae": {
      "model_module": "@jupyter-widgets/controls",
      "model_module_version": "1.5.0",
      "model_name": "IntSliderModel",
      "state": {
       "continuous_update": false,
       "description": "zoom",
       "layout": "IPY_MODEL_6c5ae7b80b9d415a962ba478350ad124",
       "max": 5,
       "min": -5,
       "style": "IPY_MODEL_39c587588b7a4250aed602d5b2c795d4",
       "value": 5
      }
     },
     "d9f0a51faff24f84889d36d5cd085776": {
      "model_module": "@jupyter-widgets/controls",
      "model_module_version": "1.5.0",
      "model_name": "IntSliderModel",
      "state": {
       "continuous_update": false,
       "description": "frame",
       "layout": "IPY_MODEL_6767512fd20247689c08fcb421fa2969",
       "max": 60,
       "min": -60,
       "step": 10,
       "style": "IPY_MODEL_0230f19b86504a7181e9aefafbe17bcd",
       "value": 10
      }
     },
     "dae4e3935d0f4c549c8cc99ccc6b8739": {
      "model_module": "@jupyter-widgets/controls",
      "model_module_version": "1.5.0",
      "model_name": "RadioButtonsModel",
      "state": {
       "_options_labels": [
        "Very Low",
        "Low",
        "Medium",
        "High",
        "Very High"
       ],
       "description": "Resolution:",
       "index": 2,
       "layout": "IPY_MODEL_5d7ff55557f241c7aab737935b0d74ae",
       "style": "IPY_MODEL_598a6fbe3dad46fbb0b8c5dc69c8e714"
      }
     },
     "dca47b7feb2a4f23a38cd7b77e91f101": {
      "model_module": "@jupyter-widgets/base",
      "model_module_version": "1.2.0",
      "model_name": "LayoutModel",
      "state": {}
     },
     "dcc6a86f59414ad6b5a4553031e87f46": {
      "model_module": "@jupyter-widgets/base",
      "model_module_version": "1.2.0",
      "model_name": "LayoutModel",
      "state": {}
     },
     "dd09634f590d4fb3aad8465a477323f5": {
      "model_module": "@jupyter-widgets/base",
      "model_module_version": "1.2.0",
      "model_name": "LayoutModel",
      "state": {
       "height": "350px"
      }
     },
     "dd6f9965bddb4ec4988accf41cd0af66": {
      "model_module": "@jupyter-widgets/output",
      "model_module_version": "1.0.0",
      "model_name": "OutputModel",
      "state": {
       "layout": "IPY_MODEL_5b31579438af4fe9af44677072f78dcf"
      }
     },
     "dda0d290e3914021ae6ab2526e6ae98c": {
      "model_module": "@jupyter-widgets/base",
      "model_module_version": "1.2.0",
      "model_name": "LayoutModel",
      "state": {}
     },
     "de493d67ab944d5480e421156d4f97f3": {
      "model_module": "@jupyter-widgets/controls",
      "model_module_version": "1.5.0",
      "model_name": "ButtonModel",
      "state": {
       "description": "Save image",
       "layout": "IPY_MODEL_e93f9f2a896b43f490c7949c067f76bc",
       "style": "IPY_MODEL_d58e1242109147e7969e9c599b18d4c5"
      }
     },
     "df2e40018a0d4734b0c8f956eeef34fd": {
      "model_module": "@jupyter-widgets/base",
      "model_module_version": "1.2.0",
      "model_name": "LayoutModel",
      "state": {}
     },
     "df86414ea8f74e82bae06ae03501aaa8": {
      "model_module": "@jupyter-widgets/controls",
      "model_module_version": "1.5.0",
      "model_name": "DescriptionStyleModel",
      "state": {
       "description_width": ""
      }
     },
     "e03aa0c213254922998ded0c55a3a4d4": {
      "model_module": "@jupyter-widgets/output",
      "model_module_version": "1.0.0",
      "model_name": "OutputModel",
      "state": {
       "layout": "IPY_MODEL_3ac6a6b58df84352add8af23bd1b952c"
      }
     },
     "e0f45b768a12414893e2ae9e804038ca": {
      "model_module": "@jupyter-widgets/controls",
      "model_module_version": "1.5.0",
      "model_name": "ButtonStyleModel",
      "state": {}
     },
     "e115403c7aaf40de9f246cc9826a891b": {
      "model_module": "@jupyter-widgets/controls",
      "model_module_version": "1.5.0",
      "model_name": "SliderStyleModel",
      "state": {
       "description_width": ""
      }
     },
     "e1ceeeb079df4202a8977d1162173736": {
      "model_module": "@jupyter-widgets/base",
      "model_module_version": "1.2.0",
      "model_name": "LayoutModel",
      "state": {}
     },
     "e21be09ea5824aa68649ff17b0b0be3b": {
      "model_module": "@jupyter-widgets/base",
      "model_module_version": "1.2.0",
      "model_name": "LayoutModel",
      "state": {}
     },
     "e49c0f8a80ff49988abff2cf952a3755": {
      "model_module": "@jupyter-widgets/base",
      "model_module_version": "1.2.0",
      "model_name": "LayoutModel",
      "state": {}
     },
     "e4bbe30cffcb4c01a165c0c43637b07f": {
      "model_module": "@jupyter-widgets/output",
      "model_module_version": "1.0.0",
      "model_name": "OutputModel",
      "state": {
       "layout": "IPY_MODEL_b403f74615c24ca69f1577a227b03367"
      }
     },
     "e74e962f0f68489fab028f3cff302a0d": {
      "model_module": "@jupyter-widgets/controls",
      "model_module_version": "1.5.0",
      "model_name": "IntSliderModel",
      "state": {
       "continuous_update": false,
       "description": "frame",
       "layout": "IPY_MODEL_a80e9052f5f64a18b2c6bf7aa7e22f31",
       "max": 60,
       "min": -60,
       "step": 10,
       "style": "IPY_MODEL_a0d4b109450c4ac2a80d74e800ab1830",
       "value": 10
      }
     },
     "e751df4250824168acba5e6c1696a58d": {
      "model_module": "@jupyter-widgets/base",
      "model_module_version": "1.2.0",
      "model_name": "LayoutModel",
      "state": {}
     },
     "e7d01248b79944eea005ede1bbd16055": {
      "model_module": "@jupyter-widgets/output",
      "model_module_version": "1.0.0",
      "model_name": "OutputModel",
      "state": {
       "layout": "IPY_MODEL_2559d63287884aeb9c98fff7880dd0c1"
      }
     },
     "e93f9f2a896b43f490c7949c067f76bc": {
      "model_module": "@jupyter-widgets/base",
      "model_module_version": "1.2.0",
      "model_name": "LayoutModel",
      "state": {}
     },
     "e9a26ffaf6ef430b9f9a86fa000e05a5": {
      "model_module": "@jupyter-widgets/controls",
      "model_module_version": "1.5.0",
      "model_name": "SliderStyleModel",
      "state": {
       "description_width": ""
      }
     },
     "e9b2549e170a4ba4b1e0d6493214ad78": {
      "model_module": "@jupyter-widgets/base",
      "model_module_version": "1.2.0",
      "model_name": "LayoutModel",
      "state": {}
     },
     "eb4eba8fccde44419704ac911597ca77": {
      "model_module": "@jupyter-widgets/controls",
      "model_module_version": "1.5.0",
      "model_name": "SliderStyleModel",
      "state": {
       "description_width": ""
      }
     },
     "ed27f7c15ef047dcbb3fbf9682275cc9": {
      "model_module": "@jupyter-widgets/controls",
      "model_module_version": "1.5.0",
      "model_name": "SliderStyleModel",
      "state": {
       "description_width": ""
      }
     },
     "edcfa694a61e4c2c88d1b5846966f224": {
      "model_module": "@jupyter-widgets/base",
      "model_module_version": "1.2.0",
      "model_name": "LayoutModel",
      "state": {}
     },
     "edd3721f07d84e1ba8b014e8232640df": {
      "model_module": "@jupyter-widgets/base",
      "model_module_version": "1.2.0",
      "model_name": "LayoutModel",
      "state": {}
     },
     "ee185e304ca94485b3030d3ecce984b7": {
      "model_module": "@jupyter-widgets/base",
      "model_module_version": "1.2.0",
      "model_name": "LayoutModel",
      "state": {}
     },
     "ef2a4617823b41b7ba0e1bb53005f5f7": {
      "model_module": "@jupyter-widgets/controls",
      "model_module_version": "1.5.0",
      "model_name": "DescriptionStyleModel",
      "state": {
       "description_width": ""
      }
     },
     "ef8ee34dd59c4541a6d568a01ad78143": {
      "model_module": "@jupyter-widgets/controls",
      "model_module_version": "1.5.0",
      "model_name": "SliderStyleModel",
      "state": {
       "description_width": ""
      }
     },
     "f023c32c4c824f5b8917606712b48d8e": {
      "model_module": "@jupyter-widgets/base",
      "model_module_version": "1.2.0",
      "model_name": "LayoutModel",
      "state": {}
     },
     "f1256990b95d465489453e8ea637bf43": {
      "model_module": "@jupyter-widgets/controls",
      "model_module_version": "1.5.0",
      "model_name": "RadioButtonsModel",
      "state": {
       "_options_labels": [
        "Very Low",
        "Low",
        "Medium",
        "High",
        "Very High"
       ],
       "description": "Resolution:",
       "index": 2,
       "layout": "IPY_MODEL_e21be09ea5824aa68649ff17b0b0be3b",
       "style": "IPY_MODEL_06f36ddf609d40a59f92d7c7cc106d7a"
      }
     },
     "f1e080d040274dcfa622ffb335e157ff": {
      "model_module": "@jupyter-widgets/controls",
      "model_module_version": "1.5.0",
      "model_name": "SliderStyleModel",
      "state": {
       "description_width": ""
      }
     },
     "f2559a881e4d4adb88fb09030ee48184": {
      "model_module": "@jupyter-widgets/base",
      "model_module_version": "1.2.0",
      "model_name": "LayoutModel",
      "state": {}
     },
     "f4a98750e04944d397fd9ec097aa834c": {
      "model_module": "@jupyter-widgets/output",
      "model_module_version": "1.0.0",
      "model_name": "OutputModel",
      "state": {
       "layout": "IPY_MODEL_542aab1f2a3642c29466b61d840c0450"
      }
     },
     "f4de5a79ec9c497183bc978aa0d11805": {
      "model_module": "@jupyter-widgets/controls",
      "model_module_version": "1.5.0",
      "model_name": "IntSliderModel",
      "state": {
       "continuous_update": false,
       "description": "num_classes",
       "disabled": true,
       "layout": "IPY_MODEL_5a69a439da504d31a101895e4834d3e2",
       "max": 24,
       "min": 1,
       "style": "IPY_MODEL_bad2ac4758384905994b8735890add27",
       "value": 8
      }
     },
     "f596d3bce1de4d4ba7dbb2080b9cb81e": {
      "model_module": "@jupyter-widgets/output",
      "model_module_version": "1.0.0",
      "model_name": "OutputModel",
      "state": {
       "layout": "IPY_MODEL_cdc3a83518c646749f5d2bb0fb6e26ae"
      }
     },
     "f5e7068271e5442797a29e84b1e97dd8": {
      "model_module": "@jupyter-widgets/controls",
      "model_module_version": "1.5.0",
      "model_name": "IntSliderModel",
      "state": {
       "continuous_update": false,
       "description": "frame",
       "disabled": true,
       "layout": "IPY_MODEL_c46d2496f1c247ccb62b761e694b3651",
       "max": 60,
       "min": -60,
       "step": 10,
       "style": "IPY_MODEL_8bcdb893db674b759be457b82c9b9829",
       "value": 10
      }
     },
     "f722d1e46b0642d091a5c4478ba814f8": {
      "model_module": "@jupyter-widgets/base",
      "model_module_version": "1.2.0",
      "model_name": "LayoutModel",
      "state": {}
     },
     "f7e6a505a68e4f4f801787e6a8a0a8e2": {
      "model_module": "@jupyter-widgets/base",
      "model_module_version": "1.2.0",
      "model_name": "LayoutModel",
      "state": {}
     },
     "f7eae17659284565ac272322f4418936": {
      "model_module": "@jupyter-widgets/controls",
      "model_module_version": "1.5.0",
      "model_name": "IntSliderModel",
      "state": {
       "continuous_update": false,
       "description": "num_points",
       "layout": "IPY_MODEL_3c79e20e300c4b52b1dc256746926247",
       "max": 12,
       "min": 4,
       "style": "IPY_MODEL_1b118411b9ae4331807b21d59f319e43",
       "value": 4
      }
     },
     "f9523b6430d7484f9e5b9d2c5d0daa2a": {
      "model_module": "@jupyter-widgets/base",
      "model_module_version": "1.2.0",
      "model_name": "LayoutModel",
      "state": {}
     },
     "fa6acaabf9e04ea086eabfda6cb5bc6b": {
      "model_module": "@jupyter-widgets/controls",
      "model_module_version": "1.5.0",
      "model_name": "IntSliderModel",
      "state": {
       "continuous_update": false,
       "description": "frame",
       "layout": "IPY_MODEL_5ab1e6497eb84d02b3680a6838e4be8f",
       "max": 60,
       "min": -60,
       "step": 10,
       "style": "IPY_MODEL_9f30a17bfac54334b66e60c3db24cbce",
       "value": 10
      }
     },
     "fac4da50679744bfb0d7abbf30267f26": {
      "model_module": "@jupyter-widgets/controls",
      "model_module_version": "1.5.0",
      "model_name": "VBoxModel",
      "state": {
       "_dom_classes": [
        "widget-interact"
       ],
       "children": [
        "IPY_MODEL_03ad7b0e5db945c2b7bca4484f3a1d33",
        "IPY_MODEL_bba1a9b204f647b5a60b41c057684559",
        "IPY_MODEL_f4de5a79ec9c497183bc978aa0d11805",
        "IPY_MODEL_228be73401b5443f90986f3cf23a0bbc",
        "IPY_MODEL_5a2919b23ef44239a628f58a2950a9fe",
        "IPY_MODEL_aa39aabfe4b840e28c2f4e5f5f981042",
        "IPY_MODEL_66de3b25a49649098d4510a7ffcd77a7",
        "IPY_MODEL_272cb574968b4629b683d8b7d6a4f168"
       ],
       "layout": "IPY_MODEL_870f976359d64df5b27a612be1d7a760"
      }
     },
     "fad33eef822f4725831ad721575da14d": {
      "model_module": "@jupyter-widgets/base",
      "model_module_version": "1.2.0",
      "model_name": "LayoutModel",
      "state": {}
     },
     "fb2936d0e0004bcb831b83ec00691518": {
      "model_module": "@jupyter-widgets/controls",
      "model_module_version": "1.5.0",
      "model_name": "ButtonModel",
      "state": {
       "description": "Save image",
       "layout": "IPY_MODEL_9e989e9d356a4b57b9bf684f294d6c44",
       "style": "IPY_MODEL_e0f45b768a12414893e2ae9e804038ca"
      }
     },
     "fc6ea7dbd3bb469dbdcd7e109fce94b9": {
      "model_module": "@jupyter-widgets/base",
      "model_module_version": "1.2.0",
      "model_name": "LayoutModel",
      "state": {}
     },
     "fd7bbadde6ed4e08884c2bae6993e150": {
      "model_module": "@jupyter-widgets/base",
      "model_module_version": "1.2.0",
      "model_name": "LayoutModel",
      "state": {}
     },
     "fef72de3508e4e39b9bd40f59030e9ec": {
      "model_module": "@jupyter-widgets/base",
      "model_module_version": "1.2.0",
      "model_name": "LayoutModel",
      "state": {}
     },
     "ff1ebbb9593045a1bb76751be453e232": {
      "model_module": "@jupyter-widgets/base",
      "model_module_version": "1.2.0",
      "model_name": "LayoutModel",
      "state": {}
     }
    },
    "version_major": 2,
    "version_minor": 0
   }
  }
 },
 "nbformat": 4,
 "nbformat_minor": 4
}
