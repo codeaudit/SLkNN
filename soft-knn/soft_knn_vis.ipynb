{
 "cells": [
  {
   "cell_type": "markdown",
   "metadata": {},
   "source": [
    "# *Visualizing SLaPkNN with M<N Prototypes*\n",
    "1. Run the first cell to start the visualization.\n",
    "2. Use the 'Mode' dropdown to choose a method of positioning prototypes. \n",
    "3. Use num_points and num_classes to control M and N, respectively.\n",
    "4. Setting a higher resolution improves accuracy but may slow down computation.\n",
    "5. To save the image, first type desired filename in the provided blank, then press the save button."
   ]
  },
  {
   "cell_type": "code",
   "execution_count": 41,
   "metadata": {
    "scrolled": false
   },
   "outputs": [
    {
     "data": {
      "application/javascript": [
       "/* Put everything inside the global mpl namespace */\n",
       "window.mpl = {};\n",
       "\n",
       "\n",
       "mpl.get_websocket_type = function() {\n",
       "    if (typeof(WebSocket) !== 'undefined') {\n",
       "        return WebSocket;\n",
       "    } else if (typeof(MozWebSocket) !== 'undefined') {\n",
       "        return MozWebSocket;\n",
       "    } else {\n",
       "        alert('Your browser does not have WebSocket support. ' +\n",
       "              'Please try Chrome, Safari or Firefox ≥ 6. ' +\n",
       "              'Firefox 4 and 5 are also supported but you ' +\n",
       "              'have to enable WebSockets in about:config.');\n",
       "    };\n",
       "}\n",
       "\n",
       "mpl.figure = function(figure_id, websocket, ondownload, parent_element) {\n",
       "    this.id = figure_id;\n",
       "\n",
       "    this.ws = websocket;\n",
       "\n",
       "    this.supports_binary = (this.ws.binaryType != undefined);\n",
       "\n",
       "    if (!this.supports_binary) {\n",
       "        var warnings = document.getElementById(\"mpl-warnings\");\n",
       "        if (warnings) {\n",
       "            warnings.style.display = 'block';\n",
       "            warnings.textContent = (\n",
       "                \"This browser does not support binary websocket messages. \" +\n",
       "                    \"Performance may be slow.\");\n",
       "        }\n",
       "    }\n",
       "\n",
       "    this.imageObj = new Image();\n",
       "\n",
       "    this.context = undefined;\n",
       "    this.message = undefined;\n",
       "    this.canvas = undefined;\n",
       "    this.rubberband_canvas = undefined;\n",
       "    this.rubberband_context = undefined;\n",
       "    this.format_dropdown = undefined;\n",
       "\n",
       "    this.image_mode = 'full';\n",
       "\n",
       "    this.root = $('<div/>');\n",
       "    this._root_extra_style(this.root)\n",
       "    this.root.attr('style', 'display: inline-block');\n",
       "\n",
       "    $(parent_element).append(this.root);\n",
       "\n",
       "    this._init_header(this);\n",
       "    this._init_canvas(this);\n",
       "    this._init_toolbar(this);\n",
       "\n",
       "    var fig = this;\n",
       "\n",
       "    this.waiting = false;\n",
       "\n",
       "    this.ws.onopen =  function () {\n",
       "            fig.send_message(\"supports_binary\", {value: fig.supports_binary});\n",
       "            fig.send_message(\"send_image_mode\", {});\n",
       "            if (mpl.ratio != 1) {\n",
       "                fig.send_message(\"set_dpi_ratio\", {'dpi_ratio': mpl.ratio});\n",
       "            }\n",
       "            fig.send_message(\"refresh\", {});\n",
       "        }\n",
       "\n",
       "    this.imageObj.onload = function() {\n",
       "            if (fig.image_mode == 'full') {\n",
       "                // Full images could contain transparency (where diff images\n",
       "                // almost always do), so we need to clear the canvas so that\n",
       "                // there is no ghosting.\n",
       "                fig.context.clearRect(0, 0, fig.canvas.width, fig.canvas.height);\n",
       "            }\n",
       "            fig.context.drawImage(fig.imageObj, 0, 0);\n",
       "        };\n",
       "\n",
       "    this.imageObj.onunload = function() {\n",
       "        fig.ws.close();\n",
       "    }\n",
       "\n",
       "    this.ws.onmessage = this._make_on_message_function(this);\n",
       "\n",
       "    this.ondownload = ondownload;\n",
       "}\n",
       "\n",
       "mpl.figure.prototype._init_header = function() {\n",
       "    var titlebar = $(\n",
       "        '<div class=\"ui-dialog-titlebar ui-widget-header ui-corner-all ' +\n",
       "        'ui-helper-clearfix\"/>');\n",
       "    var titletext = $(\n",
       "        '<div class=\"ui-dialog-title\" style=\"width: 100%; ' +\n",
       "        'text-align: center; padding: 3px;\"/>');\n",
       "    titlebar.append(titletext)\n",
       "    this.root.append(titlebar);\n",
       "    this.header = titletext[0];\n",
       "}\n",
       "\n",
       "\n",
       "\n",
       "mpl.figure.prototype._canvas_extra_style = function(canvas_div) {\n",
       "\n",
       "}\n",
       "\n",
       "\n",
       "mpl.figure.prototype._root_extra_style = function(canvas_div) {\n",
       "\n",
       "}\n",
       "\n",
       "mpl.figure.prototype._init_canvas = function() {\n",
       "    var fig = this;\n",
       "\n",
       "    var canvas_div = $('<div/>');\n",
       "\n",
       "    canvas_div.attr('style', 'position: relative; clear: both; outline: 0');\n",
       "\n",
       "    function canvas_keyboard_event(event) {\n",
       "        return fig.key_event(event, event['data']);\n",
       "    }\n",
       "\n",
       "    canvas_div.keydown('key_press', canvas_keyboard_event);\n",
       "    canvas_div.keyup('key_release', canvas_keyboard_event);\n",
       "    this.canvas_div = canvas_div\n",
       "    this._canvas_extra_style(canvas_div)\n",
       "    this.root.append(canvas_div);\n",
       "\n",
       "    var canvas = $('<canvas/>');\n",
       "    canvas.addClass('mpl-canvas');\n",
       "    canvas.attr('style', \"left: 0; top: 0; z-index: 0; outline: 0\")\n",
       "\n",
       "    this.canvas = canvas[0];\n",
       "    this.context = canvas[0].getContext(\"2d\");\n",
       "\n",
       "    var backingStore = this.context.backingStorePixelRatio ||\n",
       "\tthis.context.webkitBackingStorePixelRatio ||\n",
       "\tthis.context.mozBackingStorePixelRatio ||\n",
       "\tthis.context.msBackingStorePixelRatio ||\n",
       "\tthis.context.oBackingStorePixelRatio ||\n",
       "\tthis.context.backingStorePixelRatio || 1;\n",
       "\n",
       "    mpl.ratio = (window.devicePixelRatio || 1) / backingStore;\n",
       "\n",
       "    var rubberband = $('<canvas/>');\n",
       "    rubberband.attr('style', \"position: absolute; left: 0; top: 0; z-index: 1;\")\n",
       "\n",
       "    var pass_mouse_events = true;\n",
       "\n",
       "    canvas_div.resizable({\n",
       "        start: function(event, ui) {\n",
       "            pass_mouse_events = false;\n",
       "        },\n",
       "        resize: function(event, ui) {\n",
       "            fig.request_resize(ui.size.width, ui.size.height);\n",
       "        },\n",
       "        stop: function(event, ui) {\n",
       "            pass_mouse_events = true;\n",
       "            fig.request_resize(ui.size.width, ui.size.height);\n",
       "        },\n",
       "    });\n",
       "\n",
       "    function mouse_event_fn(event) {\n",
       "        if (pass_mouse_events)\n",
       "            return fig.mouse_event(event, event['data']);\n",
       "    }\n",
       "\n",
       "    rubberband.mousedown('button_press', mouse_event_fn);\n",
       "    rubberband.mouseup('button_release', mouse_event_fn);\n",
       "    // Throttle sequential mouse events to 1 every 20ms.\n",
       "    rubberband.mousemove('motion_notify', mouse_event_fn);\n",
       "\n",
       "    rubberband.mouseenter('figure_enter', mouse_event_fn);\n",
       "    rubberband.mouseleave('figure_leave', mouse_event_fn);\n",
       "\n",
       "    canvas_div.on(\"wheel\", function (event) {\n",
       "        event = event.originalEvent;\n",
       "        event['data'] = 'scroll'\n",
       "        if (event.deltaY < 0) {\n",
       "            event.step = 1;\n",
       "        } else {\n",
       "            event.step = -1;\n",
       "        }\n",
       "        mouse_event_fn(event);\n",
       "    });\n",
       "\n",
       "    canvas_div.append(canvas);\n",
       "    canvas_div.append(rubberband);\n",
       "\n",
       "    this.rubberband = rubberband;\n",
       "    this.rubberband_canvas = rubberband[0];\n",
       "    this.rubberband_context = rubberband[0].getContext(\"2d\");\n",
       "    this.rubberband_context.strokeStyle = \"#000000\";\n",
       "\n",
       "    this._resize_canvas = function(width, height) {\n",
       "        // Keep the size of the canvas, canvas container, and rubber band\n",
       "        // canvas in synch.\n",
       "        canvas_div.css('width', width)\n",
       "        canvas_div.css('height', height)\n",
       "\n",
       "        canvas.attr('width', width * mpl.ratio);\n",
       "        canvas.attr('height', height * mpl.ratio);\n",
       "        canvas.attr('style', 'width: ' + width + 'px; height: ' + height + 'px;');\n",
       "\n",
       "        rubberband.attr('width', width);\n",
       "        rubberband.attr('height', height);\n",
       "    }\n",
       "\n",
       "    // Set the figure to an initial 600x600px, this will subsequently be updated\n",
       "    // upon first draw.\n",
       "    this._resize_canvas(600, 600);\n",
       "\n",
       "    // Disable right mouse context menu.\n",
       "    $(this.rubberband_canvas).bind(\"contextmenu\",function(e){\n",
       "        return false;\n",
       "    });\n",
       "\n",
       "    function set_focus () {\n",
       "        canvas.focus();\n",
       "        canvas_div.focus();\n",
       "    }\n",
       "\n",
       "    window.setTimeout(set_focus, 100);\n",
       "}\n",
       "\n",
       "mpl.figure.prototype._init_toolbar = function() {\n",
       "    var fig = this;\n",
       "\n",
       "    var nav_element = $('<div/>');\n",
       "    nav_element.attr('style', 'width: 100%');\n",
       "    this.root.append(nav_element);\n",
       "\n",
       "    // Define a callback function for later on.\n",
       "    function toolbar_event(event) {\n",
       "        return fig.toolbar_button_onclick(event['data']);\n",
       "    }\n",
       "    function toolbar_mouse_event(event) {\n",
       "        return fig.toolbar_button_onmouseover(event['data']);\n",
       "    }\n",
       "\n",
       "    for(var toolbar_ind in mpl.toolbar_items) {\n",
       "        var name = mpl.toolbar_items[toolbar_ind][0];\n",
       "        var tooltip = mpl.toolbar_items[toolbar_ind][1];\n",
       "        var image = mpl.toolbar_items[toolbar_ind][2];\n",
       "        var method_name = mpl.toolbar_items[toolbar_ind][3];\n",
       "\n",
       "        if (!name) {\n",
       "            // put a spacer in here.\n",
       "            continue;\n",
       "        }\n",
       "        var button = $('<button/>');\n",
       "        button.addClass('ui-button ui-widget ui-state-default ui-corner-all ' +\n",
       "                        'ui-button-icon-only');\n",
       "        button.attr('role', 'button');\n",
       "        button.attr('aria-disabled', 'false');\n",
       "        button.click(method_name, toolbar_event);\n",
       "        button.mouseover(tooltip, toolbar_mouse_event);\n",
       "\n",
       "        var icon_img = $('<span/>');\n",
       "        icon_img.addClass('ui-button-icon-primary ui-icon');\n",
       "        icon_img.addClass(image);\n",
       "        icon_img.addClass('ui-corner-all');\n",
       "\n",
       "        var tooltip_span = $('<span/>');\n",
       "        tooltip_span.addClass('ui-button-text');\n",
       "        tooltip_span.html(tooltip);\n",
       "\n",
       "        button.append(icon_img);\n",
       "        button.append(tooltip_span);\n",
       "\n",
       "        nav_element.append(button);\n",
       "    }\n",
       "\n",
       "    var fmt_picker_span = $('<span/>');\n",
       "\n",
       "    var fmt_picker = $('<select/>');\n",
       "    fmt_picker.addClass('mpl-toolbar-option ui-widget ui-widget-content');\n",
       "    fmt_picker_span.append(fmt_picker);\n",
       "    nav_element.append(fmt_picker_span);\n",
       "    this.format_dropdown = fmt_picker[0];\n",
       "\n",
       "    for (var ind in mpl.extensions) {\n",
       "        var fmt = mpl.extensions[ind];\n",
       "        var option = $(\n",
       "            '<option/>', {selected: fmt === mpl.default_extension}).html(fmt);\n",
       "        fmt_picker.append(option);\n",
       "    }\n",
       "\n",
       "    // Add hover states to the ui-buttons\n",
       "    $( \".ui-button\" ).hover(\n",
       "        function() { $(this).addClass(\"ui-state-hover\");},\n",
       "        function() { $(this).removeClass(\"ui-state-hover\");}\n",
       "    );\n",
       "\n",
       "    var status_bar = $('<span class=\"mpl-message\"/>');\n",
       "    nav_element.append(status_bar);\n",
       "    this.message = status_bar[0];\n",
       "}\n",
       "\n",
       "mpl.figure.prototype.request_resize = function(x_pixels, y_pixels) {\n",
       "    // Request matplotlib to resize the figure. Matplotlib will then trigger a resize in the client,\n",
       "    // which will in turn request a refresh of the image.\n",
       "    this.send_message('resize', {'width': x_pixels, 'height': y_pixels});\n",
       "}\n",
       "\n",
       "mpl.figure.prototype.send_message = function(type, properties) {\n",
       "    properties['type'] = type;\n",
       "    properties['figure_id'] = this.id;\n",
       "    this.ws.send(JSON.stringify(properties));\n",
       "}\n",
       "\n",
       "mpl.figure.prototype.send_draw_message = function() {\n",
       "    if (!this.waiting) {\n",
       "        this.waiting = true;\n",
       "        this.ws.send(JSON.stringify({type: \"draw\", figure_id: this.id}));\n",
       "    }\n",
       "}\n",
       "\n",
       "\n",
       "mpl.figure.prototype.handle_save = function(fig, msg) {\n",
       "    var format_dropdown = fig.format_dropdown;\n",
       "    var format = format_dropdown.options[format_dropdown.selectedIndex].value;\n",
       "    fig.ondownload(fig, format);\n",
       "}\n",
       "\n",
       "\n",
       "mpl.figure.prototype.handle_resize = function(fig, msg) {\n",
       "    var size = msg['size'];\n",
       "    if (size[0] != fig.canvas.width || size[1] != fig.canvas.height) {\n",
       "        fig._resize_canvas(size[0], size[1]);\n",
       "        fig.send_message(\"refresh\", {});\n",
       "    };\n",
       "}\n",
       "\n",
       "mpl.figure.prototype.handle_rubberband = function(fig, msg) {\n",
       "    var x0 = msg['x0'] / mpl.ratio;\n",
       "    var y0 = (fig.canvas.height - msg['y0']) / mpl.ratio;\n",
       "    var x1 = msg['x1'] / mpl.ratio;\n",
       "    var y1 = (fig.canvas.height - msg['y1']) / mpl.ratio;\n",
       "    x0 = Math.floor(x0) + 0.5;\n",
       "    y0 = Math.floor(y0) + 0.5;\n",
       "    x1 = Math.floor(x1) + 0.5;\n",
       "    y1 = Math.floor(y1) + 0.5;\n",
       "    var min_x = Math.min(x0, x1);\n",
       "    var min_y = Math.min(y0, y1);\n",
       "    var width = Math.abs(x1 - x0);\n",
       "    var height = Math.abs(y1 - y0);\n",
       "\n",
       "    fig.rubberband_context.clearRect(\n",
       "        0, 0, fig.canvas.width / mpl.ratio, fig.canvas.height / mpl.ratio);\n",
       "\n",
       "    fig.rubberband_context.strokeRect(min_x, min_y, width, height);\n",
       "}\n",
       "\n",
       "mpl.figure.prototype.handle_figure_label = function(fig, msg) {\n",
       "    // Updates the figure title.\n",
       "    fig.header.textContent = msg['label'];\n",
       "}\n",
       "\n",
       "mpl.figure.prototype.handle_cursor = function(fig, msg) {\n",
       "    var cursor = msg['cursor'];\n",
       "    switch(cursor)\n",
       "    {\n",
       "    case 0:\n",
       "        cursor = 'pointer';\n",
       "        break;\n",
       "    case 1:\n",
       "        cursor = 'default';\n",
       "        break;\n",
       "    case 2:\n",
       "        cursor = 'crosshair';\n",
       "        break;\n",
       "    case 3:\n",
       "        cursor = 'move';\n",
       "        break;\n",
       "    }\n",
       "    fig.rubberband_canvas.style.cursor = cursor;\n",
       "}\n",
       "\n",
       "mpl.figure.prototype.handle_message = function(fig, msg) {\n",
       "    fig.message.textContent = msg['message'];\n",
       "}\n",
       "\n",
       "mpl.figure.prototype.handle_draw = function(fig, msg) {\n",
       "    // Request the server to send over a new figure.\n",
       "    fig.send_draw_message();\n",
       "}\n",
       "\n",
       "mpl.figure.prototype.handle_image_mode = function(fig, msg) {\n",
       "    fig.image_mode = msg['mode'];\n",
       "}\n",
       "\n",
       "mpl.figure.prototype.updated_canvas_event = function() {\n",
       "    // Called whenever the canvas gets updated.\n",
       "    this.send_message(\"ack\", {});\n",
       "}\n",
       "\n",
       "// A function to construct a web socket function for onmessage handling.\n",
       "// Called in the figure constructor.\n",
       "mpl.figure.prototype._make_on_message_function = function(fig) {\n",
       "    return function socket_on_message(evt) {\n",
       "        if (evt.data instanceof Blob) {\n",
       "            /* FIXME: We get \"Resource interpreted as Image but\n",
       "             * transferred with MIME type text/plain:\" errors on\n",
       "             * Chrome.  But how to set the MIME type?  It doesn't seem\n",
       "             * to be part of the websocket stream */\n",
       "            evt.data.type = \"image/png\";\n",
       "\n",
       "            /* Free the memory for the previous frames */\n",
       "            if (fig.imageObj.src) {\n",
       "                (window.URL || window.webkitURL).revokeObjectURL(\n",
       "                    fig.imageObj.src);\n",
       "            }\n",
       "\n",
       "            fig.imageObj.src = (window.URL || window.webkitURL).createObjectURL(\n",
       "                evt.data);\n",
       "            fig.updated_canvas_event();\n",
       "            fig.waiting = false;\n",
       "            return;\n",
       "        }\n",
       "        else if (typeof evt.data === 'string' && evt.data.slice(0, 21) == \"data:image/png;base64\") {\n",
       "            fig.imageObj.src = evt.data;\n",
       "            fig.updated_canvas_event();\n",
       "            fig.waiting = false;\n",
       "            return;\n",
       "        }\n",
       "\n",
       "        var msg = JSON.parse(evt.data);\n",
       "        var msg_type = msg['type'];\n",
       "\n",
       "        // Call the  \"handle_{type}\" callback, which takes\n",
       "        // the figure and JSON message as its only arguments.\n",
       "        try {\n",
       "            var callback = fig[\"handle_\" + msg_type];\n",
       "        } catch (e) {\n",
       "            console.log(\"No handler for the '\" + msg_type + \"' message type: \", msg);\n",
       "            return;\n",
       "        }\n",
       "\n",
       "        if (callback) {\n",
       "            try {\n",
       "                // console.log(\"Handling '\" + msg_type + \"' message: \", msg);\n",
       "                callback(fig, msg);\n",
       "            } catch (e) {\n",
       "                console.log(\"Exception inside the 'handler_\" + msg_type + \"' callback:\", e, e.stack, msg);\n",
       "            }\n",
       "        }\n",
       "    };\n",
       "}\n",
       "\n",
       "// from http://stackoverflow.com/questions/1114465/getting-mouse-location-in-canvas\n",
       "mpl.findpos = function(e) {\n",
       "    //this section is from http://www.quirksmode.org/js/events_properties.html\n",
       "    var targ;\n",
       "    if (!e)\n",
       "        e = window.event;\n",
       "    if (e.target)\n",
       "        targ = e.target;\n",
       "    else if (e.srcElement)\n",
       "        targ = e.srcElement;\n",
       "    if (targ.nodeType == 3) // defeat Safari bug\n",
       "        targ = targ.parentNode;\n",
       "\n",
       "    // jQuery normalizes the pageX and pageY\n",
       "    // pageX,Y are the mouse positions relative to the document\n",
       "    // offset() returns the position of the element relative to the document\n",
       "    var x = e.pageX - $(targ).offset().left;\n",
       "    var y = e.pageY - $(targ).offset().top;\n",
       "\n",
       "    return {\"x\": x, \"y\": y};\n",
       "};\n",
       "\n",
       "/*\n",
       " * return a copy of an object with only non-object keys\n",
       " * we need this to avoid circular references\n",
       " * http://stackoverflow.com/a/24161582/3208463\n",
       " */\n",
       "function simpleKeys (original) {\n",
       "  return Object.keys(original).reduce(function (obj, key) {\n",
       "    if (typeof original[key] !== 'object')\n",
       "        obj[key] = original[key]\n",
       "    return obj;\n",
       "  }, {});\n",
       "}\n",
       "\n",
       "mpl.figure.prototype.mouse_event = function(event, name) {\n",
       "    var canvas_pos = mpl.findpos(event)\n",
       "\n",
       "    if (name === 'button_press')\n",
       "    {\n",
       "        this.canvas.focus();\n",
       "        this.canvas_div.focus();\n",
       "    }\n",
       "\n",
       "    var x = canvas_pos.x * mpl.ratio;\n",
       "    var y = canvas_pos.y * mpl.ratio;\n",
       "\n",
       "    this.send_message(name, {x: x, y: y, button: event.button,\n",
       "                             step: event.step,\n",
       "                             guiEvent: simpleKeys(event)});\n",
       "\n",
       "    /* This prevents the web browser from automatically changing to\n",
       "     * the text insertion cursor when the button is pressed.  We want\n",
       "     * to control all of the cursor setting manually through the\n",
       "     * 'cursor' event from matplotlib */\n",
       "    event.preventDefault();\n",
       "    return false;\n",
       "}\n",
       "\n",
       "mpl.figure.prototype._key_event_extra = function(event, name) {\n",
       "    // Handle any extra behaviour associated with a key event\n",
       "}\n",
       "\n",
       "mpl.figure.prototype.key_event = function(event, name) {\n",
       "\n",
       "    // Prevent repeat events\n",
       "    if (name == 'key_press')\n",
       "    {\n",
       "        if (event.which === this._key)\n",
       "            return;\n",
       "        else\n",
       "            this._key = event.which;\n",
       "    }\n",
       "    if (name == 'key_release')\n",
       "        this._key = null;\n",
       "\n",
       "    var value = '';\n",
       "    if (event.ctrlKey && event.which != 17)\n",
       "        value += \"ctrl+\";\n",
       "    if (event.altKey && event.which != 18)\n",
       "        value += \"alt+\";\n",
       "    if (event.shiftKey && event.which != 16)\n",
       "        value += \"shift+\";\n",
       "\n",
       "    value += 'k';\n",
       "    value += event.which.toString();\n",
       "\n",
       "    this._key_event_extra(event, name);\n",
       "\n",
       "    this.send_message(name, {key: value,\n",
       "                             guiEvent: simpleKeys(event)});\n",
       "    return false;\n",
       "}\n",
       "\n",
       "mpl.figure.prototype.toolbar_button_onclick = function(name) {\n",
       "    if (name == 'download') {\n",
       "        this.handle_save(this, null);\n",
       "    } else {\n",
       "        this.send_message(\"toolbar_button\", {name: name});\n",
       "    }\n",
       "};\n",
       "\n",
       "mpl.figure.prototype.toolbar_button_onmouseover = function(tooltip) {\n",
       "    this.message.textContent = tooltip;\n",
       "};\n",
       "mpl.toolbar_items = [[\"Home\", \"Reset original view\", \"fa fa-home icon-home\", \"home\"], [\"Back\", \"Back to previous view\", \"fa fa-arrow-left icon-arrow-left\", \"back\"], [\"Forward\", \"Forward to next view\", \"fa fa-arrow-right icon-arrow-right\", \"forward\"], [\"\", \"\", \"\", \"\"], [\"Pan\", \"Pan axes with left mouse, zoom with right\", \"fa fa-arrows icon-move\", \"pan\"], [\"Zoom\", \"Zoom to rectangle\", \"fa fa-square-o icon-check-empty\", \"zoom\"], [\"\", \"\", \"\", \"\"], [\"Download\", \"Download plot\", \"fa fa-floppy-o icon-save\", \"download\"]];\n",
       "\n",
       "mpl.extensions = [\"eps\", \"jpeg\", \"pdf\", \"png\", \"ps\", \"raw\", \"svg\", \"tif\"];\n",
       "\n",
       "mpl.default_extension = \"png\";var comm_websocket_adapter = function(comm) {\n",
       "    // Create a \"websocket\"-like object which calls the given IPython comm\n",
       "    // object with the appropriate methods. Currently this is a non binary\n",
       "    // socket, so there is still some room for performance tuning.\n",
       "    var ws = {};\n",
       "\n",
       "    ws.close = function() {\n",
       "        comm.close()\n",
       "    };\n",
       "    ws.send = function(m) {\n",
       "        //console.log('sending', m);\n",
       "        comm.send(m);\n",
       "    };\n",
       "    // Register the callback with on_msg.\n",
       "    comm.on_msg(function(msg) {\n",
       "        //console.log('receiving', msg['content']['data'], msg);\n",
       "        // Pass the mpl event to the overridden (by mpl) onmessage function.\n",
       "        ws.onmessage(msg['content']['data'])\n",
       "    });\n",
       "    return ws;\n",
       "}\n",
       "\n",
       "mpl.mpl_figure_comm = function(comm, msg) {\n",
       "    // This is the function which gets called when the mpl process\n",
       "    // starts-up an IPython Comm through the \"matplotlib\" channel.\n",
       "\n",
       "    var id = msg.content.data.id;\n",
       "    // Get hold of the div created by the display call when the Comm\n",
       "    // socket was opened in Python.\n",
       "    var element = $(\"#\" + id);\n",
       "    var ws_proxy = comm_websocket_adapter(comm)\n",
       "\n",
       "    function ondownload(figure, format) {\n",
       "        window.open(figure.imageObj.src);\n",
       "    }\n",
       "\n",
       "    var fig = new mpl.figure(id, ws_proxy,\n",
       "                           ondownload,\n",
       "                           element.get(0));\n",
       "\n",
       "    // Call onopen now - mpl needs it, as it is assuming we've passed it a real\n",
       "    // web socket which is closed, not our websocket->open comm proxy.\n",
       "    ws_proxy.onopen();\n",
       "\n",
       "    fig.parent_element = element.get(0);\n",
       "    fig.cell_info = mpl.find_output_cell(\"<div id='\" + id + \"'></div>\");\n",
       "    if (!fig.cell_info) {\n",
       "        console.error(\"Failed to find cell for figure\", id, fig);\n",
       "        return;\n",
       "    }\n",
       "\n",
       "    var output_index = fig.cell_info[2]\n",
       "    var cell = fig.cell_info[0];\n",
       "\n",
       "};\n",
       "\n",
       "mpl.figure.prototype.handle_close = function(fig, msg) {\n",
       "    var width = fig.canvas.width/mpl.ratio\n",
       "    fig.root.unbind('remove')\n",
       "\n",
       "    // Update the output cell to use the data from the current canvas.\n",
       "    fig.push_to_output();\n",
       "    var dataURL = fig.canvas.toDataURL();\n",
       "    // Re-enable the keyboard manager in IPython - without this line, in FF,\n",
       "    // the notebook keyboard shortcuts fail.\n",
       "    IPython.keyboard_manager.enable()\n",
       "    $(fig.parent_element).html('<img src=\"' + dataURL + '\" width=\"' + width + '\">');\n",
       "    fig.close_ws(fig, msg);\n",
       "}\n",
       "\n",
       "mpl.figure.prototype.close_ws = function(fig, msg){\n",
       "    fig.send_message('closing', msg);\n",
       "    // fig.ws.close()\n",
       "}\n",
       "\n",
       "mpl.figure.prototype.push_to_output = function(remove_interactive) {\n",
       "    // Turn the data on the canvas into data in the output cell.\n",
       "    var width = this.canvas.width/mpl.ratio\n",
       "    var dataURL = this.canvas.toDataURL();\n",
       "    this.cell_info[1]['text/html'] = '<img src=\"' + dataURL + '\" width=\"' + width + '\">';\n",
       "}\n",
       "\n",
       "mpl.figure.prototype.updated_canvas_event = function() {\n",
       "    // Tell IPython that the notebook contents must change.\n",
       "    IPython.notebook.set_dirty(true);\n",
       "    this.send_message(\"ack\", {});\n",
       "    var fig = this;\n",
       "    // Wait a second, then push the new image to the DOM so\n",
       "    // that it is saved nicely (might be nice to debounce this).\n",
       "    setTimeout(function () { fig.push_to_output() }, 1000);\n",
       "}\n",
       "\n",
       "mpl.figure.prototype._init_toolbar = function() {\n",
       "    var fig = this;\n",
       "\n",
       "    var nav_element = $('<div/>');\n",
       "    nav_element.attr('style', 'width: 100%');\n",
       "    this.root.append(nav_element);\n",
       "\n",
       "    // Define a callback function for later on.\n",
       "    function toolbar_event(event) {\n",
       "        return fig.toolbar_button_onclick(event['data']);\n",
       "    }\n",
       "    function toolbar_mouse_event(event) {\n",
       "        return fig.toolbar_button_onmouseover(event['data']);\n",
       "    }\n",
       "\n",
       "    for(var toolbar_ind in mpl.toolbar_items){\n",
       "        var name = mpl.toolbar_items[toolbar_ind][0];\n",
       "        var tooltip = mpl.toolbar_items[toolbar_ind][1];\n",
       "        var image = mpl.toolbar_items[toolbar_ind][2];\n",
       "        var method_name = mpl.toolbar_items[toolbar_ind][3];\n",
       "\n",
       "        if (!name) { continue; };\n",
       "\n",
       "        var button = $('<button class=\"btn btn-default\" href=\"#\" title=\"' + name + '\"><i class=\"fa ' + image + ' fa-lg\"></i></button>');\n",
       "        button.click(method_name, toolbar_event);\n",
       "        button.mouseover(tooltip, toolbar_mouse_event);\n",
       "        nav_element.append(button);\n",
       "    }\n",
       "\n",
       "    // Add the status bar.\n",
       "    var status_bar = $('<span class=\"mpl-message\" style=\"text-align:right; float: right;\"/>');\n",
       "    nav_element.append(status_bar);\n",
       "    this.message = status_bar[0];\n",
       "\n",
       "    // Add the close button to the window.\n",
       "    var buttongrp = $('<div class=\"btn-group inline pull-right\"></div>');\n",
       "    var button = $('<button class=\"btn btn-mini btn-primary\" href=\"#\" title=\"Stop Interaction\"><i class=\"fa fa-power-off icon-remove icon-large\"></i></button>');\n",
       "    button.click(function (evt) { fig.handle_close(fig, {}); } );\n",
       "    button.mouseover('Stop Interaction', toolbar_mouse_event);\n",
       "    buttongrp.append(button);\n",
       "    var titlebar = this.root.find($('.ui-dialog-titlebar'));\n",
       "    titlebar.prepend(buttongrp);\n",
       "}\n",
       "\n",
       "mpl.figure.prototype._root_extra_style = function(el){\n",
       "    var fig = this\n",
       "    el.on(\"remove\", function(){\n",
       "\tfig.close_ws(fig, {});\n",
       "    });\n",
       "}\n",
       "\n",
       "mpl.figure.prototype._canvas_extra_style = function(el){\n",
       "    // this is important to make the div 'focusable\n",
       "    el.attr('tabindex', 0)\n",
       "    // reach out to IPython and tell the keyboard manager to turn it's self\n",
       "    // off when our div gets focus\n",
       "\n",
       "    // location in version 3\n",
       "    if (IPython.notebook.keyboard_manager) {\n",
       "        IPython.notebook.keyboard_manager.register_events(el);\n",
       "    }\n",
       "    else {\n",
       "        // location in version 2\n",
       "        IPython.keyboard_manager.register_events(el);\n",
       "    }\n",
       "\n",
       "}\n",
       "\n",
       "mpl.figure.prototype._key_event_extra = function(event, name) {\n",
       "    var manager = IPython.notebook.keyboard_manager;\n",
       "    if (!manager)\n",
       "        manager = IPython.keyboard_manager;\n",
       "\n",
       "    // Check for shift+enter\n",
       "    if (event.shiftKey && event.which == 13) {\n",
       "        this.canvas_div.blur();\n",
       "        // select the cell after this one\n",
       "        var index = IPython.notebook.find_cell_index(this.cell_info[0]);\n",
       "        IPython.notebook.select(index + 1);\n",
       "    }\n",
       "}\n",
       "\n",
       "mpl.figure.prototype.handle_save = function(fig, msg) {\n",
       "    fig.ondownload(fig, null);\n",
       "}\n",
       "\n",
       "\n",
       "mpl.find_output_cell = function(html_output) {\n",
       "    // Return the cell and output element which can be found *uniquely* in the notebook.\n",
       "    // Note - this is a bit hacky, but it is done because the \"notebook_saving.Notebook\"\n",
       "    // IPython event is triggered only after the cells have been serialised, which for\n",
       "    // our purposes (turning an active figure into a static one), is too late.\n",
       "    var cells = IPython.notebook.get_cells();\n",
       "    var ncells = cells.length;\n",
       "    for (var i=0; i<ncells; i++) {\n",
       "        var cell = cells[i];\n",
       "        if (cell.cell_type === 'code'){\n",
       "            for (var j=0; j<cell.output_area.outputs.length; j++) {\n",
       "                var data = cell.output_area.outputs[j];\n",
       "                if (data.data) {\n",
       "                    // IPython >= 3 moved mimebundle to data attribute of output\n",
       "                    data = data.data;\n",
       "                }\n",
       "                if (data['text/html'] == html_output) {\n",
       "                    return [cell, data, j];\n",
       "                }\n",
       "            }\n",
       "        }\n",
       "    }\n",
       "}\n",
       "\n",
       "// Register the function which deals with the matplotlib target/channel.\n",
       "// The kernel may be null if the page has been refreshed.\n",
       "if (IPython.notebook.kernel != null) {\n",
       "    IPython.notebook.kernel.comm_manager.register_target('matplotlib', mpl.mpl_figure_comm);\n",
       "}\n"
      ],
      "text/plain": [
       "<IPython.core.display.Javascript object>"
      ]
     },
     "metadata": {},
     "output_type": "display_data"
    },
    {
     "data": {
      "text/html": [
       "<img src=\"data:image/png;base64,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\" width=\"639.999990463257\">"
      ],
      "text/plain": [
       "<IPython.core.display.HTML object>"
      ]
     },
     "metadata": {},
     "output_type": "display_data"
    },
    {
     "data": {
      "application/vnd.jupyter.widget-view+json": {
       "model_id": "1c3eb9d1717349ce902aa98bc93311b7",
       "version_major": 2,
       "version_minor": 0
      },
      "text/plain": [
       "Button(description='Save image', style=ButtonStyle())"
      ]
     },
     "metadata": {},
     "output_type": "display_data"
    },
    {
     "data": {
      "application/vnd.jupyter.widget-view+json": {
       "model_id": "9ea811c823804cf9ae29645d36eb8498",
       "version_major": 2,
       "version_minor": 0
      },
      "text/plain": [
       "Output()"
      ]
     },
     "metadata": {},
     "output_type": "display_data"
    },
    {
     "data": {
      "application/vnd.jupyter.widget-view+json": {
       "model_id": "2c4e7de5b67f46e497e5c7d518b5508f",
       "version_major": 2,
       "version_minor": 0
      },
      "text/plain": [
       "interactive(children=(IntSlider(value=10, continuous_update=False, description='frame', max=60, min=-60, step=…"
      ]
     },
     "metadata": {},
     "output_type": "display_data"
    }
   ],
   "source": [
    "%matplotlib notebook\n",
    "import numpy as np\n",
    "import matplotlib.pyplot as plt\n",
    "from matplotlib.colors import ListedColormap\n",
    "import matplotlib\n",
    "from soft_knn import SoftKNN\n",
    "from ipywidgets import interact, interactive, fixed, interact_manual\n",
    "import ipywidgets as widgets\n",
    "import fractions\n",
    "import itertools\n",
    "from collections import Counter\n",
    "\n",
    "\n",
    "def get_cmap(n, name='tab20'):\n",
    "    '''Returns a function that maps each index in 0, 1, ..., n-1 to a distinct \n",
    "    RGB color; the keyword argument name must be a standard mpl colormap name.'''\n",
    "    return plt.cm.get_cmap(name, n)\n",
    "def create_system(n, verbose=False):\n",
    "    A=[]\n",
    "    for i in range(1,int(np.ceil(n/2.))):\n",
    "        for j in range(2*i, n):#int(np.floor(n/2.))+i\n",
    "            vector = np.zeros(n)\n",
    "            vector[i-1]+=(1./(j/2.))\n",
    "            vector[n-i+1-1]+=(1/(n-(j/2.)))\n",
    "            vector[j-i+1-1]+=(-1./(j/2.))\n",
    "            vector[n-j+i-1]+=(-1/(n-(j/2.)))\n",
    "            A.append(vector)\n",
    "            if verbose:\n",
    "                print (\"(y_{0}/{1})+(y_{2}/{3}) = (y_{4}/{1}) + (y_{5}/{3})    \".format(i,j/2.,n-i+1,n-(j/2.),j-i+1,n-j+i))\n",
    "        if verbose: \n",
    "            print(\"\\n\")\n",
    "    A.append(np.ones(n))\n",
    "    A.append(np.zeros(n))\n",
    "    A[-1][-1]=1\n",
    "    b = np.zeros(len(A))\n",
    "    b[-2]=1\n",
    "    return A, b\n",
    "def solve_system(A,b):\n",
    "    soln, _, _, _ = np.linalg.lstsq(A,b,rcond=None)\n",
    "    return soln\n",
    "def labels_2_points_n_classes(n):\n",
    "    denom = sum([j**2 for j in range(1,n)])\n",
    "    y=[(n*(n-1)-i*(i-1))/denom for i in range(1,n+1)]\n",
    "    y=[elem/sum(y) for elem in y]\n",
    "    return y\n",
    "def expected_num_eqns(n):\n",
    "    return (np.ceil(n/2.)-1)*(n-np.ceil(n/2.))\n",
    "    \n",
    "\n",
    "ims=[]\n",
    "fig=plt.figure()\n",
    "\n",
    "\n",
    "def animate(frame, num_points, num_classes, mode, resolution, zoom, filename):\n",
    "    \n",
    "    #frame+=20\n",
    "    ax_list=fig.axes\n",
    "    [fig.delaxes(ax) for ax in ax_list]\n",
    "    ax1 = fig.add_subplot(1,2,1)\n",
    "    axs = [fig.add_subplot(num_points,2,2*(point+1)) for point in range(num_points)]\n",
    "    if mode == \"poly_and_center\":\n",
    "        frame+=20\n",
    "        num_classes = 2*(num_points-1)+num_points\n",
    "        polygon = matplotlib.patches.RegularPolygon((0,0),num_points-1, radius=5)\n",
    "        dd=polygon.get_verts()[:-1]\n",
    "        dd=np.append(dd,np.array([[0,0]]),axis=0)\n",
    "        dy=np.zeros((num_points,num_classes))\n",
    "        for i in range(num_points-1): \n",
    "            #Set the surrounding polygon classes\n",
    "            dy[i][2*i]=0.4-frame*0.0012\n",
    "            dy[i][(2*i+1)%(2*(num_points-1))]=0.2+frame*0.0004\n",
    "            dy[i][(2*i-1)%(2*(num_points-1))]=0.2+frame*0.0004\n",
    "            dy[i][(2*(num_points-1)+i)]=0.2+frame*0.0004\n",
    "            #Set the central classes\n",
    "            dy[-1][(2*(num_points-1)+i)]=0.2+frame*0.0004\n",
    "        dy[-1][-1]=0.4-frame*0.0004*(num_points-1)\n",
    "    if mode ==\"every_other\":\n",
    "        num_classes = 2*num_points\n",
    "        polygon = matplotlib.patches.RegularPolygon((0,0),num_classes, radius=5)\n",
    "        dd=polygon.get_verts()[:-1:2]\n",
    "        dy=np.zeros((num_points,num_classes))\n",
    "        for i in range(num_points):\n",
    "            dy[i][2*i]=0.49-frame*0.001\n",
    "            dy[i][(2*i+1)%num_classes]=0.255+frame*0.0005\n",
    "            dy[i][(2*i-1)%num_classes]=0.255+frame*0.0005\n",
    "    if mode == \"poly_every_subset\":\n",
    "        num_classes = 2**num_points - 1\n",
    "        polygon = matplotlib.patches.RegularPolygon((0,0),num_points, radius=5)\n",
    "        dd=polygon.get_verts()[:-1]\n",
    "        dy=np.full((num_points,num_classes),num_points/num_classes)\n",
    "        #Incomplete\n",
    "    if mode == \"2points_n_classes\":\n",
    "        dd=np.array([[0,0],[1,0]])\n",
    "        dy=np.zeros((num_points,num_classes))\n",
    "        \n",
    "        dy[0] = labels_2_points_n_classes(num_classes)\n",
    "        #A, b = create_system(num_classes)\n",
    "        #dy[0]=solve_system(A,b)\n",
    "        \n",
    "#         if num_classes ==3:\n",
    "#             dy[0]=np.array([3/5,2/5,0])\n",
    "#         if num_classes==4:\n",
    "#             #dy[0]=np.array([5/12,4/12,3/12,0])\n",
    "#             dy[0]=np.array([6/14,5/14,3/14,0])\n",
    "#         if num_classes==5:\n",
    "#             dy[0]=np.array([60/200,49/200,47/200,44/200,0])\n",
    "#         if num_classes==6:\n",
    "#             dy[0]=np.array([56/210,52/210,42/210,40/210,20/210,0])\n",
    "\n",
    "     \n",
    "        dy[1]=dy[0][::-1]\n",
    "        print(dy)\n",
    "    if mode == \"2points_half_n_classes\":\n",
    "        dd=np.array([[0,0],[1,0]])\n",
    "        dy=np.zeros((num_points,num_classes))\n",
    "        \n",
    "        dy[0] = labels_2_points_n_classes(num_classes)\n",
    "        dy[1]=dy[0][::-1]  \n",
    "        half_ind = int((num_classes+1)/2)\n",
    "        dy[0][half_ind:]=np.zeros_like(dy[0][half_ind:])\n",
    "        dy[1][half_ind:]=np.zeros_like(dy[1][half_ind:])\n",
    "        \n",
    "    if mode == \"3points_n_classes\":\n",
    "        dd=np.array([[-1,0],[0,0],[1,0]])\n",
    "        dy=np.zeros((num_points,num_classes))\n",
    "        \n",
    "        dy[0] = labels_2_points_n_classes(num_classes)\n",
    "        #A, b = create_system(num_classes)\n",
    "        #dy[0]=solve_system(A,b)\n",
    "        \n",
    "#         if num_classes ==3:\n",
    "#             dy[0]=np.array([3/5,2/5,0])\n",
    "#         if num_classes==4:\n",
    "#             #dy[0]=np.array([5/12,4/12,3/12,0])\n",
    "#             dy[0]=np.array([6/14,5/14,3/14,0])\n",
    "#         if num_classes==5:\n",
    "#             dy[0]=np.array([60/200,49/200,47/200,44/200,0])\n",
    "#         if num_classes==6:\n",
    "#             dy[0]=np.array([56/210,52/210,42/210,40/210,20/210,0])\n",
    "\n",
    "     \n",
    "        dy[1]=dy[0][::-1] \n",
    "        dy[2]=dy[0]  \n",
    "        \n",
    "    if mode == \"3points_half_n_classes\":\n",
    "        dd=np.array([[-1,0],[0,0],[1,0]])\n",
    "        dy=np.zeros((num_points,num_classes))\n",
    "        \n",
    "        dy[1] = labels_2_points_n_classes(num_classes)\n",
    "\n",
    "     \n",
    "        dy[0]=dy[1][::-1] \n",
    "        dy[2]=dy[0]  \n",
    "        half_ind = int((num_classes+1)/2)\n",
    "        dy[0][half_ind:]=np.zeros_like(dy[0][half_ind:])\n",
    "        dy[1][half_ind:]=np.zeros_like(dy[1][half_ind:])\n",
    "        dy[2][half_ind:]=np.zeros_like(dy[2][half_ind:])\n",
    "    #print(dy)\n",
    "    if not mode != \"true\":\n",
    "        distX=[]\n",
    "        distY=[]\n",
    "        for i in range(num_points):\n",
    "            class_list = []\n",
    "            for j in range(num_classes):\n",
    "                class_list.append(int(dy[i][j]*granularity)+1*(mode!=\"2points_n_classes\"))\n",
    "                distY.append(np.repeat(j, class_list[-1]))\n",
    "            #print(class_list)\n",
    "            #class_list.append(granularity-sum(class_list))\n",
    "            #print(class_list)\n",
    "            #distY.append(np.repeat(i, class_list[-1]))\n",
    "            distX.append(np.repeat([dd[i]], sum(class_list),axis=0))\n",
    "            #tempy=\n",
    "            \n",
    "            \n",
    "        distX=np.concatenate(distX)\n",
    "        distY=np.concatenate(distY)\n",
    "    distX=dd\n",
    "    distY=dy\n",
    "        #print(distX)\n",
    "        #print(distY)\n",
    "\n",
    "    # Create color maps\n",
    "    cmap_light = ListedColormap(['#FFAAAA', '#AAFFAA', '#AAAAFF', '#FFA8E8', '#A8FFE8', '#E8A8FF', '#E8FFA8' ])\n",
    "    cmap_bold = ListedColormap(['#FF8888', '#88FF88', '#8888FF', '#994282', '#429982', '#824299' ,'#829942' ])\n",
    "    cmap_bolder = ListedColormap(['#000000', '#000000', '#000000'])\n",
    "    colors=['#FFAAAA', '#AAFFAA', '#AAAAFF']\n",
    "    if num_classes>20:\n",
    "        cmap=\"gist_ncar\"\n",
    "    else:\n",
    "        cmap=\"tab20\"\n",
    "    cmap_single = get_cmap(num_classes, cmap)\n",
    "    colors=cmap_single(range(num_classes))\n",
    "    # create KNN classifier\n",
    "    clf = SoftKNN()\n",
    "    #clf = neighbors.KNeighborsClassifier(min(n_neighbors, len(distX)), weights=weights)\n",
    "    clf.fit(distX, distY)\n",
    "\n",
    "    # Plot the decision boundary. For that, we will assign a color to each\n",
    "    # point in the mesh [x_min, x_max]x[y_min, y_max].\n",
    "    if mode==\"2points_n_classes\":\n",
    "        x_min, x_max = -0-5+zoom, 1 + 5-zoom\n",
    "        y_min, y_max = -1+(-5+zoom)/2, 1 + (5-zoom)/2\n",
    "    elif mode==\"2points_half_n_classes\":\n",
    "        x_min, x_max = -0-5+zoom, 1 + 5-zoom\n",
    "        y_min, y_max = -1+(-5+zoom)/2, 1 + (5-zoom)/2\n",
    "    elif mode==\"3points_n_classes\":\n",
    "        x_min, x_max = -1-5+zoom, 1 + 5-zoom\n",
    "        y_min, y_max = -1+(-5+zoom)/2, 1 + (5-zoom)/2\n",
    "    elif mode==\"3points_half_n_classes\":\n",
    "        x_min, x_max = -1-5+zoom, 1 + 5-zoom\n",
    "        y_min, y_max = -1+(-5+zoom)/2, 1 + (5-zoom)/2\n",
    "    elif mode==\"every_other\":\n",
    "        x_min, x_max = -20,20\n",
    "        y_min, y_max = -20,20\n",
    "    else:\n",
    "        x_min, x_max = -10,10\n",
    "        y_min, y_max = -10,10\n",
    "    size = (x_max-x_min)*(y_max-y_min)\n",
    "    desired_particles = 6000./resolution\n",
    "    h = (size/desired_particles)**0.5  # step size in the mesh\n",
    "    \n",
    "    xx, yy = np.meshgrid(np.arange(x_min, x_max, h),\n",
    "                         np.arange(y_min, y_max, h))\n",
    "    Z = clf.predict(np.c_[xx.ravel(), yy.ravel()])\n",
    "    # Put the result into a color plot\n",
    "    Z = Z.reshape(xx.shape)\n",
    "    ax1.clear()\n",
    "    ax1.pcolormesh(xx, yy, Z, cmap=cmap_single)\n",
    "    if not mode ==\"true\": \n",
    "        ax1.scatter(distX[:, 0], distX[:, 1], c=\"black\")\n",
    "    plt.xlim(xx.min(), xx.max())\n",
    "    plt.ylim(yy.min(), yy.max())\n",
    "    #plt.title(\"3-Class classification (k = %i)\")\n",
    "    for i in range(num_points):\n",
    "        axs[i].pie(dy[i], colors=colors)\n",
    "\n",
    "    if mode== \"2points_n_classes\":\n",
    "        axs[0].title.set_text(\"Left\")\n",
    "        axs[1].title.set_text(\"Right\")\n",
    "\n",
    "\n",
    "#play = widgets.Play(\n",
    "#      value=50,\n",
    "#      min=0,\n",
    "#      max=100,\n",
    "#      step=1,\n",
    "#      interval=2000,\n",
    "#      description=\"Press play\",\n",
    "#     disabled=False\n",
    "#  )\n",
    "# slider=widgets.IntSlider()\n",
    "# widgets.jslink((play, 'value'), (slider, 'value'))\n",
    "# widgets.HBox([play, slider])\n",
    "#interact(animate,frame=10)\n",
    "frame=widgets.IntSlider(min=-60, max=60, value=10, step=10, continuous_update=False)\n",
    "num_points=widgets.IntSlider(min=2, max=12, continuous_update=False)\n",
    "num_classes=widgets.IntSlider(min=2, max=24, disabled=True, continuous_update=False)\n",
    "mode=widgets.Dropdown(\n",
    "    options=['poly_and_center', 'every_other', '2points_n_classes', '3points_n_classes','2points_half_n_classes', '3points_half_n_classes'],\n",
    "    value='every_other',\n",
    "    description='Mode:',\n",
    "    disabled=False,\n",
    ")\n",
    "resolution = widgets.RadioButtons(\n",
    "    options=[(\"Very Low\",1.0),(\"Low\",0.8),(\"Medium\",0.6),(\"High\", 0.4),(\"Very High\", 0.2)],\n",
    "    description='Resolution:',\n",
    "    value=0.6,\n",
    "    disabled=False\n",
    ")\n",
    "zoom = widgets.IntSlider(min=-5, max=5, value=5, step=1, continuous_update=False, disabled=True)\n",
    "filename=widgets.Text(\n",
    "    value='image.png',\n",
    "    placeholder='image.png',\n",
    "    description='Filename:',\n",
    "    disabled=False\n",
    ")\n",
    "# save=widgets.Button(\n",
    "#     description='Save Image')\n",
    "# output = widgets.Output()\n",
    "\n",
    "# display(save, output)\n",
    "# def on_save(b):\n",
    "#     with output:\n",
    "#         plt.savefig(\"abc\")\n",
    "# save.on_click(on_save)\n",
    "from IPython.display import display\n",
    "button = widgets.Button(description='Save image')\n",
    "output = widgets.Output()\n",
    "display(button, output)\n",
    "def on_save(b):\n",
    "    with output:\n",
    "        plt.savefig(filename.value)\n",
    "\n",
    "\n",
    "button.on_click(on_save)\n",
    "\n",
    "\n",
    "\n",
    "def update_points_range(*args):\n",
    "    if mode.value==\"every_other\":\n",
    "        num_classes.max=2*num_points.max\n",
    "        num_classes.min=1\n",
    "        num_classes.value = num_points.value*2\n",
    "        num_classes.disabled=True\n",
    "        num_points.disabled=False\n",
    "        new_max_points = 12\n",
    "        new_min_points = 4\n",
    "        frame.disabled=False\n",
    "        zoom.disabled=True\n",
    "    if mode.value==\"poly_and_center\":\n",
    "        num_points.disabled=False\n",
    "        new_max_points = 12\n",
    "        new_min_points = 4\n",
    "        num_classes.max=3*num_points.max-2\n",
    "        num_classes.min=1\n",
    "        num_classes.value = 3*num_points.value-2\n",
    "        num_classes.disabled=True\n",
    "        frame.disabled=False\n",
    "        zoom.disabled=True\n",
    "\n",
    "    if mode.value==\"2points_n_classes\":\n",
    "        new_min_points = 2\n",
    "        new_max_points = 2\n",
    "        num_points.value = 2\n",
    "        num_points.disabled=True\n",
    "        num_classes.min=2\n",
    "        num_classes.max=20\n",
    "        num_classes.value=3\n",
    "        num_classes.disabled=False\n",
    "        frame.disabled=True\n",
    "        zoom.disabled=False\n",
    "        resolution.value=0.2\n",
    "    if mode.value==\"2points_half_n_classes\":\n",
    "        new_min_points = 2\n",
    "        new_max_points = 2\n",
    "        num_points.value = 2\n",
    "        num_points.disabled=True\n",
    "        num_classes.min=2\n",
    "        num_classes.max=20\n",
    "        num_classes.value=3\n",
    "        num_classes.disabled=False\n",
    "        frame.disabled=True\n",
    "        zoom.disabled=False\n",
    "        resolution.value=0.2\n",
    "    if mode.value==\"3points_n_classes\":\n",
    "        new_min_points = 3\n",
    "        new_max_points = 3\n",
    "        num_points.value = 3\n",
    "        num_points.disabled=True\n",
    "        num_classes.min=2\n",
    "        num_classes.max=20\n",
    "        num_classes.value=3\n",
    "        num_classes.disabled=False\n",
    "        frame.disabled=True\n",
    "        zoom.disabled=False\n",
    "        resolution.value=0.2\n",
    "    if mode.value==\"3points_half_n_classes\":\n",
    "        new_min_points = 3\n",
    "        new_max_points = 3\n",
    "        num_points.value = 3\n",
    "        num_points.disabled=True\n",
    "        num_classes.min=2\n",
    "        num_classes.max=20\n",
    "        num_classes.value=3\n",
    "        num_classes.disabled=False\n",
    "        frame.disabled=True\n",
    "        zoom.disabled=False\n",
    "        resolution.value=0.2\n",
    "    if new_min_points > num_points.max:\n",
    "        num_points.max = new_max_points\n",
    "        num_points.min=new_min_points\n",
    "    else:\n",
    "        num_points.min = new_min_points\n",
    "        num_points.max = new_max_points\n",
    "        \n",
    "mode.observe(update_points_range, 'value')\n",
    "num_points.observe(update_points_range)\n",
    "interactive_plot=interactive(animate,frame=frame, num_points=num_points, num_classes=num_classes,mode=mode, resolution=resolution, zoom=zoom, filename=filename)\n",
    "output = interactive_plot.children[-1]\n",
    "output.layout.height = '350px'\n",
    "\n",
    "interactive_plot\n",
    "\n"
   ]
  },
  {
   "cell_type": "code",
   "execution_count": 14,
   "metadata": {},
   "outputs": [],
   "source": [
    "def create_system(n, verbose=False):\n",
    "    A=[]\n",
    "    for i in range(1,int(np.ceil(n/2.))):\n",
    "        for j in range(2*i, n):#int(np.floor(n/2.))+i\n",
    "            vector = np.zeros(n)\n",
    "            vector[i-1]+=(2*n-j)\n",
    "            vector[n-i+1-1]+=(j)\n",
    "            vector[j-i+1-1]+=(-(2*n-j))\n",
    "            vector[n-j+i-1]+=(-j)\n",
    "            A.append(vector)\n",
    "            if verbose:\n",
    "                print (\"(y_{0}/{1})+(y_{2}/{3}) = (y_{4}/{1}) + (y_{5}/{3})    \".format(i,j/2.,n-i+1,n-(j/2.),j-i+1,n-j+i))\n",
    "        if verbose: \n",
    "            print(\"\\n\")\n",
    "    A.append(np.ones(n))\n",
    "    A.append(np.zeros(n))\n",
    "    A[-1][-1]=1\n",
    "    b = np.zeros(len(A))\n",
    "    b[-2]=1\n",
    "    return A, b\n",
    "\n",
    "def do_stuff():\n",
    "    n=8\n",
    "    A,b=create_system(n, verbose=False)\n",
    "    print (\"Expected: {0} Found: {1}\".format(expected_num_eqns(n),len(A)-2))\n",
    "    print(\"\".join([str(a)+\"\\n\" for a in A]))\n",
    "\n",
    "    C=A[:(n-2)]\n",
    "    C.append(A[-1])\n",
    "    C.append(A[-2])\n",
    "    # if n%2==1:\n",
    "    #C.append(A[-3])\n",
    "    print(np.linalg.matrix_rank(C))\n",
    "    def solve_system(A,b):\n",
    "        soln, rsq, _, _ = np.linalg.lstsq(A,b,rcond=None)\n",
    "        return soln, rsq\n",
    "    #print(solve_system(A,b))\n",
    "    soln=solve_system(A,b)[0]\n",
    "    print([str(fractions.Fraction(i).limit_denominator()) for i in soln])\n",
    "    choices = np.transpose(np.array(A[:n-2]))\n",
    "    #print(choices)\n",
    "    target=A[n-2+n-4]\n",
    "    #print(target)\n",
    "    soln=solve_system(choices, target)\n",
    "    #[str(fractions.Fraction(i).limit_denominator()) for i in soln[0]]"
   ]
  },
  {
   "cell_type": "code",
   "execution_count": null,
   "metadata": {},
   "outputs": [],
   "source": []
  }
 ],
 "metadata": {
  "kernelspec": {
   "display_name": "Python 3",
   "language": "python",
   "name": "python3"
  },
  "language_info": {
   "codemirror_mode": {
    "name": "ipython",
    "version": 3
   },
   "file_extension": ".py",
   "mimetype": "text/x-python",
   "name": "python",
   "nbconvert_exporter": "python",
   "pygments_lexer": "ipython3",
   "version": "3.7.3"
  },
  "widgets": {
   "application/vnd.jupyter.widget-state+json": {
    "state": {
     "01a4fc5ae7004e07beb1e43f97544f57": {
      "model_module": "@jupyter-widgets/controls",
      "model_module_version": "1.5.0",
      "model_name": "IntSliderModel",
      "state": {
       "continuous_update": false,
       "description": "frame",
       "layout": "IPY_MODEL_295604e36d824903864903c09774409a",
       "max": 60,
       "min": -60,
       "step": 10,
       "style": "IPY_MODEL_d1813e7f5b66432db6011421b3f0ab78",
       "value": 10
      }
     },
     "0230f19b86504a7181e9aefafbe17bcd": {
      "model_module": "@jupyter-widgets/controls",
      "model_module_version": "1.5.0",
      "model_name": "SliderStyleModel",
      "state": {
       "description_width": ""
      }
     },
     "025a4d00c9c1494b86f11d581f1ae53e": {
      "model_module": "@jupyter-widgets/base",
      "model_module_version": "1.2.0",
      "model_name": "LayoutModel",
      "state": {}
     },
     "02a6f2d1539b4ce7b32ea24c923b8664": {
      "model_module": "@jupyter-widgets/controls",
      "model_module_version": "1.5.0",
      "model_name": "DescriptionStyleModel",
      "state": {
       "description_width": ""
      }
     },
     "02b054920bf04f5b879e1425ad04ed60": {
      "model_module": "@jupyter-widgets/controls",
      "model_module_version": "1.5.0",
      "model_name": "ButtonStyleModel",
      "state": {}
     },
     "0355885167d7484fa86980cdcd099aad": {
      "model_module": "@jupyter-widgets/base",
      "model_module_version": "1.2.0",
      "model_name": "LayoutModel",
      "state": {}
     },
     "0363f7d404714500af9ab37ac2f4e1bd": {
      "model_module": "@jupyter-widgets/controls",
      "model_module_version": "1.5.0",
      "model_name": "TextModel",
      "state": {
       "description": "Filename:",
       "layout": "IPY_MODEL_4c824113c0ac40f5ba3b1e0b8300bf24",
       "placeholder": "image.png",
       "style": "IPY_MODEL_bcae59261f944854b44eee5d2d9333cb",
       "value": "image.png"
      }
     },
     "03ad7b0e5db945c2b7bca4484f3a1d33": {
      "model_module": "@jupyter-widgets/controls",
      "model_module_version": "1.5.0",
      "model_name": "IntSliderModel",
      "state": {
       "continuous_update": false,
       "description": "frame",
       "layout": "IPY_MODEL_2a6597d00874411eb1fa8cfbe2c6ff83",
       "max": 60,
       "min": -60,
       "step": 10,
       "style": "IPY_MODEL_5f1f60fe52dd4d01ae84d87b7b527556",
       "value": 10
      }
     },
     "03c39a9506804d759d3231cbf3f285cb": {
      "model_module": "@jupyter-widgets/controls",
      "model_module_version": "1.5.0",
      "model_name": "IntSliderModel",
      "state": {
       "continuous_update": false,
       "description": "num_points",
       "layout": "IPY_MODEL_8711481de24e4f898c85d905ac2f8484",
       "max": 12,
       "min": 4,
       "style": "IPY_MODEL_8b0e8b2dc4464ef6b8d0cba0d7d90972",
       "value": 4
      }
     },
     "03d444ce591346049604936eae2cd5be": {
      "model_module": "@jupyter-widgets/base",
      "model_module_version": "1.2.0",
      "model_name": "LayoutModel",
      "state": {}
     },
     "04441ec512c24d93970f36d5c069661c": {
      "model_module": "@jupyter-widgets/controls",
      "model_module_version": "1.5.0",
      "model_name": "IntSliderModel",
      "state": {
       "continuous_update": false,
       "description": "num_points",
       "layout": "IPY_MODEL_4395d1c8618749cca461934c3c9eb596",
       "max": 12,
       "min": 4,
       "style": "IPY_MODEL_5697c75d418e4169ac2f6977de0634d2",
       "value": 4
      }
     },
     "04ddf22778cf491da30a934607d759aa": {
      "model_module": "@jupyter-widgets/base",
      "model_module_version": "1.2.0",
      "model_name": "LayoutModel",
      "state": {}
     },
     "058dfb76cdde4d4f9416dfde7d9b3a76": {
      "model_module": "@jupyter-widgets/base",
      "model_module_version": "1.2.0",
      "model_name": "LayoutModel",
      "state": {}
     },
     "06933a8750d84eb38f7ff6d693031b77": {
      "model_module": "@jupyter-widgets/controls",
      "model_module_version": "1.5.0",
      "model_name": "SliderStyleModel",
      "state": {
       "description_width": ""
      }
     },
     "069bab03fb0b487c9c35ff5e91f7cee7": {
      "model_module": "@jupyter-widgets/controls",
      "model_module_version": "1.5.0",
      "model_name": "VBoxModel",
      "state": {
       "_dom_classes": [
        "widget-interact"
       ],
       "children": [
        "IPY_MODEL_59dc739b8839457c9c2e86c483afbe1c",
        "IPY_MODEL_04441ec512c24d93970f36d5c069661c",
        "IPY_MODEL_7439e7c668794e0d890ac826a4cca73b",
        "IPY_MODEL_4fffa390c1374688a1a5b96e329e9f49",
        "IPY_MODEL_42ef5d8d2df64aa084880db9dc6961a2",
        "IPY_MODEL_28d126adbced44fdbd00f8da31c26974",
        "IPY_MODEL_4701be596ff846ba916e4d892ad50f63",
        "IPY_MODEL_e7d01248b79944eea005ede1bbd16055"
       ],
       "layout": "IPY_MODEL_569879ea9def40e696236684a8268aae"
      }
     },
     "06a4e4290b5546aba03a2b9a61131d22": {
      "model_module": "@jupyter-widgets/base",
      "model_module_version": "1.2.0",
      "model_name": "LayoutModel",
      "state": {}
     },
     "06a5995b35be4fb4857e46992391ffb0": {
      "model_module": "@jupyter-widgets/base",
      "model_module_version": "1.2.0",
      "model_name": "LayoutModel",
      "state": {}
     },
     "06f36ddf609d40a59f92d7c7cc106d7a": {
      "model_module": "@jupyter-widgets/controls",
      "model_module_version": "1.5.0",
      "model_name": "DescriptionStyleModel",
      "state": {
       "description_width": ""
      }
     },
     "08e2f7cd069a4e3c9c9705b4f23a6fab": {
      "model_module": "@jupyter-widgets/controls",
      "model_module_version": "1.5.0",
      "model_name": "IntSliderModel",
      "state": {
       "continuous_update": false,
       "description": "frame",
       "layout": "IPY_MODEL_98eaa6ea82e04a4cb4796ac542c7b26c",
       "max": 60,
       "min": -60,
       "step": 10,
       "style": "IPY_MODEL_24d8bc778e024fc9bb36ea38e13c070f",
       "value": 10
      }
     },
     "08efd1778b2c46febb5eb62067994032": {
      "model_module": "@jupyter-widgets/controls",
      "model_module_version": "1.5.0",
      "model_name": "IntSliderModel",
      "state": {
       "continuous_update": false,
       "description": "num_points",
       "layout": "IPY_MODEL_1b87869ac6df48a99137d2ba8d8388b3",
       "max": 12,
       "min": 4,
       "style": "IPY_MODEL_e9a26ffaf6ef430b9f9a86fa000e05a5",
       "value": 4
      }
     },
     "0a264ea52df54329a8c66cb5f38bd5b1": {
      "model_module": "@jupyter-widgets/base",
      "model_module_version": "1.2.0",
      "model_name": "LayoutModel",
      "state": {}
     },
     "0ad3cfcd96f7451b845f3d064994c522": {
      "model_module": "@jupyter-widgets/controls",
      "model_module_version": "1.5.0",
      "model_name": "DropdownModel",
      "state": {
       "_options_labels": [
        "poly_and_center",
        "every_other",
        "2points_n_classes",
        "3points_n_classes"
       ],
       "description": "Mode:",
       "index": 1,
       "layout": "IPY_MODEL_67bcd54a399b4f8097a49b724ccc3a66",
       "style": "IPY_MODEL_650b80a9bb134f01bb619aa628da0a95"
      }
     },
     "0d2a8114948644aaab36e01e84f0d6e4": {
      "model_module": "@jupyter-widgets/controls",
      "model_module_version": "1.5.0",
      "model_name": "DescriptionStyleModel",
      "state": {
       "description_width": ""
      }
     },
     "0e91b512510f4094aa3cc18f31c0b2a0": {
      "model_module": "@jupyter-widgets/controls",
      "model_module_version": "1.5.0",
      "model_name": "DescriptionStyleModel",
      "state": {
       "description_width": ""
      }
     },
     "0f6b5ca32f7549bd9083b89406be0ace": {
      "model_module": "@jupyter-widgets/base",
      "model_module_version": "1.2.0",
      "model_name": "LayoutModel",
      "state": {}
     },
     "106dadb3769a45eaa031a3cb84ef527e": {
      "model_module": "@jupyter-widgets/output",
      "model_module_version": "1.0.0",
      "model_name": "OutputModel",
      "state": {
       "layout": "IPY_MODEL_3e4ac1df44bd4baaadb5458a10c00a6f"
      }
     },
     "106ea0c847ba4ec4ab02590af717e513": {
      "model_module": "@jupyter-widgets/controls",
      "model_module_version": "1.5.0",
      "model_name": "IntSliderModel",
      "state": {
       "continuous_update": false,
       "description": "num_classes",
       "disabled": true,
       "layout": "IPY_MODEL_7379878c62904aaf81655be94bfa28aa",
       "max": 24,
       "min": 1,
       "style": "IPY_MODEL_abf2beb16e5d4f58a6ea1cc2f51fa05e",
       "value": 8
      }
     },
     "117fbdaf985b4922a76bdbff2fc2e0f2": {
      "model_module": "@jupyter-widgets/base",
      "model_module_version": "1.2.0",
      "model_name": "LayoutModel",
      "state": {}
     },
     "12944d198d154bf7b734ed2c0fec07df": {
      "model_module": "@jupyter-widgets/base",
      "model_module_version": "1.2.0",
      "model_name": "LayoutModel",
      "state": {
       "height": "350px"
      }
     },
     "1687e9dea56f4874b028846ec673f650": {
      "model_module": "@jupyter-widgets/controls",
      "model_module_version": "1.5.0",
      "model_name": "SliderStyleModel",
      "state": {
       "description_width": ""
      }
     },
     "16f0762b2e864ff5abca381fc81d29a8": {
      "model_module": "@jupyter-widgets/base",
      "model_module_version": "1.2.0",
      "model_name": "LayoutModel",
      "state": {}
     },
     "17b4234f4ef44613882cd6611c980cd5": {
      "model_module": "@jupyter-widgets/controls",
      "model_module_version": "1.5.0",
      "model_name": "SliderStyleModel",
      "state": {
       "description_width": ""
      }
     },
     "180f2e2b2f9b40ce958b0e2095892e2e": {
      "model_module": "@jupyter-widgets/controls",
      "model_module_version": "1.5.0",
      "model_name": "SliderStyleModel",
      "state": {
       "description_width": ""
      }
     },
     "186d2c417c5249099197aba167038fc9": {
      "model_module": "@jupyter-widgets/controls",
      "model_module_version": "1.5.0",
      "model_name": "TextModel",
      "state": {
       "description": "Filename:",
       "layout": "IPY_MODEL_058dfb76cdde4d4f9416dfde7d9b3a76",
       "placeholder": "image.png",
       "style": "IPY_MODEL_afaed3715c384baaa7de4742b3465f2a",
       "value": "image.png"
      }
     },
     "187f56e973f94e5d8ad9b3b98cb20aca": {
      "model_module": "@jupyter-widgets/base",
      "model_module_version": "1.2.0",
      "model_name": "LayoutModel",
      "state": {}
     },
     "18c9b8dbd176451e8579640121e6bb85": {
      "model_module": "@jupyter-widgets/controls",
      "model_module_version": "1.5.0",
      "model_name": "VBoxModel",
      "state": {
       "_dom_classes": [
        "widget-interact"
       ],
       "children": [
        "IPY_MODEL_01a4fc5ae7004e07beb1e43f97544f57",
        "IPY_MODEL_98b8bc679ad74cf6baa7b5312b7bb19c",
        "IPY_MODEL_bb0f53edfe464c7993cb191e0d1bc0b8",
        "IPY_MODEL_d2b0ff5ada8f477fb017c043ba92e54f",
        "IPY_MODEL_d6fffa8827374b788c2b8b25ccc673b0",
        "IPY_MODEL_8779afae79df4f01ba9613d8628190af",
        "IPY_MODEL_33cc0b10d64e463cb86570ea7c33e52e",
        "IPY_MODEL_84946cbe3077401cb5faf2bae3b4cedd"
       ],
       "layout": "IPY_MODEL_df2e40018a0d4734b0c8f956eeef34fd"
      }
     },
     "1b118411b9ae4331807b21d59f319e43": {
      "model_module": "@jupyter-widgets/controls",
      "model_module_version": "1.5.0",
      "model_name": "SliderStyleModel",
      "state": {
       "description_width": ""
      }
     },
     "1b75e02e7ee54662acb3ea343e9edd28": {
      "model_module": "@jupyter-widgets/base",
      "model_module_version": "1.2.0",
      "model_name": "LayoutModel",
      "state": {}
     },
     "1b87869ac6df48a99137d2ba8d8388b3": {
      "model_module": "@jupyter-widgets/base",
      "model_module_version": "1.2.0",
      "model_name": "LayoutModel",
      "state": {}
     },
     "1c0e5dfbf4484d4cbbe77da591fce7cd": {
      "model_module": "@jupyter-widgets/controls",
      "model_module_version": "1.5.0",
      "model_name": "RadioButtonsModel",
      "state": {
       "_options_labels": [
        "Very Low",
        "Low",
        "Medium",
        "High",
        "Very High"
       ],
       "description": "Resolution:",
       "index": 4,
       "layout": "IPY_MODEL_a83fcb0fc89d4aee968b9ab97dd34762",
       "style": "IPY_MODEL_70f854fb38e44187837263d6f09e7487"
      }
     },
     "1cdc290bc8514818af984fd144470825": {
      "model_module": "@jupyter-widgets/base",
      "model_module_version": "1.2.0",
      "model_name": "LayoutModel",
      "state": {
       "height": "350px"
      }
     },
     "1dec1054b3364a24b5ae775fceb186f1": {
      "model_module": "@jupyter-widgets/controls",
      "model_module_version": "1.5.0",
      "model_name": "DescriptionStyleModel",
      "state": {
       "description_width": ""
      }
     },
     "1e9220e2e94c4b0680944872ca24d164": {
      "model_module": "@jupyter-widgets/output",
      "model_module_version": "1.0.0",
      "model_name": "OutputModel",
      "state": {
       "layout": "IPY_MODEL_d898efbb93d94aeb89379f49389e8780"
      }
     },
     "1f206444ddc54523b41ae62eda2c2b08": {
      "model_module": "@jupyter-widgets/base",
      "model_module_version": "1.2.0",
      "model_name": "LayoutModel",
      "state": {}
     },
     "20c5273e31ea4404ac51135dda090de8": {
      "model_module": "@jupyter-widgets/controls",
      "model_module_version": "1.5.0",
      "model_name": "SliderStyleModel",
      "state": {
       "description_width": ""
      }
     },
     "22521160ab1f41679a9eb6d198e87347": {
      "model_module": "@jupyter-widgets/controls",
      "model_module_version": "1.5.0",
      "model_name": "IntSliderModel",
      "state": {
       "continuous_update": false,
       "description": "num_points",
       "layout": "IPY_MODEL_f9523b6430d7484f9e5b9d2c5d0daa2a",
       "max": 12,
       "min": 4,
       "style": "IPY_MODEL_5199a586edb24c30ac7e7bbfbfdc8bfb",
       "value": 4
      }
     },
     "228be73401b5443f90986f3cf23a0bbc": {
      "model_module": "@jupyter-widgets/controls",
      "model_module_version": "1.5.0",
      "model_name": "DropdownModel",
      "state": {
       "_options_labels": [
        "poly_and_center",
        "every_other",
        "2points_n_classes",
        "3points_n_classes"
       ],
       "description": "Mode:",
       "index": 1,
       "layout": "IPY_MODEL_c653507a7e564f9389e18033c5d39949",
       "style": "IPY_MODEL_795e916fbaa34789bc6d42d2544859d7"
      }
     },
     "22f199bf76bf47fc91a0722f973f7651": {
      "model_module": "@jupyter-widgets/controls",
      "model_module_version": "1.5.0",
      "model_name": "VBoxModel",
      "state": {
       "_dom_classes": [
        "widget-interact"
       ],
       "children": [
        "IPY_MODEL_2574b3334a814ee5b80057f0957b812b",
        "IPY_MODEL_d995359963aa4896b44ff567c6c1e1be",
        "IPY_MODEL_7f3de45af001495eb6b873f1bea58a04",
        "IPY_MODEL_b002866d717a42629f47a15566d05703",
        "IPY_MODEL_9b0a8dc02e1f412f8e4755e768874ca7",
        "IPY_MODEL_2db5a9bcb27f41c5b08dd887ca13159d",
        "IPY_MODEL_59ea4cbb77ed49e4b9246b9f85e50533",
        "IPY_MODEL_72d6ffab2f0d4aafb671f624beebf9f4"
       ],
       "layout": "IPY_MODEL_a9bed6f80670432f9befac97b10d0178"
      }
     },
     "239d75b397684936abfdd7240b26cbe1": {
      "model_module": "@jupyter-widgets/controls",
      "model_module_version": "1.5.0",
      "model_name": "VBoxModel",
      "state": {
       "_dom_classes": [
        "widget-interact"
       ],
       "children": [
        "IPY_MODEL_fa6acaabf9e04ea086eabfda6cb5bc6b",
        "IPY_MODEL_c22f70ed32794efb85f8e3d5dc218e21",
        "IPY_MODEL_d7438918041a431d9246785f39c70711",
        "IPY_MODEL_c53f317cbe6545528203bc56c405e065",
        "IPY_MODEL_dae4e3935d0f4c549c8cc99ccc6b8739",
        "IPY_MODEL_b071438467494eee89d56b9ec635583c",
        "IPY_MODEL_42d67f2ad11541daaa7b8517a0d55932",
        "IPY_MODEL_506e9add428a483db18b367010917635"
       ],
       "layout": "IPY_MODEL_7f9e78cc68544adda02de7fc092f056d"
      }
     },
     "23aaf2c0e40d4154a7e6fed2514261c4": {
      "model_module": "@jupyter-widgets/controls",
      "model_module_version": "1.5.0",
      "model_name": "TextModel",
      "state": {
       "description": "Filename:",
       "layout": "IPY_MODEL_bece4f56058c43b283a8c0e0778900ee",
       "placeholder": "image.png",
       "style": "IPY_MODEL_d1be0e91f5f84f64ae2dd98b32af2103",
       "value": "image.png"
      }
     },
     "24666321686b498dbe12db630f6c5017": {
      "model_module": "@jupyter-widgets/controls",
      "model_module_version": "1.5.0",
      "model_name": "SliderStyleModel",
      "state": {
       "description_width": ""
      }
     },
     "24d8bc778e024fc9bb36ea38e13c070f": {
      "model_module": "@jupyter-widgets/controls",
      "model_module_version": "1.5.0",
      "model_name": "SliderStyleModel",
      "state": {
       "description_width": ""
      }
     },
     "254543630b2e4579bf4256887bebe484": {
      "model_module": "@jupyter-widgets/base",
      "model_module_version": "1.2.0",
      "model_name": "LayoutModel",
      "state": {}
     },
     "2559d63287884aeb9c98fff7880dd0c1": {
      "model_module": "@jupyter-widgets/base",
      "model_module_version": "1.2.0",
      "model_name": "LayoutModel",
      "state": {
       "height": "350px"
      }
     },
     "2574b3334a814ee5b80057f0957b812b": {
      "model_module": "@jupyter-widgets/controls",
      "model_module_version": "1.5.0",
      "model_name": "IntSliderModel",
      "state": {
       "continuous_update": false,
       "description": "frame",
       "layout": "IPY_MODEL_9371059fc5574ed9aa791a7328fad5ff",
       "max": 60,
       "min": -60,
       "step": 10,
       "style": "IPY_MODEL_ef8ee34dd59c4541a6d568a01ad78143",
       "value": 10
      }
     },
     "25edb56be39f47f88d89aa8a698944c7": {
      "model_module": "@jupyter-widgets/controls",
      "model_module_version": "1.5.0",
      "model_name": "ButtonStyleModel",
      "state": {}
     },
     "272cb574968b4629b683d8b7d6a4f168": {
      "model_module": "@jupyter-widgets/output",
      "model_module_version": "1.0.0",
      "model_name": "OutputModel",
      "state": {
       "layout": "IPY_MODEL_646bd33f23e9494bbeb9f51e4453e846"
      }
     },
     "275e63faffc94e71bb30e12f70869a3a": {
      "model_module": "@jupyter-widgets/base",
      "model_module_version": "1.2.0",
      "model_name": "LayoutModel",
      "state": {}
     },
     "27891239da264d36af0c64795a3597a7": {
      "model_module": "@jupyter-widgets/output",
      "model_module_version": "1.0.0",
      "model_name": "OutputModel",
      "state": {
       "layout": "IPY_MODEL_1cdc290bc8514818af984fd144470825"
      }
     },
     "2794a456cc58472b936581c4d0235415": {
      "model_module": "@jupyter-widgets/controls",
      "model_module_version": "1.5.0",
      "model_name": "SliderStyleModel",
      "state": {
       "description_width": ""
      }
     },
     "28af8abfdab34476b6e47f98bb7aaa69": {
      "model_module": "@jupyter-widgets/controls",
      "model_module_version": "1.5.0",
      "model_name": "SliderStyleModel",
      "state": {
       "description_width": ""
      }
     },
     "28d126adbced44fdbd00f8da31c26974": {
      "model_module": "@jupyter-widgets/controls",
      "model_module_version": "1.5.0",
      "model_name": "IntSliderModel",
      "state": {
       "continuous_update": false,
       "description": "zoom",
       "disabled": true,
       "layout": "IPY_MODEL_e751df4250824168acba5e6c1696a58d",
       "max": 5,
       "min": -5,
       "style": "IPY_MODEL_bb584037b893458e87de43c5db4ab9c2",
       "value": 5
      }
     },
     "29300d5d8aef4b54ac761802accf8bb6": {
      "model_module": "@jupyter-widgets/base",
      "model_module_version": "1.2.0",
      "model_name": "LayoutModel",
      "state": {}
     },
     "295604e36d824903864903c09774409a": {
      "model_module": "@jupyter-widgets/base",
      "model_module_version": "1.2.0",
      "model_name": "LayoutModel",
      "state": {}
     },
     "2a6597d00874411eb1fa8cfbe2c6ff83": {
      "model_module": "@jupyter-widgets/base",
      "model_module_version": "1.2.0",
      "model_name": "LayoutModel",
      "state": {}
     },
     "2a9225dfc57a494b97aa7b9d7227e8ed": {
      "model_module": "@jupyter-widgets/controls",
      "model_module_version": "1.5.0",
      "model_name": "SliderStyleModel",
      "state": {
       "description_width": ""
      }
     },
     "2b29bea959014ff9b27184f1ac69c6fe": {
      "model_module": "@jupyter-widgets/output",
      "model_module_version": "1.0.0",
      "model_name": "OutputModel",
      "state": {
       "layout": "IPY_MODEL_a8018102e09d4f32b7f26daaefc3b093"
      }
     },
     "2cb8995808814a29a7b9ba310862483a": {
      "model_module": "@jupyter-widgets/controls",
      "model_module_version": "1.5.0",
      "model_name": "DescriptionStyleModel",
      "state": {
       "description_width": ""
      }
     },
     "2d6ebbf4539b4e6994e368cdc8c8f5db": {
      "model_module": "@jupyter-widgets/base",
      "model_module_version": "1.2.0",
      "model_name": "LayoutModel",
      "state": {}
     },
     "2db5a9bcb27f41c5b08dd887ca13159d": {
      "model_module": "@jupyter-widgets/controls",
      "model_module_version": "1.5.0",
      "model_name": "IntSliderModel",
      "state": {
       "continuous_update": false,
       "description": "zoom",
       "disabled": true,
       "layout": "IPY_MODEL_2fbaa13e09d842b692d2af9cddab956e",
       "max": 5,
       "min": -5,
       "style": "IPY_MODEL_20c5273e31ea4404ac51135dda090de8",
       "value": 5
      }
     },
     "2dcb96d392c147d2aacbe83d027875b6": {
      "model_module": "@jupyter-widgets/controls",
      "model_module_version": "1.5.0",
      "model_name": "VBoxModel",
      "state": {
       "_dom_classes": [
        "widget-interact"
       ],
       "children": [
        "IPY_MODEL_3e3c6495b98843198a978c65be893b82",
        "IPY_MODEL_22521160ab1f41679a9eb6d198e87347",
        "IPY_MODEL_d6663c9d4d4f42ffaa114b4945b9fca6",
        "IPY_MODEL_2e4858fbe32a42608457070aea56909b",
        "IPY_MODEL_5d4aa5a076e149b4b09aea89d8acc9a2",
        "IPY_MODEL_6eccd509a8954c458f38f5a347b9d12f",
        "IPY_MODEL_186d2c417c5249099197aba167038fc9",
        "IPY_MODEL_2b29bea959014ff9b27184f1ac69c6fe"
       ],
       "layout": "IPY_MODEL_82eb7921ae904fd7aa03c9ffdba95969"
      }
     },
     "2e4858fbe32a42608457070aea56909b": {
      "model_module": "@jupyter-widgets/controls",
      "model_module_version": "1.5.0",
      "model_name": "DropdownModel",
      "state": {
       "_options_labels": [
        "poly_and_center",
        "every_other",
        "2points_n_classes",
        "3points_n_classes"
       ],
       "description": "Mode:",
       "index": 1,
       "layout": "IPY_MODEL_f2559a881e4d4adb88fb09030ee48184",
       "style": "IPY_MODEL_8381e71f4b30442d9004307513418618"
      }
     },
     "2fbaa13e09d842b692d2af9cddab956e": {
      "model_module": "@jupyter-widgets/base",
      "model_module_version": "1.2.0",
      "model_name": "LayoutModel",
      "state": {}
     },
     "3149a2679c3b4b5dbabbb2adc6745163": {
      "model_module": "@jupyter-widgets/base",
      "model_module_version": "1.2.0",
      "model_name": "LayoutModel",
      "state": {}
     },
     "32b0af7b7d794860b5790e32b1e1b44e": {
      "model_module": "@jupyter-widgets/output",
      "model_module_version": "1.0.0",
      "model_name": "OutputModel",
      "state": {
       "layout": "IPY_MODEL_8a552da9ddba480c8c8921d2dafdd750"
      }
     },
     "32b5a09476b5457bbcb0ee669b7b9359": {
      "model_module": "@jupyter-widgets/controls",
      "model_module_version": "1.5.0",
      "model_name": "IntSliderModel",
      "state": {
       "continuous_update": false,
       "description": "zoom",
       "disabled": true,
       "layout": "IPY_MODEL_8c63f87ba9c145049ae7e92a7b2e4665",
       "max": 5,
       "min": -5,
       "style": "IPY_MODEL_eb4eba8fccde44419704ac911597ca77",
       "value": 5
      }
     },
     "33cc0b10d64e463cb86570ea7c33e52e": {
      "model_module": "@jupyter-widgets/controls",
      "model_module_version": "1.5.0",
      "model_name": "TextModel",
      "state": {
       "description": "Filename:",
       "layout": "IPY_MODEL_72f2db47245e49c4be24ac9f4ad10dcb",
       "placeholder": "image.png",
       "style": "IPY_MODEL_416a29f7eb0443eb8b5f1ce4e2c420cc",
       "value": "image.png"
      }
     },
     "34d6a5790d7f46518037fdadd20a495d": {
      "model_module": "@jupyter-widgets/controls",
      "model_module_version": "1.5.0",
      "model_name": "SliderStyleModel",
      "state": {
       "description_width": ""
      }
     },
     "36dcc0fe13644bafb6499227731f7708": {
      "model_module": "@jupyter-widgets/base",
      "model_module_version": "1.2.0",
      "model_name": "LayoutModel",
      "state": {}
     },
     "37a4cb86791e4f70b0e32aa532e2f521": {
      "model_module": "@jupyter-widgets/base",
      "model_module_version": "1.2.0",
      "model_name": "LayoutModel",
      "state": {}
     },
     "38f7705d731a487ea9b20636c27e313b": {
      "model_module": "@jupyter-widgets/controls",
      "model_module_version": "1.5.0",
      "model_name": "ButtonStyleModel",
      "state": {}
     },
     "394cff04415944249c682bdb1e7783b5": {
      "model_module": "@jupyter-widgets/base",
      "model_module_version": "1.2.0",
      "model_name": "LayoutModel",
      "state": {}
     },
     "39c587588b7a4250aed602d5b2c795d4": {
      "model_module": "@jupyter-widgets/controls",
      "model_module_version": "1.5.0",
      "model_name": "SliderStyleModel",
      "state": {
       "description_width": ""
      }
     },
     "3ac6a6b58df84352add8af23bd1b952c": {
      "model_module": "@jupyter-widgets/base",
      "model_module_version": "1.2.0",
      "model_name": "LayoutModel",
      "state": {}
     },
     "3bc0e0b23aef4e9cad224d5c57d74f3f": {
      "model_module": "@jupyter-widgets/base",
      "model_module_version": "1.2.0",
      "model_name": "LayoutModel",
      "state": {}
     },
     "3c79e20e300c4b52b1dc256746926247": {
      "model_module": "@jupyter-widgets/base",
      "model_module_version": "1.2.0",
      "model_name": "LayoutModel",
      "state": {}
     },
     "3c8c4fd405d24c8f91a0b43704677cf5": {
      "model_module": "@jupyter-widgets/base",
      "model_module_version": "1.2.0",
      "model_name": "LayoutModel",
      "state": {}
     },
     "3e3c6495b98843198a978c65be893b82": {
      "model_module": "@jupyter-widgets/controls",
      "model_module_version": "1.5.0",
      "model_name": "IntSliderModel",
      "state": {
       "continuous_update": false,
       "description": "frame",
       "layout": "IPY_MODEL_03d444ce591346049604936eae2cd5be",
       "max": 60,
       "min": -60,
       "step": 10,
       "style": "IPY_MODEL_550a3c1f45904aed857e8f28adf2ab6a",
       "value": 10
      }
     },
     "3e4ac1df44bd4baaadb5458a10c00a6f": {
      "model_module": "@jupyter-widgets/base",
      "model_module_version": "1.2.0",
      "model_name": "LayoutModel",
      "state": {
       "height": "350px"
      }
     },
     "3efb5db3a6a04e5da8788c607e0e33bb": {
      "model_module": "@jupyter-widgets/controls",
      "model_module_version": "1.5.0",
      "model_name": "IntSliderModel",
      "state": {
       "continuous_update": false,
       "description": "num_classes",
       "layout": "IPY_MODEL_06a5995b35be4fb4857e46992391ffb0",
       "max": 20,
       "min": 2,
       "style": "IPY_MODEL_180f2e2b2f9b40ce958b0e2095892e2e",
       "value": 7
      }
     },
     "3f195463de5a460eada42417d134357a": {
      "model_module": "@jupyter-widgets/output",
      "model_module_version": "1.0.0",
      "model_name": "OutputModel",
      "state": {
       "layout": "IPY_MODEL_c58061758af44806bb627fb025b5dfd3"
      }
     },
     "401829fdca494c05bc8a6e1d35d657a4": {
      "model_module": "@jupyter-widgets/controls",
      "model_module_version": "1.5.0",
      "model_name": "DropdownModel",
      "state": {
       "_options_labels": [
        "poly_and_center",
        "every_other",
        "2points_n_classes",
        "3points_n_classes"
       ],
       "description": "Mode:",
       "index": 1,
       "layout": "IPY_MODEL_d18e9d8d34a24dd0b52b43e16aeeafae",
       "style": "IPY_MODEL_60d1a3bff5b147c4b6b3cc1b9455c61e"
      }
     },
     "416a29f7eb0443eb8b5f1ce4e2c420cc": {
      "model_module": "@jupyter-widgets/controls",
      "model_module_version": "1.5.0",
      "model_name": "DescriptionStyleModel",
      "state": {
       "description_width": ""
      }
     },
     "41a74390c64348bc85aaa1001840c2dc": {
      "model_module": "@jupyter-widgets/controls",
      "model_module_version": "1.5.0",
      "model_name": "ButtonStyleModel",
      "state": {}
     },
     "41ac8d43355a48c9aef561a51fef5473": {
      "model_module": "@jupyter-widgets/controls",
      "model_module_version": "1.5.0",
      "model_name": "ButtonStyleModel",
      "state": {}
     },
     "420278ec40fe4080a1a8163fb13201ec": {
      "model_module": "@jupyter-widgets/base",
      "model_module_version": "1.2.0",
      "model_name": "LayoutModel",
      "state": {}
     },
     "42bee52820614430a0e82c04292099b3": {
      "model_module": "@jupyter-widgets/controls",
      "model_module_version": "1.5.0",
      "model_name": "DescriptionStyleModel",
      "state": {
       "description_width": ""
      }
     },
     "42d67f2ad11541daaa7b8517a0d55932": {
      "model_module": "@jupyter-widgets/controls",
      "model_module_version": "1.5.0",
      "model_name": "TextModel",
      "state": {
       "description": "Filename:",
       "layout": "IPY_MODEL_caf683284ff54a1fb6985bd99e9c7e29",
       "placeholder": "image.png",
       "style": "IPY_MODEL_2cb8995808814a29a7b9ba310862483a",
       "value": "image.png"
      }
     },
     "42ef5d8d2df64aa084880db9dc6961a2": {
      "model_module": "@jupyter-widgets/controls",
      "model_module_version": "1.5.0",
      "model_name": "RadioButtonsModel",
      "state": {
       "_options_labels": [
        "Very Low",
        "Low",
        "Medium",
        "High",
        "Very High"
       ],
       "description": "Resolution:",
       "index": 2,
       "layout": "IPY_MODEL_c40c4ff2c89d43fe9c8716864a155a83",
       "style": "IPY_MODEL_4ce348803ba44e87ad5d352cfe0ba90b"
      }
     },
     "4395d1c8618749cca461934c3c9eb596": {
      "model_module": "@jupyter-widgets/base",
      "model_module_version": "1.2.0",
      "model_name": "LayoutModel",
      "state": {}
     },
     "4472560ed49a40189508184b07a5e5a1": {
      "model_module": "@jupyter-widgets/controls",
      "model_module_version": "1.5.0",
      "model_name": "VBoxModel",
      "state": {
       "_dom_classes": [
        "widget-interact"
       ],
       "children": [
        "IPY_MODEL_08e2f7cd069a4e3c9c9705b4f23a6fab",
        "IPY_MODEL_aa4219faeed340f49d3f0d449d70c63b",
        "IPY_MODEL_54643cf97be74483a266a76b1e65f7e3",
        "IPY_MODEL_9d19e1518abd4b5e96c0ffe52f9f31f2",
        "IPY_MODEL_a98f49be2d634e4491f0407820e609b3",
        "IPY_MODEL_32b5a09476b5457bbcb0ee669b7b9359",
        "IPY_MODEL_23aaf2c0e40d4154a7e6fed2514261c4",
        "IPY_MODEL_3f195463de5a460eada42417d134357a"
       ],
       "layout": "IPY_MODEL_4babbfd5d0324eac8f8b9a7994357867"
      }
     },
     "456eb002d05848a89e6fb5156b60a97c": {
      "model_module": "@jupyter-widgets/controls",
      "model_module_version": "1.5.0",
      "model_name": "IntSliderModel",
      "state": {
       "continuous_update": false,
       "description": "num_points",
       "layout": "IPY_MODEL_04ddf22778cf491da30a934607d759aa",
       "max": 12,
       "min": 4,
       "style": "IPY_MODEL_60d0f2f2cbf844c4a14856a897f591cc",
       "value": 4
      }
     },
     "45768a1de72348f49459e82a26fb3a05": {
      "model_module": "@jupyter-widgets/controls",
      "model_module_version": "1.5.0",
      "model_name": "IntSliderModel",
      "state": {
       "continuous_update": false,
       "description": "zoom",
       "disabled": true,
       "layout": "IPY_MODEL_b20d74ab64c94d258aa35604bdf50d13",
       "max": 5,
       "min": -5,
       "style": "IPY_MODEL_89ed37fa51ca4df8accd5c32c6e185ba",
       "value": 5
      }
     },
     "457814f167bf4e40a524268461fc8776": {
      "model_module": "@jupyter-widgets/controls",
      "model_module_version": "1.5.0",
      "model_name": "DescriptionStyleModel",
      "state": {
       "description_width": ""
      }
     },
     "46d310bad583403498b7d50b8cd6dc15": {
      "model_module": "@jupyter-widgets/base",
      "model_module_version": "1.2.0",
      "model_name": "LayoutModel",
      "state": {}
     },
     "4701be596ff846ba916e4d892ad50f63": {
      "model_module": "@jupyter-widgets/controls",
      "model_module_version": "1.5.0",
      "model_name": "TextModel",
      "state": {
       "description": "Filename:",
       "layout": "IPY_MODEL_a6d1973f15ec46a99c396a40f0017152",
       "placeholder": "image.png",
       "style": "IPY_MODEL_52b17e5a008549dba9c5a2a0ab54b641",
       "value": "image.png"
      }
     },
     "4747b0d96e1d470d97e4d7cc6a28f400": {
      "model_module": "@jupyter-widgets/output",
      "model_module_version": "1.0.0",
      "model_name": "OutputModel",
      "state": {
       "layout": "IPY_MODEL_3bc0e0b23aef4e9cad224d5c57d74f3f"
      }
     },
     "47accdf2212844c295f76a4f6b88ce70": {
      "model_module": "@jupyter-widgets/controls",
      "model_module_version": "1.5.0",
      "model_name": "SliderStyleModel",
      "state": {
       "description_width": ""
      }
     },
     "47d3794697844ea9b3033d8a97f9db48": {
      "model_module": "@jupyter-widgets/controls",
      "model_module_version": "1.5.0",
      "model_name": "IntSliderModel",
      "state": {
       "continuous_update": false,
       "description": "frame",
       "layout": "IPY_MODEL_bebd1e326a574f9fa237f19c04ec21cb",
       "max": 60,
       "min": -60,
       "step": 10,
       "style": "IPY_MODEL_7743d9b4bb9349e78035cc9b57f8e42f",
       "value": 10
      }
     },
     "47d62be925e44cd6abd135af4e250fd2": {
      "model_module": "@jupyter-widgets/controls",
      "model_module_version": "1.5.0",
      "model_name": "ButtonModel",
      "state": {
       "description": "Save image",
       "layout": "IPY_MODEL_487fd241bf274cdbb4d0b24291347514",
       "style": "IPY_MODEL_ac5cb17193ee46e196d5da459537719f"
      }
     },
     "487fd241bf274cdbb4d0b24291347514": {
      "model_module": "@jupyter-widgets/base",
      "model_module_version": "1.2.0",
      "model_name": "LayoutModel",
      "state": {}
     },
     "4991f16735684dc38d61655b3e87af44": {
      "model_module": "@jupyter-widgets/controls",
      "model_module_version": "1.5.0",
      "model_name": "SliderStyleModel",
      "state": {
       "description_width": ""
      }
     },
     "4b7aa7ed821140599e844b76f930808e": {
      "model_module": "@jupyter-widgets/controls",
      "model_module_version": "1.5.0",
      "model_name": "ButtonStyleModel",
      "state": {}
     },
     "4babbfd5d0324eac8f8b9a7994357867": {
      "model_module": "@jupyter-widgets/base",
      "model_module_version": "1.2.0",
      "model_name": "LayoutModel",
      "state": {}
     },
     "4bb6269c63b241b9b7b9527d8ee0b2c7": {
      "model_module": "@jupyter-widgets/controls",
      "model_module_version": "1.5.0",
      "model_name": "DropdownModel",
      "state": {
       "_options_labels": [
        "poly_and_center",
        "every_other",
        "2points_n_classes",
        "3points_n_classes"
       ],
       "description": "Mode:",
       "index": 1,
       "layout": "IPY_MODEL_75cb3384f4ba451aad7a038c83e85992",
       "style": "IPY_MODEL_71413c28cdc44131b2216f5de306f959"
      }
     },
     "4c824113c0ac40f5ba3b1e0b8300bf24": {
      "model_module": "@jupyter-widgets/base",
      "model_module_version": "1.2.0",
      "model_name": "LayoutModel",
      "state": {}
     },
     "4ce348803ba44e87ad5d352cfe0ba90b": {
      "model_module": "@jupyter-widgets/controls",
      "model_module_version": "1.5.0",
      "model_name": "DescriptionStyleModel",
      "state": {
       "description_width": ""
      }
     },
     "4d1c50d66e13485d854fd24e7ceb1330": {
      "model_module": "@jupyter-widgets/base",
      "model_module_version": "1.2.0",
      "model_name": "LayoutModel",
      "state": {}
     },
     "4d2c2a828da44d98806178aec31f7ef8": {
      "model_module": "@jupyter-widgets/controls",
      "model_module_version": "1.5.0",
      "model_name": "SliderStyleModel",
      "state": {
       "description_width": ""
      }
     },
     "4ff71ffc1a3349b29e8984ebd08049b9": {
      "model_module": "@jupyter-widgets/controls",
      "model_module_version": "1.5.0",
      "model_name": "RadioButtonsModel",
      "state": {
       "_options_labels": [
        "Very Low",
        "Low",
        "Medium",
        "High",
        "Very High"
       ],
       "description": "Resolution:",
       "index": 2,
       "layout": "IPY_MODEL_37a4cb86791e4f70b0e32aa532e2f521",
       "style": "IPY_MODEL_d7f9dafed27b45ad9797aa9b01c22ad4"
      }
     },
     "4fffa390c1374688a1a5b96e329e9f49": {
      "model_module": "@jupyter-widgets/controls",
      "model_module_version": "1.5.0",
      "model_name": "DropdownModel",
      "state": {
       "_options_labels": [
        "poly_and_center",
        "every_other",
        "2points_n_classes",
        "3points_n_classes"
       ],
       "description": "Mode:",
       "index": 1,
       "layout": "IPY_MODEL_9c7cc69208a74d18be16ffbf80557a29",
       "style": "IPY_MODEL_cb68ccb3867d488ca74888458841ed16"
      }
     },
     "504248b60ca94ba08895d0ab5e0eb882": {
      "model_module": "@jupyter-widgets/base",
      "model_module_version": "1.2.0",
      "model_name": "LayoutModel",
      "state": {}
     },
     "506e9add428a483db18b367010917635": {
      "model_module": "@jupyter-widgets/output",
      "model_module_version": "1.0.0",
      "model_name": "OutputModel",
      "state": {
       "layout": "IPY_MODEL_b155d79cde854a84968e530922968412"
      }
     },
     "5113308e5f304115b788152907ca13d3": {
      "model_module": "@jupyter-widgets/base",
      "model_module_version": "1.2.0",
      "model_name": "LayoutModel",
      "state": {}
     },
     "517d13b0b31548a692f0fcd9c2d40775": {
      "model_module": "@jupyter-widgets/controls",
      "model_module_version": "1.5.0",
      "model_name": "DescriptionStyleModel",
      "state": {
       "description_width": ""
      }
     },
     "5199a586edb24c30ac7e7bbfbfdc8bfb": {
      "model_module": "@jupyter-widgets/controls",
      "model_module_version": "1.5.0",
      "model_name": "SliderStyleModel",
      "state": {
       "description_width": ""
      }
     },
     "51d161f85aea4411baad428ff5038f1e": {
      "model_module": "@jupyter-widgets/base",
      "model_module_version": "1.2.0",
      "model_name": "LayoutModel",
      "state": {}
     },
     "52b17e5a008549dba9c5a2a0ab54b641": {
      "model_module": "@jupyter-widgets/controls",
      "model_module_version": "1.5.0",
      "model_name": "DescriptionStyleModel",
      "state": {
       "description_width": ""
      }
     },
     "52c49cac66b34e758901cca5b476ca29": {
      "model_module": "@jupyter-widgets/output",
      "model_module_version": "1.0.0",
      "model_name": "OutputModel",
      "state": {
       "layout": "IPY_MODEL_420278ec40fe4080a1a8163fb13201ec"
      }
     },
     "5379d0c43b24472a985586d87f3a4965": {
      "model_module": "@jupyter-widgets/controls",
      "model_module_version": "1.5.0",
      "model_name": "IntSliderModel",
      "state": {
       "continuous_update": false,
       "description": "zoom",
       "disabled": true,
       "layout": "IPY_MODEL_940e4903a7774f87b2596eb2e103999b",
       "max": 5,
       "min": -5,
       "style": "IPY_MODEL_5c09030212ff493f84049bfb1c9bfb41",
       "value": 5
      }
     },
     "542aab1f2a3642c29466b61d840c0450": {
      "model_module": "@jupyter-widgets/base",
      "model_module_version": "1.2.0",
      "model_name": "LayoutModel",
      "state": {}
     },
     "54643cf97be74483a266a76b1e65f7e3": {
      "model_module": "@jupyter-widgets/controls",
      "model_module_version": "1.5.0",
      "model_name": "IntSliderModel",
      "state": {
       "continuous_update": false,
       "description": "num_classes",
       "disabled": true,
       "layout": "IPY_MODEL_c8a35215954249e7a5e306af8d7700e6",
       "max": 24,
       "min": 1,
       "style": "IPY_MODEL_9677ae26a5f8429ca505614a0c2b57ef",
       "value": 8
      }
     },
     "550a3c1f45904aed857e8f28adf2ab6a": {
      "model_module": "@jupyter-widgets/controls",
      "model_module_version": "1.5.0",
      "model_name": "SliderStyleModel",
      "state": {
       "description_width": ""
      }
     },
     "563d68e7de7d46e394d3226aa0c32498": {
      "model_module": "@jupyter-widgets/controls",
      "model_module_version": "1.5.0",
      "model_name": "SliderStyleModel",
      "state": {
       "description_width": ""
      }
     },
     "5697c75d418e4169ac2f6977de0634d2": {
      "model_module": "@jupyter-widgets/controls",
      "model_module_version": "1.5.0",
      "model_name": "SliderStyleModel",
      "state": {
       "description_width": ""
      }
     },
     "569879ea9def40e696236684a8268aae": {
      "model_module": "@jupyter-widgets/base",
      "model_module_version": "1.2.0",
      "model_name": "LayoutModel",
      "state": {}
     },
     "5846caa706274cc59f708ecf321f2a10": {
      "model_module": "@jupyter-widgets/base",
      "model_module_version": "1.2.0",
      "model_name": "LayoutModel",
      "state": {}
     },
     "58ab936bb3e14cf19c3209afa80eaea0": {
      "model_module": "@jupyter-widgets/output",
      "model_module_version": "1.0.0",
      "model_name": "OutputModel",
      "state": {
       "layout": "IPY_MODEL_d4105f47852b4bbea3ac497c0091ce6f"
      }
     },
     "598a6fbe3dad46fbb0b8c5dc69c8e714": {
      "model_module": "@jupyter-widgets/controls",
      "model_module_version": "1.5.0",
      "model_name": "DescriptionStyleModel",
      "state": {
       "description_width": ""
      }
     },
     "59dc739b8839457c9c2e86c483afbe1c": {
      "model_module": "@jupyter-widgets/controls",
      "model_module_version": "1.5.0",
      "model_name": "IntSliderModel",
      "state": {
       "continuous_update": false,
       "description": "frame",
       "layout": "IPY_MODEL_6723b2e67d9b4ed4ac621548e6ae8304",
       "max": 60,
       "min": -60,
       "step": 10,
       "style": "IPY_MODEL_ed27f7c15ef047dcbb3fbf9682275cc9",
       "value": 10
      }
     },
     "59ea4cbb77ed49e4b9246b9f85e50533": {
      "model_module": "@jupyter-widgets/controls",
      "model_module_version": "1.5.0",
      "model_name": "TextModel",
      "state": {
       "description": "Filename:",
       "layout": "IPY_MODEL_ad6624461ae9442aa4f9ec0d67dc09f1",
       "placeholder": "image.png",
       "style": "IPY_MODEL_ef2a4617823b41b7ba0e1bb53005f5f7",
       "value": "image.png"
      }
     },
     "5a2919b23ef44239a628f58a2950a9fe": {
      "model_module": "@jupyter-widgets/controls",
      "model_module_version": "1.5.0",
      "model_name": "RadioButtonsModel",
      "state": {
       "_options_labels": [
        "Very Low",
        "Low",
        "Medium",
        "High",
        "Very High"
       ],
       "description": "Resolution:",
       "index": 2,
       "layout": "IPY_MODEL_7a565445aa824ed4a74f562218c9bd63",
       "style": "IPY_MODEL_7388ac401a124a5e91a61638cebd6a25"
      }
     },
     "5a69a439da504d31a101895e4834d3e2": {
      "model_module": "@jupyter-widgets/base",
      "model_module_version": "1.2.0",
      "model_name": "LayoutModel",
      "state": {}
     },
     "5ab1e6497eb84d02b3680a6838e4be8f": {
      "model_module": "@jupyter-widgets/base",
      "model_module_version": "1.2.0",
      "model_name": "LayoutModel",
      "state": {}
     },
     "5b31579438af4fe9af44677072f78dcf": {
      "model_module": "@jupyter-widgets/base",
      "model_module_version": "1.2.0",
      "model_name": "LayoutModel",
      "state": {
       "height": "350px"
      }
     },
     "5c09030212ff493f84049bfb1c9bfb41": {
      "model_module": "@jupyter-widgets/controls",
      "model_module_version": "1.5.0",
      "model_name": "SliderStyleModel",
      "state": {
       "description_width": ""
      }
     },
     "5c3cbc618c4543d7b074cbaf2911478c": {
      "model_module": "@jupyter-widgets/controls",
      "model_module_version": "1.5.0",
      "model_name": "TextModel",
      "state": {
       "description": "Filename:",
       "layout": "IPY_MODEL_2d6ebbf4539b4e6994e368cdc8c8f5db",
       "placeholder": "image.png",
       "style": "IPY_MODEL_517d13b0b31548a692f0fcd9c2d40775",
       "value": "image.png"
      }
     },
     "5d18fd1cdd254fb98f642b8d25199629": {
      "model_module": "@jupyter-widgets/controls",
      "model_module_version": "1.5.0",
      "model_name": "IntSliderModel",
      "state": {
       "continuous_update": false,
       "description": "frame",
       "layout": "IPY_MODEL_4d1c50d66e13485d854fd24e7ceb1330",
       "max": 60,
       "min": -60,
       "step": 10,
       "style": "IPY_MODEL_859e9d9eaf294aaebb65caa6d836dce6",
       "value": 10
      }
     },
     "5d4aa5a076e149b4b09aea89d8acc9a2": {
      "model_module": "@jupyter-widgets/controls",
      "model_module_version": "1.5.0",
      "model_name": "RadioButtonsModel",
      "state": {
       "_options_labels": [
        "Very Low",
        "Low",
        "Medium",
        "High",
        "Very High"
       ],
       "description": "Resolution:",
       "index": 2,
       "layout": "IPY_MODEL_b14a8ffa69d44189a8778dc8dcb0f3a8",
       "style": "IPY_MODEL_8a096222a0a04f168f87250e98d937c1"
      }
     },
     "5d7ff55557f241c7aab737935b0d74ae": {
      "model_module": "@jupyter-widgets/base",
      "model_module_version": "1.2.0",
      "model_name": "LayoutModel",
      "state": {}
     },
     "5e865e1b9bb24e0aa386818e21b76636": {
      "model_module": "@jupyter-widgets/controls",
      "model_module_version": "1.5.0",
      "model_name": "SliderStyleModel",
      "state": {
       "description_width": ""
      }
     },
     "5f1f60fe52dd4d01ae84d87b7b527556": {
      "model_module": "@jupyter-widgets/controls",
      "model_module_version": "1.5.0",
      "model_name": "SliderStyleModel",
      "state": {
       "description_width": ""
      }
     },
     "5f490ba4470e42c294a3413b2b420d53": {
      "model_module": "@jupyter-widgets/base",
      "model_module_version": "1.2.0",
      "model_name": "LayoutModel",
      "state": {}
     },
     "5f86d663f5c84f22bbf621711f2d4635": {
      "model_module": "@jupyter-widgets/base",
      "model_module_version": "1.2.0",
      "model_name": "LayoutModel",
      "state": {}
     },
     "60d0f2f2cbf844c4a14856a897f591cc": {
      "model_module": "@jupyter-widgets/controls",
      "model_module_version": "1.5.0",
      "model_name": "SliderStyleModel",
      "state": {
       "description_width": ""
      }
     },
     "60d1a3bff5b147c4b6b3cc1b9455c61e": {
      "model_module": "@jupyter-widgets/controls",
      "model_module_version": "1.5.0",
      "model_name": "DescriptionStyleModel",
      "state": {
       "description_width": ""
      }
     },
     "62299593b62b48da80cec856c160c0b7": {
      "model_module": "@jupyter-widgets/base",
      "model_module_version": "1.2.0",
      "model_name": "LayoutModel",
      "state": {}
     },
     "6235c85a5a074020b95b2b7b9b88437e": {
      "model_module": "@jupyter-widgets/controls",
      "model_module_version": "1.5.0",
      "model_name": "SliderStyleModel",
      "state": {
       "description_width": ""
      }
     },
     "630d2534ffb047529777a45129e542bf": {
      "model_module": "@jupyter-widgets/controls",
      "model_module_version": "1.5.0",
      "model_name": "IntSliderModel",
      "state": {
       "continuous_update": false,
       "description": "zoom",
       "disabled": true,
       "layout": "IPY_MODEL_1f206444ddc54523b41ae62eda2c2b08",
       "max": 5,
       "min": -5,
       "style": "IPY_MODEL_24666321686b498dbe12db630f6c5017",
       "value": 5
      }
     },
     "6413eb8c130f4313aca73647d7792d0c": {
      "model_module": "@jupyter-widgets/controls",
      "model_module_version": "1.5.0",
      "model_name": "DescriptionStyleModel",
      "state": {
       "description_width": ""
      }
     },
     "646bd33f23e9494bbeb9f51e4453e846": {
      "model_module": "@jupyter-widgets/base",
      "model_module_version": "1.2.0",
      "model_name": "LayoutModel",
      "state": {
       "height": "350px"
      }
     },
     "64cde2ef0e4f4e2dab6b9b3fc80bf447": {
      "model_module": "@jupyter-widgets/controls",
      "model_module_version": "1.5.0",
      "model_name": "TextModel",
      "state": {
       "description": "Filename:",
       "layout": "IPY_MODEL_025a4d00c9c1494b86f11d581f1ae53e",
       "placeholder": "image.png",
       "style": "IPY_MODEL_02a6f2d1539b4ce7b32ea24c923b8664",
       "value": "image.png"
      }
     },
     "650b80a9bb134f01bb619aa628da0a95": {
      "model_module": "@jupyter-widgets/controls",
      "model_module_version": "1.5.0",
      "model_name": "DescriptionStyleModel",
      "state": {
       "description_width": ""
      }
     },
     "65b1ff06e66a4440a2adff77cc68db75": {
      "model_module": "@jupyter-widgets/controls",
      "model_module_version": "1.5.0",
      "model_name": "DescriptionStyleModel",
      "state": {
       "description_width": ""
      }
     },
     "66c539b6e79f4a13a42405f56d17e026": {
      "model_module": "@jupyter-widgets/base",
      "model_module_version": "1.2.0",
      "model_name": "LayoutModel",
      "state": {}
     },
     "66de3b25a49649098d4510a7ffcd77a7": {
      "model_module": "@jupyter-widgets/controls",
      "model_module_version": "1.5.0",
      "model_name": "TextModel",
      "state": {
       "description": "Filename:",
       "layout": "IPY_MODEL_e49c0f8a80ff49988abff2cf952a3755",
       "placeholder": "image.png",
       "style": "IPY_MODEL_7dc7f1e337b843a28e0c4fa70ff4f78c",
       "value": "image.png"
      }
     },
     "66ea9403a7f4427197c708146e6ae8e0": {
      "model_module": "@jupyter-widgets/output",
      "model_module_version": "1.0.0",
      "model_name": "OutputModel",
      "state": {
       "layout": "IPY_MODEL_a3b69459bd094f1a816c44413b2fe3bc"
      }
     },
     "6723b2e67d9b4ed4ac621548e6ae8304": {
      "model_module": "@jupyter-widgets/base",
      "model_module_version": "1.2.0",
      "model_name": "LayoutModel",
      "state": {}
     },
     "6767512fd20247689c08fcb421fa2969": {
      "model_module": "@jupyter-widgets/base",
      "model_module_version": "1.2.0",
      "model_name": "LayoutModel",
      "state": {}
     },
     "67bcd54a399b4f8097a49b724ccc3a66": {
      "model_module": "@jupyter-widgets/base",
      "model_module_version": "1.2.0",
      "model_name": "LayoutModel",
      "state": {}
     },
     "689871b80fa8414293843bf0654f15db": {
      "model_module": "@jupyter-widgets/controls",
      "model_module_version": "1.5.0",
      "model_name": "ButtonStyleModel",
      "state": {}
     },
     "6a7c43a69aef44198e4addccfec07998": {
      "model_module": "@jupyter-widgets/base",
      "model_module_version": "1.2.0",
      "model_name": "LayoutModel",
      "state": {}
     },
     "6a905c1416ac481da4eb2c5a024da223": {
      "model_module": "@jupyter-widgets/controls",
      "model_module_version": "1.5.0",
      "model_name": "DescriptionStyleModel",
      "state": {
       "description_width": ""
      }
     },
     "6aacc601fc124f71a2870979fe97fda1": {
      "model_module": "@jupyter-widgets/controls",
      "model_module_version": "1.5.0",
      "model_name": "SliderStyleModel",
      "state": {
       "description_width": ""
      }
     },
     "6b130968476f434b9d43cc62c9bcebe2": {
      "model_module": "@jupyter-widgets/controls",
      "model_module_version": "1.5.0",
      "model_name": "DropdownModel",
      "state": {
       "_options_labels": [
        "poly_and_center",
        "every_other",
        "2points_n_classes",
        "3points_n_classes"
       ],
       "description": "Mode:",
       "index": 2,
       "layout": "IPY_MODEL_cd1c909f7f324b85ac08c7fdb12927fe",
       "style": "IPY_MODEL_0d2a8114948644aaab36e01e84f0d6e4"
      }
     },
     "6c5ae7b80b9d415a962ba478350ad124": {
      "model_module": "@jupyter-widgets/base",
      "model_module_version": "1.2.0",
      "model_name": "LayoutModel",
      "state": {}
     },
     "6ce08dbbb9b24df49e682ba08c748bac": {
      "model_module": "@jupyter-widgets/output",
      "model_module_version": "1.0.0",
      "model_name": "OutputModel",
      "state": {
       "layout": "IPY_MODEL_dda0d290e3914021ae6ab2526e6ae98c"
      }
     },
     "6eccd509a8954c458f38f5a347b9d12f": {
      "model_module": "@jupyter-widgets/controls",
      "model_module_version": "1.5.0",
      "model_name": "IntSliderModel",
      "state": {
       "continuous_update": false,
       "description": "zoom",
       "disabled": true,
       "layout": "IPY_MODEL_8741b5bd4bf04276b15657b96656369c",
       "max": 5,
       "min": -5,
       "style": "IPY_MODEL_5e865e1b9bb24e0aa386818e21b76636",
       "value": 5
      }
     },
     "6f2b147a025b442987a11e4b9d8395c2": {
      "model_module": "@jupyter-widgets/controls",
      "model_module_version": "1.5.0",
      "model_name": "IntSliderModel",
      "state": {
       "continuous_update": false,
       "description": "num_classes",
       "disabled": true,
       "layout": "IPY_MODEL_edd3721f07d84e1ba8b014e8232640df",
       "max": 24,
       "min": 1,
       "style": "IPY_MODEL_8cdf60c21c60455fac0305607e244d73",
       "value": 8
      }
     },
     "70ad8e4661464edcb751a5c6a0c3360b": {
      "model_module": "@jupyter-widgets/base",
      "model_module_version": "1.2.0",
      "model_name": "LayoutModel",
      "state": {}
     },
     "70c564dd43de4399aa5585778755c9a9": {
      "model_module": "@jupyter-widgets/controls",
      "model_module_version": "1.5.0",
      "model_name": "SliderStyleModel",
      "state": {
       "description_width": ""
      }
     },
     "70f854fb38e44187837263d6f09e7487": {
      "model_module": "@jupyter-widgets/controls",
      "model_module_version": "1.5.0",
      "model_name": "DescriptionStyleModel",
      "state": {
       "description_width": ""
      }
     },
     "71413c28cdc44131b2216f5de306f959": {
      "model_module": "@jupyter-widgets/controls",
      "model_module_version": "1.5.0",
      "model_name": "DescriptionStyleModel",
      "state": {
       "description_width": ""
      }
     },
     "7197062e7b294552a7dd04377fd5949c": {
      "model_module": "@jupyter-widgets/base",
      "model_module_version": "1.2.0",
      "model_name": "LayoutModel",
      "state": {}
     },
     "71c9795075104401b4c75ab28a2b1bc4": {
      "model_module": "@jupyter-widgets/controls",
      "model_module_version": "1.5.0",
      "model_name": "VBoxModel",
      "state": {
       "_dom_classes": [
        "widget-interact"
       ],
       "children": [
        "IPY_MODEL_d9f0a51faff24f84889d36d5cd085776",
        "IPY_MODEL_f7eae17659284565ac272322f4418936",
        "IPY_MODEL_106ea0c847ba4ec4ab02590af717e513",
        "IPY_MODEL_0ad3cfcd96f7451b845f3d064994c522",
        "IPY_MODEL_aa9ed39ed1cc401bab5ee0e0704d049b",
        "IPY_MODEL_45768a1de72348f49459e82a26fb3a05",
        "IPY_MODEL_caf500af7f104ad2b924bab70c3c11bb",
        "IPY_MODEL_8a475dd82dda4380b7cdd55fca2334a7"
       ],
       "layout": "IPY_MODEL_5846caa706274cc59f708ecf321f2a10"
      }
     },
     "72d6ffab2f0d4aafb671f624beebf9f4": {
      "model_module": "@jupyter-widgets/output",
      "model_module_version": "1.0.0",
      "model_name": "OutputModel",
      "state": {
       "layout": "IPY_MODEL_dd09634f590d4fb3aad8465a477323f5"
      }
     },
     "72f2db47245e49c4be24ac9f4ad10dcb": {
      "model_module": "@jupyter-widgets/base",
      "model_module_version": "1.2.0",
      "model_name": "LayoutModel",
      "state": {}
     },
     "7379878c62904aaf81655be94bfa28aa": {
      "model_module": "@jupyter-widgets/base",
      "model_module_version": "1.2.0",
      "model_name": "LayoutModel",
      "state": {}
     },
     "7388ac401a124a5e91a61638cebd6a25": {
      "model_module": "@jupyter-widgets/controls",
      "model_module_version": "1.5.0",
      "model_name": "DescriptionStyleModel",
      "state": {
       "description_width": ""
      }
     },
     "73afda1d91d94614926d26f02b27ce9c": {
      "model_module": "@jupyter-widgets/controls",
      "model_module_version": "1.5.0",
      "model_name": "ButtonStyleModel",
      "state": {}
     },
     "740c73aecf704938a13d31e2bbe6a517": {
      "model_module": "@jupyter-widgets/controls",
      "model_module_version": "1.5.0",
      "model_name": "DescriptionStyleModel",
      "state": {
       "description_width": ""
      }
     },
     "7439e7c668794e0d890ac826a4cca73b": {
      "model_module": "@jupyter-widgets/controls",
      "model_module_version": "1.5.0",
      "model_name": "IntSliderModel",
      "state": {
       "continuous_update": false,
       "description": "num_classes",
       "disabled": true,
       "layout": "IPY_MODEL_a4e120e10f1c4c24ad884e35845abd9c",
       "max": 24,
       "min": 1,
       "style": "IPY_MODEL_b2c52a7d43ce4fc6a1f2e7b37fe9feeb",
       "value": 8
      }
     },
     "753fc1d4bc2e493cb6153e17319338f3": {
      "model_module": "@jupyter-widgets/base",
      "model_module_version": "1.2.0",
      "model_name": "LayoutModel",
      "state": {}
     },
     "756fd2b0f9d2442bbc80998274eaae9a": {
      "model_module": "@jupyter-widgets/controls",
      "model_module_version": "1.5.0",
      "model_name": "ButtonModel",
      "state": {
       "description": "Save image",
       "layout": "IPY_MODEL_809493b290eb4882ac07cbb2320b1a3d",
       "style": "IPY_MODEL_c5bdad07ebab4af480d2e9307e03b2eb"
      }
     },
     "759095f67ccd4beab1b1d5712f2b1598": {
      "model_module": "@jupyter-widgets/base",
      "model_module_version": "1.2.0",
      "model_name": "LayoutModel",
      "state": {}
     },
     "75cb3384f4ba451aad7a038c83e85992": {
      "model_module": "@jupyter-widgets/base",
      "model_module_version": "1.2.0",
      "model_name": "LayoutModel",
      "state": {}
     },
     "76a60d2f7e3a49d08b26515534d81024": {
      "model_module": "@jupyter-widgets/controls",
      "model_module_version": "1.5.0",
      "model_name": "ButtonModel",
      "state": {
       "description": "Save image",
       "layout": "IPY_MODEL_fc6ea7dbd3bb469dbdcd7e109fce94b9",
       "style": "IPY_MODEL_41ac8d43355a48c9aef561a51fef5473"
      }
     },
     "7743d9b4bb9349e78035cc9b57f8e42f": {
      "model_module": "@jupyter-widgets/controls",
      "model_module_version": "1.5.0",
      "model_name": "SliderStyleModel",
      "state": {
       "description_width": ""
      }
     },
     "78a96179272b49829ad2b633f092c26a": {
      "model_module": "@jupyter-widgets/controls",
      "model_module_version": "1.5.0",
      "model_name": "ButtonModel",
      "state": {
       "description": "Save image",
       "layout": "IPY_MODEL_187f56e973f94e5d8ad9b3b98cb20aca",
       "style": "IPY_MODEL_689871b80fa8414293843bf0654f15db"
      }
     },
     "795e916fbaa34789bc6d42d2544859d7": {
      "model_module": "@jupyter-widgets/controls",
      "model_module_version": "1.5.0",
      "model_name": "DescriptionStyleModel",
      "state": {
       "description_width": ""
      }
     },
     "7a565445aa824ed4a74f562218c9bd63": {
      "model_module": "@jupyter-widgets/base",
      "model_module_version": "1.2.0",
      "model_name": "LayoutModel",
      "state": {}
     },
     "7a98d7650dab4d50a57664015add566d": {
      "model_module": "@jupyter-widgets/controls",
      "model_module_version": "1.5.0",
      "model_name": "IntSliderModel",
      "state": {
       "continuous_update": false,
       "description": "num_points",
       "layout": "IPY_MODEL_759095f67ccd4beab1b1d5712f2b1598",
       "max": 12,
       "min": 4,
       "style": "IPY_MODEL_4d2c2a828da44d98806178aec31f7ef8",
       "value": 4
      }
     },
     "7ad041c432dd4a3faf29872b99277bce": {
      "model_module": "@jupyter-widgets/base",
      "model_module_version": "1.2.0",
      "model_name": "LayoutModel",
      "state": {}
     },
     "7dc7f1e337b843a28e0c4fa70ff4f78c": {
      "model_module": "@jupyter-widgets/controls",
      "model_module_version": "1.5.0",
      "model_name": "DescriptionStyleModel",
      "state": {
       "description_width": ""
      }
     },
     "7f3de45af001495eb6b873f1bea58a04": {
      "model_module": "@jupyter-widgets/controls",
      "model_module_version": "1.5.0",
      "model_name": "IntSliderModel",
      "state": {
       "continuous_update": false,
       "description": "num_classes",
       "disabled": true,
       "layout": "IPY_MODEL_ad1abe60855241fd9bceb2e0faf034e0",
       "max": 24,
       "min": 1,
       "style": "IPY_MODEL_e115403c7aaf40de9f246cc9826a891b",
       "value": 8
      }
     },
     "7f6b8d69fdac4a67af4bdf60d28c64dc": {
      "model_module": "@jupyter-widgets/controls",
      "model_module_version": "1.5.0",
      "model_name": "ButtonModel",
      "state": {
       "description": "Save image",
       "layout": "IPY_MODEL_b6ec49e52ae1410bbfe8c494033b90cd",
       "style": "IPY_MODEL_4b7aa7ed821140599e844b76f930808e"
      }
     },
     "7f859b529297436c8a8d72b4b706e2fc": {
      "model_module": "@jupyter-widgets/output",
      "model_module_version": "1.0.0",
      "model_name": "OutputModel",
      "state": {
       "layout": "IPY_MODEL_a84b51eb57ad43efb6a56c7bd5c6266b"
      }
     },
     "7f9e78cc68544adda02de7fc092f056d": {
      "model_module": "@jupyter-widgets/base",
      "model_module_version": "1.2.0",
      "model_name": "LayoutModel",
      "state": {}
     },
     "809493b290eb4882ac07cbb2320b1a3d": {
      "model_module": "@jupyter-widgets/base",
      "model_module_version": "1.2.0",
      "model_name": "LayoutModel",
      "state": {}
     },
     "81176380c4174e14b764da7efd13beda": {
      "model_module": "@jupyter-widgets/base",
      "model_module_version": "1.2.0",
      "model_name": "LayoutModel",
      "state": {}
     },
     "81c6f84f791340b18125bc07c263e9e0": {
      "model_module": "@jupyter-widgets/controls",
      "model_module_version": "1.5.0",
      "model_name": "ButtonModel",
      "state": {
       "description": "Save image",
       "layout": "IPY_MODEL_f7e6a505a68e4f4f801787e6a8a0a8e2",
       "style": "IPY_MODEL_9439f526da50431887347fbf18a1b3c7"
      }
     },
     "82ddcd7774044c02bc9792e91b7f8a6e": {
      "model_module": "@jupyter-widgets/controls",
      "model_module_version": "1.5.0",
      "model_name": "DropdownModel",
      "state": {
       "_options_labels": [
        "poly_and_center",
        "every_other",
        "2points_n_classes",
        "3points_n_classes"
       ],
       "description": "Mode:",
       "index": 1,
       "layout": "IPY_MODEL_16f0762b2e864ff5abca381fc81d29a8",
       "style": "IPY_MODEL_0e91b512510f4094aa3cc18f31c0b2a0"
      }
     },
     "82eb7921ae904fd7aa03c9ffdba95969": {
      "model_module": "@jupyter-widgets/base",
      "model_module_version": "1.2.0",
      "model_name": "LayoutModel",
      "state": {}
     },
     "834953fa9e3f4d75bf2d595bee71c20e": {
      "model_module": "@jupyter-widgets/base",
      "model_module_version": "1.2.0",
      "model_name": "LayoutModel",
      "state": {}
     },
     "8381e71f4b30442d9004307513418618": {
      "model_module": "@jupyter-widgets/controls",
      "model_module_version": "1.5.0",
      "model_name": "DescriptionStyleModel",
      "state": {
       "description_width": ""
      }
     },
     "84583671c64d4613a6fc953a2d04fcb5": {
      "model_module": "@jupyter-widgets/controls",
      "model_module_version": "1.5.0",
      "model_name": "VBoxModel",
      "state": {
       "_dom_classes": [
        "widget-interact"
       ],
       "children": [
        "IPY_MODEL_a6a82ea3026c4243994cdbf50c7a522c",
        "IPY_MODEL_08efd1778b2c46febb5eb62067994032",
        "IPY_MODEL_9ada6b96f6ac42299c3d4ca7db381550",
        "IPY_MODEL_9268ea74e77649beb306d96dd0db4fcf",
        "IPY_MODEL_ca5f83291343454aa7f7f938084f89c6",
        "IPY_MODEL_5379d0c43b24472a985586d87f3a4965",
        "IPY_MODEL_64cde2ef0e4f4e2dab6b9b3fc80bf447",
        "IPY_MODEL_e4bbe30cffcb4c01a165c0c43637b07f"
       ],
       "layout": "IPY_MODEL_70ad8e4661464edcb751a5c6a0c3360b"
      }
     },
     "84946cbe3077401cb5faf2bae3b4cedd": {
      "model_module": "@jupyter-widgets/output",
      "model_module_version": "1.0.0",
      "model_name": "OutputModel",
      "state": {
       "layout": "IPY_MODEL_a7dc0e5eb8c74954bce60c3c37fb5b9b"
      }
     },
     "859e9d9eaf294aaebb65caa6d836dce6": {
      "model_module": "@jupyter-widgets/controls",
      "model_module_version": "1.5.0",
      "model_name": "SliderStyleModel",
      "state": {
       "description_width": ""
      }
     },
     "85c243d4ef57465a9613cbc3edd6e27d": {
      "model_module": "@jupyter-widgets/controls",
      "model_module_version": "1.5.0",
      "model_name": "SliderStyleModel",
      "state": {
       "description_width": ""
      }
     },
     "870f976359d64df5b27a612be1d7a760": {
      "model_module": "@jupyter-widgets/base",
      "model_module_version": "1.2.0",
      "model_name": "LayoutModel",
      "state": {}
     },
     "8711481de24e4f898c85d905ac2f8484": {
      "model_module": "@jupyter-widgets/base",
      "model_module_version": "1.2.0",
      "model_name": "LayoutModel",
      "state": {}
     },
     "8741b5bd4bf04276b15657b96656369c": {
      "model_module": "@jupyter-widgets/base",
      "model_module_version": "1.2.0",
      "model_name": "LayoutModel",
      "state": {}
     },
     "8779afae79df4f01ba9613d8628190af": {
      "model_module": "@jupyter-widgets/controls",
      "model_module_version": "1.5.0",
      "model_name": "IntSliderModel",
      "state": {
       "continuous_update": false,
       "description": "zoom",
       "disabled": true,
       "layout": "IPY_MODEL_b04937f8a0dc46c090a4479daa038594",
       "max": 5,
       "min": -5,
       "style": "IPY_MODEL_28af8abfdab34476b6e47f98bb7aaa69",
       "value": 5
      }
     },
     "880f1a1773344a5da1401aa40c7ef924": {
      "model_module": "@jupyter-widgets/controls",
      "model_module_version": "1.5.0",
      "model_name": "VBoxModel",
      "state": {
       "_dom_classes": [
        "widget-interact"
       ],
       "children": [
        "IPY_MODEL_e74e962f0f68489fab028f3cff302a0d",
        "IPY_MODEL_7a98d7650dab4d50a57664015add566d",
        "IPY_MODEL_6f2b147a025b442987a11e4b9d8395c2",
        "IPY_MODEL_b3af0e40f1f44871885243f8761c75ef",
        "IPY_MODEL_4ff71ffc1a3349b29e8984ebd08049b9",
        "IPY_MODEL_9bb913b034b6496b8477022cc2ca579a",
        "IPY_MODEL_0363f7d404714500af9ab37ac2f4e1bd",
        "IPY_MODEL_dd6f9965bddb4ec4988accf41cd0af66"
       ],
       "layout": "IPY_MODEL_6a7c43a69aef44198e4addccfec07998"
      }
     },
     "89ed37fa51ca4df8accd5c32c6e185ba": {
      "model_module": "@jupyter-widgets/controls",
      "model_module_version": "1.5.0",
      "model_name": "SliderStyleModel",
      "state": {
       "description_width": ""
      }
     },
     "89f1ec10bd5942d58db5bc160307b0f4": {
      "model_module": "@jupyter-widgets/output",
      "model_module_version": "1.0.0",
      "model_name": "OutputModel",
      "state": {
       "layout": "IPY_MODEL_8fe592f5e6924ed29501131a88f7b966"
      }
     },
     "8a096222a0a04f168f87250e98d937c1": {
      "model_module": "@jupyter-widgets/controls",
      "model_module_version": "1.5.0",
      "model_name": "DescriptionStyleModel",
      "state": {
       "description_width": ""
      }
     },
     "8a185b02db664820a56affda26f193c9": {
      "model_module": "@jupyter-widgets/base",
      "model_module_version": "1.2.0",
      "model_name": "LayoutModel",
      "state": {}
     },
     "8a2ef60c384340d789d09de6dddd348a": {
      "model_module": "@jupyter-widgets/base",
      "model_module_version": "1.2.0",
      "model_name": "LayoutModel",
      "state": {}
     },
     "8a3845779ed14e0da480a090c0547adc": {
      "model_module": "@jupyter-widgets/controls",
      "model_module_version": "1.5.0",
      "model_name": "VBoxModel",
      "state": {
       "_dom_classes": [
        "widget-interact"
       ],
       "children": [
        "IPY_MODEL_47d3794697844ea9b3033d8a97f9db48",
        "IPY_MODEL_456eb002d05848a89e6fb5156b60a97c",
        "IPY_MODEL_978f598e949d4cb59f51627771adf4eb",
        "IPY_MODEL_82ddcd7774044c02bc9792e91b7f8a6e",
        "IPY_MODEL_f1256990b95d465489453e8ea637bf43",
        "IPY_MODEL_9143e5ed8e1744a3bb85df138f8799ad",
        "IPY_MODEL_ac25e95194364777bedff480745c94cd",
        "IPY_MODEL_32b0af7b7d794860b5790e32b1e1b44e"
       ],
       "layout": "IPY_MODEL_a76a6d920dd2464c8807b354fc70eeb5"
      }
     },
     "8a3ff2ebd512400a9b79212430c1f6f1": {
      "model_module": "@jupyter-widgets/controls",
      "model_module_version": "1.5.0",
      "model_name": "DescriptionStyleModel",
      "state": {
       "description_width": ""
      }
     },
     "8a475dd82dda4380b7cdd55fca2334a7": {
      "model_module": "@jupyter-widgets/output",
      "model_module_version": "1.0.0",
      "model_name": "OutputModel",
      "state": {
       "layout": "IPY_MODEL_b242ab3538fb4836afee10004210431e"
      }
     },
     "8a552da9ddba480c8c8921d2dafdd750": {
      "model_module": "@jupyter-widgets/base",
      "model_module_version": "1.2.0",
      "model_name": "LayoutModel",
      "state": {
       "height": "350px"
      }
     },
     "8ad51d181a364a68b867b4991573af63": {
      "model_module": "@jupyter-widgets/output",
      "model_module_version": "1.0.0",
      "model_name": "OutputModel",
      "state": {
       "layout": "IPY_MODEL_394cff04415944249c682bdb1e7783b5"
      }
     },
     "8ad6cbc5d50448a5a524de7d508024cb": {
      "model_module": "@jupyter-widgets/controls",
      "model_module_version": "1.5.0",
      "model_name": "DescriptionStyleModel",
      "state": {
       "description_width": ""
      }
     },
     "8b0e8b2dc4464ef6b8d0cba0d7d90972": {
      "model_module": "@jupyter-widgets/controls",
      "model_module_version": "1.5.0",
      "model_name": "SliderStyleModel",
      "state": {
       "description_width": ""
      }
     },
     "8bcdb893db674b759be457b82c9b9829": {
      "model_module": "@jupyter-widgets/controls",
      "model_module_version": "1.5.0",
      "model_name": "SliderStyleModel",
      "state": {
       "description_width": ""
      }
     },
     "8c63f87ba9c145049ae7e92a7b2e4665": {
      "model_module": "@jupyter-widgets/base",
      "model_module_version": "1.2.0",
      "model_name": "LayoutModel",
      "state": {}
     },
     "8c9ad17af7f8439fbfe9c02d13aa04b0": {
      "model_module": "@jupyter-widgets/controls",
      "model_module_version": "1.5.0",
      "model_name": "TextModel",
      "state": {
       "description": "Filename:",
       "layout": "IPY_MODEL_06a4e4290b5546aba03a2b9a61131d22",
       "placeholder": "image.png",
       "style": "IPY_MODEL_df86414ea8f74e82bae06ae03501aaa8",
       "value": "image.png"
      }
     },
     "8cdf60c21c60455fac0305607e244d73": {
      "model_module": "@jupyter-widgets/controls",
      "model_module_version": "1.5.0",
      "model_name": "SliderStyleModel",
      "state": {
       "description_width": ""
      }
     },
     "8f6bbc1543334d55a4032ea26a2e31d9": {
      "model_module": "@jupyter-widgets/controls",
      "model_module_version": "1.5.0",
      "model_name": "SliderStyleModel",
      "state": {
       "description_width": ""
      }
     },
     "8fe592f5e6924ed29501131a88f7b966": {
      "model_module": "@jupyter-widgets/base",
      "model_module_version": "1.2.0",
      "model_name": "LayoutModel",
      "state": {}
     },
     "90cb6cf3e90a4d2693d36e3ec1f8b650": {
      "model_module": "@jupyter-widgets/controls",
      "model_module_version": "1.5.0",
      "model_name": "ButtonModel",
      "state": {
       "description": "Save image",
       "layout": "IPY_MODEL_b1e42048b66e41b58ebac671dc2cf497",
       "style": "IPY_MODEL_38f7705d731a487ea9b20636c27e313b"
      }
     },
     "90ed935a84ca4e839091152866e56897": {
      "model_module": "@jupyter-widgets/controls",
      "model_module_version": "1.5.0",
      "model_name": "SliderStyleModel",
      "state": {
       "description_width": ""
      }
     },
     "9143e5ed8e1744a3bb85df138f8799ad": {
      "model_module": "@jupyter-widgets/controls",
      "model_module_version": "1.5.0",
      "model_name": "IntSliderModel",
      "state": {
       "continuous_update": false,
       "description": "zoom",
       "disabled": true,
       "layout": "IPY_MODEL_ff1ebbb9593045a1bb76751be453e232",
       "max": 5,
       "min": -5,
       "style": "IPY_MODEL_563d68e7de7d46e394d3226aa0c32498",
       "value": 5
      }
     },
     "9268ea74e77649beb306d96dd0db4fcf": {
      "model_module": "@jupyter-widgets/controls",
      "model_module_version": "1.5.0",
      "model_name": "DropdownModel",
      "state": {
       "_options_labels": [
        "poly_and_center",
        "every_other",
        "2points_n_classes",
        "3points_n_classes"
       ],
       "description": "Mode:",
       "index": 1,
       "layout": "IPY_MODEL_3149a2679c3b4b5dbabbb2adc6745163",
       "style": "IPY_MODEL_ccf2c7ebd9164dd0b38afd89d41e9dd1"
      }
     },
     "9371059fc5574ed9aa791a7328fad5ff": {
      "model_module": "@jupyter-widgets/base",
      "model_module_version": "1.2.0",
      "model_name": "LayoutModel",
      "state": {}
     },
     "940e4903a7774f87b2596eb2e103999b": {
      "model_module": "@jupyter-widgets/base",
      "model_module_version": "1.2.0",
      "model_name": "LayoutModel",
      "state": {}
     },
     "9439f526da50431887347fbf18a1b3c7": {
      "model_module": "@jupyter-widgets/controls",
      "model_module_version": "1.5.0",
      "model_name": "ButtonStyleModel",
      "state": {}
     },
     "95e782cbb7374cb397b0167b8c35d720": {
      "model_module": "@jupyter-widgets/controls",
      "model_module_version": "1.5.0",
      "model_name": "ButtonModel",
      "state": {
       "description": "Save image",
       "layout": "IPY_MODEL_504248b60ca94ba08895d0ab5e0eb882",
       "style": "IPY_MODEL_73afda1d91d94614926d26f02b27ce9c"
      }
     },
     "960c21bd1211411db8533335167fc7e9": {
      "model_module": "@jupyter-widgets/controls",
      "model_module_version": "1.5.0",
      "model_name": "DescriptionStyleModel",
      "state": {
       "description_width": ""
      }
     },
     "9677ae26a5f8429ca505614a0c2b57ef": {
      "model_module": "@jupyter-widgets/controls",
      "model_module_version": "1.5.0",
      "model_name": "SliderStyleModel",
      "state": {
       "description_width": ""
      }
     },
     "978f598e949d4cb59f51627771adf4eb": {
      "model_module": "@jupyter-widgets/controls",
      "model_module_version": "1.5.0",
      "model_name": "IntSliderModel",
      "state": {
       "continuous_update": false,
       "description": "num_classes",
       "disabled": true,
       "layout": "IPY_MODEL_c47002ac350347f98373b962485ce099",
       "max": 24,
       "min": 1,
       "style": "IPY_MODEL_70c564dd43de4399aa5585778755c9a9",
       "value": 8
      }
     },
     "98b640dc17af4dbca7ce1c0ee27ccdaf": {
      "model_module": "@jupyter-widgets/output",
      "model_module_version": "1.0.0",
      "model_name": "OutputModel",
      "state": {
       "layout": "IPY_MODEL_0a264ea52df54329a8c66cb5f38bd5b1"
      }
     },
     "98b8bc679ad74cf6baa7b5312b7bb19c": {
      "model_module": "@jupyter-widgets/controls",
      "model_module_version": "1.5.0",
      "model_name": "IntSliderModel",
      "state": {
       "continuous_update": false,
       "description": "num_points",
       "layout": "IPY_MODEL_0355885167d7484fa86980cdcd099aad",
       "max": 12,
       "min": 4,
       "style": "IPY_MODEL_2a9225dfc57a494b97aa7b9d7227e8ed",
       "value": 4
      }
     },
     "98eaa6ea82e04a4cb4796ac542c7b26c": {
      "model_module": "@jupyter-widgets/base",
      "model_module_version": "1.2.0",
      "model_name": "LayoutModel",
      "state": {}
     },
     "9ada6b96f6ac42299c3d4ca7db381550": {
      "model_module": "@jupyter-widgets/controls",
      "model_module_version": "1.5.0",
      "model_name": "IntSliderModel",
      "state": {
       "continuous_update": false,
       "description": "num_classes",
       "disabled": true,
       "layout": "IPY_MODEL_fad33eef822f4725831ad721575da14d",
       "max": 24,
       "min": 1,
       "style": "IPY_MODEL_8f6bbc1543334d55a4032ea26a2e31d9",
       "value": 8
      }
     },
     "9b0a8dc02e1f412f8e4755e768874ca7": {
      "model_module": "@jupyter-widgets/controls",
      "model_module_version": "1.5.0",
      "model_name": "RadioButtonsModel",
      "state": {
       "_options_labels": [
        "Very Low",
        "Low",
        "Medium",
        "High",
        "Very High"
       ],
       "description": "Resolution:",
       "index": 2,
       "layout": "IPY_MODEL_ba2a29032ffb428ebdedb68719f7eb81",
       "style": "IPY_MODEL_b0985378c620426dbaf7a38d1d36124c"
      }
     },
     "9bace9b711a240d28c3ddfd06c488667": {
      "model_module": "@jupyter-widgets/controls",
      "model_module_version": "1.5.0",
      "model_name": "DescriptionStyleModel",
      "state": {
       "description_width": ""
      }
     },
     "9bb913b034b6496b8477022cc2ca579a": {
      "model_module": "@jupyter-widgets/controls",
      "model_module_version": "1.5.0",
      "model_name": "IntSliderModel",
      "state": {
       "continuous_update": false,
       "description": "zoom",
       "disabled": true,
       "layout": "IPY_MODEL_7197062e7b294552a7dd04377fd5949c",
       "max": 5,
       "min": -5,
       "style": "IPY_MODEL_06933a8750d84eb38f7ff6d693031b77",
       "value": 5
      }
     },
     "9c7cc69208a74d18be16ffbf80557a29": {
      "model_module": "@jupyter-widgets/base",
      "model_module_version": "1.2.0",
      "model_name": "LayoutModel",
      "state": {}
     },
     "9d19e1518abd4b5e96c0ffe52f9f31f2": {
      "model_module": "@jupyter-widgets/controls",
      "model_module_version": "1.5.0",
      "model_name": "DropdownModel",
      "state": {
       "_options_labels": [
        "poly_and_center",
        "every_other",
        "2points_n_classes",
        "3points_n_classes"
       ],
       "description": "Mode:",
       "index": 1,
       "layout": "IPY_MODEL_3c8c4fd405d24c8f91a0b43704677cf5",
       "style": "IPY_MODEL_1dec1054b3364a24b5ae775fceb186f1"
      }
     },
     "9dc7263effa2453d88122b7ca08cfd77": {
      "model_module": "@jupyter-widgets/controls",
      "model_module_version": "1.5.0",
      "model_name": "SliderStyleModel",
      "state": {
       "description_width": ""
      }
     },
     "9e989e9d356a4b57b9bf684f294d6c44": {
      "model_module": "@jupyter-widgets/base",
      "model_module_version": "1.2.0",
      "model_name": "LayoutModel",
      "state": {}
     },
     "9f30a17bfac54334b66e60c3db24cbce": {
      "model_module": "@jupyter-widgets/controls",
      "model_module_version": "1.5.0",
      "model_name": "SliderStyleModel",
      "state": {
       "description_width": ""
      }
     },
     "a062cf1414b348819c1e9f711a6e95f5": {
      "model_module": "@jupyter-widgets/base",
      "model_module_version": "1.2.0",
      "model_name": "LayoutModel",
      "state": {}
     },
     "a0d4b109450c4ac2a80d74e800ab1830": {
      "model_module": "@jupyter-widgets/controls",
      "model_module_version": "1.5.0",
      "model_name": "SliderStyleModel",
      "state": {
       "description_width": ""
      }
     },
     "a35a908d8d1c466181df59c8b530a24e": {
      "model_module": "@jupyter-widgets/base",
      "model_module_version": "1.2.0",
      "model_name": "LayoutModel",
      "state": {}
     },
     "a3b69459bd094f1a816c44413b2fe3bc": {
      "model_module": "@jupyter-widgets/base",
      "model_module_version": "1.2.0",
      "model_name": "LayoutModel",
      "state": {}
     },
     "a4e120e10f1c4c24ad884e35845abd9c": {
      "model_module": "@jupyter-widgets/base",
      "model_module_version": "1.2.0",
      "model_name": "LayoutModel",
      "state": {}
     },
     "a5526cf3dc1143019cfe08531dd179ab": {
      "model_module": "@jupyter-widgets/controls",
      "model_module_version": "1.5.0",
      "model_name": "VBoxModel",
      "state": {
       "_dom_classes": [
        "widget-interact"
       ],
       "children": [
        "IPY_MODEL_5d18fd1cdd254fb98f642b8d25199629",
        "IPY_MODEL_03c39a9506804d759d3231cbf3f285cb",
        "IPY_MODEL_aad6eaa74a304aa4848d00c84b46e3b1",
        "IPY_MODEL_4bb6269c63b241b9b7b9527d8ee0b2c7",
        "IPY_MODEL_d2793efaeef6424eaab710a0a0eae22c",
        "IPY_MODEL_c06b7a1c5f484922980dcd4b301adb4d",
        "IPY_MODEL_a9d23d8902864549b420205efc9ca4e3",
        "IPY_MODEL_d7a720fb172d4734925277cb9a7d1315"
       ],
       "layout": "IPY_MODEL_0f6b5ca32f7549bd9083b89406be0ace"
      }
     },
     "a5d508483055422aba728096683e8f7b": {
      "model_module": "@jupyter-widgets/base",
      "model_module_version": "1.2.0",
      "model_name": "LayoutModel",
      "state": {}
     },
     "a6a82ea3026c4243994cdbf50c7a522c": {
      "model_module": "@jupyter-widgets/controls",
      "model_module_version": "1.5.0",
      "model_name": "IntSliderModel",
      "state": {
       "continuous_update": false,
       "description": "frame",
       "layout": "IPY_MODEL_edcfa694a61e4c2c88d1b5846966f224",
       "max": 60,
       "min": -60,
       "step": 10,
       "style": "IPY_MODEL_c658113b5770444f808e7ab5e3eb1772",
       "value": 10
      }
     },
     "a6a834c9eb174da7845f2dee261d9b0d": {
      "model_module": "@jupyter-widgets/controls",
      "model_module_version": "1.5.0",
      "model_name": "ButtonStyleModel",
      "state": {}
     },
     "a6d1973f15ec46a99c396a40f0017152": {
      "model_module": "@jupyter-widgets/base",
      "model_module_version": "1.2.0",
      "model_name": "LayoutModel",
      "state": {}
     },
     "a76a6d920dd2464c8807b354fc70eeb5": {
      "model_module": "@jupyter-widgets/base",
      "model_module_version": "1.2.0",
      "model_name": "LayoutModel",
      "state": {}
     },
     "a7bb5f039da34846b42e7c4c40514205": {
      "model_module": "@jupyter-widgets/controls",
      "model_module_version": "1.5.0",
      "model_name": "VBoxModel",
      "state": {
       "_dom_classes": [
        "widget-interact"
       ],
       "children": [
        "IPY_MODEL_d01d504005ab4f45a6bda981f9e24220",
        "IPY_MODEL_ae745ad5cddf4ff38fbf41fa1d3ed8e1",
        "IPY_MODEL_bf8fc11ee6944822b0de826ae283344b",
        "IPY_MODEL_401829fdca494c05bc8a6e1d35d657a4",
        "IPY_MODEL_c5f74680eb904d29a5378e0b81403765",
        "IPY_MODEL_630d2534ffb047529777a45129e542bf",
        "IPY_MODEL_8c9ad17af7f8439fbfe9c02d13aa04b0",
        "IPY_MODEL_106dadb3769a45eaa031a3cb84ef527e"
       ],
       "layout": "IPY_MODEL_f722d1e46b0642d091a5c4478ba814f8"
      }
     },
     "a7dc0e5eb8c74954bce60c3c37fb5b9b": {
      "model_module": "@jupyter-widgets/base",
      "model_module_version": "1.2.0",
      "model_name": "LayoutModel",
      "state": {
       "height": "350px"
      }
     },
     "a8018102e09d4f32b7f26daaefc3b093": {
      "model_module": "@jupyter-widgets/base",
      "model_module_version": "1.2.0",
      "model_name": "LayoutModel",
      "state": {
       "height": "350px"
      }
     },
     "a80e9052f5f64a18b2c6bf7aa7e22f31": {
      "model_module": "@jupyter-widgets/base",
      "model_module_version": "1.2.0",
      "model_name": "LayoutModel",
      "state": {}
     },
     "a83fcb0fc89d4aee968b9ab97dd34762": {
      "model_module": "@jupyter-widgets/base",
      "model_module_version": "1.2.0",
      "model_name": "LayoutModel",
      "state": {}
     },
     "a84b51eb57ad43efb6a56c7bd5c6266b": {
      "model_module": "@jupyter-widgets/base",
      "model_module_version": "1.2.0",
      "model_name": "LayoutModel",
      "state": {}
     },
     "a88382b827f94c7ab5442cb140fc5a37": {
      "model_module": "@jupyter-widgets/controls",
      "model_module_version": "1.5.0",
      "model_name": "DescriptionStyleModel",
      "state": {
       "description_width": ""
      }
     },
     "a98f49be2d634e4491f0407820e609b3": {
      "model_module": "@jupyter-widgets/controls",
      "model_module_version": "1.5.0",
      "model_name": "RadioButtonsModel",
      "state": {
       "_options_labels": [
        "Very Low",
        "Low",
        "Medium",
        "High",
        "Very High"
       ],
       "description": "Resolution:",
       "index": 2,
       "layout": "IPY_MODEL_81176380c4174e14b764da7efd13beda",
       "style": "IPY_MODEL_457814f167bf4e40a524268461fc8776"
      }
     },
     "a9bed6f80670432f9befac97b10d0178": {
      "model_module": "@jupyter-widgets/base",
      "model_module_version": "1.2.0",
      "model_name": "LayoutModel",
      "state": {}
     },
     "a9d23d8902864549b420205efc9ca4e3": {
      "model_module": "@jupyter-widgets/controls",
      "model_module_version": "1.5.0",
      "model_name": "TextModel",
      "state": {
       "description": "Filename:",
       "layout": "IPY_MODEL_5f86d663f5c84f22bbf621711f2d4635",
       "placeholder": "image.png",
       "style": "IPY_MODEL_8a3ff2ebd512400a9b79212430c1f6f1",
       "value": "image.png"
      }
     },
     "aa39aabfe4b840e28c2f4e5f5f981042": {
      "model_module": "@jupyter-widgets/controls",
      "model_module_version": "1.5.0",
      "model_name": "IntSliderModel",
      "state": {
       "continuous_update": false,
       "description": "zoom",
       "disabled": true,
       "layout": "IPY_MODEL_fef72de3508e4e39b9bd40f59030e9ec",
       "max": 5,
       "min": -5,
       "style": "IPY_MODEL_bcaa963d5836467c9743d88d36a0de1c",
       "value": 5
      }
     },
     "aa4219faeed340f49d3f0d449d70c63b": {
      "model_module": "@jupyter-widgets/controls",
      "model_module_version": "1.5.0",
      "model_name": "IntSliderModel",
      "state": {
       "continuous_update": false,
       "description": "num_points",
       "layout": "IPY_MODEL_51d161f85aea4411baad428ff5038f1e",
       "max": 12,
       "min": 4,
       "style": "IPY_MODEL_34d6a5790d7f46518037fdadd20a495d",
       "value": 4
      }
     },
     "aa9ed39ed1cc401bab5ee0e0704d049b": {
      "model_module": "@jupyter-widgets/controls",
      "model_module_version": "1.5.0",
      "model_name": "RadioButtonsModel",
      "state": {
       "_options_labels": [
        "Very Low",
        "Low",
        "Medium",
        "High",
        "Very High"
       ],
       "description": "Resolution:",
       "index": 2,
       "layout": "IPY_MODEL_e9b2549e170a4ba4b1e0d6493214ad78",
       "style": "IPY_MODEL_b1ab02036e7f4e9380f2732e462aeb13"
      }
     },
     "aad6eaa74a304aa4848d00c84b46e3b1": {
      "model_module": "@jupyter-widgets/controls",
      "model_module_version": "1.5.0",
      "model_name": "IntSliderModel",
      "state": {
       "continuous_update": false,
       "description": "num_classes",
       "disabled": true,
       "layout": "IPY_MODEL_af2726cf224048f79539010f94bde349",
       "max": 24,
       "min": 1,
       "style": "IPY_MODEL_47accdf2212844c295f76a4f6b88ce70",
       "value": 8
      }
     },
     "abf2beb16e5d4f58a6ea1cc2f51fa05e": {
      "model_module": "@jupyter-widgets/controls",
      "model_module_version": "1.5.0",
      "model_name": "SliderStyleModel",
      "state": {
       "description_width": ""
      }
     },
     "ac25e95194364777bedff480745c94cd": {
      "model_module": "@jupyter-widgets/controls",
      "model_module_version": "1.5.0",
      "model_name": "TextModel",
      "state": {
       "description": "Filename:",
       "layout": "IPY_MODEL_62299593b62b48da80cec856c160c0b7",
       "placeholder": "image.png",
       "style": "IPY_MODEL_b5e46c72ed90485fb4310472f843e3c2",
       "value": "image.png"
      }
     },
     "ac5cb17193ee46e196d5da459537719f": {
      "model_module": "@jupyter-widgets/controls",
      "model_module_version": "1.5.0",
      "model_name": "ButtonStyleModel",
      "state": {}
     },
     "ad1abe60855241fd9bceb2e0faf034e0": {
      "model_module": "@jupyter-widgets/base",
      "model_module_version": "1.2.0",
      "model_name": "LayoutModel",
      "state": {}
     },
     "ad6624461ae9442aa4f9ec0d67dc09f1": {
      "model_module": "@jupyter-widgets/base",
      "model_module_version": "1.2.0",
      "model_name": "LayoutModel",
      "state": {}
     },
     "ae745ad5cddf4ff38fbf41fa1d3ed8e1": {
      "model_module": "@jupyter-widgets/controls",
      "model_module_version": "1.5.0",
      "model_name": "IntSliderModel",
      "state": {
       "continuous_update": false,
       "description": "num_points",
       "layout": "IPY_MODEL_254543630b2e4579bf4256887bebe484",
       "max": 12,
       "min": 4,
       "style": "IPY_MODEL_6235c85a5a074020b95b2b7b9b88437e",
       "value": 4
      }
     },
     "af2726cf224048f79539010f94bde349": {
      "model_module": "@jupyter-widgets/base",
      "model_module_version": "1.2.0",
      "model_name": "LayoutModel",
      "state": {}
     },
     "afaed3715c384baaa7de4742b3465f2a": {
      "model_module": "@jupyter-widgets/controls",
      "model_module_version": "1.5.0",
      "model_name": "DescriptionStyleModel",
      "state": {
       "description_width": ""
      }
     },
     "b002866d717a42629f47a15566d05703": {
      "model_module": "@jupyter-widgets/controls",
      "model_module_version": "1.5.0",
      "model_name": "DropdownModel",
      "state": {
       "_options_labels": [
        "poly_and_center",
        "every_other",
        "2points_n_classes",
        "3points_n_classes"
       ],
       "description": "Mode:",
       "index": 1,
       "layout": "IPY_MODEL_5f490ba4470e42c294a3413b2b420d53",
       "style": "IPY_MODEL_740c73aecf704938a13d31e2bbe6a517"
      }
     },
     "b0086946fef4433e8efe8730b39ce8e4": {
      "model_module": "@jupyter-widgets/output",
      "model_module_version": "1.0.0",
      "model_name": "OutputModel",
      "state": {
       "layout": "IPY_MODEL_ce9a02e26c6f4416bc2c0e66aa8e5772"
      }
     },
     "b04937f8a0dc46c090a4479daa038594": {
      "model_module": "@jupyter-widgets/base",
      "model_module_version": "1.2.0",
      "model_name": "LayoutModel",
      "state": {}
     },
     "b071438467494eee89d56b9ec635583c": {
      "model_module": "@jupyter-widgets/controls",
      "model_module_version": "1.5.0",
      "model_name": "IntSliderModel",
      "state": {
       "continuous_update": false,
       "description": "zoom",
       "disabled": true,
       "layout": "IPY_MODEL_753fc1d4bc2e493cb6153e17319338f3",
       "max": 5,
       "min": -5,
       "style": "IPY_MODEL_85c243d4ef57465a9613cbc3edd6e27d",
       "value": 5
      }
     },
     "b0985378c620426dbaf7a38d1d36124c": {
      "model_module": "@jupyter-widgets/controls",
      "model_module_version": "1.5.0",
      "model_name": "DescriptionStyleModel",
      "state": {
       "description_width": ""
      }
     },
     "b14a8ffa69d44189a8778dc8dcb0f3a8": {
      "model_module": "@jupyter-widgets/base",
      "model_module_version": "1.2.0",
      "model_name": "LayoutModel",
      "state": {}
     },
     "b155d79cde854a84968e530922968412": {
      "model_module": "@jupyter-widgets/base",
      "model_module_version": "1.2.0",
      "model_name": "LayoutModel",
      "state": {
       "height": "350px"
      }
     },
     "b174bf22d84e4957920a102bdb0e80d1": {
      "model_module": "@jupyter-widgets/controls",
      "model_module_version": "1.5.0",
      "model_name": "VBoxModel",
      "state": {
       "_dom_classes": [
        "widget-interact"
       ],
       "children": [
        "IPY_MODEL_f5e7068271e5442797a29e84b1e97dd8",
        "IPY_MODEL_c209e9c25c93496ca4cbb064c9be7126",
        "IPY_MODEL_3efb5db3a6a04e5da8788c607e0e33bb",
        "IPY_MODEL_6b130968476f434b9d43cc62c9bcebe2",
        "IPY_MODEL_1c0e5dfbf4484d4cbbe77da591fce7cd",
        "IPY_MODEL_d99675da08864bafa49533a4defd1eae",
        "IPY_MODEL_5c3cbc618c4543d7b074cbaf2911478c",
        "IPY_MODEL_27891239da264d36af0c64795a3597a7"
       ],
       "layout": "IPY_MODEL_dca47b7feb2a4f23a38cd7b77e91f101"
      }
     },
     "b1ab02036e7f4e9380f2732e462aeb13": {
      "model_module": "@jupyter-widgets/controls",
      "model_module_version": "1.5.0",
      "model_name": "DescriptionStyleModel",
      "state": {
       "description_width": ""
      }
     },
     "b1e42048b66e41b58ebac671dc2cf497": {
      "model_module": "@jupyter-widgets/base",
      "model_module_version": "1.2.0",
      "model_name": "LayoutModel",
      "state": {}
     },
     "b20d74ab64c94d258aa35604bdf50d13": {
      "model_module": "@jupyter-widgets/base",
      "model_module_version": "1.2.0",
      "model_name": "LayoutModel",
      "state": {}
     },
     "b242ab3538fb4836afee10004210431e": {
      "model_module": "@jupyter-widgets/base",
      "model_module_version": "1.2.0",
      "model_name": "LayoutModel",
      "state": {
       "height": "350px"
      }
     },
     "b2c52a7d43ce4fc6a1f2e7b37fe9feeb": {
      "model_module": "@jupyter-widgets/controls",
      "model_module_version": "1.5.0",
      "model_name": "SliderStyleModel",
      "state": {
       "description_width": ""
      }
     },
     "b36844c9b3814ffa9d329601202668ee": {
      "model_module": "@jupyter-widgets/controls",
      "model_module_version": "1.5.0",
      "model_name": "ButtonModel",
      "state": {
       "description": "Save image",
       "layout": "IPY_MODEL_46d310bad583403498b7d50b8cd6dc15",
       "style": "IPY_MODEL_41a74390c64348bc85aaa1001840c2dc"
      }
     },
     "b3af0e40f1f44871885243f8761c75ef": {
      "model_module": "@jupyter-widgets/controls",
      "model_module_version": "1.5.0",
      "model_name": "DropdownModel",
      "state": {
       "_options_labels": [
        "poly_and_center",
        "every_other",
        "2points_n_classes",
        "3points_n_classes"
       ],
       "description": "Mode:",
       "index": 1,
       "layout": "IPY_MODEL_ee185e304ca94485b3030d3ecce984b7",
       "style": "IPY_MODEL_6a905c1416ac481da4eb2c5a024da223"
      }
     },
     "b403f74615c24ca69f1577a227b03367": {
      "model_module": "@jupyter-widgets/base",
      "model_module_version": "1.2.0",
      "model_name": "LayoutModel",
      "state": {
       "height": "350px"
      }
     },
     "b5e46c72ed90485fb4310472f843e3c2": {
      "model_module": "@jupyter-widgets/controls",
      "model_module_version": "1.5.0",
      "model_name": "DescriptionStyleModel",
      "state": {
       "description_width": ""
      }
     },
     "b6318c9efb3143ff90353c927932fd61": {
      "model_module": "@jupyter-widgets/controls",
      "model_module_version": "1.5.0",
      "model_name": "SliderStyleModel",
      "state": {
       "description_width": ""
      }
     },
     "b6ec49e52ae1410bbfe8c494033b90cd": {
      "model_module": "@jupyter-widgets/base",
      "model_module_version": "1.2.0",
      "model_name": "LayoutModel",
      "state": {}
     },
     "b9ef5f98a43f4af38eef278ac98e73dc": {
      "model_module": "@jupyter-widgets/base",
      "model_module_version": "1.2.0",
      "model_name": "LayoutModel",
      "state": {}
     },
     "ba2a29032ffb428ebdedb68719f7eb81": {
      "model_module": "@jupyter-widgets/base",
      "model_module_version": "1.2.0",
      "model_name": "LayoutModel",
      "state": {}
     },
     "bad2ac4758384905994b8735890add27": {
      "model_module": "@jupyter-widgets/controls",
      "model_module_version": "1.5.0",
      "model_name": "SliderStyleModel",
      "state": {
       "description_width": ""
      }
     },
     "bb0f53edfe464c7993cb191e0d1bc0b8": {
      "model_module": "@jupyter-widgets/controls",
      "model_module_version": "1.5.0",
      "model_name": "IntSliderModel",
      "state": {
       "continuous_update": false,
       "description": "num_classes",
       "disabled": true,
       "layout": "IPY_MODEL_f023c32c4c824f5b8917606712b48d8e",
       "max": 24,
       "min": 1,
       "style": "IPY_MODEL_d5862b65c47740508f46300c26c066bf",
       "value": 8
      }
     },
     "bb584037b893458e87de43c5db4ab9c2": {
      "model_module": "@jupyter-widgets/controls",
      "model_module_version": "1.5.0",
      "model_name": "SliderStyleModel",
      "state": {
       "description_width": ""
      }
     },
     "bba1a9b204f647b5a60b41c057684559": {
      "model_module": "@jupyter-widgets/controls",
      "model_module_version": "1.5.0",
      "model_name": "IntSliderModel",
      "state": {
       "continuous_update": false,
       "description": "num_points",
       "layout": "IPY_MODEL_8a2ef60c384340d789d09de6dddd348a",
       "max": 12,
       "min": 4,
       "style": "IPY_MODEL_b6318c9efb3143ff90353c927932fd61",
       "value": 4
      }
     },
     "bcaa963d5836467c9743d88d36a0de1c": {
      "model_module": "@jupyter-widgets/controls",
      "model_module_version": "1.5.0",
      "model_name": "SliderStyleModel",
      "state": {
       "description_width": ""
      }
     },
     "bcae59261f944854b44eee5d2d9333cb": {
      "model_module": "@jupyter-widgets/controls",
      "model_module_version": "1.5.0",
      "model_name": "DescriptionStyleModel",
      "state": {
       "description_width": ""
      }
     },
     "bebd1e326a574f9fa237f19c04ec21cb": {
      "model_module": "@jupyter-widgets/base",
      "model_module_version": "1.2.0",
      "model_name": "LayoutModel",
      "state": {}
     },
     "bece4f56058c43b283a8c0e0778900ee": {
      "model_module": "@jupyter-widgets/base",
      "model_module_version": "1.2.0",
      "model_name": "LayoutModel",
      "state": {}
     },
     "bf3fdea8347b4e6884c78ed54a1ec609": {
      "model_module": "@jupyter-widgets/controls",
      "model_module_version": "1.5.0",
      "model_name": "ButtonModel",
      "state": {
       "description": "Save image",
       "layout": "IPY_MODEL_36dcc0fe13644bafb6499227731f7708",
       "style": "IPY_MODEL_02b054920bf04f5b879e1425ad04ed60"
      }
     },
     "bf8fc11ee6944822b0de826ae283344b": {
      "model_module": "@jupyter-widgets/controls",
      "model_module_version": "1.5.0",
      "model_name": "IntSliderModel",
      "state": {
       "continuous_update": false,
       "description": "num_classes",
       "disabled": true,
       "layout": "IPY_MODEL_e1ceeeb079df4202a8977d1162173736",
       "max": 24,
       "min": 1,
       "style": "IPY_MODEL_6aacc601fc124f71a2870979fe97fda1",
       "value": 8
      }
     },
     "c06b7a1c5f484922980dcd4b301adb4d": {
      "model_module": "@jupyter-widgets/controls",
      "model_module_version": "1.5.0",
      "model_name": "IntSliderModel",
      "state": {
       "continuous_update": false,
       "description": "zoom",
       "disabled": true,
       "layout": "IPY_MODEL_66c539b6e79f4a13a42405f56d17e026",
       "max": 5,
       "min": -5,
       "style": "IPY_MODEL_2794a456cc58472b936581c4d0235415",
       "value": 5
      }
     },
     "c0ab77cc720a472aa0f95190c8012181": {
      "model_module": "@jupyter-widgets/controls",
      "model_module_version": "1.5.0",
      "model_name": "ButtonModel",
      "state": {
       "description": "Save image",
       "layout": "IPY_MODEL_7ad041c432dd4a3faf29872b99277bce",
       "style": "IPY_MODEL_a6a834c9eb174da7845f2dee261d9b0d"
      }
     },
     "c209e9c25c93496ca4cbb064c9be7126": {
      "model_module": "@jupyter-widgets/controls",
      "model_module_version": "1.5.0",
      "model_name": "IntSliderModel",
      "state": {
       "continuous_update": false,
       "description": "num_points",
       "disabled": true,
       "layout": "IPY_MODEL_b9ef5f98a43f4af38eef278ac98e73dc",
       "max": 2,
       "min": 2,
       "style": "IPY_MODEL_90ed935a84ca4e839091152866e56897",
       "value": 2
      }
     },
     "c22f70ed32794efb85f8e3d5dc218e21": {
      "model_module": "@jupyter-widgets/controls",
      "model_module_version": "1.5.0",
      "model_name": "IntSliderModel",
      "state": {
       "continuous_update": false,
       "description": "num_points",
       "layout": "IPY_MODEL_29300d5d8aef4b54ac761802accf8bb6",
       "max": 12,
       "min": 4,
       "style": "IPY_MODEL_17b4234f4ef44613882cd6611c980cd5",
       "value": 4
      }
     },
     "c368901a8ed94ce6977a2b39a4eac54b": {
      "model_module": "@jupyter-widgets/controls",
      "model_module_version": "1.5.0",
      "model_name": "ButtonModel",
      "state": {
       "description": "Save image",
       "layout": "IPY_MODEL_117fbdaf985b4922a76bdbff2fc2e0f2",
       "style": "IPY_MODEL_25edb56be39f47f88d89aa8a698944c7"
      }
     },
     "c40c4ff2c89d43fe9c8716864a155a83": {
      "model_module": "@jupyter-widgets/base",
      "model_module_version": "1.2.0",
      "model_name": "LayoutModel",
      "state": {}
     },
     "c46d2496f1c247ccb62b761e694b3651": {
      "model_module": "@jupyter-widgets/base",
      "model_module_version": "1.2.0",
      "model_name": "LayoutModel",
      "state": {}
     },
     "c47002ac350347f98373b962485ce099": {
      "model_module": "@jupyter-widgets/base",
      "model_module_version": "1.2.0",
      "model_name": "LayoutModel",
      "state": {}
     },
     "c53f317cbe6545528203bc56c405e065": {
      "model_module": "@jupyter-widgets/controls",
      "model_module_version": "1.5.0",
      "model_name": "DropdownModel",
      "state": {
       "_options_labels": [
        "poly_and_center",
        "every_other",
        "2points_n_classes",
        "3points_n_classes"
       ],
       "description": "Mode:",
       "index": 1,
       "layout": "IPY_MODEL_a5d508483055422aba728096683e8f7b",
       "style": "IPY_MODEL_9bace9b711a240d28c3ddfd06c488667"
      }
     },
     "c58061758af44806bb627fb025b5dfd3": {
      "model_module": "@jupyter-widgets/base",
      "model_module_version": "1.2.0",
      "model_name": "LayoutModel",
      "state": {
       "height": "350px"
      }
     },
     "c5bdad07ebab4af480d2e9307e03b2eb": {
      "model_module": "@jupyter-widgets/controls",
      "model_module_version": "1.5.0",
      "model_name": "ButtonStyleModel",
      "state": {}
     },
     "c5f74680eb904d29a5378e0b81403765": {
      "model_module": "@jupyter-widgets/controls",
      "model_module_version": "1.5.0",
      "model_name": "RadioButtonsModel",
      "state": {
       "_options_labels": [
        "Very Low",
        "Low",
        "Medium",
        "High",
        "Very High"
       ],
       "description": "Resolution:",
       "index": 2,
       "layout": "IPY_MODEL_a35a908d8d1c466181df59c8b530a24e",
       "style": "IPY_MODEL_a88382b827f94c7ab5442cb140fc5a37"
      }
     },
     "c653507a7e564f9389e18033c5d39949": {
      "model_module": "@jupyter-widgets/base",
      "model_module_version": "1.2.0",
      "model_name": "LayoutModel",
      "state": {}
     },
     "c658113b5770444f808e7ab5e3eb1772": {
      "model_module": "@jupyter-widgets/controls",
      "model_module_version": "1.5.0",
      "model_name": "SliderStyleModel",
      "state": {
       "description_width": ""
      }
     },
     "c8a35215954249e7a5e306af8d7700e6": {
      "model_module": "@jupyter-widgets/base",
      "model_module_version": "1.2.0",
      "model_name": "LayoutModel",
      "state": {}
     },
     "ca5f83291343454aa7f7f938084f89c6": {
      "model_module": "@jupyter-widgets/controls",
      "model_module_version": "1.5.0",
      "model_name": "RadioButtonsModel",
      "state": {
       "_options_labels": [
        "Very Low",
        "Low",
        "Medium",
        "High",
        "Very High"
       ],
       "description": "Resolution:",
       "index": 2,
       "layout": "IPY_MODEL_1b75e02e7ee54662acb3ea343e9edd28",
       "style": "IPY_MODEL_960c21bd1211411db8533335167fc7e9"
      }
     },
     "caf500af7f104ad2b924bab70c3c11bb": {
      "model_module": "@jupyter-widgets/controls",
      "model_module_version": "1.5.0",
      "model_name": "TextModel",
      "state": {
       "description": "Filename:",
       "layout": "IPY_MODEL_834953fa9e3f4d75bf2d595bee71c20e",
       "placeholder": "image.png",
       "style": "IPY_MODEL_8ad6cbc5d50448a5a524de7d508024cb",
       "value": "image.png"
      }
     },
     "caf683284ff54a1fb6985bd99e9c7e29": {
      "model_module": "@jupyter-widgets/base",
      "model_module_version": "1.2.0",
      "model_name": "LayoutModel",
      "state": {}
     },
     "cb68ccb3867d488ca74888458841ed16": {
      "model_module": "@jupyter-widgets/controls",
      "model_module_version": "1.5.0",
      "model_name": "DescriptionStyleModel",
      "state": {
       "description_width": ""
      }
     },
     "cbd1354d088f4d9192583fcc341793a4": {
      "model_module": "@jupyter-widgets/base",
      "model_module_version": "1.2.0",
      "model_name": "LayoutModel",
      "state": {}
     },
     "ccf2c7ebd9164dd0b38afd89d41e9dd1": {
      "model_module": "@jupyter-widgets/controls",
      "model_module_version": "1.5.0",
      "model_name": "DescriptionStyleModel",
      "state": {
       "description_width": ""
      }
     },
     "cd1c909f7f324b85ac08c7fdb12927fe": {
      "model_module": "@jupyter-widgets/base",
      "model_module_version": "1.2.0",
      "model_name": "LayoutModel",
      "state": {}
     },
     "cdc3a83518c646749f5d2bb0fb6e26ae": {
      "model_module": "@jupyter-widgets/base",
      "model_module_version": "1.2.0",
      "model_name": "LayoutModel",
      "state": {}
     },
     "ce9a02e26c6f4416bc2c0e66aa8e5772": {
      "model_module": "@jupyter-widgets/base",
      "model_module_version": "1.2.0",
      "model_name": "LayoutModel",
      "state": {}
     },
     "d01d504005ab4f45a6bda981f9e24220": {
      "model_module": "@jupyter-widgets/controls",
      "model_module_version": "1.5.0",
      "model_name": "IntSliderModel",
      "state": {
       "continuous_update": false,
       "description": "frame",
       "layout": "IPY_MODEL_cbd1354d088f4d9192583fcc341793a4",
       "max": 60,
       "min": -60,
       "step": 10,
       "style": "IPY_MODEL_9dc7263effa2453d88122b7ca08cfd77",
       "value": 10
      }
     },
     "d1813e7f5b66432db6011421b3f0ab78": {
      "model_module": "@jupyter-widgets/controls",
      "model_module_version": "1.5.0",
      "model_name": "SliderStyleModel",
      "state": {
       "description_width": ""
      }
     },
     "d18e9d8d34a24dd0b52b43e16aeeafae": {
      "model_module": "@jupyter-widgets/base",
      "model_module_version": "1.2.0",
      "model_name": "LayoutModel",
      "state": {}
     },
     "d1be0e91f5f84f64ae2dd98b32af2103": {
      "model_module": "@jupyter-widgets/controls",
      "model_module_version": "1.5.0",
      "model_name": "DescriptionStyleModel",
      "state": {
       "description_width": ""
      }
     },
     "d2793efaeef6424eaab710a0a0eae22c": {
      "model_module": "@jupyter-widgets/controls",
      "model_module_version": "1.5.0",
      "model_name": "RadioButtonsModel",
      "state": {
       "_options_labels": [
        "Very Low",
        "Low",
        "Medium",
        "High",
        "Very High"
       ],
       "description": "Resolution:",
       "index": 2,
       "layout": "IPY_MODEL_275e63faffc94e71bb30e12f70869a3a",
       "style": "IPY_MODEL_65b1ff06e66a4440a2adff77cc68db75"
      }
     },
     "d2b0ff5ada8f477fb017c043ba92e54f": {
      "model_module": "@jupyter-widgets/controls",
      "model_module_version": "1.5.0",
      "model_name": "DropdownModel",
      "state": {
       "_options_labels": [
        "poly_and_center",
        "every_other",
        "2points_n_classes",
        "3points_n_classes"
       ],
       "description": "Mode:",
       "index": 1,
       "layout": "IPY_MODEL_a062cf1414b348819c1e9f711a6e95f5",
       "style": "IPY_MODEL_6413eb8c130f4313aca73647d7792d0c"
      }
     },
     "d4105f47852b4bbea3ac497c0091ce6f": {
      "model_module": "@jupyter-widgets/base",
      "model_module_version": "1.2.0",
      "model_name": "LayoutModel",
      "state": {}
     },
     "d5862b65c47740508f46300c26c066bf": {
      "model_module": "@jupyter-widgets/controls",
      "model_module_version": "1.5.0",
      "model_name": "SliderStyleModel",
      "state": {
       "description_width": ""
      }
     },
     "d58e1242109147e7969e9c599b18d4c5": {
      "model_module": "@jupyter-widgets/controls",
      "model_module_version": "1.5.0",
      "model_name": "ButtonStyleModel",
      "state": {}
     },
     "d6663c9d4d4f42ffaa114b4945b9fca6": {
      "model_module": "@jupyter-widgets/controls",
      "model_module_version": "1.5.0",
      "model_name": "IntSliderModel",
      "state": {
       "continuous_update": false,
       "description": "num_classes",
       "disabled": true,
       "layout": "IPY_MODEL_dcc6a86f59414ad6b5a4553031e87f46",
       "max": 24,
       "min": 1,
       "style": "IPY_MODEL_1687e9dea56f4874b028846ec673f650",
       "value": 8
      }
     },
     "d6fffa8827374b788c2b8b25ccc673b0": {
      "model_module": "@jupyter-widgets/controls",
      "model_module_version": "1.5.0",
      "model_name": "RadioButtonsModel",
      "state": {
       "_options_labels": [
        "Very Low",
        "Low",
        "Medium",
        "High",
        "Very High"
       ],
       "description": "Resolution:",
       "index": 2,
       "layout": "IPY_MODEL_5113308e5f304115b788152907ca13d3",
       "style": "IPY_MODEL_42bee52820614430a0e82c04292099b3"
      }
     },
     "d7438918041a431d9246785f39c70711": {
      "model_module": "@jupyter-widgets/controls",
      "model_module_version": "1.5.0",
      "model_name": "IntSliderModel",
      "state": {
       "continuous_update": false,
       "description": "num_classes",
       "disabled": true,
       "layout": "IPY_MODEL_8a185b02db664820a56affda26f193c9",
       "max": 24,
       "min": 1,
       "style": "IPY_MODEL_f1e080d040274dcfa622ffb335e157ff",
       "value": 8
      }
     },
     "d7a720fb172d4734925277cb9a7d1315": {
      "model_module": "@jupyter-widgets/output",
      "model_module_version": "1.0.0",
      "model_name": "OutputModel",
      "state": {
       "layout": "IPY_MODEL_12944d198d154bf7b734ed2c0fec07df"
      }
     },
     "d7f9dafed27b45ad9797aa9b01c22ad4": {
      "model_module": "@jupyter-widgets/controls",
      "model_module_version": "1.5.0",
      "model_name": "DescriptionStyleModel",
      "state": {
       "description_width": ""
      }
     },
     "d898efbb93d94aeb89379f49389e8780": {
      "model_module": "@jupyter-widgets/base",
      "model_module_version": "1.2.0",
      "model_name": "LayoutModel",
      "state": {}
     },
     "d995359963aa4896b44ff567c6c1e1be": {
      "model_module": "@jupyter-widgets/controls",
      "model_module_version": "1.5.0",
      "model_name": "IntSliderModel",
      "state": {
       "continuous_update": false,
       "description": "num_points",
       "layout": "IPY_MODEL_fd7bbadde6ed4e08884c2bae6993e150",
       "max": 12,
       "min": 4,
       "style": "IPY_MODEL_4991f16735684dc38d61655b3e87af44",
       "value": 4
      }
     },
     "d99675da08864bafa49533a4defd1eae": {
      "model_module": "@jupyter-widgets/controls",
      "model_module_version": "1.5.0",
      "model_name": "IntSliderModel",
      "state": {
       "continuous_update": false,
       "description": "zoom",
       "layout": "IPY_MODEL_6c5ae7b80b9d415a962ba478350ad124",
       "max": 5,
       "min": -5,
       "style": "IPY_MODEL_39c587588b7a4250aed602d5b2c795d4",
       "value": 5
      }
     },
     "d9f0a51faff24f84889d36d5cd085776": {
      "model_module": "@jupyter-widgets/controls",
      "model_module_version": "1.5.0",
      "model_name": "IntSliderModel",
      "state": {
       "continuous_update": false,
       "description": "frame",
       "layout": "IPY_MODEL_6767512fd20247689c08fcb421fa2969",
       "max": 60,
       "min": -60,
       "step": 10,
       "style": "IPY_MODEL_0230f19b86504a7181e9aefafbe17bcd",
       "value": 10
      }
     },
     "dae4e3935d0f4c549c8cc99ccc6b8739": {
      "model_module": "@jupyter-widgets/controls",
      "model_module_version": "1.5.0",
      "model_name": "RadioButtonsModel",
      "state": {
       "_options_labels": [
        "Very Low",
        "Low",
        "Medium",
        "High",
        "Very High"
       ],
       "description": "Resolution:",
       "index": 2,
       "layout": "IPY_MODEL_5d7ff55557f241c7aab737935b0d74ae",
       "style": "IPY_MODEL_598a6fbe3dad46fbb0b8c5dc69c8e714"
      }
     },
     "dca47b7feb2a4f23a38cd7b77e91f101": {
      "model_module": "@jupyter-widgets/base",
      "model_module_version": "1.2.0",
      "model_name": "LayoutModel",
      "state": {}
     },
     "dcc6a86f59414ad6b5a4553031e87f46": {
      "model_module": "@jupyter-widgets/base",
      "model_module_version": "1.2.0",
      "model_name": "LayoutModel",
      "state": {}
     },
     "dd09634f590d4fb3aad8465a477323f5": {
      "model_module": "@jupyter-widgets/base",
      "model_module_version": "1.2.0",
      "model_name": "LayoutModel",
      "state": {
       "height": "350px"
      }
     },
     "dd6f9965bddb4ec4988accf41cd0af66": {
      "model_module": "@jupyter-widgets/output",
      "model_module_version": "1.0.0",
      "model_name": "OutputModel",
      "state": {
       "layout": "IPY_MODEL_5b31579438af4fe9af44677072f78dcf"
      }
     },
     "dda0d290e3914021ae6ab2526e6ae98c": {
      "model_module": "@jupyter-widgets/base",
      "model_module_version": "1.2.0",
      "model_name": "LayoutModel",
      "state": {}
     },
     "de493d67ab944d5480e421156d4f97f3": {
      "model_module": "@jupyter-widgets/controls",
      "model_module_version": "1.5.0",
      "model_name": "ButtonModel",
      "state": {
       "description": "Save image",
       "layout": "IPY_MODEL_e93f9f2a896b43f490c7949c067f76bc",
       "style": "IPY_MODEL_d58e1242109147e7969e9c599b18d4c5"
      }
     },
     "df2e40018a0d4734b0c8f956eeef34fd": {
      "model_module": "@jupyter-widgets/base",
      "model_module_version": "1.2.0",
      "model_name": "LayoutModel",
      "state": {}
     },
     "df86414ea8f74e82bae06ae03501aaa8": {
      "model_module": "@jupyter-widgets/controls",
      "model_module_version": "1.5.0",
      "model_name": "DescriptionStyleModel",
      "state": {
       "description_width": ""
      }
     },
     "e03aa0c213254922998ded0c55a3a4d4": {
      "model_module": "@jupyter-widgets/output",
      "model_module_version": "1.0.0",
      "model_name": "OutputModel",
      "state": {
       "layout": "IPY_MODEL_3ac6a6b58df84352add8af23bd1b952c"
      }
     },
     "e0f45b768a12414893e2ae9e804038ca": {
      "model_module": "@jupyter-widgets/controls",
      "model_module_version": "1.5.0",
      "model_name": "ButtonStyleModel",
      "state": {}
     },
     "e115403c7aaf40de9f246cc9826a891b": {
      "model_module": "@jupyter-widgets/controls",
      "model_module_version": "1.5.0",
      "model_name": "SliderStyleModel",
      "state": {
       "description_width": ""
      }
     },
     "e1ceeeb079df4202a8977d1162173736": {
      "model_module": "@jupyter-widgets/base",
      "model_module_version": "1.2.0",
      "model_name": "LayoutModel",
      "state": {}
     },
     "e21be09ea5824aa68649ff17b0b0be3b": {
      "model_module": "@jupyter-widgets/base",
      "model_module_version": "1.2.0",
      "model_name": "LayoutModel",
      "state": {}
     },
     "e49c0f8a80ff49988abff2cf952a3755": {
      "model_module": "@jupyter-widgets/base",
      "model_module_version": "1.2.0",
      "model_name": "LayoutModel",
      "state": {}
     },
     "e4bbe30cffcb4c01a165c0c43637b07f": {
      "model_module": "@jupyter-widgets/output",
      "model_module_version": "1.0.0",
      "model_name": "OutputModel",
      "state": {
       "layout": "IPY_MODEL_b403f74615c24ca69f1577a227b03367"
      }
     },
     "e74e962f0f68489fab028f3cff302a0d": {
      "model_module": "@jupyter-widgets/controls",
      "model_module_version": "1.5.0",
      "model_name": "IntSliderModel",
      "state": {
       "continuous_update": false,
       "description": "frame",
       "layout": "IPY_MODEL_a80e9052f5f64a18b2c6bf7aa7e22f31",
       "max": 60,
       "min": -60,
       "step": 10,
       "style": "IPY_MODEL_a0d4b109450c4ac2a80d74e800ab1830",
       "value": 10
      }
     },
     "e751df4250824168acba5e6c1696a58d": {
      "model_module": "@jupyter-widgets/base",
      "model_module_version": "1.2.0",
      "model_name": "LayoutModel",
      "state": {}
     },
     "e7d01248b79944eea005ede1bbd16055": {
      "model_module": "@jupyter-widgets/output",
      "model_module_version": "1.0.0",
      "model_name": "OutputModel",
      "state": {
       "layout": "IPY_MODEL_2559d63287884aeb9c98fff7880dd0c1"
      }
     },
     "e93f9f2a896b43f490c7949c067f76bc": {
      "model_module": "@jupyter-widgets/base",
      "model_module_version": "1.2.0",
      "model_name": "LayoutModel",
      "state": {}
     },
     "e9a26ffaf6ef430b9f9a86fa000e05a5": {
      "model_module": "@jupyter-widgets/controls",
      "model_module_version": "1.5.0",
      "model_name": "SliderStyleModel",
      "state": {
       "description_width": ""
      }
     },
     "e9b2549e170a4ba4b1e0d6493214ad78": {
      "model_module": "@jupyter-widgets/base",
      "model_module_version": "1.2.0",
      "model_name": "LayoutModel",
      "state": {}
     },
     "eb4eba8fccde44419704ac911597ca77": {
      "model_module": "@jupyter-widgets/controls",
      "model_module_version": "1.5.0",
      "model_name": "SliderStyleModel",
      "state": {
       "description_width": ""
      }
     },
     "ed27f7c15ef047dcbb3fbf9682275cc9": {
      "model_module": "@jupyter-widgets/controls",
      "model_module_version": "1.5.0",
      "model_name": "SliderStyleModel",
      "state": {
       "description_width": ""
      }
     },
     "edcfa694a61e4c2c88d1b5846966f224": {
      "model_module": "@jupyter-widgets/base",
      "model_module_version": "1.2.0",
      "model_name": "LayoutModel",
      "state": {}
     },
     "edd3721f07d84e1ba8b014e8232640df": {
      "model_module": "@jupyter-widgets/base",
      "model_module_version": "1.2.0",
      "model_name": "LayoutModel",
      "state": {}
     },
     "ee185e304ca94485b3030d3ecce984b7": {
      "model_module": "@jupyter-widgets/base",
      "model_module_version": "1.2.0",
      "model_name": "LayoutModel",
      "state": {}
     },
     "ef2a4617823b41b7ba0e1bb53005f5f7": {
      "model_module": "@jupyter-widgets/controls",
      "model_module_version": "1.5.0",
      "model_name": "DescriptionStyleModel",
      "state": {
       "description_width": ""
      }
     },
     "ef8ee34dd59c4541a6d568a01ad78143": {
      "model_module": "@jupyter-widgets/controls",
      "model_module_version": "1.5.0",
      "model_name": "SliderStyleModel",
      "state": {
       "description_width": ""
      }
     },
     "f023c32c4c824f5b8917606712b48d8e": {
      "model_module": "@jupyter-widgets/base",
      "model_module_version": "1.2.0",
      "model_name": "LayoutModel",
      "state": {}
     },
     "f1256990b95d465489453e8ea637bf43": {
      "model_module": "@jupyter-widgets/controls",
      "model_module_version": "1.5.0",
      "model_name": "RadioButtonsModel",
      "state": {
       "_options_labels": [
        "Very Low",
        "Low",
        "Medium",
        "High",
        "Very High"
       ],
       "description": "Resolution:",
       "index": 2,
       "layout": "IPY_MODEL_e21be09ea5824aa68649ff17b0b0be3b",
       "style": "IPY_MODEL_06f36ddf609d40a59f92d7c7cc106d7a"
      }
     },
     "f1e080d040274dcfa622ffb335e157ff": {
      "model_module": "@jupyter-widgets/controls",
      "model_module_version": "1.5.0",
      "model_name": "SliderStyleModel",
      "state": {
       "description_width": ""
      }
     },
     "f2559a881e4d4adb88fb09030ee48184": {
      "model_module": "@jupyter-widgets/base",
      "model_module_version": "1.2.0",
      "model_name": "LayoutModel",
      "state": {}
     },
     "f4a98750e04944d397fd9ec097aa834c": {
      "model_module": "@jupyter-widgets/output",
      "model_module_version": "1.0.0",
      "model_name": "OutputModel",
      "state": {
       "layout": "IPY_MODEL_542aab1f2a3642c29466b61d840c0450"
      }
     },
     "f4de5a79ec9c497183bc978aa0d11805": {
      "model_module": "@jupyter-widgets/controls",
      "model_module_version": "1.5.0",
      "model_name": "IntSliderModel",
      "state": {
       "continuous_update": false,
       "description": "num_classes",
       "disabled": true,
       "layout": "IPY_MODEL_5a69a439da504d31a101895e4834d3e2",
       "max": 24,
       "min": 1,
       "style": "IPY_MODEL_bad2ac4758384905994b8735890add27",
       "value": 8
      }
     },
     "f596d3bce1de4d4ba7dbb2080b9cb81e": {
      "model_module": "@jupyter-widgets/output",
      "model_module_version": "1.0.0",
      "model_name": "OutputModel",
      "state": {
       "layout": "IPY_MODEL_cdc3a83518c646749f5d2bb0fb6e26ae"
      }
     },
     "f5e7068271e5442797a29e84b1e97dd8": {
      "model_module": "@jupyter-widgets/controls",
      "model_module_version": "1.5.0",
      "model_name": "IntSliderModel",
      "state": {
       "continuous_update": false,
       "description": "frame",
       "disabled": true,
       "layout": "IPY_MODEL_c46d2496f1c247ccb62b761e694b3651",
       "max": 60,
       "min": -60,
       "step": 10,
       "style": "IPY_MODEL_8bcdb893db674b759be457b82c9b9829",
       "value": 10
      }
     },
     "f722d1e46b0642d091a5c4478ba814f8": {
      "model_module": "@jupyter-widgets/base",
      "model_module_version": "1.2.0",
      "model_name": "LayoutModel",
      "state": {}
     },
     "f7e6a505a68e4f4f801787e6a8a0a8e2": {
      "model_module": "@jupyter-widgets/base",
      "model_module_version": "1.2.0",
      "model_name": "LayoutModel",
      "state": {}
     },
     "f7eae17659284565ac272322f4418936": {
      "model_module": "@jupyter-widgets/controls",
      "model_module_version": "1.5.0",
      "model_name": "IntSliderModel",
      "state": {
       "continuous_update": false,
       "description": "num_points",
       "layout": "IPY_MODEL_3c79e20e300c4b52b1dc256746926247",
       "max": 12,
       "min": 4,
       "style": "IPY_MODEL_1b118411b9ae4331807b21d59f319e43",
       "value": 4
      }
     },
     "f9523b6430d7484f9e5b9d2c5d0daa2a": {
      "model_module": "@jupyter-widgets/base",
      "model_module_version": "1.2.0",
      "model_name": "LayoutModel",
      "state": {}
     },
     "fa6acaabf9e04ea086eabfda6cb5bc6b": {
      "model_module": "@jupyter-widgets/controls",
      "model_module_version": "1.5.0",
      "model_name": "IntSliderModel",
      "state": {
       "continuous_update": false,
       "description": "frame",
       "layout": "IPY_MODEL_5ab1e6497eb84d02b3680a6838e4be8f",
       "max": 60,
       "min": -60,
       "step": 10,
       "style": "IPY_MODEL_9f30a17bfac54334b66e60c3db24cbce",
       "value": 10
      }
     },
     "fac4da50679744bfb0d7abbf30267f26": {
      "model_module": "@jupyter-widgets/controls",
      "model_module_version": "1.5.0",
      "model_name": "VBoxModel",
      "state": {
       "_dom_classes": [
        "widget-interact"
       ],
       "children": [
        "IPY_MODEL_03ad7b0e5db945c2b7bca4484f3a1d33",
        "IPY_MODEL_bba1a9b204f647b5a60b41c057684559",
        "IPY_MODEL_f4de5a79ec9c497183bc978aa0d11805",
        "IPY_MODEL_228be73401b5443f90986f3cf23a0bbc",
        "IPY_MODEL_5a2919b23ef44239a628f58a2950a9fe",
        "IPY_MODEL_aa39aabfe4b840e28c2f4e5f5f981042",
        "IPY_MODEL_66de3b25a49649098d4510a7ffcd77a7",
        "IPY_MODEL_272cb574968b4629b683d8b7d6a4f168"
       ],
       "layout": "IPY_MODEL_870f976359d64df5b27a612be1d7a760"
      }
     },
     "fad33eef822f4725831ad721575da14d": {
      "model_module": "@jupyter-widgets/base",
      "model_module_version": "1.2.0",
      "model_name": "LayoutModel",
      "state": {}
     },
     "fb2936d0e0004bcb831b83ec00691518": {
      "model_module": "@jupyter-widgets/controls",
      "model_module_version": "1.5.0",
      "model_name": "ButtonModel",
      "state": {
       "description": "Save image",
       "layout": "IPY_MODEL_9e989e9d356a4b57b9bf684f294d6c44",
       "style": "IPY_MODEL_e0f45b768a12414893e2ae9e804038ca"
      }
     },
     "fc6ea7dbd3bb469dbdcd7e109fce94b9": {
      "model_module": "@jupyter-widgets/base",
      "model_module_version": "1.2.0",
      "model_name": "LayoutModel",
      "state": {}
     },
     "fd7bbadde6ed4e08884c2bae6993e150": {
      "model_module": "@jupyter-widgets/base",
      "model_module_version": "1.2.0",
      "model_name": "LayoutModel",
      "state": {}
     },
     "fef72de3508e4e39b9bd40f59030e9ec": {
      "model_module": "@jupyter-widgets/base",
      "model_module_version": "1.2.0",
      "model_name": "LayoutModel",
      "state": {}
     },
     "ff1ebbb9593045a1bb76751be453e232": {
      "model_module": "@jupyter-widgets/base",
      "model_module_version": "1.2.0",
      "model_name": "LayoutModel",
      "state": {}
     }
    },
    "version_major": 2,
    "version_minor": 0
   }
  }
 },
 "nbformat": 4,
 "nbformat_minor": 4
}
